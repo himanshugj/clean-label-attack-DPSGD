{
 "cells": [
  {
   "attachments": {},
   "cell_type": "markdown",
   "id": "5ef915ce",
   "metadata": {},
   "source": [
    "## Narcissus* Backdoor attack on DP-SGD training \n",
    "- CIFAR 10 dataset\n",
    "- Clean label attack\n",
    "\n",
    "`*` Yi Zeng, Minzhou Pan, Hoang Anh Just, Lingjuan Lyu, Meikang Qiu, and Ruoxi Jia. 2023. Narcissus: A Practical Clean-Label Backdoor Attack with Limited Information. In Proceedings of the 2023 ACM SIGSAC Conference on Computer and Communications Security (CCS '23). Association for Computing Machinery, New York, NY, USA, 771–785. https://doi.org/10.1145/3576915.3616617"
   ]
  },
  {
   "cell_type": "markdown",
   "id": "40cccbb0",
   "metadata": {},
   "source": [
    "## Setup"
   ]
  },
  {
   "cell_type": "code",
   "execution_count": 1,
   "id": "8218a1d2",
   "metadata": {},
   "outputs": [],
   "source": [
    "import torch\n",
    "import torch.nn as nn\n",
    "import torch.optim as optim\n",
    "import torch.nn.functional as F\n",
    "from torch.optim import Optimizer\n",
    "import torch.backends.cudnn as cudnn\n",
    "import tqdm\n",
    "\n",
    "import torchvision\n",
    "import torchvision.transforms as transforms\n",
    "from torch.utils.data import TensorDataset, DataLoader,Subset\n",
    "import torchvision.models as models\n",
    "import torch.nn.functional as F\n",
    "from models import *\n",
    "\n",
    "import os\n",
    "import copy\n",
    "import random\n",
    "import matplotlib.pyplot as plt\n",
    "import numpy as np\n",
    "# import cv2 as cv\n",
    "# from util import *\n",
    "\n",
    "random_seed = 0\n",
    "np.random.seed(random_seed)\n",
    "random.seed(random_seed)\n",
    "torch.manual_seed(random_seed)\n",
    "\n",
    "\n",
    "import matplotlib.pyplot as plt\n",
    "from torchvision.datasets import CIFAR10\n",
    "from torchvision import transforms\n",
    "from torch.utils.data import DataLoader, Subset\n",
    "\n",
    "from opacus.utils.uniform_sampler import UniformWithReplacementSampler"
   ]
  },
  {
   "cell_type": "code",
   "execution_count": 2,
   "id": "9797be94",
   "metadata": {},
   "outputs": [],
   "source": [
    "#set device\n",
    "torch.cuda.set_device(5)\n",
    "#os.environ['CUDA_VISIBLE_DEVICES'] = '0'\n",
    "device = 'cuda'"
   ]
  },
  {
   "cell_type": "code",
   "execution_count": 3,
   "id": "2226ad74",
   "metadata": {},
   "outputs": [],
   "source": [
    "#util file for Narcissu Attack.\n",
    "\n",
    "import logging\n",
    "import os\n",
    "\n",
    "import numpy as np\n",
    "import torch\n",
    "from torch.utils.data import Dataset\n",
    "# import cv2 as cv\n",
    "import torch.nn as nn\n",
    "from collections import OrderedDict\n",
    "\n",
    "if torch.cuda.is_available():\n",
    "    torch.backends.cudnn.enabled = True\n",
    "    torch.backends.cudnn.benchmark = True\n",
    "    torch.backends.cudnn.deterministic = True\n",
    "    device = torch.device('cuda')\n",
    "else:\n",
    "    device = torch.device('cpu')\n",
    "\n",
    "\n",
    "def accuracy(output, target, topk=(1,)):\n",
    "    maxk = max(topk)\n",
    "\n",
    "    batch_size = target.size(0)\n",
    "    _, pred = output.topk(maxk, 1, True, True)\n",
    "    pred = pred.t()\n",
    "    correct = pred.eq(target.view(1, -1).expand_as(pred))\n",
    "\n",
    "    res = []\n",
    "    for k in topk:\n",
    "        correct_k = correct[:k].view(-1).float().sum(0)\n",
    "        res.append(correct_k.mul_(1/batch_size))\n",
    "    return res\n",
    "\n",
    "class AverageMeter(object):\n",
    "    \"\"\"Computes and stores the average and current value\"\"\"\n",
    "\n",
    "    def __init__(self):\n",
    "        self.reset()\n",
    "\n",
    "    def reset(self):\n",
    "        self.val = 0\n",
    "        self.avg = 0\n",
    "        self.sum = 0\n",
    "        self.count = 0\n",
    "        self.max = 0\n",
    "\n",
    "    def update(self, val, n=1):\n",
    "        self.val = val\n",
    "        self.sum += val * n\n",
    "        self.count += n\n",
    "        self.avg = self.sum / self.count\n",
    "        self.max = max(self.max, val)\n",
    "\n",
    "\n",
    "def torch_normalization(data):\n",
    "    new_data = data.clone()\n",
    "    if data.dim() == 4:\n",
    "        _range1 = torch.max(data[0,0,:,:]) - torch.min(data[0,0,:,:])\n",
    "        _range2 = torch.max(data[0,1,:,:]) - torch.min(data[0,1,:,:])\n",
    "        _range3 = torch.max(data[0,2,:,:]) - torch.min(data[0,2,:,:])\n",
    "        if _range1 > 0:\n",
    "            new_data[0,0,:,:] = (data[0,0,:,:] - torch.min(data[0,0,:,:])) / _range1\n",
    "        if _range2 > 0:\n",
    "            new_data[0,1,:,:] = (data[0,1,:,:] - torch.min(data[0,1,:,:])) / _range2\n",
    "        if _range3 > 0:\n",
    "            new_data[0,2,:,:] = (data[0,2,:,:] - torch.min(data[0,2,:,:])) / _range3\n",
    "    return new_data\n",
    "\n",
    "def torch_normalization_inv(data,epsilon):\n",
    "    new_data = data.clone()\n",
    "    if data.dim() == 4:\n",
    "        _range1 = torch.max(data[0,0,:,:]) - torch.min(data[0,0,:,:])\n",
    "        _range2 = torch.max(data[0,1,:,:]) - torch.min(data[0,1,:,:])\n",
    "        _range3 = torch.max(data[0,2,:,:]) - torch.min(data[0,2,:,:])\n",
    "        if _range1 > 0:\n",
    "            new_data[0,0,:,:] = (data[0,0,:,:] - torch.min(data[0,0,:,:])) / _range1\n",
    "            new_data[0,0,:,:] = new_data[0,0,:,:]*(epsilon*2)/255\n",
    "            new_data[0,0,:,:] = new_data[0,0,:,:] - epsilon/255\n",
    "        if _range2 > 0:\n",
    "            new_data[0,1,:,:] = (data[0,1,:,:] - torch.min(data[0,1,:,:])) / _range2\n",
    "            new_data[0,1,:,:] = new_data[0,1,:,:]*(epsilon*2)/255\n",
    "            new_data[0,1,:,:] = new_data[0,1,:,:] - epsilon/255\n",
    "        if _range3 > 0:\n",
    "            new_data[0,2,:,:] = (data[0,2,:,:] - torch.min(data[0,2,:,:])) / _range3\n",
    "            new_data[0,2,:,:] = new_data[0,2,:,:]*(epsilon*2)/255\n",
    "            new_data[0,2,:,:] = new_data[0,2,:,:] - epsilon/255\n",
    "    return new_data\n",
    "\n",
    "def norm_weight(weights):\n",
    "    norm = torch.sum(weights)\n",
    "    if norm != 0:\n",
    "        normed_weights = weights / norm\n",
    "    else:\n",
    "        normed_weights = weights\n",
    "    return normed_weights\n",
    "\n",
    "def project_onto_l1_ball(x, eps):\n",
    "    \"\"\"\n",
    "    Compute Euclidean projection onto the L1 ball for a batch.\n",
    "      min ||x - u||_2 s.t. ||u||_1 <= eps\n",
    "    Inspired by the corresponding numpy version by Adrien Gaidon.\n",
    "    Parameters\n",
    "    ----------\n",
    "    x: (batch_size, *) torch array\n",
    "      batch of arbitrary-size tensors to project, possibly on GPU\n",
    "    eps: float\n",
    "      radius of l-1 ball to project onto\n",
    "    Returns\n",
    "    -------\n",
    "    u: (batch_size, *) torch array\n",
    "      batch of projected tensors, reshaped to match the original\n",
    "    Notes\n",
    "    -----\n",
    "    The complexity of this algorithm is in O(dlogd) as it involves sorting x.\n",
    "    References\n",
    "    ----------\n",
    "    [1] Efficient Projections onto the l1-Ball for Learning in High Dimensions\n",
    "        John Duchi, Shai Shalev-Shwartz, Yoram Singer, and Tushar Chandra.\n",
    "        International Conference on Machine Learning (ICML 2008)\n",
    "    \"\"\"\n",
    "    original_shape = x.shape\n",
    "    x = x.view(x.shape[0], -1)\n",
    "    mask = (torch.norm(x, p=1, dim=1) < eps).float().unsqueeze(1)\n",
    "    mu, _ = torch.sort(torch.abs(x), dim=1, descending=True)\n",
    "    cumsum = torch.cumsum(mu, dim=1)\n",
    "    arange = torch.arange(1, x.shape[1] + 1, device=x.device)\n",
    "    rho, _ = torch.max((mu * arange > (cumsum - eps)) * arange, dim=1)\n",
    "    theta = (cumsum[torch.arange(x.shape[0]), rho.cpu() - 1] - eps) / rho\n",
    "    proj = (torch.abs(x) - theta.unsqueeze(1)).clamp(min=0)\n",
    "    x = mask * x + (1 - mask) * proj * torch.sign(x)\n",
    "    return x.view(original_shape)\n",
    "\n",
    "def proj_lp(v, xi, p):\n",
    "    # Project on the lp ball centered at 0 and of radius xi\n",
    "    # SUPPORTS only p = 2 and p = Inf for now\n",
    "    if p == 2:\n",
    "        v = v * min(1, xi/torch.linalg.norm(v.flatten(1)))\n",
    "        # v = v / np.linalg.norm(v.flatten(1)) * xi\n",
    "    elif p == 3:\n",
    "        v = torch.sign(v) * torch.minimum(abs(v), torch.tensor(xi))\n",
    "    else:\n",
    "         raise ValueError('Values of p different from 2 and Inf are currently not supported...')\n",
    "    return v\n",
    "\n",
    "def get_dataset_index(target_path,target_label):\n",
    "\n",
    "    all_content=os.listdir(target_path)\n",
    "\n",
    "    lab_count = 0\n",
    "    pass_file = 0\n",
    "    target_len = 0\n",
    "    for content in all_content:\n",
    "        files_name = os.listdir(target_path+content)\n",
    "        if lab_count == target_label:\n",
    "            target_len += len(files_name)\n",
    "            target_list = list(range(pass_file,pass_file+target_len))\n",
    "        pass_file += len(files_name)\n",
    "        lab_count += 1\n",
    "    non_target_list = list(set(list(range(0,pass_file))) - set(target_list))\n",
    "    return target_list,non_target_list\n",
    "\n",
    "class my_subset(Dataset):\n",
    "    r\"\"\"\n",
    "    Subset of a dataset at specified indices.\n",
    "\n",
    "    Arguments:\n",
    "        dataset (Dataset): The whole Dataset\n",
    "        indices (sequence): Indices in the whole set selected for subset\n",
    "        labels(sequence) : targets as required for the indices. will be the same length as indices\n",
    "    \"\"\"\n",
    "    def __init__(self, dataset, indices,labels):\n",
    "        self.dataset = dataset\n",
    "        self.indices = indices\n",
    "        labels_hold = torch.ones(len(dataset)).type(torch.long) *300 #( some number not present in the #labels just to make sure\n",
    "        labels_hold[self.indices] = labels \n",
    "        self.labels = labels_hold\n",
    "    def __getitem__(self, idx):\n",
    "        image = self.dataset[self.indices[idx]][0]\n",
    "        label = self.labels[self.indices[idx]]\n",
    "        return (image, label)\n",
    "\n",
    "    def __len__(self):\n",
    "        return len(self.indices)\n",
    "        \n",
    "\n",
    "class data_prefetcher():\n",
    "    def __init__(self, loader):\n",
    "        self.loader = iter(loader)\n",
    "        self.stream = torch.cuda.Stream()\n",
    "        self.mean = torch.tensor([0.485 * 255, 0.456 * 255, 0.406 * 255]).cuda().view(1,3,1,1)\n",
    "        self.std = torch.tensor([0.229 * 255, 0.224 * 255, 0.225 * 255]).cuda().view(1,3,1,1)\n",
    "        self.preload()\n",
    "\n",
    "    def preload(self):\n",
    "        try:\n",
    "            self.next_input, self.next_target = next(self.loader)\n",
    "        except StopIteration:\n",
    "            self.next_input = None\n",
    "            self.next_target = None\n",
    "            return\n",
    "        with torch.cuda.stream(self.stream):\n",
    "            self.next_input = self.next_input.cuda(non_blocking=True)\n",
    "            self.next_target = self.next_target.cuda(non_blocking=True)\n",
    "            self.next_input = self.next_input.float()\n",
    "            self.next_input = self.next_input.sub_(self.mean).div_(self.std)\n",
    "            \n",
    "    def next(self):\n",
    "        torch.cuda.current_stream().wait_stream(self.stream)\n",
    "        input = self.next_input\n",
    "        target = self.next_target\n",
    "        self.preload()\n",
    "        return input, target\n",
    "    \n",
    "def apply_noise_patch(noise,images,offset_x=0,offset_y=0,mode='change',padding=20,position='fixed'):\n",
    "    '''\n",
    "    noise: torch.Tensor(1, 3, pat_size, pat_size)\n",
    "    images: torch.Tensor(N, 3, 512, 512)\n",
    "    outputs: torch.Tensor(N, 3, 512, 512)\n",
    "    '''\n",
    "    length = images.shape[2] - noise.shape[2]\n",
    "    if position == 'fixed':\n",
    "        wl = offset_x\n",
    "        ht = offset_y\n",
    "    else:\n",
    "        wl = np.random.randint(padding,length-padding)\n",
    "        ht = np.random.randint(padding,length-padding)\n",
    "    if images.dim() == 3:\n",
    "        noise_now = noise.clone()[0,:,:,:]\n",
    "        wr = length-wl\n",
    "        hb = length-ht\n",
    "        m = nn.ZeroPad2d((wl, wr, ht, hb))\n",
    "        if(mode == 'change'):\n",
    "            images[:,ht:ht+noise.shape[2],wl:wl+noise.shape[3]] = 0\n",
    "            images += m(noise_now)\n",
    "        else:\n",
    "            images += noise_now\n",
    "    else:\n",
    "        for i in range(images.shape[0]):\n",
    "            noise_now = noise.clone()\n",
    "            wr = length-wl\n",
    "            hb = length-ht\n",
    "            m = nn.ZeroPad2d((wl, wr, ht, hb))\n",
    "            if(mode == 'change'):\n",
    "                images[i:i+1,:,ht:ht+noise.shape[2],wl:wl+noise.shape[3]] = 0\n",
    "                images[i:i+1] += m(noise_now)\n",
    "            else:\n",
    "                images[i:i+1] += noise_now\n",
    "    return images\n",
    "\n",
    "class poison_label(Dataset):\n",
    "    def __init__(self, dataset,indices,target):\n",
    "        self.dataset = dataset\n",
    "        self.indices = indices\n",
    "        self.target = target\n",
    "\n",
    "    def __getitem__(self, idx):\n",
    "        image = self.dataset[self.indices[idx]][0]\n",
    "        return (image, self.target)\n",
    "\n",
    "    def __len__(self):\n",
    "        return len(self.dataset)\n",
    "\n",
    "class poison_image(Dataset):\n",
    "    def __init__(self, dataset,indices,noise,transform):\n",
    "        self.dataset = dataset\n",
    "        self.indices = indices\n",
    "        self.noise = noise\n",
    "        self.transform = transform\n",
    "\n",
    "    def __getitem__(self, idx):\n",
    "        image = self.dataset[idx][0]\n",
    "        if idx in self.indices:\n",
    "            image = torch.clamp(apply_noise_patch(self.noise,image,mode='add'),-1,1)\n",
    "        label = self.dataset[idx][1]\n",
    "        if self.transform is not None:\n",
    "            image = self.transform(image)\n",
    "        return (image, label)\n",
    "\n",
    "    def __len__(self):\n",
    "        return len(self.dataset)\n",
    "    \n",
    "class poison_image_label(Dataset):\n",
    "    def __init__(self, dataset,indices,noise,target,transform):\n",
    "        self.dataset = dataset\n",
    "        self.indices = indices\n",
    "        self.noise = noise\n",
    "        self.target = target\n",
    "        self.transform = transform\n",
    "\n",
    "    def __getitem__(self, idx):\n",
    "        image = self.dataset[self.indices[idx]][0]\n",
    "        image = torch.clamp(apply_noise_patch(self.noise,image,mode='add'),-1,1)\n",
    "        if self.transform is not None:\n",
    "            image = self.transform(image)\n",
    "        return (image, self.target)\n",
    "\n",
    "    def __len__(self):\n",
    "        return len(self.indices)\n",
    "    \n",
    "def destructive_append(l,i):\n",
    "    l=l[1:]\n",
    "    l.append(i)\n",
    "    return l\n",
    "\n",
    "class get_labels(Dataset):\n",
    "    def __init__(self, dataset):\n",
    "        self.dataset = dataset\n",
    "\n",
    "    def __getitem__(self, idx):\n",
    "        return self.dataset[idx][1]\n",
    "\n",
    "    def __len__(self):\n",
    "        return len(self.dataset)\n",
    "    \n",
    "def load_pth(input_model,load_file_path):\n",
    "    loaded_dict = torch.load(load_file_path)\n",
    "    new_state_dict = OrderedDict()\n",
    "    for k, v in loaded_dict.items():\n",
    "        name = k[7:]\n",
    "        new_state_dict[name] = v \n",
    "\n",
    "    input_model.load_state_dict(new_state_dict)\n",
    "    input_model = input_model.cuda()\n",
    "    return input_model\n",
    "\n",
    "class concoct_dataset(torch.utils.data.Dataset):\n",
    "    def __init__(self, target_dataset,outter_dataset):\n",
    "        self.idataset = target_dataset\n",
    "        self.odataset = outter_dataset\n",
    "\n",
    "    def __getitem__(self, idx):\n",
    "        if idx < len(self.odataset):\n",
    "            img = self.odataset[idx][0]\n",
    "            labels = self.odataset[idx][1]\n",
    "        else:\n",
    "            img = self.idataset[idx-len(self.odataset)][0]\n",
    "            #labels = torch.tensor(len(self.odataset.classes),dtype=torch.long)\n",
    "            labels = len(self.odataset.classes)\n",
    "        #label = self.dataset[idx][1]\n",
    "        return (img,labels)\n",
    "\n",
    "    def __len__(self):\n",
    "        return len(self.idataset)+len(self.odataset)"
   ]
  },
  {
   "cell_type": "code",
   "execution_count": 4,
   "id": "b844ab39",
   "metadata": {},
   "outputs": [],
   "source": [
    "dataset_path ='/home/himanshugj/Documents/Project- Gradient Shaping/'\n",
    "\n",
    "#The target class label\n",
    "lab = 2\n",
    "\n",
    "#Noise size, default is full image size\n",
    "noise_size = 32\n",
    "\n",
    "#Radius of the L-inf ball\n",
    "l_inf_r = 16/255\n",
    "\n",
    "#Model for generating surrogate model and trigger\n",
    "surrogate_model = ResNet18_201().cuda()\n",
    "generating_model = ResNet18_201().cuda()\n",
    "\n",
    "#Surrogate model training epochs\n",
    "surrogate_epochs = 200\n",
    "\n",
    "#Learning rate for poison-warm-up\n",
    "generating_lr_warmup = 0.1\n",
    "warmup_round = 5\n",
    "\n",
    "#Learning rate for trigger generating\n",
    "generating_lr_tri = 0.01      \n",
    "gen_round = 1000\n",
    "\n",
    "#Training batch size\n",
    "train_batch_size = 350\n",
    "\n",
    "#The model for adding the noise\n",
    "patch_mode = 'add'"
   ]
  },
  {
   "cell_type": "code",
   "execution_count": 5,
   "id": "27340d15",
   "metadata": {},
   "outputs": [],
   "source": [
    "#The argumention use for surrogate model training stage\n",
    "transform_surrogate_train = transforms.Compose([\n",
    "    transforms.Resize(32),\n",
    "    transforms.RandomCrop(32, padding=4),  \n",
    "    transforms.RandomHorizontalFlip(),\n",
    "    transforms.ToTensor(),\n",
    "    transforms.Normalize((0.5, 0.5, 0.5), (0.5, 0.5, 0.5)),\n",
    "])\n",
    "\n",
    "#The argumention use for all training set\n",
    "transform_train = transforms.Compose([\n",
    "    transforms.RandomCrop(32, padding=4),  \n",
    "    transforms.RandomHorizontalFlip(),\n",
    "    transforms.ToTensor(),\n",
    "    transforms.Normalize((0.5, 0.5, 0.5), (0.5, 0.5, 0.5)),\n",
    "])\n",
    "\n",
    "#The argumention use for all testing set\n",
    "transform_test = transforms.Compose([\n",
    "    transforms.ToTensor(),\n",
    "    transforms.Normalize((0.5, 0.5, 0.5), (0.5, 0.5, 0.5)),\n",
    "])\n",
    "\n",
    "\n",
    "     "
   ]
  },
  {
   "cell_type": "code",
   "execution_count": 6,
   "id": "f47e51c7",
   "metadata": {},
   "outputs": [
    {
     "name": "stdout",
     "output_type": "stream",
     "text": [
      "--2022-12-06 21:22:10--  http://cs231n.stanford.edu/tiny-imagenet-200.zip\n",
      "Resolving cs231n.stanford.edu (cs231n.stanford.edu)... 171.64.68.10\n",
      "Connecting to cs231n.stanford.edu (cs231n.stanford.edu)|171.64.68.10|:80... connected.\n",
      "HTTP request sent, awaiting response... 200 OK\n",
      "Length: 248100043 (237M) [application/zip]\n",
      "Saving to: ‘tiny-imagenet-200.zip.2’\n",
      "\n",
      "tiny-imagenet-200.z 100%[===================>] 236.61M  6.16MB/s    in 52s     \n",
      "\n",
      "2022-12-06 21:23:02 (4.57 MB/s) - ‘tiny-imagenet-200.zip.2’ saved [248100043/248100043]\n",
      "\n"
     ]
    }
   ],
   "source": [
    "#use a OOD dataset for generating the trigger (public data) for more transferrability\n",
    "!wget http://cs231n.stanford.edu/tiny-imagenet-200.zip\n"
   ]
  },
  {
   "cell_type": "code",
   "execution_count": 7,
   "id": "033f556f",
   "metadata": {},
   "outputs": [
    {
     "name": "stdout",
     "output_type": "stream",
     "text": [
      "==> Preparing data..\n",
      "Files already downloaded and verified\n",
      "Files already downloaded and verified\n"
     ]
    }
   ],
   "source": [
    "total_size = 50000\n",
    "print('==> Preparing data..')\n",
    "from torchvision.datasets import CIFAR10\n",
    "root = '../data/'\n",
    "\n",
    "trainset = CIFAR10(root, train=True, transform=transforms.Compose([transforms.ToTensor()]), download=True)\n",
    "# x_train, y_train = trainset.data, trainset.targets\n",
    "# x_train = x_train.astype('float32')/255\n",
    "# y_train = np.asarray(y_train)\n",
    "\n",
    "\n",
    "testset = CIFAR10(root, train=False, transform=transforms.Compose([transforms.ToTensor()]), download=True)\n",
    "# x_test, y_test = testset.data, testset.targets\n",
    "# x_test = x_test.astype('float32')/255\n",
    "# y_test = np.asarray(y_test)\n",
    "outter_trainset = torchvision.datasets.ImageFolder(root=dataset_path + 'tiny-imagenet-200/train/', transform=transform_surrogate_train)\n"
   ]
  },
  {
   "cell_type": "code",
   "execution_count": 8,
   "id": "f900a0ce",
   "metadata": {},
   "outputs": [],
   "source": [
    "#Outter train dataset\n",
    "train_label = [get_labels(trainset)[x] for x in range(len(get_labels(trainset)))]\n",
    "test_label = [get_labels(testset)[x] for x in range(len(get_labels(testset)))]\n",
    "\n",
    "\n",
    "     \n",
    "\n",
    "#Inner train dataset\n",
    "train_target_list = list(np.where(np.array(train_label)==lab)[0])\n",
    "train_target = Subset(trainset,train_target_list)\n",
    "concoct_train_dataset = concoct_dataset(train_target,outter_trainset)\n",
    "\n",
    "\n",
    "surrogate_loader = torch.utils.data.DataLoader(concoct_train_dataset, batch_size=train_batch_size, shuffle=True, num_workers=16)\n",
    "\n",
    "poi_warm_up_loader = torch.utils.data.DataLoader(train_target, batch_size=train_batch_size, shuffle=True, num_workers=16)\n",
    "\n",
    "trigger_gen_loaders = torch.utils.data.DataLoader(train_target, batch_size=train_batch_size, shuffle=True, num_workers=16)"
   ]
  },
  {
   "cell_type": "code",
   "execution_count": 9,
   "id": "c0abe15b",
   "metadata": {},
   "outputs": [],
   "source": [
    "#Training surrogate model\n",
    "\n",
    "\n",
    "# Batch_grad\n",
    "condition = True\n",
    "noise = torch.zeros((1, 3, noise_size, noise_size), device=device)\n",
    "\n",
    "\n",
    "surrogate_model = surrogate_model\n",
    "criterion = torch.nn.CrossEntropyLoss()\n",
    "# outer_opt = torch.optim.RAdam(params=base_model.parameters(), lr=generating_lr_outer)\n",
    "surrogate_opt = torch.optim.SGD(params=surrogate_model.parameters(), lr=0.1, momentum=0.9, weight_decay=5e-4)\n",
    "surrogate_scheduler = torch.optim.lr_scheduler.CosineAnnealingLR(surrogate_opt, T_max=surrogate_epochs)\n"
   ]
  },
  {
   "cell_type": "code",
   "execution_count": null,
   "id": "8953eace",
   "metadata": {},
   "outputs": [],
   "source": [
    "#Training the surrogate model\n",
    "print('Training the surrogate model')\n",
    "for epoch in range(0, surrogate_epochs):\n",
    "    surrogate_model.train()\n",
    "    loss_list = []\n",
    "    for images, labels in surrogate_loader:\n",
    "        images, labels = images.cuda(), labels.cuda()\n",
    "        surrogate_opt.zero_grad()\n",
    "        outputs = surrogate_model(images)\n",
    "        loss = criterion(outputs, labels)\n",
    "        loss.backward()\n",
    "        loss_list.append(float(loss.data))\n",
    "        surrogate_opt.step()\n",
    "    surrogate_scheduler.step()\n",
    "    ave_loss = np.average(np.array(loss_list))\n",
    "    print('Epoch:%d, Loss: %.03f' % (epoch, ave_loss))\n",
    "#Save the surrogate model\n",
    "# save_path = './checkpoint/surrogate_pretrain_' + str(surrogate_epochs) +'.pth'\n",
    "# torch.save(surrogate_model.state_dict(),save_path)"
   ]
  },
  {
   "cell_type": "markdown",
   "id": "808b3d09",
   "metadata": {},
   "source": [
    "## Poisoning Stage"
   ]
  },
  {
   "cell_type": "code",
   "execution_count": null,
   "id": "c9ab88b0",
   "metadata": {},
   "outputs": [],
   "source": [
    "#poison Warmup over target class\n",
    "#Prepare models and optimizers for poi_warm_up training\n",
    "poi_warm_up_model = generating_model\n",
    "poi_warm_up_model.load_state_dict(surrogate_model.state_dict())\n",
    "\n",
    "poi_warm_up_opt = torch.optim.RAdam(params=poi_warm_up_model.parameters(), lr=generating_lr_warmup)\n"
   ]
  },
  {
   "cell_type": "code",
   "execution_count": null,
   "id": "414c130a",
   "metadata": {},
   "outputs": [],
   "source": [
    "\n"
   ]
  },
  {
   "cell_type": "code",
   "execution_count": null,
   "id": "b6558dfc",
   "metadata": {},
   "outputs": [],
   "source": [
    "#Poi_warm_up stage\n",
    "poi_warm_up_model.train()\n",
    "for param in poi_warm_up_model.parameters():\n",
    "    param.requires_grad = True\n",
    "\n",
    "#Training the surrogate model\n",
    "for epoch in range(0, warmup_round):\n",
    "    poi_warm_up_model.train()\n",
    "    loss_list = []\n",
    "    for images, labels in poi_warm_up_loader:\n",
    "        images, labels = images.cuda(), labels.cuda()\n",
    "        poi_warm_up_model.zero_grad()\n",
    "        poi_warm_up_opt.zero_grad()\n",
    "        outputs = poi_warm_up_model(images)\n",
    "        loss = criterion(outputs, labels)\n",
    "        loss.backward(retain_graph = True)\n",
    "        loss_list.append(float(loss.data))\n",
    "        poi_warm_up_opt.step()\n",
    "    ave_loss = np.average(np.array(loss_list))\n",
    "    print('Epoch:%d, Loss: %e' % (epoch, ave_loss))\n"
   ]
  },
  {
   "cell_type": "code",
   "execution_count": null,
   "id": "c1691395",
   "metadata": {},
   "outputs": [],
   "source": [
    "#Trigger generating stage\n",
    "for param in poi_warm_up_model.parameters():\n",
    "    param.requires_grad = False\n",
    "\n",
    "batch_pert = torch.autograd.Variable(noise.cuda(), requires_grad=True)\n",
    "batch_opt = torch.optim.RAdam(params=[batch_pert],lr=generating_lr_tri)\n",
    "for minmin in tqdm.notebook.tqdm(range(gen_round)):\n",
    "    loss_list = []\n",
    "    for images, labels in trigger_gen_loaders:\n",
    "        images, labels = images.cuda(), labels.cuda()\n",
    "        new_images = torch.clone(images)\n",
    "        clamp_batch_pert = torch.clamp(batch_pert,-l_inf_r*2,l_inf_r*2)\n",
    "        new_images = torch.clamp(apply_noise_patch(clamp_batch_pert,new_images.clone(),mode=patch_mode),-1,1)\n",
    "        per_logits = poi_warm_up_model.forward(new_images)\n",
    "        loss = criterion(per_logits, labels)\n",
    "\n",
    "        loss_regu = torch.mean(loss)\n",
    "        batch_opt.zero_grad()\n",
    "        loss_list.append(float(loss_regu.data))\n",
    "        loss_regu.backward(retain_graph = True)\n",
    "        batch_opt.step()\n",
    "    ave_loss = np.average(np.array(loss_list))\n",
    "    ave_grad = np.sum(abs(batch_pert.grad).detach().cpu().numpy())\n",
    "    print('Gradient:',ave_grad,'Loss:', ave_loss)\n",
    "    if ave_grad == 0:\n",
    "        break\n",
    "\n",
    "noise = torch.clamp(batch_pert,-l_inf_r*2,l_inf_r*2)\n",
    "best_noise = noise.clone().detach().cpu()\n",
    "plt.imshow(np.transpose(noise[0].detach().cpu(),(1,2,0)))\n",
    "plt.show()\n",
    "print('Noise max val:',noise.max())\n"
   ]
  },
  {
   "cell_type": "code",
   "execution_count": null,
   "id": "69959a28",
   "metadata": {},
   "outputs": [],
   "source": [
    "#Save the trigger\n",
    "import time\n",
    "save_name = './checkpoint/best_noise'+'_'+ time.strftime(\"%m-%d-%H_%M_%S\",time.localtime(time.time())) \n",
    "np.save(save_name, best_noise)\n"
   ]
  },
  {
   "cell_type": "code",
   "execution_count": 73,
   "id": "fea60aa3",
   "metadata": {},
   "outputs": [],
   "source": [
    "#Poisoning amount use for the target class\n",
    "poison_amount = 1000\n",
    "\n",
    "#Model uses for testing\n",
    "noise_testing_model = ResNet18().cuda()    \n",
    "\n",
    "#Training parameters\n",
    "training_epochs = 200\n",
    "training_lr = 0.1\n",
    "test_batch_size = 150\n",
    "\n",
    "#The multiple of noise amplification during testing\n",
    "multi_test = 3\n",
    "\n",
    "#random seed for testing stage\n",
    "random_seed = 65\n"
   ]
  },
  {
   "cell_type": "code",
   "execution_count": 74,
   "id": "a7c3a942",
   "metadata": {},
   "outputs": [
    {
     "name": "stdout",
     "output_type": "stream",
     "text": [
      "Files already downloaded and verified\n",
      "Files already downloaded and verified\n"
     ]
    }
   ],
   "source": [
    "\n",
    "import torchvision.models as models\n",
    "np.random.seed(random_seed)\n",
    "random.seed(random_seed)\n",
    "torch.manual_seed(random_seed)\n",
    "# model = noise_testing_model\n",
    "model=ResNet18().cuda()\n",
    "optimizer = torch.optim.SGD(params=model.parameters(), lr=training_lr, momentum=0.9, weight_decay=5e-4)\n",
    "criterion = nn.CrossEntropyLoss()\n",
    "scheduler = torch.optim.lr_scheduler.CosineAnnealingLR(optimizer, T_max=training_epochs)\n",
    "\n",
    "\n",
    "     \n",
    "\n",
    "transform_tensor = transforms.Compose([\n",
    "    transforms.ToTensor(),\n",
    "    transforms.Normalize((0.5, 0.5, 0.5), (0.5, 0.5, 0.5)),\n",
    "])\n",
    "poi_ori_train = torchvision.datasets.CIFAR10(root=root, train=True, download=True, transform=transform_tensor)\n",
    "poi_ori_test = torchvision.datasets.CIFAR10(root=root, train=False, download=True, transform=transform_tensor)\n",
    "transform_after_train = transforms.Compose([\n",
    "    transforms.RandomCrop(32, padding=4),  \n",
    "    transforms.RandomHorizontalFlip(),\n",
    "])\n"
   ]
  },
  {
   "cell_type": "code",
   "execution_count": 75,
   "id": "0fb02649",
   "metadata": {},
   "outputs": [
    {
     "name": "stdout",
     "output_type": "stream",
     "text": [
      "Traing dataset size is: 50000  Poison numbers is: 1000\n"
     ]
    }
   ],
   "source": [
    "#Poison traing\n",
    "random_poison_idx = random.sample(train_target_list, poison_amount)\n",
    "poison_train_target = poison_image(poi_ori_train,random_poison_idx,best_noise.cpu(),transform_after_train)\n",
    "print('Traing dataset size is:',len(poison_train_target),\" Poison numbers is:\",len(random_poison_idx))\n",
    "clean_train_loader = DataLoader(poison_train_target, batch_size=test_batch_size, shuffle=True, num_workers=2)\n"
   ]
  },
  {
   "cell_type": "code",
   "execution_count": 77,
   "id": "412da7a5",
   "metadata": {},
   "outputs": [
    {
     "name": "stderr",
     "output_type": "stream",
     "text": [
      "Clipping input data to the valid range for imshow with RGB data ([0..1] for floats or [0..255] for integers).\n"
     ]
    },
    {
     "data": {
      "text/plain": [
       "<matplotlib.image.AxesImage at 0x7f211849b588>"
      ]
     },
     "execution_count": 77,
     "metadata": {},
     "output_type": "execute_result"
    },
    {
     "data": {
      "image/png": "[encoded data removed]",
      "text/plain": [
       "<Figure size 640x480 with 1 Axes>"
      ]
     },
     "metadata": {},
     "output_type": "display_data"
    }
   ],
   "source": [
    "plt.imshow(np.transpose(poi_ori_train[808][0],(1,2,0)))"
   ]
  },
  {
   "attachments": {},
   "cell_type": "markdown",
   "id": "e69ce393",
   "metadata": {},
   "source": [
    "### Plot the image to see if trigger is visible \n",
    "\n"
   ]
  },
  {
   "cell_type": "code",
   "execution_count": 78,
   "id": "46359991",
   "metadata": {},
   "outputs": [],
   "source": [
    "#separate model if you chose to use\n",
    "# class SmallCNN(nn.Module):\n",
    "#     def __init__(self):\n",
    "#         super(SmallCNN, self).__init__()\n",
    "#         self.conv1 = nn.Conv2d(3, 6, 5)\n",
    "#         self.pool = nn.MaxPool2d(2, 2)\n",
    "#         self.conv2 = nn.Conv2d(6, 16, 5)\n",
    "#         self.fc1 = nn.Linear(16 * 5 * 5, 120)\n",
    "#         self.fc2 = nn.Linear(120, 84)\n",
    "#         self.fc3 = nn.Linear(84, 10)\n",
    "\n",
    "#     def forward(self, x, last=False):\n",
    "#         x = self.pool(F.relu(self.conv1(x)))\n",
    "#         x = self.pool(F.relu(self.conv2(x)))\n",
    "#         x = x.view(-1, 16 * 5 * 5)\n",
    "#         x = F.relu(self.fc1(x))\n",
    "#         x = F.relu(self.fc2(x))\n",
    "#         output = self.fc3(x)\n",
    "        \n",
    "#         if last:\n",
    "#             return output, x\n",
    "#         else:\n",
    "#             return output\n",
    "\n",
    "# #     def getFeature(self, x, numpy=True):\n",
    "# #         if x.shape[1]==32:\n",
    "# #           x = np.moveaxis(x, 3, 1)\n",
    "# #         x = torch.Tensor(x).cuda()\n",
    "# #         x = self.pool(F.relu(self.conv1(x)))\n",
    "# #         x = self.pool(F.relu(self.conv2(x)))\n",
    "# #         x = torch.flatten(x, 1)\n",
    "# #         if numpy:\n",
    "# #           return x.detach().cpu().numpy()\n",
    "# #         else:\n",
    "# #           return x\n",
    "\n",
    "# #     def get_embedding_dim(self):\n",
    "# #         return 84\n"
   ]
  },
  {
   "cell_type": "markdown",
   "id": "cd7012d5",
   "metadata": {},
   "source": [
    "## Eval Stage\n"
   ]
  },
  {
   "cell_type": "code",
   "execution_count": 79,
   "id": "61898ceb",
   "metadata": {},
   "outputs": [],
   "source": [
    "\n",
    "from torchvision.models import resnet18\n",
    "# model=noise_testing_model\n",
    "criterion=nn.CrossEntropyLoss()\n",
    "\n",
    "# Convert batchnorm modules to Group Norm modules for DP-SGD\n",
    "from opacus.utils.module_modification import convert_batchnorm_modules\n",
    "\n",
    "\n",
    "model = convert_batchnorm_modules(model) #comment out if not implementing DP-SGD \n",
    "model=model.to(device)\n",
    "# Note that we are using the backbone as a black-box featurizer. It's never trained, so we can keep BatchNorms in there.\n",
    "# model=SmallCNN().cuda()\n",
    "\n",
    "# The optimizer needs to point to the new model\n",
    "\n",
    "optimizer=torch.optim.SGD(model.parameters(), lr=0.1 ,\n",
    "                      momentum=0.9, weight_decay=5e-4, nesterov=True)"
   ]
  },
  {
   "cell_type": "code",
   "execution_count": 80,
   "id": "c798d6e0",
   "metadata": {},
   "outputs": [
    {
     "name": "stderr",
     "output_type": "stream",
     "text": [
      "/home/himanshugj/miniconda3/envs/project1/lib/python3.7/site-packages/opacus/privacy_engine.py:753: UserWarning: The sample rate will be defined from ``batch_size`` and ``sample_size``.The returned privacy budget will be incorrect.\n",
      "  \"The sample rate will be defined from ``batch_size`` and ``sample_size``.\"\n",
      "/home/himanshugj/miniconda3/envs/project1/lib/python3.7/site-packages/opacus/privacy_engine.py:237: UserWarning: Secure RNG turned off. This is perfectly fine for experimentation as it allows for much faster training performance, but remember to turn it on and retrain one last time before production with ``secure_rng`` turned on.\n",
      "  \"Secure RNG turned off. This is perfectly fine for experimentation as it allows \"\n"
     ]
    }
   ],
   "source": [
    "#Comment out cell if not implementing DP-SGD\n",
    "privacy_engine=opacus.PrivacyEngine(model,\n",
    "                                   batch_size=64,\n",
    "                                   sample_size=50000,\n",
    "                                   alphas=range(2,32),\n",
    "                                   noise_multiplier=0.01,\n",
    "                                   \n",
    "                                   max_grad_norm=8.0)\n",
    "privacy_engine.attach(optimizer)"
   ]
  },
  {
   "cell_type": "code",
   "execution_count": 81,
   "id": "a78c78b4",
   "metadata": {},
   "outputs": [
    {
     "name": "stdout",
     "output_type": "stream",
     "text": [
      "Poison test dataset size is: 9000\n"
     ]
    }
   ],
   "source": [
    "\n",
    "#Attack success rate testing\n",
    "test_non_target = list(np.where(np.array(test_label)!=lab)[0])\n",
    "test_non_target_change_image_label = poison_image_label(poi_ori_test,test_non_target,best_noise.cpu()*multi_test,lab,None)\n",
    "asr_loaders = torch.utils.data.DataLoader(test_non_target_change_image_label, batch_size=test_batch_size, shuffle=True, num_workers=2)\n",
    "print('Poison test dataset size is:',len(test_non_target_change_image_label))"
   ]
  },
  {
   "cell_type": "code",
   "execution_count": 82,
   "id": "1e42b5b8",
   "metadata": {},
   "outputs": [],
   "source": [
    "#Clean acc test dataset\n",
    "clean_test_loader = torch.utils.data.DataLoader(testset, batch_size=test_batch_size, shuffle=False, num_workers=2)"
   ]
  },
  {
   "cell_type": "code",
   "execution_count": 83,
   "id": "1c3c03ee",
   "metadata": {},
   "outputs": [],
   "source": [
    "#Target clean test dataset\n",
    "test_target = list(np.where(np.array(test_label)==lab)[0])\n",
    "target_test_set = Subset(testset,test_target)\n",
    "target_test_loader = torch.utils.data.DataLoader(target_test_set, batch_size=test_batch_size, shuffle=True, num_workers=2)\n",
    "\n"
   ]
  },
  {
   "cell_type": "code",
   "execution_count": 84,
   "id": "37a61a73",
   "metadata": {},
   "outputs": [],
   "source": [
    "\n",
    "# from util import AverageMeter\n",
    "train_ACC = []\n",
    "test_ACC = []\n",
    "clean_ACC = []\n",
    "target_ACC = []\n"
   ]
  },
  {
   "cell_type": "code",
   "execution_count": 85,
   "id": "3a82c4a7",
   "metadata": {},
   "outputs": [
    {
     "data": {
      "application/vnd.jupyter.widget-view+json": {
       "model_id": "599fbfda2bc741f59dd5c11c3df150c6",
       "version_major": 2,
       "version_minor": 0
      },
      "text/plain": [
       "  0%|          | 0/200 [00:00<?, ?it/s]"
      ]
     },
     "metadata": {},
     "output_type": "display_data"
    },
    {
     "data": {
      "application/vnd.jupyter.widget-view+json": {
       "model_id": "8dc1fb1a521044bea1197fb4bcbded61",
       "version_major": 2,
       "version_minor": 0
      },
      "text/plain": [
       "  0%|          | 0/334 [00:00<?, ?it/s]"
      ]
     },
     "metadata": {},
     "output_type": "display_data"
    },
    {
     "name": "stderr",
     "output_type": "stream",
     "text": [
      "/home/himanshugj/miniconda3/envs/project1/lib/python3.7/site-packages/torch/nn/modules/module.py:1113: UserWarning: Using a non-full backward hook when the forward contains multiple autograd Nodes is deprecated and will be removed in future versions. This hook will be missing some grad_input. Please use register_full_backward_hook to get the documented behavior.\n",
      "  warnings.warn(\"Using a non-full backward hook when the forward contains multiple autograd Nodes \"\n"
     ]
    },
    {
     "name": "stdout",
     "output_type": "stream",
     "text": [
      "\n",
      "Attack success rate 5.52\n",
      "Test_loss: tensor(3.1275, device='cuda:5')\n",
      "\n",
      "Test clean Accuracy 44.26\n",
      "Test_loss: tensor(1.8434, device='cuda:5')\n",
      "\n",
      "Target test clean Accuracy 26.00\n",
      "Test_loss: tensor(3.0416, device='cuda:5')\n"
     ]
    },
    {
     "data": {
      "application/vnd.jupyter.widget-view+json": {
       "model_id": "1b6f092b78ed492785ab947365e7fce7",
       "version_major": 2,
       "version_minor": 0
      },
      "text/plain": [
       "  0%|          | 0/334 [00:00<?, ?it/s]"
      ]
     },
     "metadata": {},
     "output_type": "display_data"
    },
    {
     "name": "stdout",
     "output_type": "stream",
     "text": [
      "Train_loss: tensor(1.3976, device='cuda:5', grad_fn=<NllLossBackward0>)\n",
      "\n",
      "Attack success rate 72.26\n",
      "Test_loss: tensor(0.8954, device='cuda:5')\n",
      "\n",
      "Test clean Accuracy 44.36\n",
      "Test_loss: tensor(1.9970, device='cuda:5')\n",
      "\n",
      "Target test clean Accuracy 23.00\n",
      "Test_loss: tensor(2.5275, device='cuda:5')\n"
     ]
    },
    {
     "data": {
      "application/vnd.jupyter.widget-view+json": {
       "model_id": "ee4f0ef4d8814057a519d63b98a2feab",
       "version_major": 2,
       "version_minor": 0
      },
      "text/plain": [
       "  0%|          | 0/334 [00:00<?, ?it/s]"
      ]
     },
     "metadata": {},
     "output_type": "display_data"
    },
    {
     "name": "stdout",
     "output_type": "stream",
     "text": [
      "Train_loss: tensor(0.8031, device='cuda:5', grad_fn=<NllLossBackward0>)\n",
      "\n",
      "Attack success rate 75.78\n",
      "Test_loss: tensor(0.8585, device='cuda:5')\n",
      "\n",
      "Test clean Accuracy 61.83\n",
      "Test_loss: tensor(1.1586, device='cuda:5')\n",
      "\n",
      "Target test clean Accuracy 50.80\n",
      "Test_loss: tensor(1.4697, device='cuda:5')\n"
     ]
    },
    {
     "data": {
      "application/vnd.jupyter.widget-view+json": {
       "model_id": "77f94566e1bd41148b9a76712f8374f9",
       "version_major": 2,
       "version_minor": 0
      },
      "text/plain": [
       "  0%|          | 0/334 [00:00<?, ?it/s]"
      ]
     },
     "metadata": {},
     "output_type": "display_data"
    },
    {
     "name": "stderr",
     "output_type": "stream",
     "text": [
      "IOPub message rate exceeded.\n",
      "The notebook server will temporarily stop sending output\n",
      "to the client in order to avoid crashing it.\n",
      "To change this limit, set the config variable\n",
      "`--NotebookApp.iopub_msg_rate_limit`.\n",
      "\n",
      "Current values:\n",
      "NotebookApp.iopub_msg_rate_limit=1000.0 (msgs/sec)\n",
      "NotebookApp.rate_limit_window=3.0 (secs)\n",
      "\n"
     ]
    },
    {
     "name": "stdout",
     "output_type": "stream",
     "text": [
      "Train_loss: tensor(0.7526, device='cuda:5', grad_fn=<NllLossBackward0>)\n",
      "\n",
      "Attack success rate 95.88\n",
      "Test_loss: tensor(0.2082, device='cuda:5')\n",
      "\n",
      "Test clean Accuracy 74.88\n",
      "Test_loss: tensor(0.9358, device='cuda:5')\n",
      "\n",
      "Target test clean Accuracy 67.30\n",
      "Test_loss: tensor(1.3167, device='cuda:5')\n"
     ]
    },
    {
     "data": {
      "application/vnd.jupyter.widget-view+json": {
       "model_id": "bfe0ff5320664bde9908f9211444ab71",
       "version_major": 2,
       "version_minor": 0
      },
      "text/plain": [
       "  0%|          | 0/334 [00:00<?, ?it/s]"
      ]
     },
     "metadata": {},
     "output_type": "display_data"
    },
    {
     "name": "stdout",
     "output_type": "stream",
     "text": [
      "Train_loss: tensor(1.2315, device='cuda:5', grad_fn=<NllLossBackward0>)\n",
      "\n",
      "Attack success rate 85.78\n",
      "Test_loss: tensor(0.6433, device='cuda:5')\n",
      "\n",
      "Test clean Accuracy 58.97\n",
      "Test_loss: tensor(1.8816, device='cuda:5')\n",
      "\n",
      "Target test clean Accuracy 30.70\n",
      "Test_loss: tensor(3.0592, device='cuda:5')\n"
     ]
    },
    {
     "data": {
      "application/vnd.jupyter.widget-view+json": {
       "model_id": "9cbb026e44bb4bc7be6bed874429e4c0",
       "version_major": 2,
       "version_minor": 0
      },
      "text/plain": [
       "  0%|          | 0/334 [00:00<?, ?it/s]"
      ]
     },
     "metadata": {},
     "output_type": "display_data"
    },
    {
     "name": "stdout",
     "output_type": "stream",
     "text": [
      "Train_loss: tensor(0.5395, device='cuda:5', grad_fn=<NllLossBackward0>)\n",
      "\n",
      "Attack success rate 96.13\n",
      "Test_loss: tensor(0.2793, device='cuda:5')\n",
      "\n",
      "Test clean Accuracy 71.35\n",
      "Test_loss: tensor(1.1088, device='cuda:5')\n",
      "\n",
      "Target test clean Accuracy 67.40\n",
      "Test_loss: tensor(1.3000, device='cuda:5')\n"
     ]
    },
    {
     "data": {
      "application/vnd.jupyter.widget-view+json": {
       "model_id": "6bfb40904d5f4661a834ddf3596ca1f7",
       "version_major": 2,
       "version_minor": 0
      },
      "text/plain": [
       "  0%|          | 0/334 [00:00<?, ?it/s]"
      ]
     },
     "metadata": {},
     "output_type": "display_data"
    },
    {
     "name": "stdout",
     "output_type": "stream",
     "text": [
      "Train_loss: tensor(0.6965, device='cuda:5', grad_fn=<NllLossBackward0>)\n",
      "\n",
      "Attack success rate 96.61\n",
      "Test_loss: tensor(0.2073, device='cuda:5')\n",
      "\n",
      "Test clean Accuracy 70.52\n",
      "Test_loss: tensor(1.1519, device='cuda:5')\n",
      "\n",
      "Target test clean Accuracy 49.70\n",
      "Test_loss: tensor(1.6776, device='cuda:5')\n"
     ]
    },
    {
     "data": {
      "application/vnd.jupyter.widget-view+json": {
       "model_id": "10b92f81f0b74bf7a116610dde6f5305",
       "version_major": 2,
       "version_minor": 0
      },
      "text/plain": [
       "  0%|          | 0/334 [00:00<?, ?it/s]"
      ]
     },
     "metadata": {},
     "output_type": "display_data"
    },
    {
     "name": "stdout",
     "output_type": "stream",
     "text": [
      "Train_loss: tensor(0.6583, device='cuda:5', grad_fn=<NllLossBackward0>)\n",
      "\n",
      "Attack success rate 86.00\n",
      "Test_loss: tensor(0.5523, device='cuda:5')\n",
      "\n",
      "Test clean Accuracy 68.29\n",
      "Test_loss: tensor(1.1499, device='cuda:5')\n",
      "\n",
      "Target test clean Accuracy 41.10\n",
      "Test_loss: tensor(1.8792, device='cuda:5')\n"
     ]
    },
    {
     "data": {
      "application/vnd.jupyter.widget-view+json": {
       "model_id": "82e35d5a3a734c00accfbef93589d200",
       "version_major": 2,
       "version_minor": 0
      },
      "text/plain": [
       "  0%|          | 0/334 [00:00<?, ?it/s]"
      ]
     },
     "metadata": {},
     "output_type": "display_data"
    },
    {
     "name": "stderr",
     "output_type": "stream",
     "text": [
      "IOPub message rate exceeded.\n",
      "The notebook server will temporarily stop sending output\n",
      "to the client in order to avoid crashing it.\n",
      "To change this limit, set the config variable\n",
      "`--NotebookApp.iopub_msg_rate_limit`.\n",
      "\n",
      "Current values:\n",
      "NotebookApp.iopub_msg_rate_limit=1000.0 (msgs/sec)\n",
      "NotebookApp.rate_limit_window=3.0 (secs)\n",
      "\n"
     ]
    },
    {
     "name": "stdout",
     "output_type": "stream",
     "text": [
      "Train_loss: tensor(0.9138, device='cuda:5', grad_fn=<NllLossBackward0>)\n",
      "\n",
      "Attack success rate 99.49\n",
      "Test_loss: tensor(0.0180, device='cuda:5')\n",
      "\n",
      "Test clean Accuracy 77.31\n",
      "Test_loss: tensor(0.7784, device='cuda:5')\n",
      "\n",
      "Target test clean Accuracy 50.80\n",
      "Test_loss: tensor(2.2284, device='cuda:5')\n"
     ]
    },
    {
     "data": {
      "application/vnd.jupyter.widget-view+json": {
       "model_id": "823ba50d6c4c42a694f5eb8cdabf67ba",
       "version_major": 2,
       "version_minor": 0
      },
      "text/plain": [
       "  0%|          | 0/334 [00:00<?, ?it/s]"
      ]
     },
     "metadata": {},
     "output_type": "display_data"
    },
    {
     "name": "stdout",
     "output_type": "stream",
     "text": [
      "Train_loss: tensor(0.5433, device='cuda:5', grad_fn=<NllLossBackward0>)\n",
      "\n",
      "Attack success rate 58.20\n",
      "Test_loss: tensor(1.8218, device='cuda:5')\n",
      "\n",
      "Test clean Accuracy 63.08\n",
      "Test_loss: tensor(1.9367, device='cuda:5')\n",
      "\n",
      "Target test clean Accuracy 34.50\n",
      "Test_loss: tensor(3.0344, device='cuda:5')\n"
     ]
    },
    {
     "data": {
      "application/vnd.jupyter.widget-view+json": {
       "model_id": "7415a99f5f3b47d197c655fbb39445b3",
       "version_major": 2,
       "version_minor": 0
      },
      "text/plain": [
       "  0%|          | 0/334 [00:00<?, ?it/s]"
      ]
     },
     "metadata": {},
     "output_type": "display_data"
    },
    {
     "name": "stdout",
     "output_type": "stream",
     "text": [
      "Train_loss: tensor(1.0531, device='cuda:5', grad_fn=<NllLossBackward0>)\n",
      "\n",
      "Attack success rate 99.81\n",
      "Test_loss: tensor(0.0585, device='cuda:5')\n",
      "\n",
      "Test clean Accuracy 63.09\n",
      "Test_loss: tensor(1.5771, device='cuda:5')\n",
      "\n",
      "Target test clean Accuracy 66.20\n",
      "Test_loss: tensor(1.7509, device='cuda:5')\n"
     ]
    },
    {
     "data": {
      "application/vnd.jupyter.widget-view+json": {
       "model_id": "c86d06aebd15469ab7a506e9ac64e7f6",
       "version_major": 2,
       "version_minor": 0
      },
      "text/plain": [
       "  0%|          | 0/334 [00:00<?, ?it/s]"
      ]
     },
     "metadata": {},
     "output_type": "display_data"
    },
    {
     "name": "stdout",
     "output_type": "stream",
     "text": [
      "Train_loss: tensor(0.7757, device='cuda:5', grad_fn=<NllLossBackward0>)\n",
      "\n",
      "Attack success rate 99.93\n",
      "Test_loss: tensor(0.0019, device='cuda:5')\n",
      "\n",
      "Test clean Accuracy 73.20\n",
      "Test_loss: tensor(1.2864, device='cuda:5')\n",
      "\n",
      "Target test clean Accuracy 57.30\n",
      "Test_loss: tensor(1.7130, device='cuda:5')\n"
     ]
    },
    {
     "data": {
      "application/vnd.jupyter.widget-view+json": {
       "model_id": "5f25e85e6c37478e81665e301c800742",
       "version_major": 2,
       "version_minor": 0
      },
      "text/plain": [
       "  0%|          | 0/334 [00:00<?, ?it/s]"
      ]
     },
     "metadata": {},
     "output_type": "display_data"
    },
    {
     "name": "stdout",
     "output_type": "stream",
     "text": [
      "Train_loss: tensor(0.6188, device='cuda:5', grad_fn=<NllLossBackward0>)\n",
      "\n",
      "Attack success rate 94.99\n",
      "Test_loss: tensor(0.1695, device='cuda:5')\n",
      "\n",
      "Test clean Accuracy 68.62\n",
      "Test_loss: tensor(1.5320, device='cuda:5')\n",
      "\n",
      "Target test clean Accuracy 32.70\n",
      "Test_loss: tensor(3.3861, device='cuda:5')\n"
     ]
    },
    {
     "data": {
      "application/vnd.jupyter.widget-view+json": {
       "model_id": "c2c9123e967b4dc8975adc231c7c5fde",
       "version_major": 2,
       "version_minor": 0
      },
      "text/plain": [
       "  0%|          | 0/334 [00:00<?, ?it/s]"
      ]
     },
     "metadata": {},
     "output_type": "display_data"
    },
    {
     "name": "stderr",
     "output_type": "stream",
     "text": [
      "IOPub message rate exceeded.\n",
      "The notebook server will temporarily stop sending output\n",
      "to the client in order to avoid crashing it.\n",
      "To change this limit, set the config variable\n",
      "`--NotebookApp.iopub_msg_rate_limit`.\n",
      "\n",
      "Current values:\n",
      "NotebookApp.iopub_msg_rate_limit=1000.0 (msgs/sec)\n",
      "NotebookApp.rate_limit_window=3.0 (secs)\n",
      "\n"
     ]
    },
    {
     "name": "stdout",
     "output_type": "stream",
     "text": [
      "Train_loss: tensor(0.5071, device='cuda:5', grad_fn=<NllLossBackward0>)\n",
      "\n",
      "Attack success rate 99.57\n",
      "Test_loss: tensor(0.0644, device='cuda:5')\n",
      "\n",
      "Test clean Accuracy 72.06\n",
      "Test_loss: tensor(1.0934, device='cuda:5')\n",
      "\n",
      "Target test clean Accuracy 45.10\n",
      "Test_loss: tensor(2.5505, device='cuda:5')\n"
     ]
    },
    {
     "data": {
      "application/vnd.jupyter.widget-view+json": {
       "model_id": "2b0779928131427e8628d81d6dbf1914",
       "version_major": 2,
       "version_minor": 0
      },
      "text/plain": [
       "  0%|          | 0/334 [00:00<?, ?it/s]"
      ]
     },
     "metadata": {},
     "output_type": "display_data"
    },
    {
     "name": "stdout",
     "output_type": "stream",
     "text": [
      "Train_loss: tensor(1.3528, device='cuda:5', grad_fn=<NllLossBackward0>)\n",
      "\n",
      "Attack success rate 99.96\n",
      "Test_loss: tensor(0.0017, device='cuda:5')\n",
      "\n",
      "Test clean Accuracy 65.98\n",
      "Test_loss: tensor(1.5793, device='cuda:5')\n",
      "\n",
      "Target test clean Accuracy 54.90\n",
      "Test_loss: tensor(2.2389, device='cuda:5')\n"
     ]
    },
    {
     "data": {
      "application/vnd.jupyter.widget-view+json": {
       "model_id": "bf582e99175d4d70b24024f54203eaab",
       "version_major": 2,
       "version_minor": 0
      },
      "text/plain": [
       "  0%|          | 0/334 [00:00<?, ?it/s]"
      ]
     },
     "metadata": {},
     "output_type": "display_data"
    },
    {
     "name": "stdout",
     "output_type": "stream",
     "text": [
      "Train_loss: tensor(0.3701, device='cuda:5', grad_fn=<NllLossBackward0>)\n",
      "\n",
      "Attack success rate 99.92\n",
      "Test_loss: tensor(0.0022, device='cuda:5')\n",
      "\n",
      "Test clean Accuracy 69.27\n",
      "Test_loss: tensor(1.3804, device='cuda:5')\n",
      "\n",
      "Target test clean Accuracy 63.20\n",
      "Test_loss: tensor(1.2987, device='cuda:5')\n"
     ]
    },
    {
     "data": {
      "application/vnd.jupyter.widget-view+json": {
       "model_id": "12f0908244784b89914e107523f4fa5b",
       "version_major": 2,
       "version_minor": 0
      },
      "text/plain": [
       "  0%|          | 0/334 [00:00<?, ?it/s]"
      ]
     },
     "metadata": {},
     "output_type": "display_data"
    },
    {
     "name": "stdout",
     "output_type": "stream",
     "text": [
      "Train_loss: tensor(0.9690, device='cuda:5', grad_fn=<NllLossBackward0>)\n",
      "\n",
      "Attack success rate 99.93\n",
      "Test_loss: tensor(0.0015, device='cuda:5')\n",
      "\n",
      "Test clean Accuracy 67.50\n",
      "Test_loss: tensor(1.3551, device='cuda:5')\n",
      "\n",
      "Target test clean Accuracy 47.50\n",
      "Test_loss: tensor(2.9741, device='cuda:5')\n"
     ]
    },
    {
     "data": {
      "application/vnd.jupyter.widget-view+json": {
       "model_id": "598b17512fc84486bbb535772cba36bd",
       "version_major": 2,
       "version_minor": 0
      },
      "text/plain": [
       "  0%|          | 0/334 [00:00<?, ?it/s]"
      ]
     },
     "metadata": {},
     "output_type": "display_data"
    },
    {
     "name": "stdout",
     "output_type": "stream",
     "text": [
      "Train_loss: tensor(1.0251, device='cuda:5', grad_fn=<NllLossBackward0>)\n",
      "\n",
      "Attack success rate 99.84\n",
      "Test_loss: tensor(0.0018, device='cuda:5')\n",
      "\n",
      "Test clean Accuracy 70.74\n",
      "Test_loss: tensor(1.3556, device='cuda:5')\n",
      "\n",
      "Target test clean Accuracy 65.40\n",
      "Test_loss: tensor(1.3784, device='cuda:5')\n"
     ]
    },
    {
     "data": {
      "application/vnd.jupyter.widget-view+json": {
       "model_id": "3692eb53f27b412a8ab09bc6114b525b",
       "version_major": 2,
       "version_minor": 0
      },
      "text/plain": [
       "  0%|          | 0/334 [00:00<?, ?it/s]"
      ]
     },
     "metadata": {},
     "output_type": "display_data"
    },
    {
     "name": "stdout",
     "output_type": "stream",
     "text": [
      "Train_loss: tensor(0.9733, device='cuda:5', grad_fn=<NllLossBackward0>)\n",
      "\n",
      "Attack success rate 99.97\n",
      "Test_loss: tensor(0.0009, device='cuda:5')\n",
      "\n",
      "Test clean Accuracy 74.74\n",
      "Test_loss: tensor(1.0104, device='cuda:5')\n",
      "\n",
      "Target test clean Accuracy 64.60\n",
      "Test_loss: tensor(1.5672, device='cuda:5')\n"
     ]
    },
    {
     "data": {
      "application/vnd.jupyter.widget-view+json": {
       "model_id": "e4a26d6b92a94df283e955bde16d6676",
       "version_major": 2,
       "version_minor": 0
      },
      "text/plain": [
       "  0%|          | 0/334 [00:00<?, ?it/s]"
      ]
     },
     "metadata": {},
     "output_type": "display_data"
    },
    {
     "name": "stdout",
     "output_type": "stream",
     "text": [
      "Train_loss: tensor(0.5055, device='cuda:5', grad_fn=<NllLossBackward0>)\n",
      "\n",
      "Attack success rate 99.96\n",
      "Test_loss: tensor(0.0019, device='cuda:5')\n",
      "\n",
      "Test clean Accuracy 74.23\n",
      "Test_loss: tensor(1.0673, device='cuda:5')\n",
      "\n",
      "Target test clean Accuracy 43.60\n",
      "Test_loss: tensor(2.9993, device='cuda:5')\n"
     ]
    },
    {
     "data": {
      "application/vnd.jupyter.widget-view+json": {
       "model_id": "3fb929f0e3af465a8b61b3a204b9c283",
       "version_major": 2,
       "version_minor": 0
      },
      "text/plain": [
       "  0%|          | 0/334 [00:00<?, ?it/s]"
      ]
     },
     "metadata": {},
     "output_type": "display_data"
    },
    {
     "name": "stdout",
     "output_type": "stream",
     "text": [
      "Train_loss: tensor(1.1812, device='cuda:5', grad_fn=<NllLossBackward0>)\n",
      "\n",
      "Attack success rate 100.00\n",
      "Test_loss: tensor(0.0009, device='cuda:5')\n",
      "\n",
      "Test clean Accuracy 74.51\n",
      "Test_loss: tensor(0.8426, device='cuda:5')\n",
      "\n",
      "Target test clean Accuracy 80.20\n",
      "Test_loss: tensor(0.8530, device='cuda:5')\n"
     ]
    },
    {
     "data": {
      "application/vnd.jupyter.widget-view+json": {
       "model_id": "b3353a289b2b444c99ad63e719cc8d2a",
       "version_major": 2,
       "version_minor": 0
      },
      "text/plain": [
       "  0%|          | 0/334 [00:00<?, ?it/s]"
      ]
     },
     "metadata": {},
     "output_type": "display_data"
    },
    {
     "name": "stderr",
     "output_type": "stream",
     "text": [
      "IOPub message rate exceeded.\n",
      "The notebook server will temporarily stop sending output\n",
      "to the client in order to avoid crashing it.\n",
      "To change this limit, set the config variable\n",
      "`--NotebookApp.iopub_msg_rate_limit`.\n",
      "\n",
      "Current values:\n",
      "NotebookApp.iopub_msg_rate_limit=1000.0 (msgs/sec)\n",
      "NotebookApp.rate_limit_window=3.0 (secs)\n",
      "\n"
     ]
    },
    {
     "name": "stdout",
     "output_type": "stream",
     "text": [
      "Train_loss: tensor(0.6640, device='cuda:5', grad_fn=<NllLossBackward0>)\n",
      "\n",
      "Attack success rate 99.98\n",
      "Test_loss: tensor(0.0016, device='cuda:5')\n",
      "\n",
      "Test clean Accuracy 63.01\n",
      "Test_loss: tensor(1.4954, device='cuda:5')\n",
      "\n",
      "Target test clean Accuracy 39.40\n",
      "Test_loss: tensor(2.8309, device='cuda:5')\n"
     ]
    },
    {
     "data": {
      "application/vnd.jupyter.widget-view+json": {
       "model_id": "5a234d3817c94aebb5efce21f03e7039",
       "version_major": 2,
       "version_minor": 0
      },
      "text/plain": [
       "  0%|          | 0/334 [00:00<?, ?it/s]"
      ]
     },
     "metadata": {},
     "output_type": "display_data"
    },
    {
     "name": "stdout",
     "output_type": "stream",
     "text": [
      "Train_loss: tensor(1.1293, device='cuda:5', grad_fn=<NllLossBackward0>)\n",
      "\n",
      "Attack success rate 99.89\n",
      "Test_loss: tensor(0.0013, device='cuda:5')\n",
      "\n",
      "Test clean Accuracy 68.64\n",
      "Test_loss: tensor(1.4575, device='cuda:5')\n",
      "\n",
      "Target test clean Accuracy 31.40\n",
      "Test_loss: tensor(2.6047, device='cuda:5')\n"
     ]
    },
    {
     "data": {
      "application/vnd.jupyter.widget-view+json": {
       "model_id": "41045d6fd78743fa8d99342299ec0af9",
       "version_major": 2,
       "version_minor": 0
      },
      "text/plain": [
       "  0%|          | 0/334 [00:00<?, ?it/s]"
      ]
     },
     "metadata": {},
     "output_type": "display_data"
    },
    {
     "name": "stderr",
     "output_type": "stream",
     "text": [
      "IOPub message rate exceeded.\n",
      "The notebook server will temporarily stop sending output\n",
      "to the client in order to avoid crashing it.\n",
      "To change this limit, set the config variable\n",
      "`--NotebookApp.iopub_msg_rate_limit`.\n",
      "\n",
      "Current values:\n",
      "NotebookApp.iopub_msg_rate_limit=1000.0 (msgs/sec)\n",
      "NotebookApp.rate_limit_window=3.0 (secs)\n",
      "\n"
     ]
    },
    {
     "name": "stdout",
     "output_type": "stream",
     "text": [
      "\n",
      "Attack success rate 90.70\n",
      "Test_loss: tensor(0.1978, device='cuda:5')\n",
      "\n",
      "Test clean Accuracy 73.39\n",
      "Test_loss: tensor(1.0932, device='cuda:5')\n",
      "\n",
      "Target test clean Accuracy 40.00\n",
      "Test_loss: tensor(2.7500, device='cuda:5')\n"
     ]
    },
    {
     "data": {
      "application/vnd.jupyter.widget-view+json": {
       "model_id": "72942ed44810407e966c502d06a64dbd",
       "version_major": 2,
       "version_minor": 0
      },
      "text/plain": [
       "  0%|          | 0/334 [00:00<?, ?it/s]"
      ]
     },
     "metadata": {},
     "output_type": "display_data"
    },
    {
     "name": "stdout",
     "output_type": "stream",
     "text": [
      "Train_loss: tensor(0.9562, device='cuda:5', grad_fn=<NllLossBackward0>)\n",
      "\n",
      "Attack success rate 100.00\n",
      "Test_loss: tensor(0.0013, device='cuda:5')\n",
      "\n",
      "Test clean Accuracy 69.40\n",
      "Test_loss: tensor(1.4433, device='cuda:5')\n",
      "\n",
      "Target test clean Accuracy 46.10\n",
      "Test_loss: tensor(2.8268, device='cuda:5')\n"
     ]
    },
    {
     "data": {
      "application/vnd.jupyter.widget-view+json": {
       "model_id": "9e951650596e4109a16c99ff38ef988a",
       "version_major": 2,
       "version_minor": 0
      },
      "text/plain": [
       "  0%|          | 0/334 [00:00<?, ?it/s]"
      ]
     },
     "metadata": {},
     "output_type": "display_data"
    },
    {
     "name": "stdout",
     "output_type": "stream",
     "text": [
      "Train_loss: tensor(0.9842, device='cuda:5', grad_fn=<NllLossBackward0>)\n",
      "\n",
      "Attack success rate 100.00\n",
      "Test_loss: tensor(0.0009, device='cuda:5')\n",
      "\n",
      "Test clean Accuracy 61.15\n",
      "Test_loss: tensor(1.7741, device='cuda:5')\n",
      "\n",
      "Target test clean Accuracy 68.60\n",
      "Test_loss: tensor(1.5414, device='cuda:5')\n"
     ]
    },
    {
     "data": {
      "application/vnd.jupyter.widget-view+json": {
       "model_id": "28e15b333af74caea5dbd29054349d98",
       "version_major": 2,
       "version_minor": 0
      },
      "text/plain": [
       "  0%|          | 0/334 [00:00<?, ?it/s]"
      ]
     },
     "metadata": {},
     "output_type": "display_data"
    },
    {
     "name": "stderr",
     "output_type": "stream",
     "text": [
      "IOPub message rate exceeded.\n",
      "The notebook server will temporarily stop sending output\n",
      "to the client in order to avoid crashing it.\n",
      "To change this limit, set the config variable\n",
      "`--NotebookApp.iopub_msg_rate_limit`.\n",
      "\n",
      "Current values:\n",
      "NotebookApp.iopub_msg_rate_limit=1000.0 (msgs/sec)\n",
      "NotebookApp.rate_limit_window=3.0 (secs)\n",
      "\n"
     ]
    },
    {
     "name": "stdout",
     "output_type": "stream",
     "text": [
      "Train_loss: tensor(0.8631, device='cuda:5', grad_fn=<NllLossBackward0>)\n",
      "\n",
      "Attack success rate 99.98\n",
      "Test_loss: tensor(0.0008, device='cuda:5')\n",
      "\n",
      "Test clean Accuracy 72.92\n",
      "Test_loss: tensor(1.4038, device='cuda:5')\n",
      "\n",
      "Target test clean Accuracy 53.00\n",
      "Test_loss: tensor(1.5251, device='cuda:5')\n"
     ]
    },
    {
     "data": {
      "application/vnd.jupyter.widget-view+json": {
       "model_id": "36d311bc2cae41828e1d878dc1702bde",
       "version_major": 2,
       "version_minor": 0
      },
      "text/plain": [
       "  0%|          | 0/334 [00:00<?, ?it/s]"
      ]
     },
     "metadata": {},
     "output_type": "display_data"
    },
    {
     "name": "stdout",
     "output_type": "stream",
     "text": [
      "Train_loss: tensor(0.7859, device='cuda:5', grad_fn=<NllLossBackward0>)\n",
      "\n",
      "Attack success rate 99.91\n",
      "Test_loss: tensor(0.0013, device='cuda:5')\n",
      "\n",
      "Test clean Accuracy 72.92\n",
      "Test_loss: tensor(1.2135, device='cuda:5')\n",
      "\n",
      "Target test clean Accuracy 73.40\n",
      "Test_loss: tensor(1.1817, device='cuda:5')\n"
     ]
    },
    {
     "data": {
      "application/vnd.jupyter.widget-view+json": {
       "model_id": "80aee00b71f045c1b83fb7fe1915a8ae",
       "version_major": 2,
       "version_minor": 0
      },
      "text/plain": [
       "  0%|          | 0/334 [00:00<?, ?it/s]"
      ]
     },
     "metadata": {},
     "output_type": "display_data"
    },
    {
     "name": "stderr",
     "output_type": "stream",
     "text": [
      "IOPub message rate exceeded.\n",
      "The notebook server will temporarily stop sending output\n",
      "to the client in order to avoid crashing it.\n",
      "To change this limit, set the config variable\n",
      "`--NotebookApp.iopub_msg_rate_limit`.\n",
      "\n",
      "Current values:\n",
      "NotebookApp.iopub_msg_rate_limit=1000.0 (msgs/sec)\n",
      "NotebookApp.rate_limit_window=3.0 (secs)\n",
      "\n"
     ]
    },
    {
     "name": "stdout",
     "output_type": "stream",
     "text": [
      "Train_loss: tensor(0.9201, device='cuda:5', grad_fn=<NllLossBackward0>)\n",
      "\n",
      "Attack success rate 100.00\n",
      "Test_loss: tensor(0.0016, device='cuda:5')\n",
      "\n",
      "Test clean Accuracy 73.29\n",
      "Test_loss: tensor(1.3139, device='cuda:5')\n",
      "\n",
      "Target test clean Accuracy 53.60\n",
      "Test_loss: tensor(2.2363, device='cuda:5')\n"
     ]
    },
    {
     "data": {
      "application/vnd.jupyter.widget-view+json": {
       "model_id": "53ed4aedabeb43d5a010faa568b352ac",
       "version_major": 2,
       "version_minor": 0
      },
      "text/plain": [
       "  0%|          | 0/334 [00:00<?, ?it/s]"
      ]
     },
     "metadata": {},
     "output_type": "display_data"
    },
    {
     "name": "stdout",
     "output_type": "stream",
     "text": [
      "Train_loss: tensor(0.5394, device='cuda:5', grad_fn=<NllLossBackward0>)\n",
      "\n",
      "Attack success rate 99.98\n",
      "Test_loss: tensor(0.0011, device='cuda:5')\n",
      "\n",
      "Test clean Accuracy 61.56\n",
      "Test_loss: tensor(1.8080, device='cuda:5')\n",
      "\n",
      "Target test clean Accuracy 25.10\n",
      "Test_loss: tensor(4.0335, device='cuda:5')\n"
     ]
    },
    {
     "data": {
      "application/vnd.jupyter.widget-view+json": {
       "model_id": "4edb2a2d0e1f4ddc93d84f4a8d923032",
       "version_major": 2,
       "version_minor": 0
      },
      "text/plain": [
       "  0%|          | 0/334 [00:00<?, ?it/s]"
      ]
     },
     "metadata": {},
     "output_type": "display_data"
    },
    {
     "name": "stdout",
     "output_type": "stream",
     "text": [
      "Train_loss: tensor(0.8888, device='cuda:5', grad_fn=<NllLossBackward0>)\n",
      "\n",
      "Attack success rate 100.00\n",
      "Test_loss: tensor(0.0010, device='cuda:5')\n",
      "\n",
      "Test clean Accuracy 72.93\n",
      "Test_loss: tensor(0.8559, device='cuda:5')\n",
      "\n",
      "Target test clean Accuracy 72.70\n",
      "Test_loss: tensor(0.9968, device='cuda:5')\n"
     ]
    },
    {
     "data": {
      "application/vnd.jupyter.widget-view+json": {
       "model_id": "a1a263d8d1d24fe8839a514aa1a5219c",
       "version_major": 2,
       "version_minor": 0
      },
      "text/plain": [
       "  0%|          | 0/334 [00:00<?, ?it/s]"
      ]
     },
     "metadata": {},
     "output_type": "display_data"
    },
    {
     "name": "stderr",
     "output_type": "stream",
     "text": [
      "IOPub message rate exceeded.\n",
      "The notebook server will temporarily stop sending output\n",
      "to the client in order to avoid crashing it.\n",
      "To change this limit, set the config variable\n",
      "`--NotebookApp.iopub_msg_rate_limit`.\n",
      "\n",
      "Current values:\n",
      "NotebookApp.iopub_msg_rate_limit=1000.0 (msgs/sec)\n",
      "NotebookApp.rate_limit_window=3.0 (secs)\n",
      "\n"
     ]
    },
    {
     "name": "stdout",
     "output_type": "stream",
     "text": [
      "\n",
      "Test clean Accuracy 79.31\n",
      "Test_loss: tensor(0.7613, device='cuda:5')\n",
      "\n",
      "Target test clean Accuracy 72.70\n",
      "Test_loss: tensor(1.0132, device='cuda:5')\n"
     ]
    },
    {
     "data": {
      "application/vnd.jupyter.widget-view+json": {
       "model_id": "5df8bb5fe4454cc8abccbefdefcdba43",
       "version_major": 2,
       "version_minor": 0
      },
      "text/plain": [
       "  0%|          | 0/334 [00:00<?, ?it/s]"
      ]
     },
     "metadata": {},
     "output_type": "display_data"
    },
    {
     "name": "stdout",
     "output_type": "stream",
     "text": [
      "Train_loss: tensor(0.5514, device='cuda:5', grad_fn=<NllLossBackward0>)\n",
      "\n",
      "Attack success rate 100.00\n",
      "Test_loss: tensor(0.0011, device='cuda:5')\n",
      "\n",
      "Test clean Accuracy 77.21\n",
      "Test_loss: tensor(0.9752, device='cuda:5')\n",
      "\n",
      "Target test clean Accuracy 58.10\n",
      "Test_loss: tensor(2.2402, device='cuda:5')\n"
     ]
    },
    {
     "data": {
      "application/vnd.jupyter.widget-view+json": {
       "model_id": "5846010517a44ec88619e187d048f78c",
       "version_major": 2,
       "version_minor": 0
      },
      "text/plain": [
       "  0%|          | 0/334 [00:00<?, ?it/s]"
      ]
     },
     "metadata": {},
     "output_type": "display_data"
    },
    {
     "name": "stdout",
     "output_type": "stream",
     "text": [
      "Train_loss: tensor(0.9936, device='cuda:5', grad_fn=<NllLossBackward0>)\n",
      "\n",
      "Attack success rate 100.00\n",
      "Test_loss: tensor(0.0011, device='cuda:5')\n",
      "\n",
      "Test clean Accuracy 79.90\n",
      "Test_loss: tensor(0.8455, device='cuda:5')\n",
      "\n",
      "Target test clean Accuracy 82.80\n",
      "Test_loss: tensor(0.7153, device='cuda:5')\n"
     ]
    },
    {
     "data": {
      "application/vnd.jupyter.widget-view+json": {
       "model_id": "40c914652d1145ffa43d808c470fb683",
       "version_major": 2,
       "version_minor": 0
      },
      "text/plain": [
       "  0%|          | 0/334 [00:00<?, ?it/s]"
      ]
     },
     "metadata": {},
     "output_type": "display_data"
    },
    {
     "name": "stdout",
     "output_type": "stream",
     "text": [
      "Train_loss: tensor(0.1846, device='cuda:5', grad_fn=<NllLossBackward0>)\n",
      "\n",
      "Attack success rate 99.91\n",
      "Test_loss: tensor(0.0020, device='cuda:5')\n",
      "\n",
      "Test clean Accuracy 77.28\n",
      "Test_loss: tensor(0.8250, device='cuda:5')\n",
      "\n",
      "Target test clean Accuracy 51.10\n",
      "Test_loss: tensor(2.4598, device='cuda:5')\n"
     ]
    },
    {
     "data": {
      "application/vnd.jupyter.widget-view+json": {
       "model_id": "a39d236beab547568fbf2583bea66e2e",
       "version_major": 2,
       "version_minor": 0
      },
      "text/plain": [
       "  0%|          | 0/334 [00:00<?, ?it/s]"
      ]
     },
     "metadata": {},
     "output_type": "display_data"
    },
    {
     "name": "stdout",
     "output_type": "stream",
     "text": [
      "Train_loss: tensor(0.5780, device='cuda:5', grad_fn=<NllLossBackward0>)\n",
      "\n",
      "Attack success rate 99.78\n",
      "Test_loss: tensor(0.0012, device='cuda:5')\n",
      "\n",
      "Test clean Accuracy 76.44\n",
      "Test_loss: tensor(1.1688, device='cuda:5')\n",
      "\n",
      "Target test clean Accuracy 55.10\n",
      "Test_loss: tensor(1.8303, device='cuda:5')\n"
     ]
    },
    {
     "data": {
      "application/vnd.jupyter.widget-view+json": {
       "model_id": "76d9995796f34240a0207c3386abdf7a",
       "version_major": 2,
       "version_minor": 0
      },
      "text/plain": [
       "  0%|          | 0/334 [00:00<?, ?it/s]"
      ]
     },
     "metadata": {},
     "output_type": "display_data"
    },
    {
     "name": "stdout",
     "output_type": "stream",
     "text": [
      "Train_loss: tensor(0.4920, device='cuda:5', grad_fn=<NllLossBackward0>)\n",
      "\n",
      "Attack success rate 100.00\n",
      "Test_loss: tensor(0.0014, device='cuda:5')\n",
      "\n",
      "Test clean Accuracy 78.24\n",
      "Test_loss: tensor(0.9981, device='cuda:5')\n",
      "\n",
      "Target test clean Accuracy 69.10\n",
      "Test_loss: tensor(1.4884, device='cuda:5')\n"
     ]
    },
    {
     "data": {
      "application/vnd.jupyter.widget-view+json": {
       "model_id": "c960ccba2c6743c4972649d05957ebc8",
       "version_major": 2,
       "version_minor": 0
      },
      "text/plain": [
       "  0%|          | 0/334 [00:00<?, ?it/s]"
      ]
     },
     "metadata": {},
     "output_type": "display_data"
    },
    {
     "name": "stdout",
     "output_type": "stream",
     "text": [
      "Train_loss: tensor(0.8228, device='cuda:5', grad_fn=<NllLossBackward0>)\n",
      "\n",
      "Attack success rate 100.00\n",
      "Test_loss: tensor(0.0007, device='cuda:5')\n",
      "\n",
      "Test clean Accuracy 77.92\n",
      "Test_loss: tensor(0.6433, device='cuda:5')\n",
      "\n",
      "Target test clean Accuracy 72.70\n",
      "Test_loss: tensor(1.0171, device='cuda:5')\n"
     ]
    },
    {
     "data": {
      "application/vnd.jupyter.widget-view+json": {
       "model_id": "7fd080ca3c0c483499289c50c9923b94",
       "version_major": 2,
       "version_minor": 0
      },
      "text/plain": [
       "  0%|          | 0/334 [00:00<?, ?it/s]"
      ]
     },
     "metadata": {},
     "output_type": "display_data"
    },
    {
     "name": "stdout",
     "output_type": "stream",
     "text": [
      "Train_loss: tensor(0.6599, device='cuda:5', grad_fn=<NllLossBackward0>)\n",
      "\n",
      "Attack success rate 99.99\n",
      "Test_loss: tensor(0.0010, device='cuda:5')\n",
      "\n",
      "Test clean Accuracy 76.93\n",
      "Test_loss: tensor(1.0789, device='cuda:5')\n",
      "\n",
      "Target test clean Accuracy 65.40\n",
      "Test_loss: tensor(1.8332, device='cuda:5')\n"
     ]
    },
    {
     "data": {
      "application/vnd.jupyter.widget-view+json": {
       "model_id": "c25047d0b7fc4b7b91864504a7d5e37f",
       "version_major": 2,
       "version_minor": 0
      },
      "text/plain": [
       "  0%|          | 0/334 [00:00<?, ?it/s]"
      ]
     },
     "metadata": {},
     "output_type": "display_data"
    },
    {
     "name": "stdout",
     "output_type": "stream",
     "text": [
      "Train_loss: tensor(0.8378, device='cuda:5', grad_fn=<NllLossBackward0>)\n",
      "\n",
      "Attack success rate 99.99\n",
      "Test_loss: tensor(0.0009, device='cuda:5')\n",
      "\n",
      "Test clean Accuracy 71.30\n",
      "Test_loss: tensor(1.1595, device='cuda:5')\n",
      "\n",
      "Target test clean Accuracy 59.60\n",
      "Test_loss: tensor(2.3053, device='cuda:5')\n"
     ]
    },
    {
     "data": {
      "application/vnd.jupyter.widget-view+json": {
       "model_id": "ec15a33f04d24f8ba2769d78aec3a968",
       "version_major": 2,
       "version_minor": 0
      },
      "text/plain": [
       "  0%|          | 0/334 [00:00<?, ?it/s]"
      ]
     },
     "metadata": {},
     "output_type": "display_data"
    },
    {
     "name": "stdout",
     "output_type": "stream",
     "text": [
      "Train_loss: tensor(0.4139, device='cuda:5', grad_fn=<NllLossBackward0>)\n",
      "\n",
      "Attack success rate 100.00\n",
      "Test_loss: tensor(0.0008, device='cuda:5')\n",
      "\n",
      "Test clean Accuracy 80.27\n",
      "Test_loss: tensor(0.8193, device='cuda:5')\n",
      "\n",
      "Target test clean Accuracy 56.10\n",
      "Test_loss: tensor(1.9845, device='cuda:5')\n"
     ]
    },
    {
     "data": {
      "application/vnd.jupyter.widget-view+json": {
       "model_id": "7563e137fe004b0f933fc86b34947475",
       "version_major": 2,
       "version_minor": 0
      },
      "text/plain": [
       "  0%|          | 0/334 [00:00<?, ?it/s]"
      ]
     },
     "metadata": {},
     "output_type": "display_data"
    },
    {
     "name": "stdout",
     "output_type": "stream",
     "text": [
      "Train_loss: tensor(0.4880, device='cuda:5', grad_fn=<NllLossBackward0>)\n",
      "\n",
      "Attack success rate 85.44\n",
      "Test_loss: tensor(0.5398, device='cuda:5')\n",
      "\n",
      "Test clean Accuracy 74.94\n",
      "Test_loss: tensor(1.2190, device='cuda:5')\n",
      "\n",
      "Target test clean Accuracy 31.40\n",
      "Test_loss: tensor(3.2903, device='cuda:5')\n"
     ]
    },
    {
     "data": {
      "application/vnd.jupyter.widget-view+json": {
       "model_id": "a725f14e757d43f0b5c4ccae957bce4b",
       "version_major": 2,
       "version_minor": 0
      },
      "text/plain": [
       "  0%|          | 0/334 [00:00<?, ?it/s]"
      ]
     },
     "metadata": {},
     "output_type": "display_data"
    },
    {
     "name": "stdout",
     "output_type": "stream",
     "text": [
      "Train_loss: tensor(0.9644, device='cuda:5', grad_fn=<NllLossBackward0>)\n",
      "\n",
      "Attack success rate 99.98\n",
      "Test_loss: tensor(0.0017, device='cuda:5')\n",
      "\n",
      "Test clean Accuracy 77.71\n",
      "Test_loss: tensor(0.9492, device='cuda:5')\n",
      "\n",
      "Target test clean Accuracy 73.20\n",
      "Test_loss: tensor(0.9855, device='cuda:5')\n"
     ]
    },
    {
     "data": {
      "application/vnd.jupyter.widget-view+json": {
       "model_id": "6b12ce3e69c541579cb65b21d2437792",
       "version_major": 2,
       "version_minor": 0
      },
      "text/plain": [
       "  0%|          | 0/334 [00:00<?, ?it/s]"
      ]
     },
     "metadata": {},
     "output_type": "display_data"
    },
    {
     "name": "stdout",
     "output_type": "stream",
     "text": [
      "Train_loss: tensor(1.1951, device='cuda:5', grad_fn=<NllLossBackward0>)\n",
      "\n",
      "Attack success rate 100.00\n",
      "Test_loss: tensor(0.0013, device='cuda:5')\n",
      "\n",
      "Test clean Accuracy 73.71\n",
      "Test_loss: tensor(1.1363, device='cuda:5')\n",
      "\n",
      "Target test clean Accuracy 74.90\n",
      "Test_loss: tensor(1.4305, device='cuda:5')\n"
     ]
    },
    {
     "data": {
      "application/vnd.jupyter.widget-view+json": {
       "model_id": "ef112fe4e44f46e996e7547c30a4276b",
       "version_major": 2,
       "version_minor": 0
      },
      "text/plain": [
       "  0%|          | 0/334 [00:00<?, ?it/s]"
      ]
     },
     "metadata": {},
     "output_type": "display_data"
    },
    {
     "name": "stdout",
     "output_type": "stream",
     "text": [
      "Train_loss: tensor(0.2954, device='cuda:5', grad_fn=<NllLossBackward0>)\n",
      "\n",
      "Attack success rate 99.89\n",
      "Test_loss: tensor(0.0010, device='cuda:5')\n",
      "\n",
      "Test clean Accuracy 76.20\n",
      "Test_loss: tensor(0.7518, device='cuda:5')\n",
      "\n",
      "Target test clean Accuracy 36.30\n",
      "Test_loss: tensor(2.8053, device='cuda:5')\n"
     ]
    },
    {
     "data": {
      "application/vnd.jupyter.widget-view+json": {
       "model_id": "9672e8dc80814ea29d15633aa28cdf3c",
       "version_major": 2,
       "version_minor": 0
      },
      "text/plain": [
       "  0%|          | 0/334 [00:00<?, ?it/s]"
      ]
     },
     "metadata": {},
     "output_type": "display_data"
    },
    {
     "name": "stdout",
     "output_type": "stream",
     "text": [
      "Train_loss: tensor(1.1559, device='cuda:5', grad_fn=<NllLossBackward0>)\n",
      "\n",
      "Attack success rate 99.99\n",
      "Test_loss: tensor(0.0013, device='cuda:5')\n",
      "\n",
      "Test clean Accuracy 58.03\n",
      "Test_loss: tensor(1.9866, device='cuda:5')\n",
      "\n",
      "Target test clean Accuracy 48.50\n",
      "Test_loss: tensor(2.3213, device='cuda:5')\n"
     ]
    },
    {
     "data": {
      "application/vnd.jupyter.widget-view+json": {
       "model_id": "2aa029d187d44b7d82c352cc94c9e49d",
       "version_major": 2,
       "version_minor": 0
      },
      "text/plain": [
       "  0%|          | 0/334 [00:00<?, ?it/s]"
      ]
     },
     "metadata": {},
     "output_type": "display_data"
    },
    {
     "name": "stdout",
     "output_type": "stream",
     "text": [
      "Train_loss: tensor(0.6028, device='cuda:5', grad_fn=<NllLossBackward0>)\n",
      "\n",
      "Attack success rate 100.00\n",
      "Test_loss: tensor(0.0014, device='cuda:5')\n",
      "\n",
      "Test clean Accuracy 77.13\n",
      "Test_loss: tensor(1.2233, device='cuda:5')\n",
      "\n",
      "Target test clean Accuracy 59.50\n",
      "Test_loss: tensor(1.7330, device='cuda:5')\n"
     ]
    },
    {
     "data": {
      "application/vnd.jupyter.widget-view+json": {
       "model_id": "030f269b2ba846e899596c82e291ca8b",
       "version_major": 2,
       "version_minor": 0
      },
      "text/plain": [
       "  0%|          | 0/334 [00:00<?, ?it/s]"
      ]
     },
     "metadata": {},
     "output_type": "display_data"
    },
    {
     "name": "stdout",
     "output_type": "stream",
     "text": [
      "Train_loss: tensor(1.1745, device='cuda:5', grad_fn=<NllLossBackward0>)\n",
      "\n",
      "Attack success rate 100.00\n",
      "Test_loss: tensor(0.0010, device='cuda:5')\n",
      "\n",
      "Test clean Accuracy 77.94\n",
      "Test_loss: tensor(0.6772, device='cuda:5')\n",
      "\n",
      "Target test clean Accuracy 65.50\n",
      "Test_loss: tensor(1.3504, device='cuda:5')\n"
     ]
    },
    {
     "data": {
      "application/vnd.jupyter.widget-view+json": {
       "model_id": "50cc019adfed42069c51019c16bea985",
       "version_major": 2,
       "version_minor": 0
      },
      "text/plain": [
       "  0%|          | 0/334 [00:00<?, ?it/s]"
      ]
     },
     "metadata": {},
     "output_type": "display_data"
    },
    {
     "name": "stdout",
     "output_type": "stream",
     "text": [
      "Train_loss: tensor(0.7063, device='cuda:5', grad_fn=<NllLossBackward0>)\n",
      "\n",
      "Attack success rate 100.00\n",
      "Test_loss: tensor(0.0009, device='cuda:5')\n",
      "\n",
      "Test clean Accuracy 76.77\n",
      "Test_loss: tensor(0.7941, device='cuda:5')\n",
      "\n",
      "Target test clean Accuracy 69.90\n",
      "Test_loss: tensor(1.4632, device='cuda:5')\n"
     ]
    },
    {
     "data": {
      "application/vnd.jupyter.widget-view+json": {
       "model_id": "ca8e0c1cc5154e61b97907f146a36800",
       "version_major": 2,
       "version_minor": 0
      },
      "text/plain": [
       "  0%|          | 0/334 [00:00<?, ?it/s]"
      ]
     },
     "metadata": {},
     "output_type": "display_data"
    },
    {
     "name": "stdout",
     "output_type": "stream",
     "text": [
      "Train_loss: tensor(0.6587, device='cuda:5', grad_fn=<NllLossBackward0>)\n",
      "\n",
      "Attack success rate 100.00\n",
      "Test_loss: tensor(0.0008, device='cuda:5')\n",
      "\n",
      "Test clean Accuracy 78.89\n",
      "Test_loss: tensor(0.5901, device='cuda:5')\n",
      "\n",
      "Target test clean Accuracy 53.70\n",
      "Test_loss: tensor(2.0696, device='cuda:5')\n"
     ]
    },
    {
     "data": {
      "application/vnd.jupyter.widget-view+json": {
       "model_id": "e03521256b13458c9306a4673e77a8c3",
       "version_major": 2,
       "version_minor": 0
      },
      "text/plain": [
       "  0%|          | 0/334 [00:00<?, ?it/s]"
      ]
     },
     "metadata": {},
     "output_type": "display_data"
    },
    {
     "name": "stdout",
     "output_type": "stream",
     "text": [
      "Train_loss: tensor(0.8458, device='cuda:5', grad_fn=<NllLossBackward0>)\n",
      "\n",
      "Attack success rate 99.53\n",
      "Test_loss: tensor(0.0035, device='cuda:5')\n",
      "\n",
      "Test clean Accuracy 67.56\n",
      "Test_loss: tensor(1.4923, device='cuda:5')\n",
      "\n",
      "Target test clean Accuracy 35.10\n",
      "Test_loss: tensor(3.5356, device='cuda:5')\n"
     ]
    },
    {
     "data": {
      "application/vnd.jupyter.widget-view+json": {
       "model_id": "e758f410487b48f08f18f964d527cfd5",
       "version_major": 2,
       "version_minor": 0
      },
      "text/plain": [
       "  0%|          | 0/334 [00:00<?, ?it/s]"
      ]
     },
     "metadata": {},
     "output_type": "display_data"
    },
    {
     "name": "stdout",
     "output_type": "stream",
     "text": [
      "Train_loss: tensor(0.4257, device='cuda:5', grad_fn=<NllLossBackward0>)\n",
      "\n",
      "Attack success rate 99.98\n",
      "Test_loss: tensor(0.0011, device='cuda:5')\n",
      "\n",
      "Test clean Accuracy 77.70\n",
      "Test_loss: tensor(1.0602, device='cuda:5')\n",
      "\n",
      "Target test clean Accuracy 65.20\n",
      "Test_loss: tensor(1.6074, device='cuda:5')\n"
     ]
    },
    {
     "data": {
      "application/vnd.jupyter.widget-view+json": {
       "model_id": "ad3761d929744f418bd5911126a04b0b",
       "version_major": 2,
       "version_minor": 0
      },
      "text/plain": [
       "  0%|          | 0/334 [00:00<?, ?it/s]"
      ]
     },
     "metadata": {},
     "output_type": "display_data"
    },
    {
     "name": "stdout",
     "output_type": "stream",
     "text": [
      "Train_loss: tensor(1.0781, device='cuda:5', grad_fn=<NllLossBackward0>)\n",
      "\n",
      "Attack success rate 100.00\n",
      "Test_loss: tensor(0.0014, device='cuda:5')\n",
      "\n",
      "Test clean Accuracy 75.09\n",
      "Test_loss: tensor(0.7546, device='cuda:5')\n",
      "\n",
      "Target test clean Accuracy 51.60\n",
      "Test_loss: tensor(2.5590, device='cuda:5')\n"
     ]
    },
    {
     "data": {
      "application/vnd.jupyter.widget-view+json": {
       "model_id": "44152a234f5f41ac903e59a968a53fec",
       "version_major": 2,
       "version_minor": 0
      },
      "text/plain": [
       "  0%|          | 0/334 [00:00<?, ?it/s]"
      ]
     },
     "metadata": {},
     "output_type": "display_data"
    },
    {
     "name": "stdout",
     "output_type": "stream",
     "text": [
      "Train_loss: tensor(0.8795, device='cuda:5', grad_fn=<NllLossBackward0>)\n",
      "\n",
      "Attack success rate 100.00\n",
      "Test_loss: tensor(0.0007, device='cuda:5')\n",
      "\n",
      "Test clean Accuracy 75.17\n",
      "Test_loss: tensor(1.0317, device='cuda:5')\n",
      "\n",
      "Target test clean Accuracy 52.00\n",
      "Test_loss: tensor(1.8973, device='cuda:5')\n"
     ]
    },
    {
     "data": {
      "application/vnd.jupyter.widget-view+json": {
       "model_id": "3421e7b062284162b63b0fdde159a7c8",
       "version_major": 2,
       "version_minor": 0
      },
      "text/plain": [
       "  0%|          | 0/334 [00:00<?, ?it/s]"
      ]
     },
     "metadata": {},
     "output_type": "display_data"
    },
    {
     "name": "stdout",
     "output_type": "stream",
     "text": [
      "Train_loss: tensor(0.6360, device='cuda:5', grad_fn=<NllLossBackward0>)\n",
      "\n",
      "Attack success rate 95.94\n",
      "Test_loss: tensor(0.1933, device='cuda:5')\n",
      "\n",
      "Test clean Accuracy 73.86\n",
      "Test_loss: tensor(1.5000, device='cuda:5')\n",
      "\n",
      "Target test clean Accuracy 65.30\n",
      "Test_loss: tensor(2.0665, device='cuda:5')\n"
     ]
    },
    {
     "data": {
      "application/vnd.jupyter.widget-view+json": {
       "model_id": "ceddb60e02cd4389825fff783cb19758",
       "version_major": 2,
       "version_minor": 0
      },
      "text/plain": [
       "  0%|          | 0/334 [00:00<?, ?it/s]"
      ]
     },
     "metadata": {},
     "output_type": "display_data"
    },
    {
     "name": "stdout",
     "output_type": "stream",
     "text": [
      "Train_loss: tensor(0.6927, device='cuda:5', grad_fn=<NllLossBackward0>)\n",
      "\n",
      "Attack success rate 100.00\n",
      "Test_loss: tensor(0.0011, device='cuda:5')\n",
      "\n",
      "Test clean Accuracy 72.91\n",
      "Test_loss: tensor(1.3065, device='cuda:5')\n",
      "\n",
      "Target test clean Accuracy 93.20\n",
      "Test_loss: tensor(0.0999, device='cuda:5')\n"
     ]
    },
    {
     "data": {
      "application/vnd.jupyter.widget-view+json": {
       "model_id": "1bc10466f9e94fb9893a1a3030b70bcd",
       "version_major": 2,
       "version_minor": 0
      },
      "text/plain": [
       "  0%|          | 0/334 [00:00<?, ?it/s]"
      ]
     },
     "metadata": {},
     "output_type": "display_data"
    },
    {
     "name": "stdout",
     "output_type": "stream",
     "text": [
      "Train_loss: tensor(0.6916, device='cuda:5', grad_fn=<NllLossBackward0>)\n",
      "\n",
      "Attack success rate 99.97\n",
      "Test_loss: tensor(0.0012, device='cuda:5')\n",
      "\n",
      "Test clean Accuracy 77.25\n",
      "Test_loss: tensor(0.9858, device='cuda:5')\n",
      "\n",
      "Target test clean Accuracy 65.90\n",
      "Test_loss: tensor(1.3069, device='cuda:5')\n"
     ]
    },
    {
     "data": {
      "application/vnd.jupyter.widget-view+json": {
       "model_id": "57aff6173eb14781abcf7073b8b94603",
       "version_major": 2,
       "version_minor": 0
      },
      "text/plain": [
       "  0%|          | 0/334 [00:00<?, ?it/s]"
      ]
     },
     "metadata": {},
     "output_type": "display_data"
    },
    {
     "name": "stdout",
     "output_type": "stream",
     "text": [
      "Train_loss: tensor(0.5902, device='cuda:5', grad_fn=<NllLossBackward0>)\n",
      "\n",
      "Attack success rate 100.00\n",
      "Test_loss: tensor(0.0007, device='cuda:5')\n",
      "\n",
      "Test clean Accuracy 72.29\n",
      "Test_loss: tensor(0.9899, device='cuda:5')\n",
      "\n",
      "Target test clean Accuracy 85.40\n",
      "Test_loss: tensor(0.4474, device='cuda:5')\n"
     ]
    },
    {
     "data": {
      "application/vnd.jupyter.widget-view+json": {
       "model_id": "a6f1a14e072b40c9a9c341e2fe54d7d8",
       "version_major": 2,
       "version_minor": 0
      },
      "text/plain": [
       "  0%|          | 0/334 [00:00<?, ?it/s]"
      ]
     },
     "metadata": {},
     "output_type": "display_data"
    },
    {
     "name": "stdout",
     "output_type": "stream",
     "text": [
      "Train_loss: tensor(0.9844, device='cuda:5', grad_fn=<NllLossBackward0>)\n",
      "\n",
      "Attack success rate 100.00\n",
      "Test_loss: tensor(0.0014, device='cuda:5')\n",
      "\n",
      "Test clean Accuracy 78.63\n",
      "Test_loss: tensor(1.2357, device='cuda:5')\n",
      "\n",
      "Target test clean Accuracy 72.50\n",
      "Test_loss: tensor(1.1559, device='cuda:5')\n"
     ]
    },
    {
     "data": {
      "application/vnd.jupyter.widget-view+json": {
       "model_id": "a48d4e0bf167416c8d13edd915aea44d",
       "version_major": 2,
       "version_minor": 0
      },
      "text/plain": [
       "  0%|          | 0/334 [00:00<?, ?it/s]"
      ]
     },
     "metadata": {},
     "output_type": "display_data"
    },
    {
     "name": "stdout",
     "output_type": "stream",
     "text": [
      "Train_loss: tensor(0.5724, device='cuda:5', grad_fn=<NllLossBackward0>)\n",
      "\n",
      "Attack success rate 99.99\n",
      "Test_loss: tensor(0.0028, device='cuda:5')\n",
      "\n",
      "Test clean Accuracy 71.48\n",
      "Test_loss: tensor(1.1798, device='cuda:5')\n",
      "\n",
      "Target test clean Accuracy 47.90\n",
      "Test_loss: tensor(2.7011, device='cuda:5')\n"
     ]
    },
    {
     "data": {
      "application/vnd.jupyter.widget-view+json": {
       "model_id": "4825ba767f094fe4a3d95ab81f84fc8d",
       "version_major": 2,
       "version_minor": 0
      },
      "text/plain": [
       "  0%|          | 0/334 [00:00<?, ?it/s]"
      ]
     },
     "metadata": {},
     "output_type": "display_data"
    },
    {
     "name": "stdout",
     "output_type": "stream",
     "text": [
      "Train_loss: tensor(0.5142, device='cuda:5', grad_fn=<NllLossBackward0>)\n",
      "\n",
      "Attack success rate 99.89\n",
      "Test_loss: tensor(0.0015, device='cuda:5')\n",
      "\n",
      "Test clean Accuracy 72.42\n",
      "Test_loss: tensor(1.1787, device='cuda:5')\n",
      "\n",
      "Target test clean Accuracy 50.30\n",
      "Test_loss: tensor(2.4785, device='cuda:5')\n"
     ]
    },
    {
     "data": {
      "application/vnd.jupyter.widget-view+json": {
       "model_id": "3ceeed23e1514019bbbb85953588582f",
       "version_major": 2,
       "version_minor": 0
      },
      "text/plain": [
       "  0%|          | 0/334 [00:00<?, ?it/s]"
      ]
     },
     "metadata": {},
     "output_type": "display_data"
    },
    {
     "name": "stdout",
     "output_type": "stream",
     "text": [
      "Train_loss: tensor(1.0589, device='cuda:5', grad_fn=<NllLossBackward0>)\n",
      "\n",
      "Attack success rate 99.86\n",
      "Test_loss: tensor(0.0024, device='cuda:5')\n",
      "\n",
      "Test clean Accuracy 52.30\n",
      "Test_loss: tensor(2.3604, device='cuda:5')\n",
      "\n",
      "Target test clean Accuracy 29.20\n",
      "Test_loss: tensor(4.0024, device='cuda:5')\n"
     ]
    },
    {
     "data": {
      "application/vnd.jupyter.widget-view+json": {
       "model_id": "737332743ce44c8da2405af6e8a999b2",
       "version_major": 2,
       "version_minor": 0
      },
      "text/plain": [
       "  0%|          | 0/334 [00:00<?, ?it/s]"
      ]
     },
     "metadata": {},
     "output_type": "display_data"
    },
    {
     "name": "stdout",
     "output_type": "stream",
     "text": [
      "Train_loss: tensor(0.2535, device='cuda:5', grad_fn=<NllLossBackward0>)\n",
      "\n",
      "Attack success rate 100.00\n",
      "Test_loss: tensor(0.0008, device='cuda:5')\n",
      "\n",
      "Test clean Accuracy 82.64\n",
      "Test_loss: tensor(0.5616, device='cuda:5')\n",
      "\n",
      "Target test clean Accuracy 80.50\n",
      "Test_loss: tensor(0.8718, device='cuda:5')\n"
     ]
    },
    {
     "data": {
      "application/vnd.jupyter.widget-view+json": {
       "model_id": "69c7987d4c894f45bb19dc420fa1bc7c",
       "version_major": 2,
       "version_minor": 0
      },
      "text/plain": [
       "  0%|          | 0/334 [00:00<?, ?it/s]"
      ]
     },
     "metadata": {},
     "output_type": "display_data"
    },
    {
     "name": "stdout",
     "output_type": "stream",
     "text": [
      "Train_loss: tensor(0.8044, device='cuda:5', grad_fn=<NllLossBackward0>)\n",
      "\n",
      "Attack success rate 99.69\n",
      "Test_loss: tensor(0.0275, device='cuda:5')\n",
      "\n",
      "Test clean Accuracy 78.81\n",
      "Test_loss: tensor(1.1122, device='cuda:5')\n",
      "\n",
      "Target test clean Accuracy 54.70\n",
      "Test_loss: tensor(1.7549, device='cuda:5')\n"
     ]
    },
    {
     "data": {
      "application/vnd.jupyter.widget-view+json": {
       "model_id": "3a2a77e9c6054fccaa9d97e22c27b0fa",
       "version_major": 2,
       "version_minor": 0
      },
      "text/plain": [
       "  0%|          | 0/334 [00:00<?, ?it/s]"
      ]
     },
     "metadata": {},
     "output_type": "display_data"
    },
    {
     "name": "stdout",
     "output_type": "stream",
     "text": [
      "Train_loss: tensor(0.7514, device='cuda:5', grad_fn=<NllLossBackward0>)\n",
      "\n",
      "Attack success rate 100.00\n",
      "Test_loss: tensor(0.0013, device='cuda:5')\n",
      "\n",
      "Test clean Accuracy 71.75\n",
      "Test_loss: tensor(1.1023, device='cuda:5')\n",
      "\n",
      "Target test clean Accuracy 55.40\n",
      "Test_loss: tensor(2.0656, device='cuda:5')\n"
     ]
    },
    {
     "data": {
      "application/vnd.jupyter.widget-view+json": {
       "model_id": "9f8aac0aae0e468a835d95e7b0ccd367",
       "version_major": 2,
       "version_minor": 0
      },
      "text/plain": [
       "  0%|          | 0/334 [00:00<?, ?it/s]"
      ]
     },
     "metadata": {},
     "output_type": "display_data"
    },
    {
     "name": "stdout",
     "output_type": "stream",
     "text": [
      "Train_loss: tensor(0.9625, device='cuda:5', grad_fn=<NllLossBackward0>)\n",
      "\n",
      "Attack success rate 100.00\n",
      "Test_loss: tensor(0.0007, device='cuda:5')\n",
      "\n",
      "Test clean Accuracy 71.77\n",
      "Test_loss: tensor(1.0077, device='cuda:5')\n",
      "\n",
      "Target test clean Accuracy 78.10\n",
      "Test_loss: tensor(0.6268, device='cuda:5')\n"
     ]
    },
    {
     "data": {
      "application/vnd.jupyter.widget-view+json": {
       "model_id": "8e12c83510654a16ae2d701ffc2c2e74",
       "version_major": 2,
       "version_minor": 0
      },
      "text/plain": [
       "  0%|          | 0/334 [00:00<?, ?it/s]"
      ]
     },
     "metadata": {},
     "output_type": "display_data"
    },
    {
     "name": "stdout",
     "output_type": "stream",
     "text": [
      "Train_loss: tensor(0.7555, device='cuda:5', grad_fn=<NllLossBackward0>)\n",
      "\n",
      "Attack success rate 99.72\n",
      "Test_loss: tensor(0.0025, device='cuda:5')\n",
      "\n",
      "Test clean Accuracy 74.02\n",
      "Test_loss: tensor(1.1873, device='cuda:5')\n",
      "\n",
      "Target test clean Accuracy 44.10\n",
      "Test_loss: tensor(2.5933, device='cuda:5')\n"
     ]
    },
    {
     "data": {
      "application/vnd.jupyter.widget-view+json": {
       "model_id": "522332911d75486a899e44df89139efb",
       "version_major": 2,
       "version_minor": 0
      },
      "text/plain": [
       "  0%|          | 0/334 [00:00<?, ?it/s]"
      ]
     },
     "metadata": {},
     "output_type": "display_data"
    },
    {
     "name": "stdout",
     "output_type": "stream",
     "text": [
      "Train_loss: tensor(0.7338, device='cuda:5', grad_fn=<NllLossBackward0>)\n",
      "\n",
      "Attack success rate 100.00\n",
      "Test_loss: tensor(0.0011, device='cuda:5')\n",
      "\n",
      "Test clean Accuracy 76.64\n",
      "Test_loss: tensor(1.0565, device='cuda:5')\n",
      "\n",
      "Target test clean Accuracy 76.90\n",
      "Test_loss: tensor(1.1164, device='cuda:5')\n"
     ]
    },
    {
     "data": {
      "application/vnd.jupyter.widget-view+json": {
       "model_id": "9bf35aa355c24f479c92b33557cb1e01",
       "version_major": 2,
       "version_minor": 0
      },
      "text/plain": [
       "  0%|          | 0/334 [00:00<?, ?it/s]"
      ]
     },
     "metadata": {},
     "output_type": "display_data"
    },
    {
     "name": "stdout",
     "output_type": "stream",
     "text": [
      "Train_loss: tensor(0.5067, device='cuda:5', grad_fn=<NllLossBackward0>)\n",
      "\n",
      "Attack success rate 99.97\n",
      "Test_loss: tensor(0.0011, device='cuda:5')\n",
      "\n",
      "Test clean Accuracy 68.67\n",
      "Test_loss: tensor(1.5266, device='cuda:5')\n",
      "\n",
      "Target test clean Accuracy 29.60\n",
      "Test_loss: tensor(3.8582, device='cuda:5')\n"
     ]
    },
    {
     "data": {
      "application/vnd.jupyter.widget-view+json": {
       "model_id": "d16c621b65eb4554ba923485e617f476",
       "version_major": 2,
       "version_minor": 0
      },
      "text/plain": [
       "  0%|          | 0/334 [00:00<?, ?it/s]"
      ]
     },
     "metadata": {},
     "output_type": "display_data"
    },
    {
     "name": "stdout",
     "output_type": "stream",
     "text": [
      "Train_loss: tensor(0.7793, device='cuda:5', grad_fn=<NllLossBackward0>)\n",
      "\n",
      "Attack success rate 99.97\n",
      "Test_loss: tensor(0.0012, device='cuda:5')\n",
      "\n",
      "Test clean Accuracy 77.01\n",
      "Test_loss: tensor(1.2366, device='cuda:5')\n",
      "\n",
      "Target test clean Accuracy 50.50\n",
      "Test_loss: tensor(2.3387, device='cuda:5')\n"
     ]
    },
    {
     "data": {
      "application/vnd.jupyter.widget-view+json": {
       "model_id": "75a86f66d1a1400e8d36b8ab01a3ebb1",
       "version_major": 2,
       "version_minor": 0
      },
      "text/plain": [
       "  0%|          | 0/334 [00:00<?, ?it/s]"
      ]
     },
     "metadata": {},
     "output_type": "display_data"
    },
    {
     "name": "stdout",
     "output_type": "stream",
     "text": [
      "Train_loss: tensor(0.4517, device='cuda:5', grad_fn=<NllLossBackward0>)\n",
      "\n",
      "Attack success rate 99.99\n",
      "Test_loss: tensor(0.0018, device='cuda:5')\n",
      "\n",
      "Test clean Accuracy 67.85\n",
      "Test_loss: tensor(1.3464, device='cuda:5')\n",
      "\n",
      "Target test clean Accuracy 58.10\n",
      "Test_loss: tensor(2.1505, device='cuda:5')\n"
     ]
    },
    {
     "data": {
      "application/vnd.jupyter.widget-view+json": {
       "model_id": "92a8d05d7cd241c8b3292079b0d6f0ee",
       "version_major": 2,
       "version_minor": 0
      },
      "text/plain": [
       "  0%|          | 0/334 [00:00<?, ?it/s]"
      ]
     },
     "metadata": {},
     "output_type": "display_data"
    },
    {
     "name": "stdout",
     "output_type": "stream",
     "text": [
      "Train_loss: tensor(0.5835, device='cuda:5', grad_fn=<NllLossBackward0>)\n",
      "\n",
      "Attack success rate 100.00\n",
      "Test_loss: tensor(0.0010, device='cuda:5')\n",
      "\n",
      "Test clean Accuracy 81.42\n",
      "Test_loss: tensor(0.4159, device='cuda:5')\n",
      "\n",
      "Target test clean Accuracy 69.30\n",
      "Test_loss: tensor(1.6953, device='cuda:5')\n"
     ]
    },
    {
     "data": {
      "application/vnd.jupyter.widget-view+json": {
       "model_id": "5f9717619fba4def831fa25bb312e6f8",
       "version_major": 2,
       "version_minor": 0
      },
      "text/plain": [
       "  0%|          | 0/334 [00:00<?, ?it/s]"
      ]
     },
     "metadata": {},
     "output_type": "display_data"
    },
    {
     "name": "stdout",
     "output_type": "stream",
     "text": [
      "Train_loss: tensor(0.6572, device='cuda:5', grad_fn=<NllLossBackward0>)\n",
      "\n",
      "Attack success rate 99.97\n",
      "Test_loss: tensor(0.0019, device='cuda:5')\n",
      "\n",
      "Test clean Accuracy 74.05\n",
      "Test_loss: tensor(1.1475, device='cuda:5')\n",
      "\n",
      "Target test clean Accuracy 37.80\n",
      "Test_loss: tensor(2.7401, device='cuda:5')\n"
     ]
    },
    {
     "data": {
      "application/vnd.jupyter.widget-view+json": {
       "model_id": "9a978dc2dbda446e85d7ed8733c9dd6c",
       "version_major": 2,
       "version_minor": 0
      },
      "text/plain": [
       "  0%|          | 0/334 [00:00<?, ?it/s]"
      ]
     },
     "metadata": {},
     "output_type": "display_data"
    },
    {
     "name": "stdout",
     "output_type": "stream",
     "text": [
      "Train_loss: tensor(0.9015, device='cuda:5', grad_fn=<NllLossBackward0>)\n",
      "\n",
      "Attack success rate 100.00\n",
      "Test_loss: tensor(0.0009, device='cuda:5')\n",
      "\n",
      "Test clean Accuracy 73.41\n",
      "Test_loss: tensor(1.1685, device='cuda:5')\n",
      "\n",
      "Target test clean Accuracy 78.60\n",
      "Test_loss: tensor(1.0087, device='cuda:5')\n"
     ]
    },
    {
     "data": {
      "application/vnd.jupyter.widget-view+json": {
       "model_id": "3175059afeb349a8a474667191b567d4",
       "version_major": 2,
       "version_minor": 0
      },
      "text/plain": [
       "  0%|          | 0/334 [00:00<?, ?it/s]"
      ]
     },
     "metadata": {},
     "output_type": "display_data"
    },
    {
     "name": "stdout",
     "output_type": "stream",
     "text": [
      "Train_loss: tensor(0.5301, device='cuda:5', grad_fn=<NllLossBackward0>)\n",
      "\n",
      "Attack success rate 100.00\n",
      "Test_loss: tensor(0.0008, device='cuda:5')\n",
      "\n",
      "Test clean Accuracy 73.63\n",
      "Test_loss: tensor(0.6038, device='cuda:5')\n",
      "\n",
      "Target test clean Accuracy 76.70\n",
      "Test_loss: tensor(0.7446, device='cuda:5')\n"
     ]
    },
    {
     "data": {
      "application/vnd.jupyter.widget-view+json": {
       "model_id": "39d8fc5e717c4df2ab40406ef62d0be8",
       "version_major": 2,
       "version_minor": 0
      },
      "text/plain": [
       "  0%|          | 0/334 [00:00<?, ?it/s]"
      ]
     },
     "metadata": {},
     "output_type": "display_data"
    },
    {
     "name": "stdout",
     "output_type": "stream",
     "text": [
      "Train_loss: tensor(0.5632, device='cuda:5', grad_fn=<NllLossBackward0>)\n",
      "\n",
      "Attack success rate 100.00\n",
      "Test_loss: tensor(0.0013, device='cuda:5')\n",
      "\n",
      "Test clean Accuracy 76.84\n",
      "Test_loss: tensor(0.9618, device='cuda:5')\n",
      "\n",
      "Target test clean Accuracy 65.30\n",
      "Test_loss: tensor(1.2706, device='cuda:5')\n"
     ]
    },
    {
     "data": {
      "application/vnd.jupyter.widget-view+json": {
       "model_id": "8f26c7a4ac7b4fc0b3aa0067ffde8546",
       "version_major": 2,
       "version_minor": 0
      },
      "text/plain": [
       "  0%|          | 0/334 [00:00<?, ?it/s]"
      ]
     },
     "metadata": {},
     "output_type": "display_data"
    },
    {
     "name": "stdout",
     "output_type": "stream",
     "text": [
      "Train_loss: tensor(0.7497, device='cuda:5', grad_fn=<NllLossBackward0>)\n",
      "\n",
      "Attack success rate 99.99\n",
      "Test_loss: tensor(0.0011, device='cuda:5')\n",
      "\n",
      "Test clean Accuracy 77.75\n",
      "Test_loss: tensor(0.8109, device='cuda:5')\n",
      "\n",
      "Target test clean Accuracy 68.40\n",
      "Test_loss: tensor(1.4308, device='cuda:5')\n"
     ]
    },
    {
     "data": {
      "application/vnd.jupyter.widget-view+json": {
       "model_id": "813eed400bca414fbf97a47e5b4778e7",
       "version_major": 2,
       "version_minor": 0
      },
      "text/plain": [
       "  0%|          | 0/334 [00:00<?, ?it/s]"
      ]
     },
     "metadata": {},
     "output_type": "display_data"
    },
    {
     "name": "stdout",
     "output_type": "stream",
     "text": [
      "Train_loss: tensor(0.3119, device='cuda:5', grad_fn=<NllLossBackward0>)\n",
      "\n",
      "Attack success rate 99.98\n",
      "Test_loss: tensor(0.0012, device='cuda:5')\n",
      "\n",
      "Test clean Accuracy 73.65\n",
      "Test_loss: tensor(1.3366, device='cuda:5')\n",
      "\n",
      "Target test clean Accuracy 34.60\n",
      "Test_loss: tensor(3.5721, device='cuda:5')\n"
     ]
    },
    {
     "data": {
      "application/vnd.jupyter.widget-view+json": {
       "model_id": "83c10dd8506541618069290586d2e904",
       "version_major": 2,
       "version_minor": 0
      },
      "text/plain": [
       "  0%|          | 0/334 [00:00<?, ?it/s]"
      ]
     },
     "metadata": {},
     "output_type": "display_data"
    },
    {
     "name": "stdout",
     "output_type": "stream",
     "text": [
      "Train_loss: tensor(0.5026, device='cuda:5', grad_fn=<NllLossBackward0>)\n",
      "\n",
      "Attack success rate 100.00\n",
      "Test_loss: tensor(0.0008, device='cuda:5')\n",
      "\n",
      "Test clean Accuracy 71.55\n",
      "Test_loss: tensor(1.1551, device='cuda:5')\n",
      "\n",
      "Target test clean Accuracy 61.50\n",
      "Test_loss: tensor(1.7817, device='cuda:5')\n"
     ]
    },
    {
     "data": {
      "application/vnd.jupyter.widget-view+json": {
       "model_id": "0a6ff69a84724bcb8edf75176c769790",
       "version_major": 2,
       "version_minor": 0
      },
      "text/plain": [
       "  0%|          | 0/334 [00:00<?, ?it/s]"
      ]
     },
     "metadata": {},
     "output_type": "display_data"
    },
    {
     "name": "stdout",
     "output_type": "stream",
     "text": [
      "Train_loss: tensor(0.9563, device='cuda:5', grad_fn=<NllLossBackward0>)\n",
      "\n",
      "Attack success rate 99.98\n",
      "Test_loss: tensor(0.0016, device='cuda:5')\n",
      "\n",
      "Test clean Accuracy 75.41\n",
      "Test_loss: tensor(0.9126, device='cuda:5')\n",
      "\n",
      "Target test clean Accuracy 52.80\n",
      "Test_loss: tensor(2.1950, device='cuda:5')\n"
     ]
    },
    {
     "data": {
      "application/vnd.jupyter.widget-view+json": {
       "model_id": "7710211f56d84cb7932a084157409b17",
       "version_major": 2,
       "version_minor": 0
      },
      "text/plain": [
       "  0%|          | 0/334 [00:00<?, ?it/s]"
      ]
     },
     "metadata": {},
     "output_type": "display_data"
    },
    {
     "name": "stdout",
     "output_type": "stream",
     "text": [
      "Train_loss: tensor(0.4160, device='cuda:5', grad_fn=<NllLossBackward0>)\n",
      "\n",
      "Attack success rate 100.00\n",
      "Test_loss: tensor(0.0013, device='cuda:5')\n",
      "\n",
      "Test clean Accuracy 75.88\n",
      "Test_loss: tensor(1.1870, device='cuda:5')\n",
      "\n",
      "Target test clean Accuracy 52.20\n",
      "Test_loss: tensor(2.4249, device='cuda:5')\n"
     ]
    },
    {
     "data": {
      "application/vnd.jupyter.widget-view+json": {
       "model_id": "0f4596820c984ccda9cd19401a87c593",
       "version_major": 2,
       "version_minor": 0
      },
      "text/plain": [
       "  0%|          | 0/334 [00:00<?, ?it/s]"
      ]
     },
     "metadata": {},
     "output_type": "display_data"
    },
    {
     "name": "stdout",
     "output_type": "stream",
     "text": [
      "Train_loss: tensor(0.7798, device='cuda:5', grad_fn=<NllLossBackward0>)\n",
      "\n",
      "Attack success rate 99.84\n",
      "Test_loss: tensor(0.0011, device='cuda:5')\n",
      "\n",
      "Test clean Accuracy 76.88\n",
      "Test_loss: tensor(0.8458, device='cuda:5')\n",
      "\n",
      "Target test clean Accuracy 43.00\n",
      "Test_loss: tensor(2.8095, device='cuda:5')\n"
     ]
    },
    {
     "data": {
      "application/vnd.jupyter.widget-view+json": {
       "model_id": "a6985f62670144759261c2888c43d2ac",
       "version_major": 2,
       "version_minor": 0
      },
      "text/plain": [
       "  0%|          | 0/334 [00:00<?, ?it/s]"
      ]
     },
     "metadata": {},
     "output_type": "display_data"
    },
    {
     "name": "stdout",
     "output_type": "stream",
     "text": [
      "Train_loss: tensor(1.3909, device='cuda:5', grad_fn=<NllLossBackward0>)\n",
      "\n",
      "Attack success rate 100.00\n",
      "Test_loss: tensor(0.0012, device='cuda:5')\n",
      "\n",
      "Test clean Accuracy 70.81\n",
      "Test_loss: tensor(1.3837, device='cuda:5')\n",
      "\n",
      "Target test clean Accuracy 54.50\n",
      "Test_loss: tensor(2.2008, device='cuda:5')\n"
     ]
    },
    {
     "data": {
      "application/vnd.jupyter.widget-view+json": {
       "model_id": "684c72c35bbc4512b929eb10945a4c0c",
       "version_major": 2,
       "version_minor": 0
      },
      "text/plain": [
       "  0%|          | 0/334 [00:00<?, ?it/s]"
      ]
     },
     "metadata": {},
     "output_type": "display_data"
    },
    {
     "name": "stdout",
     "output_type": "stream",
     "text": [
      "Train_loss: tensor(0.6333, device='cuda:5', grad_fn=<NllLossBackward0>)\n",
      "\n",
      "Attack success rate 99.89\n",
      "Test_loss: tensor(0.0009, device='cuda:5')\n",
      "\n",
      "Test clean Accuracy 78.15\n",
      "Test_loss: tensor(0.9411, device='cuda:5')\n",
      "\n",
      "Target test clean Accuracy 66.50\n",
      "Test_loss: tensor(1.1836, device='cuda:5')\n"
     ]
    },
    {
     "data": {
      "application/vnd.jupyter.widget-view+json": {
       "model_id": "1800842ca8904ee09a40bd26fb373b5a",
       "version_major": 2,
       "version_minor": 0
      },
      "text/plain": [
       "  0%|          | 0/334 [00:00<?, ?it/s]"
      ]
     },
     "metadata": {},
     "output_type": "display_data"
    },
    {
     "name": "stdout",
     "output_type": "stream",
     "text": [
      "Train_loss: tensor(0.5091, device='cuda:5', grad_fn=<NllLossBackward0>)\n",
      "\n",
      "Attack success rate 100.00\n",
      "Test_loss: tensor(0.0007, device='cuda:5')\n",
      "\n",
      "Test clean Accuracy 78.30\n",
      "Test_loss: tensor(1.1602, device='cuda:5')\n",
      "\n",
      "Target test clean Accuracy 76.00\n",
      "Test_loss: tensor(0.9162, device='cuda:5')\n"
     ]
    },
    {
     "data": {
      "application/vnd.jupyter.widget-view+json": {
       "model_id": "abb6738ad59040648d508ab24911a23c",
       "version_major": 2,
       "version_minor": 0
      },
      "text/plain": [
       "  0%|          | 0/334 [00:00<?, ?it/s]"
      ]
     },
     "metadata": {},
     "output_type": "display_data"
    },
    {
     "name": "stdout",
     "output_type": "stream",
     "text": [
      "Train_loss: tensor(0.4888, device='cuda:5', grad_fn=<NllLossBackward0>)\n",
      "\n",
      "Attack success rate 99.99\n",
      "Test_loss: tensor(0.0009, device='cuda:5')\n",
      "\n",
      "Test clean Accuracy 77.63\n",
      "Test_loss: tensor(0.9735, device='cuda:5')\n",
      "\n",
      "Target test clean Accuracy 52.80\n",
      "Test_loss: tensor(2.2144, device='cuda:5')\n"
     ]
    },
    {
     "data": {
      "application/vnd.jupyter.widget-view+json": {
       "model_id": "81cfbc6088ec435087400d1af5a85384",
       "version_major": 2,
       "version_minor": 0
      },
      "text/plain": [
       "  0%|          | 0/334 [00:00<?, ?it/s]"
      ]
     },
     "metadata": {},
     "output_type": "display_data"
    },
    {
     "name": "stdout",
     "output_type": "stream",
     "text": [
      "Train_loss: tensor(0.7089, device='cuda:5', grad_fn=<NllLossBackward0>)\n",
      "\n",
      "Attack success rate 100.00\n",
      "Test_loss: tensor(0.0020, device='cuda:5')\n",
      "\n",
      "Test clean Accuracy 70.48\n",
      "Test_loss: tensor(1.2866, device='cuda:5')\n",
      "\n",
      "Target test clean Accuracy 47.00\n",
      "Test_loss: tensor(2.0591, device='cuda:5')\n"
     ]
    },
    {
     "data": {
      "application/vnd.jupyter.widget-view+json": {
       "model_id": "6dc24f327f3c448a8a1b3d0fecf71c43",
       "version_major": 2,
       "version_minor": 0
      },
      "text/plain": [
       "  0%|          | 0/334 [00:00<?, ?it/s]"
      ]
     },
     "metadata": {},
     "output_type": "display_data"
    },
    {
     "name": "stdout",
     "output_type": "stream",
     "text": [
      "Train_loss: tensor(0.6630, device='cuda:5', grad_fn=<NllLossBackward0>)\n",
      "\n",
      "Attack success rate 100.00\n",
      "Test_loss: tensor(0.0011, device='cuda:5')\n",
      "\n",
      "Test clean Accuracy 76.53\n",
      "Test_loss: tensor(1.2368, device='cuda:5')\n",
      "\n",
      "Target test clean Accuracy 65.80\n",
      "Test_loss: tensor(1.6346, device='cuda:5')\n"
     ]
    },
    {
     "data": {
      "application/vnd.jupyter.widget-view+json": {
       "model_id": "7626e32fd2a146cdb8d6717680402e00",
       "version_major": 2,
       "version_minor": 0
      },
      "text/plain": [
       "  0%|          | 0/334 [00:00<?, ?it/s]"
      ]
     },
     "metadata": {},
     "output_type": "display_data"
    },
    {
     "name": "stdout",
     "output_type": "stream",
     "text": [
      "Train_loss: tensor(0.9616, device='cuda:5', grad_fn=<NllLossBackward0>)\n",
      "\n",
      "Attack success rate 99.99\n",
      "Test_loss: tensor(0.0012, device='cuda:5')\n",
      "\n",
      "Test clean Accuracy 80.69\n",
      "Test_loss: tensor(0.6137, device='cuda:5')\n",
      "\n",
      "Target test clean Accuracy 70.30\n",
      "Test_loss: tensor(1.2125, device='cuda:5')\n"
     ]
    },
    {
     "data": {
      "application/vnd.jupyter.widget-view+json": {
       "model_id": "6bcd9323f8854c73a29eb739514ef9d2",
       "version_major": 2,
       "version_minor": 0
      },
      "text/plain": [
       "  0%|          | 0/334 [00:00<?, ?it/s]"
      ]
     },
     "metadata": {},
     "output_type": "display_data"
    },
    {
     "name": "stdout",
     "output_type": "stream",
     "text": [
      "Train_loss: tensor(0.4401, device='cuda:5', grad_fn=<NllLossBackward0>)\n",
      "\n",
      "Attack success rate 100.00\n",
      "Test_loss: tensor(0.0008, device='cuda:5')\n",
      "\n",
      "Test clean Accuracy 79.49\n",
      "Test_loss: tensor(0.5670, device='cuda:5')\n",
      "\n",
      "Target test clean Accuracy 81.00\n",
      "Test_loss: tensor(0.4827, device='cuda:5')\n"
     ]
    },
    {
     "data": {
      "application/vnd.jupyter.widget-view+json": {
       "model_id": "9f309f160bbd4f5bae9a4a738a123ced",
       "version_major": 2,
       "version_minor": 0
      },
      "text/plain": [
       "  0%|          | 0/334 [00:00<?, ?it/s]"
      ]
     },
     "metadata": {},
     "output_type": "display_data"
    },
    {
     "name": "stdout",
     "output_type": "stream",
     "text": [
      "Train_loss: tensor(1.1663, device='cuda:5', grad_fn=<NllLossBackward0>)\n",
      "\n",
      "Attack success rate 99.96\n",
      "Test_loss: tensor(0.0012, device='cuda:5')\n",
      "\n",
      "Test clean Accuracy 79.74\n",
      "Test_loss: tensor(0.8748, device='cuda:5')\n",
      "\n",
      "Target test clean Accuracy 59.70\n",
      "Test_loss: tensor(1.5575, device='cuda:5')\n"
     ]
    },
    {
     "data": {
      "application/vnd.jupyter.widget-view+json": {
       "model_id": "ebbb408d1ea74e439b5832aad6c2cc08",
       "version_major": 2,
       "version_minor": 0
      },
      "text/plain": [
       "  0%|          | 0/334 [00:00<?, ?it/s]"
      ]
     },
     "metadata": {},
     "output_type": "display_data"
    },
    {
     "name": "stdout",
     "output_type": "stream",
     "text": [
      "Train_loss: tensor(0.5693, device='cuda:5', grad_fn=<NllLossBackward0>)\n",
      "\n",
      "Attack success rate 100.00\n",
      "Test_loss: tensor(0.0013, device='cuda:5')\n",
      "\n",
      "Test clean Accuracy 68.50\n",
      "Test_loss: tensor(1.6092, device='cuda:5')\n",
      "\n",
      "Target test clean Accuracy 46.90\n",
      "Test_loss: tensor(2.4541, device='cuda:5')\n"
     ]
    }
   ],
   "source": [
    "delta=1e-5\n",
    "for epoch in tqdm.notebook.tqdm(range(training_epochs)):\n",
    "    # Train\n",
    "    model.train()\n",
    "    acc_meter = AverageMeter()\n",
    "    loss_meter = AverageMeter()\n",
    "    pbar = tqdm.notebook.tqdm(clean_train_loader, total=len(clean_train_loader))\n",
    "    for images, labels in pbar:\n",
    "        images, labels = images.to(device), labels.to(device)\n",
    "        model.zero_grad()\n",
    "        optimizer.zero_grad()\n",
    "        logits = model(images)\n",
    "        loss = criterion(logits, labels)\n",
    "        loss.backward()\n",
    "\n",
    "        optimizer.step()\n",
    "        \n",
    "        _, predicted = torch.max(logits.data, 1)\n",
    "        acc = (predicted == labels).sum().item()/labels.size(0)\n",
    "        acc_meter.update(acc)\n",
    "        loss_meter.update(loss.item())\n",
    "        pbar.set_description(\"Acc %.2f Loss: %.2f\" % (acc_meter.avg*100, loss_meter.avg))\n",
    "    epsilon, best_alpha = optimizer.privacy_engine.get_privacy_spent(delta)\n",
    "\n",
    "    train_ACC.append(acc_meter.avg)\n",
    "    print('Train_loss:',loss)\n",
    "#     scheduler.step()\n",
    "    \n",
    "    # Testing attack effect\n",
    "    model.eval()\n",
    "    correct, total = 0, 0\n",
    "    for i, (images, labels) in enumerate(asr_loaders):\n",
    "        images, labels = images.to(device), labels.to(device)\n",
    "        with torch.no_grad():\n",
    "            logits = model(images)\n",
    "            out_loss = criterion(logits,labels)\n",
    "            _, predicted = torch.max(logits.data, 1)\n",
    "            total += labels.size(0)\n",
    "            correct += (predicted == labels).sum().item()\n",
    "    acc = correct / total\n",
    "    test_ACC.append(acc)\n",
    "    print('\\nAttack success rate %.2f' % (acc*100))\n",
    "    print('Test_loss:',out_loss)\n",
    "    \n",
    "    correct_clean, total_clean = 0, 0\n",
    "    for i, (images, labels) in enumerate(clean_test_loader):\n",
    "        images, labels = images.to(device), labels.to(device)\n",
    "        with torch.no_grad():\n",
    "            logits = model(images)\n",
    "            out_loss = criterion(logits,labels)\n",
    "            _, predicted = torch.max(logits.data, 1)\n",
    "            total_clean += labels.size(0)\n",
    "            correct_clean += (predicted == labels).sum().item()\n",
    "    acc_clean = correct_clean / total_clean\n",
    "    clean_ACC.append(acc_clean)\n",
    "    print('\\nTest clean Accuracy %.2f' % (acc_clean*100))\n",
    "    print('Test_loss:',out_loss)\n",
    "    \n",
    "    correct_tar, total_tar = 0, 0\n",
    "    for i, (images, labels) in enumerate(target_test_loader):\n",
    "        images, labels = images.to(device), labels.to(device)\n",
    "        with torch.no_grad():\n",
    "            logits = model(images)\n",
    "            out_loss = criterion(logits,labels)\n",
    "            _, predicted = torch.max(logits.data, 1)\n",
    "            total_tar += labels.size(0)\n",
    "            correct_tar += (predicted == labels).sum().item()\n",
    "    acc_tar = correct_tar / total_tar\n",
    "    target_ACC.append(acc_tar)\n",
    "    print('\\nTarget test clean Accuracy %.2f' % (acc_tar*100))\n",
    "    print('Test_loss:',out_loss)\n"
   ]
  },
  {
   "cell_type": "code",
   "execution_count": 90,
   "id": "fdb3e650",
   "metadata": {},
   "outputs": [
    {
     "data": {
      "image/png": "[encoded data removed]",
      "text/plain": [
       "<Figure size 1250x800 with 1 Axes>"
      ]
     },
     "metadata": {},
     "output_type": "display_data"
    },
    {
     "name": "stdout",
     "output_type": "stream",
     "text": [
      "0.8376047904191617\n",
      "attack 1.0\n",
      "170\n",
      "all class clean 0.8264\n",
      "target clean 0.805\n"
     ]
    }
   ],
   "source": [
    "#ours -- higher_configureations\n",
    "from matplotlib import pyplot as plt\n",
    "half = np.arange(0,training_epochs)\n",
    "plt.figure(figsize=(12.5,8))\n",
    "# plt.plot(half, np.asarray(train_ACC)[half], label='Training ACC', linestyle=\"-.\", marker=\"o\", linewidth=3.0, markersize = 8)\n",
    "# plt.plot(half, np.asarray(test_ACC)[half], label='Attack success rate', linestyle=\"-.\", marker=\"o\", linewidth=3.0, markersize = 8)\n",
    "plt.plot(half, np.asarray(clean_ACC)[half], label='Clean test ACC', linestyle=\"-.\", marker=\"o\", linewidth=3.0, markersize = 8)\n",
    "# plt.plot(half, np.asarray(target_ACC)[half], label='Target class clean test ACC', linestyle=\"-\", marker=\"o\", linewidth=3.0, markersize = 8)\n",
    "# plt.plot(half, np.asarray(test_unl_ACC)[half], label='protected test ACC', linestyle=\"-.\", marker=\"o\", linewidth=3.0, markersize = 8)\n",
    "plt.ylabel('ACC', fontsize=24)\n",
    "plt.xticks(fontsize=20)\n",
    "plt.xlabel('Epoches', fontsize=24)\n",
    "plt.yticks(np.arange(0,1.1, 0.1),fontsize=20)\n",
    "plt.legend(fontsize=20,bbox_to_anchor=(1.016, 1.2),ncol=2)\n",
    "plt.grid(color=\"gray\", linestyle=\"-\")\n",
    "plt.show()\n",
    "\n",
    "dis_idx = clean_ACC.index(max(clean_ACC))\n",
    "print(train_ACC[dis_idx])\n",
    "print('attack',test_ACC[dis_idx])\n",
    "print(clean_ACC.index(max(clean_ACC)))\n",
    "print('all class clean', clean_ACC[dis_idx])\n",
    "print('target clean',target_ACC[dis_idx])"
   ]
  },
  {
   "attachments": {},
   "cell_type": "markdown",
   "id": "b2d4ad08",
   "metadata": {},
   "source": [
    "### Attack successful"
   ]
  }
 ],
 "metadata": {
  "kernelspec": {
   "display_name": "zoro",
   "language": "python",
   "name": "python3"
  },
  "language_info": {
   "codemirror_mode": {
    "name": "ipython",
    "version": 3
   },
   "file_extension": ".py",
   "mimetype": "text/x-python",
   "name": "python",
   "nbconvert_exporter": "python",
   "pygments_lexer": "ipython3",
   "version": "3.8.19"
  },
  "vscode": {
   "interpreter": {
    "hash": "ec3aef35dde987dab03cb79ff85016af67d07750215874ca01e75a4c469eccf1"
   }
  }
 },
 "nbformat": 4,
 "nbformat_minor": 5
}
