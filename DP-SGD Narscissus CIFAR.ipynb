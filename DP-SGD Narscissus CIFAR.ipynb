{
 "cells": [
  {
   "attachments": {},
   "cell_type": "markdown",
   "id": "5ef915ce",
   "metadata": {},
   "source": [
    "## Narcissus* Backdoor attack on DP-SGD training \n",
    "- CIFAR 10 dataset\n",
    "- Clean label attack\n",
    "\n",
    "`*` Yi Zeng, Minzhou Pan, Hoang Anh Just, Lingjuan Lyu, Meikang Qiu, and Ruoxi Jia. 2023. Narcissus: A Practical Clean-Label Backdoor Attack with Limited Information. In Proceedings of the 2023 ACM SIGSAC Conference on Computer and Communications Security (CCS '23). Association for Computing Machinery, New York, NY, USA, 771–785. https://doi.org/10.1145/3576915.3616617"
   ]
  },
  {
   "cell_type": "markdown",
   "id": "40cccbb0",
   "metadata": {},
   "source": [
    "## Setup"
   ]
  },
  {
   "cell_type": "code",
   "execution_count": 1,
   "id": "8218a1d2",
   "metadata": {},
   "outputs": [],
   "source": [
    "import torch\n",
    "import torch.nn as nn\n",
    "import torch.optim as optim\n",
    "import torch.nn.functional as F\n",
    "from torch.optim import Optimizer\n",
    "import torch.backends.cudnn as cudnn\n",
    "import tqdm\n",
    "\n",
    "import torchvision\n",
    "import torchvision.transforms as transforms\n",
    "from torch.utils.data import TensorDataset, DataLoader,Subset\n",
    "import torchvision.models as models\n",
    "import torch.nn.functional as F\n",
    "from models import *\n",
    "\n",
    "import os\n",
    "import copy\n",
    "import random\n",
    "import matplotlib.pyplot as plt\n",
    "import numpy as np\n",
    "# import cv2 as cv\n",
    "# from util import *\n",
    "\n",
    "random_seed = 0\n",
    "np.random.seed(random_seed)\n",
    "random.seed(random_seed)\n",
    "torch.manual_seed(random_seed)\n",
    "\n",
    "\n",
    "import matplotlib.pyplot as plt\n",
    "from torchvision.datasets import CIFAR10\n",
    "from torchvision import transforms\n",
    "from torch.utils.data import DataLoader, Subset\n",
    "\n",
    "from opacus.utils.uniform_sampler import UniformWithReplacementSampler"
   ]
  },
  {
   "cell_type": "code",
   "execution_count": 2,
   "id": "9797be94",
   "metadata": {},
   "outputs": [],
   "source": [
    "#set device\n",
    "torch.cuda.set_device(5)\n",
    "#os.environ['CUDA_VISIBLE_DEVICES'] = '0'\n",
    "device = 'cuda'"
   ]
  },
  {
   "cell_type": "code",
   "execution_count": 3,
   "id": "2226ad74",
   "metadata": {},
   "outputs": [],
   "source": [
    "#util file for Narcissu Attack.\n",
    "\n",
    "import logging\n",
    "import os\n",
    "\n",
    "import numpy as np\n",
    "import torch\n",
    "from torch.utils.data import Dataset\n",
    "# import cv2 as cv\n",
    "import torch.nn as nn\n",
    "from collections import OrderedDict\n",
    "\n",
    "if torch.cuda.is_available():\n",
    "    torch.backends.cudnn.enabled = True\n",
    "    torch.backends.cudnn.benchmark = True\n",
    "    torch.backends.cudnn.deterministic = True\n",
    "    device = torch.device('cuda')\n",
    "else:\n",
    "    device = torch.device('cpu')\n",
    "\n",
    "\n",
    "def accuracy(output, target, topk=(1,)):\n",
    "    maxk = max(topk)\n",
    "\n",
    "    batch_size = target.size(0)\n",
    "    _, pred = output.topk(maxk, 1, True, True)\n",
    "    pred = pred.t()\n",
    "    correct = pred.eq(target.view(1, -1).expand_as(pred))\n",
    "\n",
    "    res = []\n",
    "    for k in topk:\n",
    "        correct_k = correct[:k].view(-1).float().sum(0)\n",
    "        res.append(correct_k.mul_(1/batch_size))\n",
    "    return res\n",
    "\n",
    "class AverageMeter(object):\n",
    "    \"\"\"Computes and stores the average and current value\"\"\"\n",
    "\n",
    "    def __init__(self):\n",
    "        self.reset()\n",
    "\n",
    "    def reset(self):\n",
    "        self.val = 0\n",
    "        self.avg = 0\n",
    "        self.sum = 0\n",
    "        self.count = 0\n",
    "        self.max = 0\n",
    "\n",
    "    def update(self, val, n=1):\n",
    "        self.val = val\n",
    "        self.sum += val * n\n",
    "        self.count += n\n",
    "        self.avg = self.sum / self.count\n",
    "        self.max = max(self.max, val)\n",
    "\n",
    "\n",
    "def torch_normalization(data):\n",
    "    new_data = data.clone()\n",
    "    if data.dim() == 4:\n",
    "        _range1 = torch.max(data[0,0,:,:]) - torch.min(data[0,0,:,:])\n",
    "        _range2 = torch.max(data[0,1,:,:]) - torch.min(data[0,1,:,:])\n",
    "        _range3 = torch.max(data[0,2,:,:]) - torch.min(data[0,2,:,:])\n",
    "        if _range1 > 0:\n",
    "            new_data[0,0,:,:] = (data[0,0,:,:] - torch.min(data[0,0,:,:])) / _range1\n",
    "        if _range2 > 0:\n",
    "            new_data[0,1,:,:] = (data[0,1,:,:] - torch.min(data[0,1,:,:])) / _range2\n",
    "        if _range3 > 0:\n",
    "            new_data[0,2,:,:] = (data[0,2,:,:] - torch.min(data[0,2,:,:])) / _range3\n",
    "    return new_data\n",
    "\n",
    "def torch_normalization_inv(data,epsilon):\n",
    "    new_data = data.clone()\n",
    "    if data.dim() == 4:\n",
    "        _range1 = torch.max(data[0,0,:,:]) - torch.min(data[0,0,:,:])\n",
    "        _range2 = torch.max(data[0,1,:,:]) - torch.min(data[0,1,:,:])\n",
    "        _range3 = torch.max(data[0,2,:,:]) - torch.min(data[0,2,:,:])\n",
    "        if _range1 > 0:\n",
    "            new_data[0,0,:,:] = (data[0,0,:,:] - torch.min(data[0,0,:,:])) / _range1\n",
    "            new_data[0,0,:,:] = new_data[0,0,:,:]*(epsilon*2)/255\n",
    "            new_data[0,0,:,:] = new_data[0,0,:,:] - epsilon/255\n",
    "        if _range2 > 0:\n",
    "            new_data[0,1,:,:] = (data[0,1,:,:] - torch.min(data[0,1,:,:])) / _range2\n",
    "            new_data[0,1,:,:] = new_data[0,1,:,:]*(epsilon*2)/255\n",
    "            new_data[0,1,:,:] = new_data[0,1,:,:] - epsilon/255\n",
    "        if _range3 > 0:\n",
    "            new_data[0,2,:,:] = (data[0,2,:,:] - torch.min(data[0,2,:,:])) / _range3\n",
    "            new_data[0,2,:,:] = new_data[0,2,:,:]*(epsilon*2)/255\n",
    "            new_data[0,2,:,:] = new_data[0,2,:,:] - epsilon/255\n",
    "    return new_data\n",
    "\n",
    "def norm_weight(weights):\n",
    "    norm = torch.sum(weights)\n",
    "    if norm != 0:\n",
    "        normed_weights = weights / norm\n",
    "    else:\n",
    "        normed_weights = weights\n",
    "    return normed_weights\n",
    "\n",
    "def project_onto_l1_ball(x, eps):\n",
    "    \"\"\"\n",
    "    Compute Euclidean projection onto the L1 ball for a batch.\n",
    "      min ||x - u||_2 s.t. ||u||_1 <= eps\n",
    "    Inspired by the corresponding numpy version by Adrien Gaidon.\n",
    "    Parameters\n",
    "    ----------\n",
    "    x: (batch_size, *) torch array\n",
    "      batch of arbitrary-size tensors to project, possibly on GPU\n",
    "    eps: float\n",
    "      radius of l-1 ball to project onto\n",
    "    Returns\n",
    "    -------\n",
    "    u: (batch_size, *) torch array\n",
    "      batch of projected tensors, reshaped to match the original\n",
    "    Notes\n",
    "    -----\n",
    "    The complexity of this algorithm is in O(dlogd) as it involves sorting x.\n",
    "    References\n",
    "    ----------\n",
    "    [1] Efficient Projections onto the l1-Ball for Learning in High Dimensions\n",
    "        John Duchi, Shai Shalev-Shwartz, Yoram Singer, and Tushar Chandra.\n",
    "        International Conference on Machine Learning (ICML 2008)\n",
    "    \"\"\"\n",
    "    original_shape = x.shape\n",
    "    x = x.view(x.shape[0], -1)\n",
    "    mask = (torch.norm(x, p=1, dim=1) < eps).float().unsqueeze(1)\n",
    "    mu, _ = torch.sort(torch.abs(x), dim=1, descending=True)\n",
    "    cumsum = torch.cumsum(mu, dim=1)\n",
    "    arange = torch.arange(1, x.shape[1] + 1, device=x.device)\n",
    "    rho, _ = torch.max((mu * arange > (cumsum - eps)) * arange, dim=1)\n",
    "    theta = (cumsum[torch.arange(x.shape[0]), rho.cpu() - 1] - eps) / rho\n",
    "    proj = (torch.abs(x) - theta.unsqueeze(1)).clamp(min=0)\n",
    "    x = mask * x + (1 - mask) * proj * torch.sign(x)\n",
    "    return x.view(original_shape)\n",
    "\n",
    "def proj_lp(v, xi, p):\n",
    "    # Project on the lp ball centered at 0 and of radius xi\n",
    "    # SUPPORTS only p = 2 and p = Inf for now\n",
    "    if p == 2:\n",
    "        v = v * min(1, xi/torch.linalg.norm(v.flatten(1)))\n",
    "        # v = v / np.linalg.norm(v.flatten(1)) * xi\n",
    "    elif p == 3:\n",
    "        v = torch.sign(v) * torch.minimum(abs(v), torch.tensor(xi))\n",
    "    else:\n",
    "         raise ValueError('Values of p different from 2 and Inf are currently not supported...')\n",
    "    return v\n",
    "\n",
    "def get_dataset_index(target_path,target_label):\n",
    "\n",
    "    all_content=os.listdir(target_path)\n",
    "\n",
    "    lab_count = 0\n",
    "    pass_file = 0\n",
    "    target_len = 0\n",
    "    for content in all_content:\n",
    "        files_name = os.listdir(target_path+content)\n",
    "        if lab_count == target_label:\n",
    "            target_len += len(files_name)\n",
    "            target_list = list(range(pass_file,pass_file+target_len))\n",
    "        pass_file += len(files_name)\n",
    "        lab_count += 1\n",
    "    non_target_list = list(set(list(range(0,pass_file))) - set(target_list))\n",
    "    return target_list,non_target_list\n",
    "\n",
    "class my_subset(Dataset):\n",
    "    r\"\"\"\n",
    "    Subset of a dataset at specified indices.\n",
    "\n",
    "    Arguments:\n",
    "        dataset (Dataset): The whole Dataset\n",
    "        indices (sequence): Indices in the whole set selected for subset\n",
    "        labels(sequence) : targets as required for the indices. will be the same length as indices\n",
    "    \"\"\"\n",
    "    def __init__(self, dataset, indices,labels):\n",
    "        self.dataset = dataset\n",
    "        self.indices = indices\n",
    "        labels_hold = torch.ones(len(dataset)).type(torch.long) *300 #( some number not present in the #labels just to make sure\n",
    "        labels_hold[self.indices] = labels \n",
    "        self.labels = labels_hold\n",
    "    def __getitem__(self, idx):\n",
    "        image = self.dataset[self.indices[idx]][0]\n",
    "        label = self.labels[self.indices[idx]]\n",
    "        return (image, label)\n",
    "\n",
    "    def __len__(self):\n",
    "        return len(self.indices)\n",
    "        \n",
    "\n",
    "class data_prefetcher():\n",
    "    def __init__(self, loader):\n",
    "        self.loader = iter(loader)\n",
    "        self.stream = torch.cuda.Stream()\n",
    "        self.mean = torch.tensor([0.485 * 255, 0.456 * 255, 0.406 * 255]).cuda().view(1,3,1,1)\n",
    "        self.std = torch.tensor([0.229 * 255, 0.224 * 255, 0.225 * 255]).cuda().view(1,3,1,1)\n",
    "        self.preload()\n",
    "\n",
    "    def preload(self):\n",
    "        try:\n",
    "            self.next_input, self.next_target = next(self.loader)\n",
    "        except StopIteration:\n",
    "            self.next_input = None\n",
    "            self.next_target = None\n",
    "            return\n",
    "        with torch.cuda.stream(self.stream):\n",
    "            self.next_input = self.next_input.cuda(non_blocking=True)\n",
    "            self.next_target = self.next_target.cuda(non_blocking=True)\n",
    "            self.next_input = self.next_input.float()\n",
    "            self.next_input = self.next_input.sub_(self.mean).div_(self.std)\n",
    "            \n",
    "    def next(self):\n",
    "        torch.cuda.current_stream().wait_stream(self.stream)\n",
    "        input = self.next_input\n",
    "        target = self.next_target\n",
    "        self.preload()\n",
    "        return input, target\n",
    "    \n",
    "def apply_noise_patch(noise,images,offset_x=0,offset_y=0,mode='change',padding=20,position='fixed'):\n",
    "    '''\n",
    "    noise: torch.Tensor(1, 3, pat_size, pat_size)\n",
    "    images: torch.Tensor(N, 3, 512, 512)\n",
    "    outputs: torch.Tensor(N, 3, 512, 512)\n",
    "    '''\n",
    "    length = images.shape[2] - noise.shape[2]\n",
    "    if position == 'fixed':\n",
    "        wl = offset_x\n",
    "        ht = offset_y\n",
    "    else:\n",
    "        wl = np.random.randint(padding,length-padding)\n",
    "        ht = np.random.randint(padding,length-padding)\n",
    "    if images.dim() == 3:\n",
    "        noise_now = noise.clone()[0,:,:,:]\n",
    "        wr = length-wl\n",
    "        hb = length-ht\n",
    "        m = nn.ZeroPad2d((wl, wr, ht, hb))\n",
    "        if(mode == 'change'):\n",
    "            images[:,ht:ht+noise.shape[2],wl:wl+noise.shape[3]] = 0\n",
    "            images += m(noise_now)\n",
    "        else:\n",
    "            images += noise_now\n",
    "    else:\n",
    "        for i in range(images.shape[0]):\n",
    "            noise_now = noise.clone()\n",
    "            wr = length-wl\n",
    "            hb = length-ht\n",
    "            m = nn.ZeroPad2d((wl, wr, ht, hb))\n",
    "            if(mode == 'change'):\n",
    "                images[i:i+1,:,ht:ht+noise.shape[2],wl:wl+noise.shape[3]] = 0\n",
    "                images[i:i+1] += m(noise_now)\n",
    "            else:\n",
    "                images[i:i+1] += noise_now\n",
    "    return images\n",
    "\n",
    "class poison_label(Dataset):\n",
    "    def __init__(self, dataset,indices,target):\n",
    "        self.dataset = dataset\n",
    "        self.indices = indices\n",
    "        self.target = target\n",
    "\n",
    "    def __getitem__(self, idx):\n",
    "        image = self.dataset[self.indices[idx]][0]\n",
    "        return (image, self.target)\n",
    "\n",
    "    def __len__(self):\n",
    "        return len(self.dataset)\n",
    "\n",
    "class poison_image(Dataset):\n",
    "    def __init__(self, dataset,indices,noise,transform):\n",
    "        self.dataset = dataset\n",
    "        self.indices = indices\n",
    "        self.noise = noise\n",
    "        self.transform = transform\n",
    "\n",
    "    def __getitem__(self, idx):\n",
    "        image = self.dataset[idx][0]\n",
    "        if idx in self.indices:\n",
    "            image = torch.clamp(apply_noise_patch(self.noise,image,mode='add'),-1,1)\n",
    "        label = self.dataset[idx][1]\n",
    "        if self.transform is not None:\n",
    "            image = self.transform(image)\n",
    "        return (image, label)\n",
    "\n",
    "    def __len__(self):\n",
    "        return len(self.dataset)\n",
    "    \n",
    "class poison_image_label(Dataset):\n",
    "    def __init__(self, dataset,indices,noise,target,transform):\n",
    "        self.dataset = dataset\n",
    "        self.indices = indices\n",
    "        self.noise = noise\n",
    "        self.target = target\n",
    "        self.transform = transform\n",
    "\n",
    "    def __getitem__(self, idx):\n",
    "        image = self.dataset[self.indices[idx]][0]\n",
    "        image = torch.clamp(apply_noise_patch(self.noise,image,mode='add'),-1,1)\n",
    "        if self.transform is not None:\n",
    "            image = self.transform(image)\n",
    "        return (image, self.target)\n",
    "\n",
    "    def __len__(self):\n",
    "        return len(self.indices)\n",
    "    \n",
    "def destructive_append(l,i):\n",
    "    l=l[1:]\n",
    "    l.append(i)\n",
    "    return l\n",
    "\n",
    "class get_labels(Dataset):\n",
    "    def __init__(self, dataset):\n",
    "        self.dataset = dataset\n",
    "\n",
    "    def __getitem__(self, idx):\n",
    "        return self.dataset[idx][1]\n",
    "\n",
    "    def __len__(self):\n",
    "        return len(self.dataset)\n",
    "    \n",
    "def load_pth(input_model,load_file_path):\n",
    "    loaded_dict = torch.load(load_file_path)\n",
    "    new_state_dict = OrderedDict()\n",
    "    for k, v in loaded_dict.items():\n",
    "        name = k[7:]\n",
    "        new_state_dict[name] = v \n",
    "\n",
    "    input_model.load_state_dict(new_state_dict)\n",
    "    input_model = input_model.cuda()\n",
    "    return input_model\n",
    "\n",
    "class concoct_dataset(torch.utils.data.Dataset):\n",
    "    def __init__(self, target_dataset,outter_dataset):\n",
    "        self.idataset = target_dataset\n",
    "        self.odataset = outter_dataset\n",
    "\n",
    "    def __getitem__(self, idx):\n",
    "        if idx < len(self.odataset):\n",
    "            img = self.odataset[idx][0]\n",
    "            labels = self.odataset[idx][1]\n",
    "        else:\n",
    "            img = self.idataset[idx-len(self.odataset)][0]\n",
    "            #labels = torch.tensor(len(self.odataset.classes),dtype=torch.long)\n",
    "            labels = len(self.odataset.classes)\n",
    "        #label = self.dataset[idx][1]\n",
    "        return (img,labels)\n",
    "\n",
    "    def __len__(self):\n",
    "        return len(self.idataset)+len(self.odataset)"
   ]
  },
  {
   "cell_type": "code",
   "execution_count": 4,
   "id": "b844ab39",
   "metadata": {},
   "outputs": [],
   "source": [
    "dataset_path ='/home/himanshugj/Documents/Project- Gradient Shaping/'\n",
    "\n",
    "#The target class label\n",
    "lab = 2\n",
    "\n",
    "#Noise size, default is full image size\n",
    "noise_size = 32\n",
    "\n",
    "#Radius of the L-inf ball\n",
    "l_inf_r = 16/255\n",
    "\n",
    "#Model for generating surrogate model and trigger\n",
    "surrogate_model = ResNet18_201().cuda()\n",
    "generating_model = ResNet18_201().cuda()\n",
    "\n",
    "#Surrogate model training epochs\n",
    "surrogate_epochs = 200\n",
    "\n",
    "#Learning rate for poison-warm-up\n",
    "generating_lr_warmup = 0.1\n",
    "warmup_round = 5\n",
    "\n",
    "#Learning rate for trigger generating\n",
    "generating_lr_tri = 0.01      \n",
    "gen_round = 1000\n",
    "\n",
    "#Training batch size\n",
    "train_batch_size = 350\n",
    "\n",
    "#The model for adding the noise\n",
    "patch_mode = 'add'"
   ]
  },
  {
   "cell_type": "code",
   "execution_count": 5,
   "id": "27340d15",
   "metadata": {},
   "outputs": [],
   "source": [
    "#The argumention use for surrogate model training stage\n",
    "transform_surrogate_train = transforms.Compose([\n",
    "    transforms.Resize(32),\n",
    "    transforms.RandomCrop(32, padding=4),  \n",
    "    transforms.RandomHorizontalFlip(),\n",
    "    transforms.ToTensor(),\n",
    "    transforms.Normalize((0.5, 0.5, 0.5), (0.5, 0.5, 0.5)),\n",
    "])\n",
    "\n",
    "#The argumention use for all training set\n",
    "transform_train = transforms.Compose([\n",
    "    transforms.RandomCrop(32, padding=4),  \n",
    "    transforms.RandomHorizontalFlip(),\n",
    "    transforms.ToTensor(),\n",
    "    transforms.Normalize((0.5, 0.5, 0.5), (0.5, 0.5, 0.5)),\n",
    "])\n",
    "\n",
    "#The argumention use for all testing set\n",
    "transform_test = transforms.Compose([\n",
    "    transforms.ToTensor(),\n",
    "    transforms.Normalize((0.5, 0.5, 0.5), (0.5, 0.5, 0.5)),\n",
    "])\n",
    "\n",
    "\n",
    "     "
   ]
  },
  {
   "cell_type": "code",
   "execution_count": 6,
   "id": "f47e51c7",
   "metadata": {},
   "outputs": [
    {
     "name": "stdout",
     "output_type": "stream",
     "text": [
      "--2022-12-06 21:22:10--  http://cs231n.stanford.edu/tiny-imagenet-200.zip\n",
      "Resolving cs231n.stanford.edu (cs231n.stanford.edu)... 171.64.68.10\n",
      "Connecting to cs231n.stanford.edu (cs231n.stanford.edu)|171.64.68.10|:80... connected.\n",
      "HTTP request sent, awaiting response... 200 OK\n",
      "Length: 248100043 (237M) [application/zip]\n",
      "Saving to: ‘tiny-imagenet-200.zip.2’\n",
      "\n",
      "tiny-imagenet-200.z 100%[===================>] 236.61M  6.16MB/s    in 52s     \n",
      "\n",
      "2022-12-06 21:23:02 (4.57 MB/s) - ‘tiny-imagenet-200.zip.2’ saved [248100043/248100043]\n",
      "\n"
     ]
    }
   ],
   "source": [
    "#use a OOD dataset for generating the trigger (public data) for more transferrability\n",
    "!wget http://cs231n.stanford.edu/tiny-imagenet-200.zip\n"
   ]
  },
  {
   "cell_type": "code",
   "execution_count": 7,
   "id": "033f556f",
   "metadata": {},
   "outputs": [
    {
     "name": "stdout",
     "output_type": "stream",
     "text": [
      "==> Preparing data..\n",
      "Files already downloaded and verified\n",
      "Files already downloaded and verified\n"
     ]
    }
   ],
   "source": [
    "total_size = 50000\n",
    "print('==> Preparing data..')\n",
    "from torchvision.datasets import CIFAR10\n",
    "root = '../data/'\n",
    "\n",
    "trainset = CIFAR10(root, train=True, transform=transforms.Compose([transforms.ToTensor()]), download=True)\n",
    "# x_train, y_train = trainset.data, trainset.targets\n",
    "# x_train = x_train.astype('float32')/255\n",
    "# y_train = np.asarray(y_train)\n",
    "\n",
    "\n",
    "testset = CIFAR10(root, train=False, transform=transforms.Compose([transforms.ToTensor()]), download=True)\n",
    "# x_test, y_test = testset.data, testset.targets\n",
    "# x_test = x_test.astype('float32')/255\n",
    "# y_test = np.asarray(y_test)\n",
    "outter_trainset = torchvision.datasets.ImageFolder(root=dataset_path + 'tiny-imagenet-200/train/', transform=transform_surrogate_train)\n"
   ]
  },
  {
   "cell_type": "code",
   "execution_count": 8,
   "id": "f900a0ce",
   "metadata": {},
   "outputs": [],
   "source": [
    "#Outter train dataset\n",
    "train_label = [get_labels(trainset)[x] for x in range(len(get_labels(trainset)))]\n",
    "test_label = [get_labels(testset)[x] for x in range(len(get_labels(testset)))]\n",
    "\n",
    "\n",
    "     \n",
    "\n",
    "#Inner train dataset\n",
    "train_target_list = list(np.where(np.array(train_label)==lab)[0])\n",
    "train_target = Subset(trainset,train_target_list)\n",
    "concoct_train_dataset = concoct_dataset(train_target,outter_trainset)\n",
    "\n",
    "\n",
    "surrogate_loader = torch.utils.data.DataLoader(concoct_train_dataset, batch_size=train_batch_size, shuffle=True, num_workers=16)\n",
    "\n",
    "poi_warm_up_loader = torch.utils.data.DataLoader(train_target, batch_size=train_batch_size, shuffle=True, num_workers=16)\n",
    "\n",
    "trigger_gen_loaders = torch.utils.data.DataLoader(train_target, batch_size=train_batch_size, shuffle=True, num_workers=16)"
   ]
  },
  {
   "cell_type": "code",
   "execution_count": 9,
   "id": "c0abe15b",
   "metadata": {},
   "outputs": [],
   "source": [
    "#Training surrogate model\n",
    "\n",
    "\n",
    "# Batch_grad\n",
    "condition = True\n",
    "noise = torch.zeros((1, 3, noise_size, noise_size), device=device)\n",
    "\n",
    "\n",
    "surrogate_model = surrogate_model\n",
    "criterion = torch.nn.CrossEntropyLoss()\n",
    "# outer_opt = torch.optim.RAdam(params=base_model.parameters(), lr=generating_lr_outer)\n",
    "surrogate_opt = torch.optim.SGD(params=surrogate_model.parameters(), lr=0.1, momentum=0.9, weight_decay=5e-4)\n",
    "surrogate_scheduler = torch.optim.lr_scheduler.CosineAnnealingLR(surrogate_opt, T_max=surrogate_epochs)\n"
   ]
  },
  {
   "cell_type": "code",
   "execution_count": null,
   "id": "8953eace",
   "metadata": {},
   "outputs": [
    {
     "name": "stdout",
     "output_type": "stream",
     "text": [
      "Training the surrogate model\n",
      "Epoch:0, Loss: 4.525\n",
      "Epoch:1, Loss: 3.834\n",
      "Epoch:2, Loss: 3.366\n",
      "Epoch:3, Loss: 3.057\n",
      "Epoch:4, Loss: 2.822\n",
      "Epoch:5, Loss: 2.634\n",
      "Epoch:6, Loss: 2.486\n",
      "Epoch:7, Loss: 2.372\n",
      "Epoch:8, Loss: 2.273\n",
      "Epoch:9, Loss: 2.200\n",
      "Epoch:10, Loss: 2.124\n",
      "Epoch:11, Loss: 2.067\n",
      "Epoch:12, Loss: 2.021\n",
      "Epoch:13, Loss: 1.960\n",
      "Epoch:14, Loss: 1.920\n",
      "Epoch:15, Loss: 1.880\n",
      "Epoch:16, Loss: 1.831\n",
      "Epoch:17, Loss: 1.800\n",
      "Epoch:18, Loss: 1.773\n",
      "Epoch:19, Loss: 1.738\n",
      "Epoch:20, Loss: 1.716\n",
      "Epoch:21, Loss: 1.684\n",
      "Epoch:22, Loss: 1.656\n",
      "Epoch:23, Loss: 1.634\n",
      "Epoch:24, Loss: 1.613\n",
      "Epoch:25, Loss: 1.583\n",
      "Epoch:26, Loss: 1.572\n",
      "Epoch:27, Loss: 1.553\n",
      "Epoch:28, Loss: 1.536\n",
      "Epoch:29, Loss: 1.521\n",
      "Epoch:30, Loss: 1.496\n",
      "Epoch:31, Loss: 1.485\n",
      "Epoch:32, Loss: 1.471\n",
      "Epoch:33, Loss: 1.451\n",
      "Epoch:34, Loss: 1.438\n",
      "Epoch:38, Loss: 1.389\n",
      "Epoch:39, Loss: 1.371\n",
      "Epoch:42, Loss: 1.331\n",
      "Epoch:43, Loss: 1.319\n",
      "Epoch:44, Loss: 1.311\n",
      "Epoch:45, Loss: 1.291\n",
      "Epoch:46, Loss: 1.284\n",
      "Epoch:47, Loss: 1.278\n",
      "Epoch:48, Loss: 1.260\n",
      "Epoch:49, Loss: 1.247\n",
      "Epoch:50, Loss: 1.236\n",
      "Epoch:51, Loss: 1.229\n",
      "Epoch:52, Loss: 1.213\n",
      "Epoch:53, Loss: 1.202\n",
      "Epoch:54, Loss: 1.189\n",
      "Epoch:55, Loss: 1.181\n",
      "Epoch:56, Loss: 1.177\n",
      "Epoch:57, Loss: 1.152\n",
      "Epoch:58, Loss: 1.141\n",
      "Epoch:59, Loss: 1.136\n",
      "Epoch:60, Loss: 1.122\n",
      "Epoch:61, Loss: 1.102\n",
      "Epoch:62, Loss: 1.096\n",
      "Epoch:63, Loss: 1.082\n",
      "Epoch:64, Loss: 1.081\n",
      "Epoch:65, Loss: 1.049\n",
      "Epoch:66, Loss: 1.048\n",
      "Epoch:67, Loss: 1.028\n",
      "Epoch:68, Loss: 1.027\n",
      "Epoch:69, Loss: 1.014\n",
      "Epoch:70, Loss: 1.003\n",
      "Epoch:71, Loss: 0.983\n",
      "Epoch:72, Loss: 0.975\n",
      "Epoch:73, Loss: 0.961\n",
      "Epoch:74, Loss: 0.950\n",
      "Epoch:75, Loss: 0.940\n",
      "Epoch:76, Loss: 0.924\n",
      "Epoch:77, Loss: 0.917\n",
      "Epoch:78, Loss: 0.902\n",
      "Epoch:79, Loss: 0.877\n",
      "Epoch:80, Loss: 0.879\n",
      "Epoch:81, Loss: 0.865\n",
      "Epoch:82, Loss: 0.846\n",
      "Epoch:83, Loss: 0.838\n",
      "Epoch:84, Loss: 0.814\n",
      "Epoch:85, Loss: 0.808\n",
      "Epoch:86, Loss: 0.794\n",
      "Epoch:87, Loss: 0.778\n",
      "Epoch:88, Loss: 0.765\n",
      "Epoch:89, Loss: 0.748\n",
      "Epoch:90, Loss: 0.735\n",
      "Epoch:91, Loss: 0.732\n",
      "Epoch:92, Loss: 0.716\n",
      "Epoch:93, Loss: 0.686\n",
      "Epoch:94, Loss: 0.682\n",
      "Epoch:95, Loss: 0.666\n",
      "Epoch:96, Loss: 0.651\n",
      "Epoch:97, Loss: 0.642\n",
      "Epoch:98, Loss: 0.618\n",
      "Epoch:99, Loss: 0.612\n",
      "Epoch:100, Loss: 0.596\n",
      "Epoch:101, Loss: 0.578\n",
      "Epoch:102, Loss: 0.569\n",
      "Epoch:103, Loss: 0.549\n",
      "Epoch:104, Loss: 0.538\n",
      "Epoch:105, Loss: 0.541\n",
      "Epoch:106, Loss: 0.502\n",
      "Epoch:107, Loss: 0.501\n",
      "Epoch:108, Loss: 0.492\n",
      "Epoch:109, Loss: 0.470\n",
      "Epoch:110, Loss: 0.456\n",
      "Epoch:111, Loss: 0.446\n",
      "Epoch:112, Loss: 0.422\n",
      "Epoch:113, Loss: 0.420\n",
      "Epoch:114, Loss: 0.405\n",
      "Epoch:115, Loss: 0.388\n",
      "Epoch:116, Loss: 0.380\n",
      "Epoch:117, Loss: 0.365\n",
      "Epoch:120, Loss: 0.325\n",
      "Epoch:121, Loss: 0.318\n",
      "Epoch:122, Loss: 0.304\n",
      "Epoch:123, Loss: 0.290\n",
      "Epoch:124, Loss: 0.272\n",
      "Epoch:125, Loss: 0.268\n",
      "Epoch:126, Loss: 0.255\n",
      "Epoch:127, Loss: 0.233\n",
      "Epoch:128, Loss: 0.218\n",
      "Epoch:129, Loss: 0.216\n",
      "Epoch:130, Loss: 0.199\n",
      "Epoch:131, Loss: 0.186\n",
      "Epoch:132, Loss: 0.178\n",
      "Epoch:133, Loss: 0.168\n",
      "Epoch:134, Loss: 0.159\n",
      "Epoch:135, Loss: 0.147\n",
      "Epoch:136, Loss: 0.134\n",
      "Epoch:137, Loss: 0.122\n",
      "Epoch:138, Loss: 0.111\n",
      "Epoch:139, Loss: 0.096\n",
      "Epoch:140, Loss: 0.091\n",
      "Epoch:141, Loss: 0.081\n",
      "Epoch:142, Loss: 0.069\n",
      "Epoch:143, Loss: 0.058\n",
      "Epoch:144, Loss: 0.052\n",
      "Epoch:145, Loss: 0.042\n",
      "Epoch:146, Loss: 0.040\n",
      "Epoch:147, Loss: 0.032\n",
      "Epoch:148, Loss: 0.029\n",
      "Epoch:149, Loss: 0.027\n",
      "Epoch:150, Loss: 0.025\n",
      "Epoch:151, Loss: 0.024\n",
      "Epoch:152, Loss: 0.024\n",
      "Epoch:153, Loss: 0.022\n",
      "Epoch:154, Loss: 0.022\n",
      "Epoch:155, Loss: 0.021\n",
      "Epoch:156, Loss: 0.021\n",
      "Epoch:157, Loss: 0.021\n",
      "Epoch:158, Loss: 0.020\n",
      "Epoch:159, Loss: 0.020\n",
      "Epoch:160, Loss: 0.019\n",
      "Epoch:161, Loss: 0.019\n",
      "Epoch:162, Loss: 0.019\n",
      "Epoch:163, Loss: 0.019\n",
      "Epoch:164, Loss: 0.019\n",
      "Epoch:165, Loss: 0.018\n",
      "Epoch:166, Loss: 0.018\n",
      "Epoch:167, Loss: 0.017\n",
      "Epoch:168, Loss: 0.018\n",
      "Epoch:169, Loss: 0.017\n",
      "Epoch:170, Loss: 0.017\n",
      "Epoch:171, Loss: 0.017\n",
      "Epoch:172, Loss: 0.017\n",
      "Epoch:173, Loss: 0.016\n",
      "Epoch:174, Loss: 0.016\n",
      "Epoch:175, Loss: 0.016\n",
      "Epoch:176, Loss: 0.016\n",
      "Epoch:177, Loss: 0.016\n",
      "Epoch:178, Loss: 0.016\n",
      "Epoch:179, Loss: 0.016\n",
      "Epoch:180, Loss: 0.015\n",
      "Epoch:181, Loss: 0.015\n",
      "Epoch:182, Loss: 0.015\n",
      "Epoch:183, Loss: 0.015\n",
      "Epoch:184, Loss: 0.015\n",
      "Epoch:185, Loss: 0.015\n",
      "Epoch:186, Loss: 0.015\n",
      "Epoch:187, Loss: 0.015\n",
      "Epoch:188, Loss: 0.015\n",
      "Epoch:189, Loss: 0.014\n",
      "Epoch:190, Loss: 0.014\n",
      "Epoch:191, Loss: 0.014\n",
      "Epoch:192, Loss: 0.014\n",
      "Epoch:193, Loss: 0.014\n",
      "Epoch:194, Loss: 0.014\n",
      "Epoch:195, Loss: 0.014\n",
      "Epoch:196, Loss: 0.014\n",
      "Epoch:197, Loss: 0.014\n",
      "Epoch:198, Loss: 0.014\n"
     ]
    }
   ],
   "source": [
    "#Training the surrogate model\n",
    "print('Training the surrogate model')\n",
    "for epoch in range(0, surrogate_epochs):\n",
    "    surrogate_model.train()\n",
    "    loss_list = []\n",
    "    for images, labels in surrogate_loader:\n",
    "        images, labels = images.cuda(), labels.cuda()\n",
    "        surrogate_opt.zero_grad()\n",
    "        outputs = surrogate_model(images)\n",
    "        loss = criterion(outputs, labels)\n",
    "        loss.backward()\n",
    "        loss_list.append(float(loss.data))\n",
    "        surrogate_opt.step()\n",
    "    surrogate_scheduler.step()\n",
    "    ave_loss = np.average(np.array(loss_list))\n",
    "    print('Epoch:%d, Loss: %.03f' % (epoch, ave_loss))\n",
    "#Save the surrogate model\n",
    "# save_path = './checkpoint/surrogate_pretrain_' + str(surrogate_epochs) +'.pth'\n",
    "# torch.save(surrogate_model.state_dict(),save_path)"
   ]
  },
  {
   "cell_type": "markdown",
   "id": "808b3d09",
   "metadata": {},
   "source": [
    "## Poisoning Stage"
   ]
  },
  {
   "cell_type": "code",
   "execution_count": null,
   "id": "c9ab88b0",
   "metadata": {},
   "outputs": [],
   "source": [
    "#poison Warmup over target class\n",
    "#Prepare models and optimizers for poi_warm_up training\n",
    "poi_warm_up_model = generating_model\n",
    "poi_warm_up_model.load_state_dict(surrogate_model.state_dict())\n",
    "\n",
    "poi_warm_up_opt = torch.optim.RAdam(params=poi_warm_up_model.parameters(), lr=generating_lr_warmup)\n"
   ]
  },
  {
   "cell_type": "code",
   "execution_count": null,
   "id": "414c130a",
   "metadata": {},
   "outputs": [],
   "source": [
    "\n"
   ]
  },
  {
   "cell_type": "code",
   "execution_count": null,
   "id": "b6558dfc",
   "metadata": {},
   "outputs": [],
   "source": [
    "#Poi_warm_up stage\n",
    "poi_warm_up_model.train()\n",
    "for param in poi_warm_up_model.parameters():\n",
    "    param.requires_grad = True\n",
    "\n",
    "#Training the surrogate model\n",
    "for epoch in range(0, warmup_round):\n",
    "    poi_warm_up_model.train()\n",
    "    loss_list = []\n",
    "    for images, labels in poi_warm_up_loader:\n",
    "        images, labels = images.cuda(), labels.cuda()\n",
    "        poi_warm_up_model.zero_grad()\n",
    "        poi_warm_up_opt.zero_grad()\n",
    "        outputs = poi_warm_up_model(images)\n",
    "        loss = criterion(outputs, labels)\n",
    "        loss.backward(retain_graph = True)\n",
    "        loss_list.append(float(loss.data))\n",
    "        poi_warm_up_opt.step()\n",
    "    ave_loss = np.average(np.array(loss_list))\n",
    "    print('Epoch:%d, Loss: %e' % (epoch, ave_loss))\n"
   ]
  },
  {
   "cell_type": "code",
   "execution_count": 13,
   "id": "c1691395",
   "metadata": {},
   "outputs": [
    {
     "name": "stdout",
     "output_type": "stream",
     "text": [
      "Gradient: 1.2963619e-05 Loss: 3.483402323922746e-07\n",
      "Gradient: 7.279827e-05 Loss: 3.3037938938681086e-07\n",
      "Gradient: 1.4795714e-05 Loss: 3.2268203398189144e-07\n",
      "Gradient: 4.5925844e-06 Loss: 2.989196085915561e-07\n",
      "Gradient: 1.6461094e-05 Loss: 2.856250304716923e-07\n",
      "Gradient: 2.530908e-05 Loss: 3.1055680646356144e-07\n",
      "Gradient: 2.6730759e-05 Loss: 2.743399074726464e-07\n",
      "Gradient: 1.1459284e-05 Loss: 2.9847687083398947e-07\n",
      "Gradient: 1.5629e-05 Loss: 2.8466000211816815e-07\n",
      "Gradient: 3.803774e-05 Loss: 2.987946421247519e-07\n",
      "Gradient: 1.2279869e-05 Loss: 2.6030723555929094e-07\n",
      "Gradient: 3.2464095e-06 Loss: 2.657113602329749e-07\n",
      "Gradient: 1.5950438e-05 Loss: 2.7288671849608667e-07\n",
      "Gradient: 6.752604e-06 Loss: 2.6591563321668826e-07\n",
      "Gradient: 1.3158186e-05 Loss: 2.412678512087041e-07\n",
      "Gradient: 1.7486816e-05 Loss: 3.08138447261778e-07\n",
      "Gradient: 4.1805906e-06 Loss: 2.5061158244928566e-07\n",
      "Gradient: 1.1548353e-05 Loss: 2.6018237827922043e-07\n",
      "Gradient: 7.4184327e-06 Loss: 2.2957405766040513e-07\n",
      "Gradient: 7.034181e-06 Loss: 2.4966925309399813e-07\n",
      "Gradient: 2.1921473e-06 Loss: 2.3883828295841646e-07\n",
      "Gradient: 7.3990896e-06 Loss: 2.7901738898587305e-07\n",
      "Gradient: 2.1817883e-05 Loss: 2.831725945876921e-07\n",
      "Gradient: 1.74873e-05 Loss: 2.532568965799934e-07\n",
      "Gradient: 2.0978573e-06 Loss: 2.2614542037520852e-07\n",
      "Gradient: 1.7156413e-05 Loss: 2.525756987855251e-07\n",
      "Gradient: 2.63972e-05 Loss: 2.74123910533793e-07\n",
      "Gradient: 5.2540504e-06 Loss: 2.2237608826950842e-07\n",
      "Gradient: 5.0960476e-05 Loss: 2.520987536058783e-07\n",
      "Gradient: 1.594576e-05 Loss: 2.3084556725431563e-07\n",
      "Gradient: 3.4141488e-06 Loss: 2.1493970336905477e-07\n",
      "Gradient: 5.9218346e-06 Loss: 2.197875365557896e-07\n",
      "Gradient: 1.7346592e-05 Loss: 2.4345887510435206e-07\n",
      "Gradient: 7.712104e-06 Loss: 2.2854081104621098e-07\n",
      "Gradient: 1.8175298e-05 Loss: 2.0784392660289086e-07\n",
      "Gradient: 1.0647211e-05 Loss: 2.471033724305016e-07\n",
      "Gradient: 7.8937455e-06 Loss: 2.1177213795908756e-07\n",
      "Gradient: 1.4420814e-05 Loss: 2.1937877197804786e-07\n",
      "Gradient: 1.4774947e-05 Loss: 2.354096181989007e-07\n",
      "Gradient: 4.51784e-06 Loss: 2.2167213558077493e-07\n",
      "Gradient: 2.519985e-05 Loss: 2.2469200568290642e-07\n",
      "Gradient: 2.521417e-05 Loss: 2.2158133721935277e-07\n",
      "Gradient: 6.2337517e-06 Loss: 2.4206245399227553e-07\n",
      "Gradient: 4.125527e-06 Loss: 2.1431511380380167e-07\n",
      "Gradient: 5.230618e-06 Loss: 2.2783700993992778e-07\n",
      "Gradient: 7.550948e-07 Loss: 2.2226255443532258e-07\n",
      "Gradient: 7.901785e-06 Loss: 1.883276283365376e-07\n",
      "Gradient: 1.9254256e-05 Loss: 2.477619451231779e-07\n",
      "Gradient: 1.494698e-05 Loss: 2.2105919062672303e-07\n",
      "Gradient: 8.818512e-06 Loss: 2.0417677812171557e-07\n",
      "Gradient: 2.0079293e-05 Loss: 2.377028820887972e-07\n",
      "Gradient: 6.7880496e-06 Loss: 2.0852513718712847e-07\n",
      "Gradient: 7.752324e-06 Loss: 2.3756679752295894e-07\n",
      "Gradient: 9.736705e-06 Loss: 2.3444463082000766e-07\n",
      "Gradient: 4.2154375e-06 Loss: 2.0900191704716539e-07\n",
      "Gradient: 4.8586044e-06 Loss: 2.2004866077433385e-07\n",
      "Gradient: 2.3968756e-05 Loss: 2.1036417242233558e-07\n",
      "Gradient: 2.9763678e-06 Loss: 2.148032817691122e-07\n",
      "Gradient: 1.7482234e-05 Loss: 2.061976677699325e-07\n",
      "Gradient: 6.420724e-06 Loss: 2.0255329928886568e-07\n",
      "Gradient: 1.6636503e-05 Loss: 2.152348429262929e-07\n",
      "Gradient: 3.53e-06 Loss: 1.9092760889331354e-07\n",
      "Gradient: 7.0750957e-06 Loss: 2.013952342376039e-07\n",
      "Gradient: 5.867115e-06 Loss: 2.249873735612103e-07\n",
      "Gradient: 2.8793846e-05 Loss: 2.1012587367863488e-07\n",
      "Gradient: 9.0900687e-07 Loss: 2.1876571783726226e-07\n",
      "Gradient: 5.173594e-06 Loss: 1.7967653273368948e-07\n",
      "Gradient: 6.9205876e-06 Loss: 2.0089565803497558e-07\n",
      "Gradient: 1.023937e-05 Loss: 1.9191530024424233e-07\n",
      "Gradient: 2.4873202e-06 Loss: 1.9718320534896823e-07\n",
      "Gradient: 1.3944183e-05 Loss: 2.4199410688652277e-07\n",
      "Gradient: 2.6150046e-05 Loss: 2.2208089850058362e-07\n",
      "Gradient: 6.024475e-06 Loss: 1.9678583716616533e-07\n",
      "Gradient: 3.4482996e-06 Loss: 1.9935169225012334e-07\n",
      "Gradient: 6.6857965e-06 Loss: 2.1468988459597919e-07\n",
      "Gradient: 1.3701994e-05 Loss: 2.2174030149813008e-07\n",
      "Gradient: 6.147344e-06 Loss: 1.969221206839696e-07\n",
      "Gradient: 7.948493e-06 Loss: 2.0142931210405852e-07\n",
      "Gradient: 1.1973489e-05 Loss: 2.1673345287354096e-07\n",
      "Gradient: 1.1759159e-05 Loss: 1.99090551215401e-07\n",
      "Gradient: 2.0368886e-06 Loss: 1.991472432886591e-07\n",
      "Gradient: 6.309654e-06 Loss: 1.9913597502826025e-07\n",
      "Gradient: 3.6753804e-06 Loss: 1.9348202187075004e-07\n",
      "Gradient: 1.0406409e-05 Loss: 2.096491310036678e-07\n",
      "Gradient: 1.1901509e-05 Loss: 1.9058681625476007e-07\n",
      "Gradient: 8.989924e-06 Loss: 2.2177424862472133e-07\n",
      "Gradient: 4.1197045e-06 Loss: 1.8563695505235956e-07\n",
      "Gradient: 1.0223484e-05 Loss: 2.684134130959137e-07\n",
      "Gradient: 3.9054717e-06 Loss: 1.8371823765998366e-07\n",
      "Gradient: 1.1021868e-06 Loss: 1.981254120172101e-07\n",
      "Gradient: 9.041782e-06 Loss: 2.2028717173346497e-07\n",
      "Gradient: 2.2960116e-06 Loss: 1.9239205215626498e-07\n",
      "Gradient: 1.6852133e-06 Loss: 1.7779189202353032e-07\n",
      "Gradient: 9.152145e-06 Loss: 1.9739894412396098e-07\n",
      "Gradient: 5.5295563e-06 Loss: 1.7220595391146769e-07\n",
      "Gradient: 6.2562253e-06 Loss: 2.0341602512038055e-07\n",
      "Gradient: 7.661737e-06 Loss: 1.948898666152369e-07\n",
      "Gradient: 1.2454043e-05 Loss: 2.018607242841123e-07\n",
      "Gradient: 2.1236478e-06 Loss: 2.0369996605040798e-07\n",
      "Gradient: 2.8703362e-06 Loss: 1.915066119314209e-07\n",
      "Gradient: 1.9986446e-06 Loss: 1.622038302192171e-07\n",
      "Gradient: 2.2013396e-06 Loss: 1.858867364035177e-07\n",
      "Gradient: 4.457365e-06 Loss: 2.1772101585308216e-07\n",
      "Gradient: 7.1414515e-06 Loss: 1.872832138853179e-07\n",
      "Gradient: 7.653448e-07 Loss: 1.4570755867045666e-07\n",
      "Gradient: 6.8406634e-06 Loss: 1.7820055925691728e-07\n",
      "Gradient: 6.732214e-06 Loss: 1.9922678783738472e-07\n",
      "Gradient: 1.6445181e-05 Loss: 1.8182222921344268e-07\n",
      "Gradient: 3.024541e-06 Loss: 1.9571863300408646e-07\n",
      "Gradient: 1.6849848e-06 Loss: 1.8548922279630156e-07\n",
      "Gradient: 4.1838266e-06 Loss: 2.0955832932637956e-07\n",
      "Gradient: 5.9161157e-06 Loss: 2.0785521428479115e-07\n",
      "Gradient: 1.3055567e-06 Loss: 1.865678730913108e-07\n",
      "Gradient: 5.6395797e-06 Loss: 1.699808422017668e-07\n",
      "Gradient: 6.750684e-06 Loss: 1.9046202908157285e-07\n",
      "Gradient: 5.146464e-06 Loss: 1.861252014142186e-07\n",
      "Gradient: 6.9791045e-06 Loss: 1.860796276768421e-07\n",
      "Gradient: 1.0972244e-05 Loss: 1.967291069604471e-07\n",
      "Gradient: 8.793096e-07 Loss: 1.9151789132365593e-07\n",
      "Gradient: 8.812223e-07 Loss: 1.8000565920791208e-07\n",
      "Gradient: 1.9692582e-06 Loss: 1.9842069084082445e-07\n",
      "Gradient: 9.55342e-06 Loss: 1.9082530210804787e-07\n",
      "Gradient: 7.4610884e-06 Loss: 1.8307106609919781e-07\n",
      "Gradient: 6.6181115e-06 Loss: 2.2788238567272857e-07\n",
      "Gradient: 7.692282e-06 Loss: 1.9846618618165242e-07\n",
      "Gradient: 6.418324e-06 Loss: 1.7924508171063281e-07\n",
      "Gradient: 1.7992537e-06 Loss: 1.7729241079678105e-07\n",
      "Gradient: 9.160813e-06 Loss: 1.9269867929475973e-07\n",
      "Gradient: 7.6173187e-06 Loss: 1.8061886279951979e-07\n",
      "Gradient: 5.3545614e-06 Loss: 2.3160621296369754e-07\n",
      "Gradient: 1.1118234e-05 Loss: 1.9265323961311272e-07\n",
      "Gradient: 2.8893505e-06 Loss: 1.9434495091748734e-07\n",
      "Gradient: 3.288087e-06 Loss: 1.8803251743785647e-07\n",
      "Gradient: 2.7978997e-06 Loss: 1.7671335162579755e-07\n",
      "Gradient: 1.9177487e-06 Loss: 1.7318244237192932e-07\n",
      "Gradient: 2.3818634e-06 Loss: 1.8070966092409436e-07\n",
      "Gradient: 9.188891e-07 Loss: 1.7227419609374314e-07\n",
      "Gradient: 1.0201774e-06 Loss: 1.7334145757293603e-07\n",
      "Gradient: 6.569232e-07 Loss: 1.9123404075097975e-07\n",
      "Gradient: 4.2912234e-06 Loss: 1.984888200468049e-07\n",
      "Gradient: 2.8991776e-06 Loss: 1.8102753216453493e-07\n",
      "Gradient: 2.2572053e-06 Loss: 1.928007774173087e-07\n",
      "Gradient: 3.850187e-06 Loss: 1.944471174889865e-07\n",
      "Gradient: 2.2301674e-06 Loss: 1.585254385834863e-07\n",
      "Gradient: 1.099606e-05 Loss: 2.0973969583337748e-07\n",
      "Gradient: 1.9908543e-06 Loss: 1.7726951237288328e-07\n",
      "Gradient: 1.8998086e-06 Loss: 2.020537337443784e-07\n",
      "Gradient: 7.8687535e-06 Loss: 1.9449252590675315e-07\n",
      "Gradient: 7.3597107e-07 Loss: 1.758391081333836e-07\n",
      "Gradient: 1.1832639e-06 Loss: 1.820267215180138e-07\n",
      "Gradient: 5.558717e-07 Loss: 1.7040094585733337e-07\n",
      "Gradient: 1.3070128e-06 Loss: 2.0261007236399564e-07\n",
      "Gradient: 3.7645846e-06 Loss: 1.877598781637365e-07\n",
      "Gradient: 3.4638883e-06 Loss: 2.0041890470186747e-07\n",
      "Gradient: 2.8473946e-06 Loss: 1.8019875606493466e-07\n",
      "Gradient: 2.5069132e-06 Loss: 1.8103892784893105e-07\n",
      "Gradient: 2.9047028e-06 Loss: 1.7874557632543048e-07\n",
      "Gradient: 1.9628912e-06 Loss: 1.9100694667410305e-07\n",
      "Gradient: 3.0150668e-06 Loss: 2.0313235751245884e-07\n",
      "Gradient: 9.2877326e-07 Loss: 1.859547835418122e-07\n",
      "Gradient: 5.7724737e-06 Loss: 1.9870456616407258e-07\n",
      "Gradient: 2.2561312e-06 Loss: 1.992609161523736e-07\n",
      "Gradient: 5.6253125e-06 Loss: 2.5176967284323836e-07\n",
      "Gradient: 1.3448957e-06 Loss: 1.4913632805739023e-07\n",
      "Gradient: 2.5516397e-06 Loss: 1.7999443050105886e-07\n",
      "Gradient: 3.3095375e-06 Loss: 1.7549851989429043e-07\n",
      "Gradient: 1.8550215e-06 Loss: 1.684027746288545e-07\n",
      "Gradient: 6.8714576e-07 Loss: 2.1839085609561456e-07\n",
      "Gradient: 4.137605e-06 Loss: 1.744198861786117e-07\n",
      "Gradient: 6.1549554e-06 Loss: 1.574582412899872e-07\n",
      "Gradient: 3.0688707e-06 Loss: 1.7558934501948896e-07\n",
      "Gradient: 8.038215e-06 Loss: 1.9657002946852724e-07\n",
      "Gradient: 6.827388e-07 Loss: 1.6548491856838155e-07\n",
      "Gradient: 2.520459e-06 Loss: 1.9334589206702428e-07\n",
      "Gradient: 5.1899433e-06 Loss: 1.9097299220523685e-07\n",
      "Gradient: 1.0931913e-06 Loss: 1.7825736335908006e-07\n",
      "Gradient: 2.4289197e-06 Loss: 1.7689494266429999e-07\n",
      "Gradient: 5.066314e-06 Loss: 1.9881811634074134e-07\n",
      "Gradient: 4.8339843e-06 Loss: 1.9391358658064443e-07\n",
      "Gradient: 2.1558888e-06 Loss: 1.7612294698210462e-07\n",
      "Gradient: 1.4962671e-06 Loss: 2.0925159892234053e-07\n",
      "Gradient: 3.912492e-06 Loss: 1.5819616739539317e-07\n",
      "Gradient: 1.4689691e-06 Loss: 1.589455341862352e-07\n",
      "Gradient: 2.5332008e-06 Loss: 1.807210892934563e-07\n",
      "Gradient: 1.4002596e-06 Loss: 1.9692204157687836e-07\n",
      "Gradient: 4.3583414e-06 Loss: 2.032912680268358e-07\n",
      "Gradient: 4.949357e-06 Loss: 1.7736040689442233e-07\n",
      "Gradient: 2.9107111e-06 Loss: 1.677329407812067e-07\n",
      "Gradient: 3.1875904e-06 Loss: 1.4417495582582282e-07\n",
      "Gradient: 2.5306567e-06 Loss: 1.9462873268594194e-07\n",
      "Gradient: 1.6352624e-06 Loss: 1.743746153692882e-07\n",
      "Gradient: 6.310431e-07 Loss: 1.758845236565776e-07\n",
      "Gradient: 1.2162825e-06 Loss: 1.873171828018864e-07\n",
      "Gradient: 4.37169e-06 Loss: 1.8317322035462286e-07\n",
      "Gradient: 1.0330657e-06 Loss: 1.7188814093553144e-07\n",
      "Gradient: 9.804756e-07 Loss: 1.6130699549421478e-07\n",
      "Gradient: 4.493795e-06 Loss: 1.7577105353439039e-07\n",
      "Gradient: 5.5167135e-07 Loss: 1.6866385668852975e-07\n",
      "Gradient: 9.938856e-07 Loss: 1.7346638069663338e-07\n",
      "Gradient: 1.6811287e-06 Loss: 1.58116717585699e-07\n",
      "Gradient: 2.7431283e-06 Loss: 1.6348679281463775e-07\n",
      "Gradient: 2.9980317e-06 Loss: 1.9503739044542574e-07\n",
      "Gradient: 7.142022e-06 Loss: 1.7839360021791133e-07\n",
      "Gradient: 2.386723e-06 Loss: 1.5384794712266134e-07\n",
      "Gradient: 1.2703365e-06 Loss: 1.7017381045055421e-07\n",
      "Gradient: 4.6549712e-06 Loss: 2.0163365164194146e-07\n",
      "Gradient: 7.2806466e-07 Loss: 1.7087779392947294e-07\n",
      "Gradient: 1.7926905e-06 Loss: 1.7075284404199919e-07\n",
      "Gradient: 7.3636083e-06 Loss: 2.2567995093443944e-07\n",
      "Gradient: 1.1120516e-06 Loss: 1.6446316521978588e-07\n",
      "Gradient: 2.1054293e-06 Loss: 1.7847311942394602e-07\n",
      "Gradient: 1.1015504e-06 Loss: 1.9297120653997505e-07\n",
      "Gradient: 4.5587803e-06 Loss: 1.8005115265395943e-07\n",
      "Gradient: 9.684174e-06 Loss: 1.8882708895754756e-07\n",
      "Gradient: 1.3056773e-06 Loss: 1.787796068223694e-07\n",
      "Gradient: 6.8955444e-07 Loss: 1.827646507024383e-07\n",
      "Gradient: 3.697445e-06 Loss: 1.7120698648416994e-07\n",
      "Gradient: 1.6746299e-06 Loss: 1.7007163251037126e-07\n",
      "Gradient: 3.4952154e-06 Loss: 1.840133904806862e-07\n",
      "Gradient: 3.1835662e-06 Loss: 1.7275105742934708e-07\n",
      "Gradient: 8.335346e-06 Loss: 2.099328033485411e-07\n",
      "Gradient: 9.068488e-06 Loss: 2.525416268402599e-07\n",
      "Gradient: 3.1730774e-06 Loss: 1.73454830587616e-07\n",
      "Gradient: 2.5838025e-07 Loss: 1.5620931629693283e-07\n",
      "Gradient: 2.8882707e-06 Loss: 1.8883862225038682e-07\n",
      "Gradient: 5.874768e-06 Loss: 1.9398160257348234e-07\n",
      "Gradient: 3.7124667e-06 Loss: 1.7036687557000127e-07\n",
      "Gradient: 3.0802757e-06 Loss: 1.655870706921784e-07\n",
      "Gradient: 1.6149243e-06 Loss: 1.9553696025316944e-07\n",
      "Gradient: 2.3481302e-06 Loss: 1.732278548161048e-07\n",
      "Gradient: 4.561163e-06 Loss: 1.9184719567041004e-07\n",
      "Gradient: 7.9482516e-07 Loss: 1.6022843946454183e-07\n",
      "Gradient: 3.1668878e-06 Loss: 1.545972603859506e-07\n",
      "Gradient: 1.2970102e-06 Loss: 1.560163868911483e-07\n",
      "Gradient: 4.9221335e-06 Loss: 1.9477634959722916e-07\n",
      "Gradient: 1.0797456e-06 Loss: 1.5498322506838727e-07\n",
      "Gradient: 3.855622e-06 Loss: 1.9672905674876043e-07\n",
      "Gradient: 6.8422355e-07 Loss: 2.1247585676083722e-07\n",
      "Gradient: 1.6469725e-06 Loss: 1.8450171287061798e-07\n",
      "Gradient: 7.27266e-07 Loss: 2.0371131862854477e-07\n",
      "Gradient: 4.185937e-06 Loss: 1.974670515399642e-07\n",
      "Gradient: 2.5751126e-06 Loss: 1.8796433186215228e-07\n",
      "Gradient: 7.294009e-06 Loss: 1.8656791382909433e-07\n",
      "Gradient: 1.372949e-06 Loss: 1.9793256361329744e-07\n",
      "Gradient: 1.4078536e-06 Loss: 1.8760099228150768e-07\n",
      "Gradient: 3.9876495e-06 Loss: 1.973080718660943e-07\n",
      "Gradient: 5.875617e-06 Loss: 1.9029180696369014e-07\n",
      "Gradient: 2.7648575e-06 Loss: 2.0278029637665896e-07\n",
      "Gradient: 7.448374e-06 Loss: 1.9423133134447805e-07\n",
      "Gradient: 2.1251653e-06 Loss: 1.957527715035212e-07\n",
      "Gradient: 2.0193183e-06 Loss: 1.9551427404470209e-07\n",
      "Gradient: 1.9660515e-06 Loss: 1.741361610167284e-07\n",
      "Gradient: 9.894432e-07 Loss: 1.7557798841494333e-07\n",
      "Gradient: 3.186825e-06 Loss: 1.7778056857764568e-07\n",
      "Gradient: 2.9872826e-06 Loss: 1.8686312846701488e-07\n",
      "Gradient: 1.3605862e-06 Loss: 1.9637714127422138e-07\n",
      "Gradient: 3.5061607e-06 Loss: 1.8251489706244683e-07\n",
      "Gradient: 1.0223092e-06 Loss: 1.830483727853031e-07\n",
      "Gradient: 4.365436e-06 Loss: 2.407342051924388e-07\n",
      "Gradient: 1.4203463e-06 Loss: 1.8763508293773157e-07\n",
      "Gradient: 2.0621278e-06 Loss: 1.9599113064335444e-07\n",
      "Gradient: 8.9415687e-07 Loss: 1.6205627583569064e-07\n",
      "Gradient: 5.743566e-07 Loss: 1.6616620020689274e-07\n",
      "Gradient: 1.4400377e-06 Loss: 1.846379224919777e-07\n",
      "Gradient: 4.4696226e-06 Loss: 1.980687540500033e-07\n",
      "Gradient: 6.8795055e-07 Loss: 1.9416312587357729e-07\n",
      "Gradient: 3.2772182e-06 Loss: 1.901781738903689e-07\n",
      "Gradient: 1.0858473e-06 Loss: 1.821287459809658e-07\n",
      "Gradient: 1.1713278e-06 Loss: 1.688227927824452e-07\n",
      "Gradient: 5.606721e-06 Loss: 2.1881108906995906e-07\n",
      "Gradient: 1.1209728e-06 Loss: 1.956958728991746e-07\n",
      "Gradient: 1.603699e-06 Loss: 1.726601974875545e-07\n",
      "Gradient: 1.0155984e-05 Loss: 1.8521680402727725e-07\n",
      "Gradient: 9.7459e-07 Loss: 1.5708358394779983e-07\n",
      "Gradient: 5.849745e-06 Loss: 2.467627984022632e-07\n",
      "Gradient: 3.7525652e-07 Loss: 1.732505859071883e-07\n",
      "Gradient: 1.4066964e-06 Loss: 1.6230603326524335e-07\n",
      "Gradient: 3.1984964e-06 Loss: 1.97694155682863e-07\n",
      "Gradient: 1.3233081e-06 Loss: 1.686412403500981e-07\n",
      "Gradient: 2.339027e-06 Loss: 1.6323701383195535e-07\n",
      "Gradient: 1.0845764e-06 Loss: 1.7732645218870857e-07\n",
      "Gradient: 2.985454e-06 Loss: 1.53075904781493e-07\n",
      "Gradient: 4.5349175e-06 Loss: 1.9599109843208377e-07\n",
      "Gradient: 2.254542e-06 Loss: 1.7314843271757734e-07\n",
      "Gradient: 3.0631072e-06 Loss: 2.1153366702719723e-07\n",
      "Gradient: 5.9534113e-07 Loss: 1.6268068089668e-07\n",
      "Gradient: 1.9434435e-06 Loss: 1.9253962998770173e-07\n",
      "Gradient: 1.4735451e-06 Loss: 1.634639815506489e-07\n",
      "Gradient: 7.1466743e-06 Loss: 2.1593866392777272e-07\n",
      "Gradient: 1.6991469e-06 Loss: 1.8975822655420415e-07\n",
      "Gradient: 1.0185273e-06 Loss: 1.3622768193499724e-07\n",
      "Gradient: 1.4031825e-06 Loss: 1.8451305029050975e-07\n",
      "Gradient: 1.0765395e-06 Loss: 1.7523734072710794e-07\n",
      "Gradient: 1.4012357e-06 Loss: 1.82469430853871e-07\n",
      "Gradient: 1.97046e-06 Loss: 1.760207335147849e-07\n",
      "Gradient: 6.4906743e-07 Loss: 1.8842986880448127e-07\n",
      "Gradient: 4.6594237e-06 Loss: 1.978984613515422e-07\n",
      "Gradient: 3.79728e-06 Loss: 1.849784837304469e-07\n",
      "Gradient: 1.497349e-06 Loss: 2.1811853467094504e-07\n",
      "Gradient: 1.4066388e-06 Loss: 1.8400207816663775e-07\n",
      "Gradient: 5.7526313e-07 Loss: 1.5593688544868202e-07\n",
      "Gradient: 5.2931496e-06 Loss: 2.0559597212847318e-07\n",
      "Gradient: 4.6297546e-07 Loss: 1.637365751131862e-07\n",
      "Gradient: 2.9434368e-06 Loss: 1.8436540282588492e-07\n",
      "Gradient: 1.7202156e-06 Loss: 1.6995820999454737e-07\n",
      "Gradient: 2.071921e-06 Loss: 1.674037027517746e-07\n",
      "Gradient: 8.344359e-07 Loss: 1.787682156380773e-07\n",
      "Gradient: 1.8698616e-06 Loss: 1.8167473096279233e-07\n",
      "Gradient: 7.3103746e-07 Loss: 1.710480826015252e-07\n",
      "Gradient: 3.1518748e-06 Loss: 1.797672827782056e-07\n",
      "Gradient: 2.9228847e-06 Loss: 1.8685180028417865e-07\n",
      "Gradient: 1.3249023e-06 Loss: 1.9232402005779175e-07\n",
      "Gradient: 1.3219985e-06 Loss: 1.9308473753198996e-07\n",
      "Gradient: 3.19107e-06 Loss: 2.015882003547631e-07\n",
      "Gradient: 5.6844656e-06 Loss: 2.184478660183231e-07\n",
      "Gradient: 1.2973526e-06 Loss: 1.9652475960659406e-07\n",
      "Gradient: 9.3485494e-07 Loss: 1.5840055217116363e-07\n",
      "Gradient: 1.122911e-06 Loss: 1.6849359975405303e-07\n",
      "Gradient: 1.0944718e-06 Loss: 1.6792586118678325e-07\n",
      "Gradient: 3.2406965e-06 Loss: 1.6609801226271277e-07\n",
      "Gradient: 2.2023974e-06 Loss: 1.9495801405848094e-07\n",
      "Gradient: 3.0833758e-06 Loss: 1.959343011985008e-07\n",
      "Gradient: 4.892603e-06 Loss: 1.725807123875711e-07\n",
      "Gradient: 9.0386527e-07 Loss: 2.014065837367222e-07\n",
      "Gradient: 9.167848e-07 Loss: 1.7352304174285867e-07\n",
      "Gradient: 2.0489015e-06 Loss: 1.73057585565554e-07\n",
      "Gradient: 2.3723323e-06 Loss: 1.8081183033776446e-07\n",
      "Gradient: 1.3962459e-06 Loss: 1.544950301024528e-07\n",
      "Gradient: 1.7074562e-06 Loss: 1.7659972589475122e-07\n",
      "Gradient: 1.6014287e-06 Loss: 2.060045910449541e-07\n",
      "Gradient: 5.9951353e-06 Loss: 2.404845248567729e-07\n",
      "Gradient: 4.6843587e-07 Loss: 1.9613876022598713e-07\n",
      "Gradient: 1.0257669e-06 Loss: 1.7927906128534233e-07\n",
      "Gradient: 2.0384573e-06 Loss: 2.4457153292208507e-07\n",
      "Gradient: 6.9489573e-07 Loss: 1.8350258059740555e-07\n",
      "Gradient: 1.0425038e-06 Loss: 1.7092315971467542e-07\n",
      "Gradient: 2.4067444e-06 Loss: 1.9050756255486098e-07\n",
      "Gradient: 1.2137775e-06 Loss: 1.849784680985067e-07\n",
      "Gradient: 1.664937e-06 Loss: 1.53053183519584e-07\n",
      "Gradient: 1.2511653e-06 Loss: 1.8528502276164243e-07\n",
      "Gradient: 6.2561855e-07 Loss: 1.7480578300421713e-07\n",
      "Gradient: 8.9817775e-07 Loss: 1.735570731871879e-07\n",
      "Gradient: 9.0666015e-07 Loss: 1.6609804352659314e-07\n",
      "Gradient: 4.106253e-06 Loss: 1.9628629483274077e-07\n",
      "Gradient: 2.2734134e-06 Loss: 1.5651591880327942e-07\n",
      "Gradient: 6.5456493e-07 Loss: 1.7900668278040636e-07\n",
      "Gradient: 3.700384e-06 Loss: 1.8544399319845675e-07\n",
      "Gradient: 2.253561e-06 Loss: 1.7998299905267838e-07\n",
      "Gradient: 1.8369182e-06 Loss: 1.6214707609189343e-07\n",
      "Gradient: 3.85201e-06 Loss: 1.9377725664071476e-07\n",
      "Gradient: 1.2704068e-06 Loss: 1.7311438398337487e-07\n",
      "Gradient: 4.304389e-06 Loss: 2.042222516725663e-07\n",
      "Gradient: 1.5311928e-06 Loss: 2.331501266420825e-07\n",
      "Gradient: 2.0966527e-06 Loss: 2.0960353547631408e-07\n",
      "Gradient: 6.123807e-07 Loss: 1.9915863968359797e-07\n",
      "Gradient: 3.8263265e-06 Loss: 1.7460161553610001e-07\n",
      "Gradient: 4.70626e-06 Loss: 1.9169950699430652e-07\n",
      "Gradient: 6.364947e-07 Loss: 1.598310637026164e-07\n",
      "Gradient: 3.1267243e-06 Loss: 1.7194498009113582e-07\n",
      "Gradient: 1.1265366e-06 Loss: 1.8203793340868895e-07\n",
      "Gradient: 1.2069286e-06 Loss: 1.7244453971443362e-07\n",
      "Gradient: 3.1374548e-06 Loss: 1.8217425197993484e-07\n",
      "Gradient: 3.429717e-06 Loss: 1.5866158638762803e-07\n",
      "Gradient: 3.80537e-06 Loss: 1.7990361106020222e-07\n",
      "Gradient: 6.527771e-07 Loss: 2.0756008301721824e-07\n",
      "Gradient: 1.0053105e-06 Loss: 1.5093006714058295e-07\n",
      "Gradient: 1.5807371e-06 Loss: 1.7372733012166465e-07\n",
      "Gradient: 1.713568e-06 Loss: 1.8569373783824024e-07\n",
      "Gradient: 2.3817289e-07 Loss: 1.6118200344787206e-07\n",
      "Gradient: 1.0058388e-06 Loss: 1.70741577676381e-07\n",
      "Gradient: 2.3674193e-06 Loss: 1.8520559261029727e-07\n",
      "Gradient: 2.8375475e-06 Loss: 1.6881145678363889e-07\n",
      "Gradient: 5.2797313e-06 Loss: 1.7217200015314423e-07\n",
      "Gradient: 2.393172e-07 Loss: 1.6303269655774482e-07\n",
      "Gradient: 1.6833317e-06 Loss: 2.0883150095111584e-07\n",
      "Gradient: 4.0794203e-06 Loss: 1.7603209888269095e-07\n",
      "Gradient: 1.5805549e-06 Loss: 1.8048265673087372e-07\n",
      "Gradient: 2.3689317e-06 Loss: 2.0047563348650025e-07\n",
      "Gradient: 4.686247e-06 Loss: 2.1061392298330855e-07\n",
      "Gradient: 1.0446151e-06 Loss: 1.7881365176701063e-07\n",
      "Gradient: 6.3211473e-07 Loss: 1.575377339690931e-07\n",
      "Gradient: 9.2835865e-07 Loss: 1.8694252309122325e-07\n",
      "Gradient: 6.1390045e-07 Loss: 1.8275326828150657e-07\n",
      "Gradient: 2.4465069e-06 Loss: 1.7052582137466744e-07\n",
      "Gradient: 3.4793904e-06 Loss: 2.3568211323284535e-07\n",
      "Gradient: 3.3373652e-07 Loss: 1.878735076843441e-07\n",
      "Gradient: 3.410975e-06 Loss: 2.0003289975534243e-07\n",
      "Gradient: 1.1953097e-06 Loss: 1.5975151844334807e-07\n",
      "Gradient: 2.8866685e-07 Loss: 1.7862060464797953e-07\n",
      "Gradient: 1.2770802e-06 Loss: 1.6881149396870873e-07\n",
      "Gradient: 9.807615e-07 Loss: 1.636684650918596e-07\n",
      "Gradient: 2.455389e-07 Loss: 1.7552117128616374e-07\n",
      "Gradient: 7.826053e-07 Loss: 1.9057564439132573e-07\n",
      "Gradient: 3.1190184e-06 Loss: 1.7264887806807867e-07\n",
      "Gradient: 6.954358e-07 Loss: 1.7159299072015227e-07\n",
      "Gradient: 1.5243922e-06 Loss: 1.85739140571665e-07\n",
      "Gradient: 5.000108e-07 Loss: 1.9775084183493164e-07\n",
      "Gradient: 1.5116275e-06 Loss: 1.6398632768736358e-07\n",
      "Gradient: 9.715033e-07 Loss: 1.8607967670429085e-07\n",
      "Gradient: 1.8000724e-06 Loss: 2.0433576253253705e-07\n",
      "Gradient: 7.142257e-06 Loss: 1.7624777702470357e-07\n",
      "Gradient: 9.040692e-07 Loss: 1.6504209507199145e-07\n",
      "Gradient: 4.389408e-06 Loss: 1.9575262880285512e-07\n",
      "Gradient: 2.3159546e-06 Loss: 1.8108427492317485e-07\n",
      "Gradient: 2.4624671e-06 Loss: 2.0005559520086535e-07\n",
      "Gradient: 6.230937e-07 Loss: 1.8768049490821188e-07\n",
      "Gradient: 3.73839e-07 Loss: 2.0391566704821192e-07\n",
      "Gradient: 3.1895513e-06 Loss: 1.9038266808972065e-07\n",
      "Gradient: 1.1021441e-06 Loss: 1.825034154023797e-07\n",
      "Gradient: 1.1745093e-06 Loss: 1.7990362740268515e-07\n",
      "Gradient: 3.423525e-06 Loss: 1.839566965126475e-07\n",
      "Gradient: 3.663319e-07 Loss: 1.9667217922384833e-07\n",
      "Gradient: 1.8960632e-06 Loss: 2.1113621926360792e-07\n",
      "Gradient: 1.8503115e-06 Loss: 1.64451782325159e-07\n",
      "Gradient: 4.4712087e-06 Loss: 1.7184282820418655e-07\n",
      "Gradient: 7.699513e-07 Loss: 1.8477411861302547e-07\n",
      "Gradient: 1.0600066e-06 Loss: 1.922445643269081e-07\n",
      "Gradient: 1.1332245e-05 Loss: 2.1476913213784126e-07\n",
      "Gradient: 6.4041774e-07 Loss: 1.6213582512136782e-07\n",
      "Gradient: 3.5285854e-07 Loss: 1.6974243877143635e-07\n",
      "Gradient: 2.398538e-06 Loss: 1.8696534264487734e-07\n",
      "Gradient: 6.266862e-07 Loss: 1.8286670666611826e-07\n",
      "Gradient: 1.3730123e-06 Loss: 1.7356844968693016e-07\n",
      "Gradient: 4.084572e-07 Loss: 1.8494449918193823e-07\n",
      "Gradient: 8.8121345e-07 Loss: 1.6929970385604066e-07\n",
      "Gradient: 5.702679e-06 Loss: 1.8148163197414154e-07\n",
      "Gradient: 3.348547e-07 Loss: 1.6705169538037506e-07\n",
      "Gradient: 6.910309e-07 Loss: 1.8981492549604203e-07\n",
      "Gradient: 3.4397904e-06 Loss: 2.5276872648305473e-07\n",
      "Gradient: 6.9388864e-07 Loss: 2.1120444534024804e-07\n",
      "Gradient: 7.3180064e-07 Loss: 1.7312575456192766e-07\n",
      "Gradient: 3.221716e-06 Loss: 2.1761908991872284e-07\n",
      "Gradient: 2.6777577e-06 Loss: 1.7603210788289896e-07\n",
      "Gradient: 2.8437591e-06 Loss: 1.6471291222804514e-07\n",
      "Gradient: 5.391918e-07 Loss: 1.9310744410934907e-07\n",
      "Gradient: 8.6363326e-07 Loss: 1.8923597195907859e-07\n",
      "Gradient: 7.572849e-07 Loss: 1.7671331420388015e-07\n",
      "Gradient: 2.5454588e-06 Loss: 1.7162704324391598e-07\n",
      "Gradient: 9.983222e-07 Loss: 1.7589587244515315e-07\n",
      "Gradient: 1.5882239e-06 Loss: 1.990338117726272e-07\n",
      "Gradient: 1.3737708e-06 Loss: 1.63350607351731e-07\n",
      "Gradient: 2.4863725e-06 Loss: 1.8474009190564782e-07\n",
      "Gradient: 3.4865764e-06 Loss: 1.472290056388677e-07\n",
      "Gradient: 3.6519762e-06 Loss: 1.6699490051526785e-07\n",
      "Gradient: 3.5109038e-06 Loss: 1.8401339427024747e-07\n",
      "Gradient: 1.6196164e-07 Loss: 1.7466975072248184e-07\n",
      "Gradient: 2.0835519e-06 Loss: 2.00713863070708e-07\n",
      "Gradient: 8.2205537e-07 Loss: 1.8476278048259095e-07\n",
      "Gradient: 1.0810832e-06 Loss: 1.8604573786736486e-07\n",
      "Gradient: 1.0185998e-06 Loss: 1.7910882803562346e-07\n",
      "Gradient: 2.2547724e-07 Loss: 1.6781238443286384e-07\n",
      "Gradient: 1.726635e-06 Loss: 1.7388638724469273e-07\n",
      "Gradient: 8.487584e-07 Loss: 1.7812115752728155e-07\n",
      "Gradient: 1.1143869e-06 Loss: 1.7841625350456524e-07\n",
      "Gradient: 7.7859215e-07 Loss: 1.834911510438057e-07\n",
      "Gradient: 1.4188881e-06 Loss: 1.8175418337780986e-07\n",
      "Gradient: 4.8791494e-06 Loss: 1.8786202010308747e-07\n",
      "Gradient: 1.4418333e-06 Loss: 1.6380472563544876e-07\n",
      "Gradient: 3.6317342e-06 Loss: 1.733754065943079e-07\n",
      "Gradient: 1.0523761e-06 Loss: 1.7581644395174105e-07\n",
      "Gradient: 6.2207323e-07 Loss: 1.547219869261577e-07\n",
      "Gradient: 2.0708147e-07 Loss: 1.8317322982852602e-07\n",
      "Gradient: 8.214435e-07 Loss: 1.5255368121340022e-07\n",
      "Gradient: 6.9722404e-07 Loss: 1.884411207223972e-07\n",
      "Gradient: 6.865655e-07 Loss: 1.5776474218872257e-07\n",
      "Gradient: 1.5637893e-06 Loss: 1.872605153607765e-07\n",
      "Gradient: 1.9992494e-06 Loss: 1.8221965293700276e-07\n",
      "Gradient: 1.6543686e-06 Loss: 2.082525554669701e-07\n",
      "Gradient: 2.2633753e-06 Loss: 1.7600933664615088e-07\n",
      "Gradient: 8.967563e-07 Loss: 1.730121487260779e-07\n",
      "Gradient: 8.6966196e-07 Loss: 1.9243751031202313e-07\n",
      "Gradient: 1.4217601e-06 Loss: 1.7168384142488927e-07\n",
      "Gradient: 1.0694663e-07 Loss: 1.5904768417840388e-07\n",
      "Gradient: 1.9518288e-06 Loss: 1.7200169158589536e-07\n",
      "Gradient: 6.27377e-07 Loss: 1.7707662086271133e-07\n",
      "Gradient: 5.1338935e-07 Loss: 1.739772121330437e-07\n",
      "Gradient: 4.928222e-07 Loss: 1.5406352199912968e-07\n",
      "Gradient: 3.7400778e-06 Loss: 1.695380473639337e-07\n",
      "Gradient: 4.391933e-06 Loss: 1.982958572455118e-07\n",
      "Gradient: 1.2048422e-06 Loss: 1.6472435883467067e-07\n",
      "Gradient: 6.8696295e-07 Loss: 1.793473354420409e-07\n",
      "Gradient: 9.443316e-07 Loss: 2.1071619068872375e-07\n",
      "Gradient: 1.557794e-06 Loss: 1.668813898921447e-07\n",
      "Gradient: 2.3225637e-06 Loss: 1.6975369637369416e-07\n",
      "Gradient: 2.681878e-06 Loss: 1.9785305719703197e-07\n",
      "Gradient: 9.442152e-07 Loss: 1.655531339868806e-07\n",
      "Gradient: 4.8031566e-06 Loss: 1.8317333001505175e-07\n",
      "Gradient: 1.1876284e-06 Loss: 1.5799184656846896e-07\n",
      "Gradient: 6.651645e-07 Loss: 1.8299171339701085e-07\n",
      "Gradient: 5.673709e-07 Loss: 1.7956299510994237e-07\n",
      "Gradient: 1.0293331e-06 Loss: 1.5752633970578244e-07\n",
      "Gradient: 1.063677e-06 Loss: 1.6079613989935145e-07\n",
      "Gradient: 1.6865374e-06 Loss: 1.7219479270617436e-07\n",
      "Gradient: 1.7921958e-06 Loss: 1.6364570380270985e-07\n",
      "Gradient: 7.0747836e-07 Loss: 1.7852985176129247e-07\n",
      "Gradient: 3.5840347e-07 Loss: 1.7002620259868687e-07\n",
      "Gradient: 1.4113448e-06 Loss: 1.7930195876184976e-07\n",
      "Gradient: 2.0650273e-07 Loss: 1.956392329323838e-07\n",
      "Gradient: 2.985369e-07 Loss: 1.650535345731896e-07\n",
      "Gradient: 1.3926364e-06 Loss: 1.9823909743384624e-07\n",
      "Gradient: 2.2351405e-06 Loss: 1.8703338990159562e-07\n",
      "Gradient: 7.7225786e-07 Loss: 1.7209251505316084e-07\n",
      "Gradient: 4.3288687e-06 Loss: 1.7351178674592423e-07\n",
      "Gradient: 9.773344e-07 Loss: 1.5672023820911817e-07\n",
      "Gradient: 4.5340257e-06 Loss: 1.9901097729757567e-07\n",
      "Gradient: 2.463546e-06 Loss: 1.9418591013694215e-07\n",
      "Gradient: 4.5061978e-07 Loss: 2.05959238523216e-07\n",
      "Gradient: 1.74711e-06 Loss: 1.8276454577896099e-07\n",
      "Gradient: 5.9462667e-07 Loss: 1.750897709484889e-07\n",
      "Gradient: 3.0999684e-06 Loss: 1.7298939809506918e-07\n",
      "Gradient: 1.2847182e-06 Loss: 1.8160652549189156e-07\n",
      "Gradient: 1.1867244e-06 Loss: 1.7577088584630474e-07\n",
      "Gradient: 3.9123813e-07 Loss: 1.6817569701288448e-07\n",
      "Gradient: 1.2899775e-06 Loss: 1.501694706954974e-07\n",
      "Gradient: 3.2754542e-06 Loss: 2.3221928439435638e-07\n",
      "Gradient: 2.1698797e-06 Loss: 1.851487255066786e-07\n",
      "Gradient: 1.9116342e-06 Loss: 1.7800762369309572e-07\n",
      "Gradient: 1.8046081e-06 Loss: 1.5412038697112015e-07\n",
      "Gradient: 9.2942344e-07 Loss: 1.7689500400782284e-07\n",
      "Gradient: 4.6713566e-07 Loss: 1.595358421961161e-07\n",
      "Gradient: 1.4424877e-06 Loss: 1.7303480935500676e-07\n",
      "Gradient: 1.4236465e-06 Loss: 2.0465338366193463e-07\n",
      "Gradient: 3.323895e-07 Loss: 1.7054851089900088e-07\n",
      "Gradient: 4.4884462e-07 Loss: 1.6204493403411864e-07\n",
      "Gradient: 8.5506645e-07 Loss: 1.7445412889098104e-07\n",
      "Gradient: 5.538197e-07 Loss: 1.9812551196688825e-07\n",
      "Gradient: 5.432351e-07 Loss: 1.5958129537807508e-07\n",
      "Gradient: 1.0554695e-06 Loss: 1.7758745514129258e-07\n",
      "Gradient: 2.9742703e-06 Loss: 1.8724921299432632e-07\n",
      "Gradient: 2.7995277e-06 Loss: 1.5954724403854924e-07\n",
      "Gradient: 2.6366097e-06 Loss: 2.1075030076644907e-07\n",
      "Gradient: 5.7308773e-07 Loss: 1.8419512386458338e-07\n",
      "Gradient: 1.0213892e-06 Loss: 1.692655861991928e-07\n",
      "Gradient: 1.1433544e-06 Loss: 1.7138848633635463e-07\n",
      "Gradient: 1.4487941e-06 Loss: 1.866020961453311e-07\n",
      "Gradient: 1.2317446e-06 Loss: 1.7199044179960766e-07\n",
      "Gradient: 7.081471e-07 Loss: 1.779280440909285e-07\n",
      "Gradient: 5.4321777e-07 Loss: 1.6943589737176504e-07\n",
      "Gradient: 3.8346e-06 Loss: 1.9130221176055784e-07\n",
      "Gradient: 3.5330277e-06 Loss: 1.7322781881527286e-07\n",
      "Gradient: 2.6879343e-06 Loss: 1.9549150943968623e-07\n",
      "Gradient: 1.2229982e-06 Loss: 1.501694318524945e-07\n",
      "Gradient: 1.3795586e-06 Loss: 1.7303492398923482e-07\n",
      "Gradient: 2.2929767e-06 Loss: 1.7610025532614296e-07\n",
      "Gradient: 2.2421138e-07 Loss: 1.765090046272159e-07\n",
      "Gradient: 6.8130817e-07 Loss: 1.671653350854285e-07\n",
      "Gradient: 2.0948578e-06 Loss: 1.7815519631388573e-07\n",
      "Gradient: 4.2602537e-07 Loss: 1.6266933921353182e-07\n",
      "Gradient: 1.7376067e-06 Loss: 1.53268784449286e-07\n",
      "Gradient: 2.7957892e-06 Loss: 1.9486718159100746e-07\n",
      "Gradient: 1.3354008e-06 Loss: 1.8410420921100012e-07\n",
      "Gradient: 2.7464732e-06 Loss: 1.6917472720479054e-07\n",
      "Gradient: 1.736563e-06 Loss: 2.1382701641906958e-07\n",
      "Gradient: 1.1831888e-06 Loss: 1.7521467915078878e-07\n",
      "Gradient: 2.942714e-07 Loss: 1.7514652036846693e-07\n",
      "Gradient: 4.094526e-06 Loss: 1.8086851980569917e-07\n",
      "Gradient: 1.386453e-06 Loss: 1.7107083039036297e-07\n",
      "Gradient: 1.0343582e-06 Loss: 1.7440867689325993e-07\n",
      "Gradient: 7.5721425e-07 Loss: 1.8581856764399163e-07\n",
      "Gradient: 1.5333908e-06 Loss: 1.7038958759485469e-07\n",
      "Gradient: 1.8844629e-06 Loss: 1.8713550732722222e-07\n",
      "Gradient: 5.9020715e-07 Loss: 2.1306635768307086e-07\n",
      "Gradient: 2.1036785e-06 Loss: 1.9892023459533447e-07\n",
      "Gradient: 3.2854618e-07 Loss: 1.8777126105836336e-07\n",
      "Gradient: 2.309808e-07 Loss: 1.8776009274764268e-07\n",
      "Gradient: 1.6681914e-06 Loss: 1.985910391984665e-07\n",
      "Gradient: 6.7940186e-07 Loss: 1.7906349469853922e-07\n",
      "Gradient: 1.4848e-06 Loss: 1.8397933179888544e-07\n",
      "Gradient: 4.6802006e-07 Loss: 1.6382743600236912e-07\n",
      "Gradient: 3.0266206e-06 Loss: 1.9680866335155162e-07\n",
      "Gradient: 1.8158568e-06 Loss: 1.7951758432369995e-07\n",
      "Gradient: 9.3160537e-07 Loss: 1.7452210296179753e-07\n",
      "Gradient: 3.277529e-07 Loss: 1.6878877791744648e-07\n",
      "Gradient: 1.9935364e-06 Loss: 1.8852054542624804e-07\n",
      "Gradient: 3.77791e-06 Loss: 1.894515828363789e-07\n",
      "Gradient: 7.4233935e-07 Loss: 1.5097556153402061e-07\n",
      "Gradient: 9.67006e-07 Loss: 1.9228999263987135e-07\n",
      "Gradient: 1.1402173e-06 Loss: 1.7092319192594612e-07\n",
      "Gradient: 1.5664896e-06 Loss: 1.724558134223268e-07\n",
      "Gradient: 7.674954e-07 Loss: 1.6828921616252047e-07\n",
      "Gradient: 1.1063858e-06 Loss: 1.8617050538220306e-07\n",
      "Gradient: 1.8286715e-06 Loss: 1.7780331068214158e-07\n",
      "Gradient: 1.1718271e-06 Loss: 1.8333225995093017e-07\n",
      "Gradient: 6.3904525e-07 Loss: 1.694131195032848e-07\n",
      "Gradient: 1.0252163e-06 Loss: 1.9366374175433522e-07\n",
      "Gradient: 7.1013505e-07 Loss: 1.8543254457862682e-07\n",
      "Gradient: 2.9626597e-07 Loss: 1.7595265073092984e-07\n",
      "Gradient: 1.0714402e-06 Loss: 1.8207202003850398e-07\n",
      "Gradient: 2.480223e-07 Loss: 1.6939042666308523e-07\n",
      "Gradient: 2.9182545e-06 Loss: 1.938453299506667e-07\n",
      "Gradient: 1.5685554e-06 Loss: 1.9048489742582813e-07\n",
      "Gradient: 4.4310758e-07 Loss: 1.7547578134250823e-07\n",
      "Gradient: 9.330322e-07 Loss: 1.6588237627956914e-07\n",
      "Gradient: 2.3133634e-06 Loss: 1.8603430428735617e-07\n",
      "Gradient: 1.4273232e-06 Loss: 2.0081620680419595e-07\n",
      "Gradient: 7.110437e-07 Loss: 1.6422479021116487e-07\n",
      "Gradient: 3.9943197e-07 Loss: 1.7566869274787679e-07\n",
      "Gradient: 3.242354e-07 Loss: 1.7779190599753747e-07\n",
      "Gradient: 9.4924786e-07 Loss: 1.904507354784831e-07\n",
      "Gradient: 1.3071706e-06 Loss: 1.7729234400576387e-07\n",
      "Gradient: 1.4604384e-06 Loss: 2.0933115933985392e-07\n",
      "Gradient: 7.551802e-07 Loss: 1.8456981744445027e-07\n",
      "Gradient: 5.864494e-07 Loss: 1.7260343554426072e-07\n",
      "Gradient: 3.024916e-07 Loss: 1.551080908749706e-07\n",
      "Gradient: 7.534023e-07 Loss: 1.919265494384111e-07\n",
      "Gradient: 2.5862535e-06 Loss: 2.185728353272983e-07\n",
      "Gradient: 4.517272e-07 Loss: 1.8265097831241898e-07\n",
      "Gradient: 1.1240313e-06 Loss: 1.691407876573218e-07\n",
      "Gradient: 1.2076468e-06 Loss: 1.8833898517793084e-07\n",
      "Gradient: 1.1792988e-06 Loss: 1.7888181034209082e-07\n",
      "Gradient: 8.706372e-07 Loss: 1.7545311171337137e-07\n",
      "Gradient: 1.9280292e-06 Loss: 1.8751024117117746e-07\n",
      "Gradient: 2.8204636e-07 Loss: 1.52985031576236e-07\n",
      "Gradient: 1.0434944e-06 Loss: 1.809140291205343e-07\n",
      "Gradient: 2.9434966e-07 Loss: 1.7958571210859494e-07\n",
      "Gradient: 7.476244e-07 Loss: 1.8914515038659373e-07\n",
      "Gradient: 1.2003926e-06 Loss: 1.6665432435540122e-07\n",
      "Gradient: 3.8516316e-07 Loss: 1.75998108886688e-07\n",
      "Gradient: 1.3736255e-06 Loss: 1.6532590407791758e-07\n",
      "Gradient: 1.6454641e-06 Loss: 1.6112534725702214e-07\n",
      "Gradient: 1.1372894e-06 Loss: 1.8765771443440825e-07\n",
      "Gradient: 2.3648938e-07 Loss: 1.5530105959745318e-07\n",
      "Gradient: 2.0728805e-06 Loss: 1.9174493672835525e-07\n",
      "Gradient: 1.600784e-07 Loss: 1.71434125325239e-07\n",
      "Gradient: 1.7387595e-06 Loss: 1.5745830310720522e-07\n",
      "Gradient: 1.125716e-06 Loss: 1.9056424065411194e-07\n",
      "Gradient: 1.5737492e-06 Loss: 1.6948133610602175e-07\n",
      "Gradient: 2.1922375e-07 Loss: 1.94583347479238e-07\n",
      "Gradient: 9.725741e-07 Loss: 1.7851851007814428e-07\n",
      "Gradient: 1.0078106e-06 Loss: 1.8757829636228963e-07\n",
      "Gradient: 2.5172294e-06 Loss: 1.7823471125666402e-07\n",
      "Gradient: 1.8336689e-06 Loss: 1.7876824784934797e-07\n",
      "Gradient: 9.3868556e-07 Loss: 1.7336411228067543e-07\n",
      "Gradient: 2.2951446e-07 Loss: 2.043584430566625e-07\n",
      "Gradient: 1.7381614e-06 Loss: 1.7153628988353377e-07\n",
      "Gradient: 8.38466e-07 Loss: 1.7615701040085696e-07\n",
      "Gradient: 2.112713e-06 Loss: 1.90076017266468e-07\n",
      "Gradient: 1.3461395e-06 Loss: 1.7845038442487747e-07\n",
      "Gradient: 1.8114723e-06 Loss: 1.966496299132814e-07\n",
      "Gradient: 8.9346406e-07 Loss: 1.65314644107184e-07\n",
      "Gradient: 1.1100017e-06 Loss: 1.817769529566249e-07\n",
      "Gradient: 8.453879e-07 Loss: 2.0711730831142934e-07\n",
      "Gradient: 9.983039e-07 Loss: 1.582301744444218e-07\n",
      "Gradient: 4.2602287e-06 Loss: 2.11942508580402e-07\n",
      "Gradient: 6.761849e-07 Loss: 1.6639326621733138e-07\n",
      "Gradient: 1.2087487e-06 Loss: 1.7464705261242369e-07\n",
      "Gradient: 1.3006479e-06 Loss: 1.7711068380776852e-07\n",
      "Gradient: 3.9169317e-06 Loss: 1.9065503972607682e-07\n",
      "Gradient: 5.655502e-07 Loss: 1.6490598563715746e-07\n",
      "Gradient: 5.319137e-07 Loss: 1.801420426753945e-07\n",
      "Gradient: 1.1799815e-06 Loss: 1.8219694955708595e-07\n",
      "Gradient: 1.4746695e-06 Loss: 2.0900185641418526e-07\n",
      "Gradient: 8.6901895e-07 Loss: 1.723424304600485e-07\n",
      "Gradient: 3.6832162e-07 Loss: 1.9192672221871968e-07\n",
      "Gradient: 7.087764e-07 Loss: 1.5399547758458236e-07\n",
      "Gradient: 2.2614095e-06 Loss: 1.8963332427309372e-07\n",
      "Gradient: 9.649059e-07 Loss: 1.9108643177408641e-07\n",
      "Gradient: 1.0958624e-06 Loss: 1.7611160008830968e-07\n",
      "Gradient: 1.3650824e-06 Loss: 1.9772807201926905e-07\n",
      "Gradient: 1.1312243e-06 Loss: 1.7846171544988466e-07\n",
      "Gradient: 1.7712621e-06 Loss: 1.9356153065549128e-07\n",
      "Gradient: 3.898855e-07 Loss: 1.644972321912519e-07\n",
      "Gradient: 7.218892e-07 Loss: 1.956617704005718e-07\n",
      "Gradient: 1.1619613e-06 Loss: 1.974782814310553e-07\n",
      "Gradient: 4.6945337e-07 Loss: 1.8124330244025563e-07\n",
      "Gradient: 3.457659e-07 Loss: 1.8492171053689313e-07\n",
      "Gradient: 1.286726e-06 Loss: 2.0625441479182883e-07\n",
      "Gradient: 7.4970517e-06 Loss: 2.168243585269162e-07\n",
      "Gradient: 1.9410297e-06 Loss: 2.0459682019691173e-07\n",
      "Gradient: 1.5500223e-06 Loss: 1.7405662144180194e-07\n",
      "Gradient: 2.6097288e-07 Loss: 1.7175189128693092e-07\n",
      "Gradient: 2.5685335e-06 Loss: 1.7319382384547073e-07\n",
      "Gradient: 9.249029e-07 Loss: 1.7464711892974568e-07\n",
      "Gradient: 1.5508838e-06 Loss: 1.9361825636110553e-07\n",
      "Gradient: 7.945992e-07 Loss: 1.833435571067336e-07\n",
      "Gradient: 2.0263242e-06 Loss: 2.1009192063085418e-07\n",
      "Gradient: 3.0444553e-06 Loss: 1.789498886258419e-07\n",
      "Gradient: 1.1285027e-06 Loss: 2.023716478542307e-07\n",
      "Gradient: 3.853039e-07 Loss: 1.8200394601800933e-07\n",
      "Gradient: 1.0379014e-06 Loss: 1.7057128663585292e-07\n",
      "Gradient: 2.1148132e-06 Loss: 1.8789619720867753e-07\n",
      "Gradient: 5.5780885e-07 Loss: 1.7019656368688628e-07\n",
      "Gradient: 1.3530524e-06 Loss: 2.0513054271494487e-07\n",
      "Gradient: 2.30152e-06 Loss: 1.7375014872792843e-07\n",
      "Gradient: 2.8719367e-06 Loss: 1.9731941852304166e-07\n",
      "Gradient: 1.2630517e-06 Loss: 1.8426326988674191e-07\n",
      "Gradient: 1.0610075e-06 Loss: 1.7515796457701072e-07\n",
      "Gradient: 1.1188557e-06 Loss: 2.1265773095061983e-07\n",
      "Gradient: 4.4411775e-07 Loss: 1.6448586848127889e-07\n",
      "Gradient: 7.985356e-07 Loss: 2.023147966193998e-07\n",
      "Gradient: 1.7112711e-06 Loss: 1.5795772488521226e-07\n",
      "Gradient: 2.3186562e-06 Loss: 1.6931094393157764e-07\n",
      "Gradient: 1.3514289e-06 Loss: 1.7761027824766035e-07\n",
      "Gradient: 1.6586681e-06 Loss: 1.993176115414978e-07\n",
      "Gradient: 1.6490097e-07 Loss: 1.5343915116261542e-07\n",
      "Gradient: 1.0612694e-06 Loss: 1.837977665767691e-07\n",
      "Gradient: 1.0057796e-06 Loss: 1.9025773501842498e-07\n",
      "Gradient: 1.1689021e-06 Loss: 1.855348095602949e-07\n",
      "Gradient: 2.3929304e-06 Loss: 1.8930401589993078e-07\n",
      "Gradient: 3.0310493e-06 Loss: 1.8761252249532844e-07\n",
      "Gradient: 2.5126974e-06 Loss: 1.7261478220120806e-07\n",
      "Gradient: 3.1728183e-07 Loss: 1.4759224396717247e-07\n",
      "Gradient: 1.541983e-06 Loss: 1.7588458121053918e-07\n",
      "Gradient: 7.689869e-07 Loss: 2.0069143265762554e-07\n",
      "Gradient: 7.2273053e-07 Loss: 1.7108211475639715e-07\n",
      "Gradient: 3.3436552e-07 Loss: 1.8231039717875318e-07\n",
      "Gradient: 9.32671e-07 Loss: 1.9337984250948162e-07\n",
      "Gradient: 1.6560389e-06 Loss: 2.0980810144048216e-07\n",
      "Gradient: 2.7895267e-06 Loss: 1.659505130646721e-07\n",
      "Gradient: 2.335701e-06 Loss: 1.7966513136495146e-07\n",
      "Gradient: 6.6714324e-07 Loss: 1.8156116207516486e-07\n",
      "Gradient: 6.782294e-07 Loss: 1.8226504323592961e-07\n",
      "Gradient: 1.822262e-06 Loss: 1.9140427459281758e-07\n",
      "Gradient: 1.6017866e-06 Loss: 2.2921076805459962e-07\n",
      "Gradient: 1.1022123e-06 Loss: 1.6118211618731947e-07\n",
      "Gradient: 3.675123e-07 Loss: 1.9255116493847405e-07\n",
      "Gradient: 9.314699e-07 Loss: 1.723649688756268e-07\n",
      "Gradient: 2.4782292e-07 Loss: 1.7124106766649068e-07\n",
      "Gradient: 8.9439663e-07 Loss: 1.750557643731554e-07\n",
      "Gradient: 1.7330366e-06 Loss: 1.8840717454319627e-07\n",
      "Gradient: 1.5488085e-06 Loss: 1.8806653135546487e-07\n",
      "Gradient: 2.5062382e-06 Loss: 2.0415399054248459e-07\n",
      "Gradient: 2.4250795e-07 Loss: 1.9337982143004714e-07\n",
      "Gradient: 2.4266933e-07 Loss: 1.7029866938855776e-07\n",
      "Gradient: 2.4333813e-06 Loss: 1.578101695542955e-07\n",
      "Gradient: 3.4846084e-06 Loss: 2.0935393033975439e-07\n",
      "Gradient: 7.598994e-07 Loss: 1.6400905143617212e-07\n",
      "Gradient: 1.244247e-06 Loss: 1.9099557941141635e-07\n",
      "Gradient: 1.4133403e-06 Loss: 1.858525986146257e-07\n",
      "Gradient: 8.92785e-07 Loss: 1.6900444990142205e-07\n",
      "Gradient: 3.1782424e-06 Loss: 1.9235814789908546e-07\n",
      "Gradient: 2.9282882e-07 Loss: 1.658482939130105e-07\n",
      "Gradient: 2.5599866e-06 Loss: 1.805733826169368e-07\n",
      "Gradient: 8.525957e-07 Loss: 1.754417719250038e-07\n",
      "Gradient: 1.122994e-06 Loss: 1.6104584238026595e-07\n",
      "Gradient: 1.1179682e-06 Loss: 1.598083227823584e-07\n",
      "Gradient: 1.6583415e-06 Loss: 1.8259423958018792e-07\n",
      "Gradient: 1.0937457e-06 Loss: 1.892586363775687e-07\n",
      "Gradient: 1.7255725e-06 Loss: 2.3450143042206642e-07\n",
      "Gradient: 5.0735133e-07 Loss: 1.8848658290456417e-07\n",
      "Gradient: 4.777762e-07 Loss: 1.7325059976277164e-07\n",
      "Gradient: 7.9651136e-07 Loss: 1.9834126400534538e-07\n",
      "Gradient: 9.1611673e-07 Loss: 1.6900449561300472e-07\n",
      "Gradient: 1.4430764e-06 Loss: 1.7309161772042597e-07\n",
      "Gradient: 9.798882e-07 Loss: 1.6722193431443582e-07\n",
      "Gradient: 6.9172e-07 Loss: 1.7243318760999198e-07\n",
      "Gradient: 6.964281e-07 Loss: 1.9630898104120812e-07\n",
      "Gradient: 2.7414042e-06 Loss: 1.9048483181904886e-07\n",
      "Gradient: 4.8746335e-07 Loss: 1.6789187995414068e-07\n",
      "Gradient: 7.913941e-06 Loss: 2.086839685944142e-07\n",
      "Gradient: 1.0793351e-06 Loss: 1.8488766334219994e-07\n",
      "Gradient: 8.465256e-07 Loss: 1.8795289449258235e-07\n",
      "Gradient: 7.2361854e-07 Loss: 1.831392656489091e-07\n",
      "Gradient: 7.1057536e-07 Loss: 1.95253136799541e-07\n",
      "Gradient: 3.0615774e-07 Loss: 1.692429028328964e-07\n",
      "Gradient: 4.6504826e-07 Loss: 1.7273970544332922e-07\n",
      "Gradient: 5.1692246e-07 Loss: 1.445155381437265e-07\n",
      "Gradient: 1.4032873e-06 Loss: 1.9936304530195532e-07\n",
      "Gradient: 1.046378e-06 Loss: 1.5534658407053333e-07\n",
      "Gradient: 3.4731278e-07 Loss: 1.6664302269949378e-07\n",
      "Gradient: 1.0727496e-06 Loss: 1.7092323811122394e-07\n",
      "Gradient: 1.760737e-06 Loss: 1.6276021005031302e-07\n",
      "Gradient: 2.764076e-07 Loss: 1.845811607855315e-07\n",
      "Gradient: 1.4161164e-06 Loss: 1.9978299832246192e-07\n",
      "Gradient: 1.6072581e-06 Loss: 2.039495100802924e-07\n",
      "Gradient: 7.6675116e-07 Loss: 1.8043706262460546e-07\n",
      "Gradient: 1.1193761e-06 Loss: 1.808232276800936e-07\n",
      "Gradient: 2.561732e-06 Loss: 1.8480814579409828e-07\n",
      "Gradient: 1.2697723e-06 Loss: 1.9601387748480193e-07\n",
      "Gradient: 6.765248e-07 Loss: 1.7863204580711073e-07\n",
      "Gradient: 2.2076802e-06 Loss: 1.7692902763618196e-07\n",
      "Gradient: 2.0508114e-06 Loss: 1.9812557141563048e-07\n",
      "Gradient: 3.231068e-07 Loss: 1.6608668929052328e-07\n",
      "Gradient: 9.475014e-07 Loss: 1.62374204511669e-07\n",
      "Gradient: 3.5309176e-07 Loss: 1.9228998624498672e-07\n",
      "Gradient: 2.4456788e-06 Loss: 1.9048467407856152e-07\n",
      "Gradient: 8.624047e-07 Loss: 1.8047107713433282e-07\n",
      "Gradient: 4.850798e-07 Loss: 1.6428154315425065e-07\n",
      "Gradient: 8.239349e-07 Loss: 1.884298718834998e-07\n",
      "Gradient: 1.7113807e-06 Loss: 1.9302796848326881e-07\n",
      "Gradient: 1.7471909e-06 Loss: 1.826736858371684e-07\n",
      "Gradient: 1.939258e-06 Loss: 1.779620977989301e-07\n",
      "Gradient: 7.2109515e-07 Loss: 1.5472211979764932e-07\n",
      "Gradient: 8.964847e-07 Loss: 1.9951048765657712e-07\n",
      "Gradient: 2.321687e-06 Loss: 1.532347437679012e-07\n",
      "Gradient: 5.790812e-07 Loss: 1.9980576766442936e-07\n",
      "Gradient: 1.9247154e-06 Loss: 1.844335426900064e-07\n",
      "Gradient: 6.428247e-07 Loss: 1.567543516027096e-07\n",
      "Gradient: 8.7904914e-07 Loss: 1.9113194795750133e-07\n",
      "Gradient: 3.193071e-07 Loss: 1.725466840222604e-07\n",
      "Gradient: 1.3071002e-06 Loss: 1.6343004508219868e-07\n",
      "Gradient: 2.810857e-06 Loss: 2.031890585859249e-07\n",
      "Gradient: 3.2491323e-07 Loss: 1.768155006705759e-07\n",
      "Gradient: 4.185705e-06 Loss: 1.8422907572812618e-07\n",
      "Gradient: 7.2384717e-07 Loss: 2.1271436736469696e-07\n",
      "Gradient: 5.376427e-07 Loss: 1.7790547299038432e-07\n",
      "Gradient: 5.436759e-07 Loss: 1.8360478198549875e-07\n",
      "Gradient: 1.4165556e-07 Loss: 1.9278949565659785e-07\n",
      "Gradient: 1.302119e-06 Loss: 1.8824818113216679e-07\n",
      "Gradient: 6.244737e-07 Loss: 1.6441771156413172e-07\n",
      "Gradient: 7.084067e-07 Loss: 1.8612506380577543e-07\n",
      "Gradient: 1.9050945e-06 Loss: 2.2490790006675827e-07\n",
      "Gradient: 2.7672709e-06 Loss: 1.9634306530254738e-07\n",
      "Gradient: 1.7864426e-07 Loss: 1.8321872043240244e-07\n",
      "Gradient: 1.4879188e-06 Loss: 2.053007875701951e-07\n",
      "Gradient: 2.2657883e-07 Loss: 2.006346096076565e-07\n",
      "Gradient: 1.7269481e-06 Loss: 2.2578214474341014e-07\n",
      "Gradient: 2.0369534e-06 Loss: 1.7681544809041346e-07\n",
      "Gradient: 2.135994e-06 Loss: 2.147125679622756e-07\n",
      "Gradient: 4.0171162e-07 Loss: 1.790634816719224e-07\n",
      "Gradient: 2.5442491e-06 Loss: 1.8825958842209426e-07\n",
      "Gradient: 4.2638617e-06 Loss: 2.1980995962659714e-07\n",
      "Gradient: 4.2630327e-07 Loss: 1.6170429499121988e-07\n",
      "Gradient: 6.426077e-07 Loss: 1.8677230192073088e-07\n",
      "Gradient: 1.239957e-06 Loss: 1.6800539673530087e-07\n",
      "Gradient: 1.8008193e-06 Loss: 1.7582770581725526e-07\n",
      "Gradient: 3.5530513e-07 Loss: 1.8063016185010384e-07\n",
      "Gradient: 2.0043735e-06 Loss: 1.7831406064298488e-07\n",
      "Gradient: 1.3699664e-06 Loss: 1.7655445153271406e-07\n",
      "Gradient: 1.8311624e-06 Loss: 1.856028750542767e-07\n",
      "Gradient: 1.8225471e-06 Loss: 1.9621823454940568e-07\n",
      "Gradient: 6.8691963e-07 Loss: 1.820606892503444e-07\n",
      "Gradient: 1.2560924e-06 Loss: 1.9140442238570662e-07\n",
      "Gradient: 1.5816855e-06 Loss: 1.9575262323693703e-07\n",
      "Gradient: 1.8558697e-07 Loss: 1.6216974572103026e-07\n",
      "Gradient: 3.9343098e-07 Loss: 1.9071180545893185e-07\n",
      "Gradient: 6.99517e-07 Loss: 1.8185637102874351e-07\n",
      "Gradient: 7.5149256e-07 Loss: 1.9224452690499069e-07\n",
      "Gradient: 1.3079598e-06 Loss: 1.6086421202506548e-07\n",
      "Gradient: 3.473757e-07 Loss: 1.669836069121781e-07\n",
      "Gradient: 3.560068e-07 Loss: 1.533937691533538e-07\n",
      "Gradient: 1.9719653e-06 Loss: 1.847853946893944e-07\n",
      "Gradient: 2.2102242e-06 Loss: 1.8931541963714457e-07\n",
      "Gradient: 1.8432041e-07 Loss: 2.0241695869079498e-07\n",
      "Gradient: 1.5791402e-06 Loss: 1.706733911532865e-07\n",
      "Gradient: 1.935709e-06 Loss: 1.9062103717715217e-07\n",
      "Gradient: 1.0449061e-06 Loss: 1.8060755593296563e-07\n",
      "Gradient: 7.989578e-07 Loss: 1.8034631755388848e-07\n",
      "Gradient: 4.9727794e-07 Loss: 1.701056982975994e-07\n",
      "Gradient: 2.719716e-06 Loss: 1.9633174351459576e-07\n",
      "Gradient: 4.4527604e-07 Loss: 1.7786000654496094e-07\n",
      "Gradient: 7.240454e-07 Loss: 1.8278730043637855e-07\n",
      "Gradient: 6.7514975e-07 Loss: 1.8564831769651846e-07\n",
      "Gradient: 6.5592474e-07 Loss: 1.7258063801743145e-07\n",
      "Gradient: 4.923163e-07 Loss: 1.7766692863574463e-07\n",
      "Gradient: 2.5431083e-07 Loss: 1.7599810675505978e-07\n",
      "Gradient: 5.5707335e-07 Loss: 1.711956322481001e-07\n",
      "Gradient: 2.3068415e-06 Loss: 2.0280310243000106e-07\n",
      "Gradient: 9.091377e-07 Loss: 1.7186538888343725e-07\n",
      "Gradient: 7.097682e-07 Loss: 2.089904479400199e-07\n",
      "Gradient: 8.6837537e-07 Loss: 1.8709017529279967e-07\n",
      "Gradient: 1.0530671e-06 Loss: 1.7780321712734803e-07\n",
      "Gradient: 1.1501379e-06 Loss: 1.8769177311620904e-07\n",
      "Gradient: 9.327868e-08 Loss: 1.7642946848657932e-07\n",
      "Gradient: 4.6407416e-07 Loss: 1.9116592066363108e-07\n",
      "Gradient: 8.4514215e-07 Loss: 1.9316408431298744e-07\n",
      "Gradient: 9.837854e-07 Loss: 1.7813253923767056e-07\n",
      "Gradient: 4.5189267e-07 Loss: 1.7891580939751368e-07\n",
      "Gradient: 7.5216514e-07 Loss: 1.86386279447485e-07\n",
      "Gradient: 8.2357457e-07 Loss: 1.7742863202367214e-07\n",
      "Gradient: 1.5169654e-06 Loss: 1.7068473994186207e-07\n",
      "Gradient: 3.205418e-07 Loss: 1.9157467576746967e-07\n",
      "Gradient: 1.6047575e-06 Loss: 1.7925649468490215e-07\n",
      "Gradient: 1.6989068e-06 Loss: 1.8016471751517807e-07\n",
      "Gradient: 1.5164678e-06 Loss: 1.7127515026989688e-07\n",
      "Gradient: 6.2078277e-07 Loss: 1.491817405015657e-07\n",
      "Gradient: 1.0966966e-06 Loss: 1.5866172423291876e-07\n",
      "Gradient: 1.312274e-06 Loss: 1.9433348275773217e-07\n",
      "Gradient: 1.3098555e-06 Loss: 2.0011233559102948e-07\n",
      "Gradient: 6.778848e-07 Loss: 1.5800323325265708e-07\n",
      "Gradient: 6.5175084e-07 Loss: 1.6610943186871434e-07\n",
      "Gradient: 7.506569e-07 Loss: 1.8869102902385748e-07\n",
      "Gradient: 2.550555e-07 Loss: 1.89962491958795e-07\n",
      "Gradient: 1.8386447e-06 Loss: 1.773491476342315e-07\n",
      "Gradient: 4.0681658e-07 Loss: 1.5465402138185407e-07\n",
      "Gradient: 1.027305e-06 Loss: 2.0760547769782534e-07\n",
      "Gradient: 2.1095175e-06 Loss: 1.994990986039132e-07\n",
      "Gradient: 3.852918e-07 Loss: 2.0341616320251886e-07\n",
      "Gradient: 4.9485493e-07 Loss: 1.6981059616227868e-07\n",
      "Gradient: 1.1392367e-06 Loss: 1.8639768910588829e-07\n",
      "Gradient: 2.3732798e-07 Loss: 1.7568012230147664e-07\n",
      "Gradient: 4.4765088e-07 Loss: 2.016108043771207e-07\n",
      "Gradient: 2.237456e-06 Loss: 2.2189905971951399e-07\n",
      "Gradient: 2.018612e-06 Loss: 1.7701988639373666e-07\n",
      "Gradient: 8.9419336e-07 Loss: 1.9303932674574753e-07\n",
      "Gradient: 2.5258046e-07 Loss: 1.6870934504235417e-07\n",
      "Gradient: 7.863921e-07 Loss: 1.605008844052236e-07\n",
      "Gradient: 1.4541874e-06 Loss: 1.7508985621361718e-07\n",
      "Gradient: 4.1011512e-07 Loss: 1.8280994590706238e-07\n",
      "Gradient: 1.0155683e-06 Loss: 1.9852290430814416e-07\n",
      "Gradient: 6.768695e-07 Loss: 1.6898181390464136e-07\n",
      "Gradient: 1.1784549e-06 Loss: 1.8248068253493936e-07\n",
      "Gradient: 3.852146e-07 Loss: 1.6247641004459487e-07\n",
      "Gradient: 5.8248963e-07 Loss: 1.7619113397889427e-07\n",
      "Gradient: 6.1458854e-07 Loss: 1.6713118261198664e-07\n",
      "Gradient: 1.1725567e-07 Loss: 1.539046809106992e-07\n",
      "Gradient: 1.3889297e-06 Loss: 1.9873853815965958e-07\n",
      "Gradient: 5.067946e-07 Loss: 1.9677443863959827e-07\n",
      "Gradient: 1.4279234e-06 Loss: 2.070719086570231e-07\n",
      "Gradient: 1.3513624e-06 Loss: 1.6931107632937407e-07\n",
      "Gradient: 7.844162e-07 Loss: 1.9302794669329159e-07\n",
      "Gradient: 3.8339135e-07 Loss: 1.8712419110518871e-07\n",
      "Gradient: 4.10365e-07 Loss: 1.6446312921895394e-07\n",
      "Gradient: 1.2600026e-06 Loss: 1.7351173037620052e-07\n",
      "Gradient: 2.03423e-06 Loss: 1.7168382745088215e-07\n",
      "Gradient: 7.2188004e-07 Loss: 2.0433570616281334e-07\n",
      "Gradient: 1.1946227e-06 Loss: 1.8224240297589252e-07\n",
      "Gradient: 1.7543954e-06 Loss: 2.1042110773805688e-07\n",
      "Gradient: 6.464621e-07 Loss: 1.723422821934643e-07\n",
      "Gradient: 3.4257224e-07 Loss: 1.8896342387127638e-07\n",
      "Gradient: 1.014542e-06 Loss: 1.7974468183486654e-07\n",
      "Gradient: 1.0788619e-06 Loss: 1.588205928252743e-07\n",
      "Gradient: 6.833666e-07 Loss: 1.9307325658246554e-07\n",
      "Gradient: 1.5471336e-06 Loss: 2.0305281083210503e-07\n",
      "Gradient: 1.913486e-06 Loss: 1.829462031347854e-07\n",
      "Gradient: 3.559839e-07 Loss: 1.5410900952398758e-07\n",
      "Gradient: 8.622221e-07 Loss: 1.6691543625787137e-07\n",
      "Gradient: 7.5457365e-07 Loss: 1.7454489219896157e-07\n",
      "Gradient: 1.9762615e-06 Loss: 1.7896123907235051e-07\n",
      "Gradient: 3.8217303e-07 Loss: 1.6861851162749038e-07\n",
      "Gradient: 9.709571e-07 Loss: 1.7910892514313066e-07\n",
      "Gradient: 4.6173378e-07 Loss: 1.644859357459912e-07\n",
      "Gradient: 1.3355225e-06 Loss: 1.8086855249066503e-07\n",
      "Gradient: 1.28578e-06 Loss: 2.0897924031260117e-07\n",
      "Gradient: 1.3307656e-06 Loss: 1.8421783281041827e-07\n",
      "Gradient: 2.0577188e-06 Loss: 2.0548244326808646e-07\n"
     ]
    },
    {
     "name": "stderr",
     "output_type": "stream",
     "text": [
      "Clipping input data to the valid range for imshow with RGB data ([0..1] for floats or [0..255] for integers).\n"
     ]
    },
    {
     "name": "stdout",
     "output_type": "stream",
     "text": [
      "Gradient: 3.404075e-07 Loss: 1.802214789847767e-07\n"
     ]
    },
    {
     "data": {
      "image/png": "[encoded data removed]",
      "text/plain": [
       "<Figure size 640x480 with 1 Axes>"
      ]
     },
     "metadata": {},
     "output_type": "display_data"
    },
    {
     "name": "stdout",
     "output_type": "stream",
     "text": [
      "Noise max val: tensor(0.1255, device='cuda:5', grad_fn=<MaxBackward1>)\n"
     ]
    }
   ],
   "source": [
    "#Trigger generating stage\n",
    "for param in poi_warm_up_model.parameters():\n",
    "    param.requires_grad = False\n",
    "\n",
    "batch_pert = torch.autograd.Variable(noise.cuda(), requires_grad=True)\n",
    "batch_opt = torch.optim.RAdam(params=[batch_pert],lr=generating_lr_tri)\n",
    "for minmin in tqdm.notebook.tqdm(range(gen_round)):\n",
    "    loss_list = []\n",
    "    for images, labels in trigger_gen_loaders:\n",
    "        images, labels = images.cuda(), labels.cuda()\n",
    "        new_images = torch.clone(images)\n",
    "        clamp_batch_pert = torch.clamp(batch_pert,-l_inf_r*2,l_inf_r*2)\n",
    "        new_images = torch.clamp(apply_noise_patch(clamp_batch_pert,new_images.clone(),mode=patch_mode),-1,1)\n",
    "        per_logits = poi_warm_up_model.forward(new_images)\n",
    "        loss = criterion(per_logits, labels)\n",
    "\n",
    "        loss_regu = torch.mean(loss)\n",
    "        batch_opt.zero_grad()\n",
    "        loss_list.append(float(loss_regu.data))\n",
    "        loss_regu.backward(retain_graph = True)\n",
    "        batch_opt.step()\n",
    "    ave_loss = np.average(np.array(loss_list))\n",
    "    ave_grad = np.sum(abs(batch_pert.grad).detach().cpu().numpy())\n",
    "    print('Gradient:',ave_grad,'Loss:', ave_loss)\n",
    "    if ave_grad == 0:\n",
    "        break\n",
    "\n",
    "noise = torch.clamp(batch_pert,-l_inf_r*2,l_inf_r*2)\n",
    "best_noise = noise.clone().detach().cpu()\n",
    "plt.imshow(np.transpose(noise[0].detach().cpu(),(1,2,0)))\n",
    "plt.show()\n",
    "print('Noise max val:',noise.max())\n"
   ]
  },
  {
   "cell_type": "code",
   "execution_count": null,
   "id": "69959a28",
   "metadata": {},
   "outputs": [],
   "source": [
    "#Save the trigger\n",
    "import time\n",
    "save_name = './checkpoint/best_noise'+'_'+ time.strftime(\"%m-%d-%H_%M_%S\",time.localtime(time.time())) \n",
    "np.save(save_name, best_noise)\n"
   ]
  },
  {
   "cell_type": "code",
   "execution_count": 73,
   "id": "fea60aa3",
   "metadata": {},
   "outputs": [],
   "source": [
    "#Poisoning amount use for the target class\n",
    "poison_amount = 1000\n",
    "\n",
    "#Model uses for testing\n",
    "noise_testing_model = ResNet18().cuda()    \n",
    "\n",
    "#Training parameters\n",
    "training_epochs = 200\n",
    "training_lr = 0.1\n",
    "test_batch_size = 150\n",
    "\n",
    "#The multiple of noise amplification during testing\n",
    "multi_test = 3\n",
    "\n",
    "#random seed for testing stage\n",
    "random_seed = 65\n"
   ]
  },
  {
   "cell_type": "code",
   "execution_count": 74,
   "id": "a7c3a942",
   "metadata": {},
   "outputs": [
    {
     "name": "stdout",
     "output_type": "stream",
     "text": [
      "Files already downloaded and verified\n",
      "Files already downloaded and verified\n"
     ]
    }
   ],
   "source": [
    "\n",
    "import torchvision.models as models\n",
    "np.random.seed(random_seed)\n",
    "random.seed(random_seed)\n",
    "torch.manual_seed(random_seed)\n",
    "# model = noise_testing_model\n",
    "model=ResNet18().cuda()\n",
    "optimizer = torch.optim.SGD(params=model.parameters(), lr=training_lr, momentum=0.9, weight_decay=5e-4)\n",
    "criterion = nn.CrossEntropyLoss()\n",
    "scheduler = torch.optim.lr_scheduler.CosineAnnealingLR(optimizer, T_max=training_epochs)\n",
    "\n",
    "\n",
    "     \n",
    "\n",
    "transform_tensor = transforms.Compose([\n",
    "    transforms.ToTensor(),\n",
    "    transforms.Normalize((0.5, 0.5, 0.5), (0.5, 0.5, 0.5)),\n",
    "])\n",
    "poi_ori_train = torchvision.datasets.CIFAR10(root=root, train=True, download=True, transform=transform_tensor)\n",
    "poi_ori_test = torchvision.datasets.CIFAR10(root=root, train=False, download=True, transform=transform_tensor)\n",
    "transform_after_train = transforms.Compose([\n",
    "    transforms.RandomCrop(32, padding=4),  \n",
    "    transforms.RandomHorizontalFlip(),\n",
    "])\n"
   ]
  },
  {
   "cell_type": "code",
   "execution_count": 75,
   "id": "0fb02649",
   "metadata": {},
   "outputs": [
    {
     "name": "stdout",
     "output_type": "stream",
     "text": [
      "Traing dataset size is: 50000  Poison numbers is: 1000\n"
     ]
    }
   ],
   "source": [
    "#Poison traing\n",
    "random_poison_idx = random.sample(train_target_list, poison_amount)\n",
    "poison_train_target = poison_image(poi_ori_train,random_poison_idx,best_noise.cpu(),transform_after_train)\n",
    "print('Traing dataset size is:',len(poison_train_target),\" Poison numbers is:\",len(random_poison_idx))\n",
    "clean_train_loader = DataLoader(poison_train_target, batch_size=test_batch_size, shuffle=True, num_workers=2)\n"
   ]
  },
  {
   "cell_type": "code",
   "execution_count": 76,
   "id": "abed8283",
   "metadata": {},
   "outputs": [
    {
     "data": {
      "text/plain": [
       "[33677,\n",
       " 23343,\n",
       " 23222,\n",
       " 41763,\n",
       " 17561,\n",
       " 35887,\n",
       " 36921,\n",
       " 42993,\n",
       " 35862,\n",
       " 44909,\n",
       " 27549,\n",
       " 35405,\n",
       " 17980,\n",
       " 5715,\n",
       " 45785,\n",
       " 37647,\n",
       " 21284,\n",
       " 15696,\n",
       " 38129,\n",
       " 3476,\n",
       " 20671,\n",
       " 9053,\n",
       " 12782,\n",
       " 42986,\n",
       " 10968,\n",
       " 9917,\n",
       " 11099,\n",
       " 28593,\n",
       " 30021,\n",
       " 47123,\n",
       " 29943,\n",
       " 18376,\n",
       " 18162,\n",
       " 32330,\n",
       " 36316,\n",
       " 38451,\n",
       " 3845,\n",
       " 12361,\n",
       " 1745,\n",
       " 27186,\n",
       " 20061,\n",
       " 25984,\n",
       " 21836,\n",
       " 737,\n",
       " 13777,\n",
       " 34930,\n",
       " 5836,\n",
       " 21018,\n",
       " 44584,\n",
       " 803,\n",
       " 14569,\n",
       " 13059,\n",
       " 46766,\n",
       " 43747,\n",
       " 35146,\n",
       " 10616,\n",
       " 41894,\n",
       " 34062,\n",
       " 26215,\n",
       " 17834,\n",
       " 19070,\n",
       " 24195,\n",
       " 45303,\n",
       " 28948,\n",
       " 15563,\n",
       " 30251,\n",
       " 47127,\n",
       " 49053,\n",
       " 533,\n",
       " 24789,\n",
       " 5166,\n",
       " 21591,\n",
       " 23346,\n",
       " 36510,\n",
       " 13042,\n",
       " 10624,\n",
       " 10725,\n",
       " 7303,\n",
       " 22397,\n",
       " 35031,\n",
       " 48391,\n",
       " 32181,\n",
       " 30454,\n",
       " 44491,\n",
       " 6414,\n",
       " 46478,\n",
       " 33121,\n",
       " 12200,\n",
       " 13130,\n",
       " 39854,\n",
       " 39324,\n",
       " 23692,\n",
       " 38535,\n",
       " 26855,\n",
       " 40960,\n",
       " 25174,\n",
       " 12058,\n",
       " 48522,\n",
       " 38365,\n",
       " 45795,\n",
       " 1670,\n",
       " 7308,\n",
       " 14399,\n",
       " 42158,\n",
       " 28107,\n",
       " 43745,\n",
       " 2537,\n",
       " 14013,\n",
       " 21392,\n",
       " 17016,\n",
       " 21412,\n",
       " 23677,\n",
       " 19236,\n",
       " 25366,\n",
       " 32059,\n",
       " 12506,\n",
       " 33890,\n",
       " 11187,\n",
       " 40704,\n",
       " 22618,\n",
       " 7380,\n",
       " 45990,\n",
       " 49683,\n",
       " 43365,\n",
       " 38244,\n",
       " 21860,\n",
       " 17690,\n",
       " 17487,\n",
       " 18143,\n",
       " 42803,\n",
       " 31375,\n",
       " 20589,\n",
       " 12978,\n",
       " 17735,\n",
       " 27555,\n",
       " 779,\n",
       " 24074,\n",
       " 29374,\n",
       " 22708,\n",
       " 13071,\n",
       " 31741,\n",
       " 32308,\n",
       " 43441,\n",
       " 7713,\n",
       " 21491,\n",
       " 5992,\n",
       " 22279,\n",
       " 46450,\n",
       " 43569,\n",
       " 46837,\n",
       " 34023,\n",
       " 808,\n",
       " 48082,\n",
       " 22032,\n",
       " 44938,\n",
       " 30475,\n",
       " 47948,\n",
       " 16319,\n",
       " 4431,\n",
       " 21900,\n",
       " 3274,\n",
       " 40217,\n",
       " 12847,\n",
       " 34614,\n",
       " 38741,\n",
       " 29814,\n",
       " 42428,\n",
       " 39580,\n",
       " 47180,\n",
       " 17329,\n",
       " 10428,\n",
       " 8888,\n",
       " 11433,\n",
       " 40372,\n",
       " 29707,\n",
       " 11705,\n",
       " 43177,\n",
       " 39747,\n",
       " 38905,\n",
       " 14327,\n",
       " 4012,\n",
       " 20317,\n",
       " 19874,\n",
       " 35723,\n",
       " 19985,\n",
       " 44905,\n",
       " 7275,\n",
       " 7410,\n",
       " 9313,\n",
       " 4014,\n",
       " 16030,\n",
       " 21577,\n",
       " 46106,\n",
       " 24115,\n",
       " 4482,\n",
       " 13035,\n",
       " 6210,\n",
       " 46562,\n",
       " 3331,\n",
       " 13682,\n",
       " 2641,\n",
       " 3245,\n",
       " 4976,\n",
       " 26873,\n",
       " 33361,\n",
       " 23919,\n",
       " 11455,\n",
       " 47142,\n",
       " 2007,\n",
       " 36261,\n",
       " 16790,\n",
       " 43122,\n",
       " 44327,\n",
       " 42234,\n",
       " 18588,\n",
       " 9272,\n",
       " 34115,\n",
       " 34669,\n",
       " 49558,\n",
       " 37947,\n",
       " 20957,\n",
       " 8092,\n",
       " 8234,\n",
       " 8874,\n",
       " 21650,\n",
       " 47742,\n",
       " 46784,\n",
       " 9297,\n",
       " 4830,\n",
       " 21765,\n",
       " 35259,\n",
       " 23159,\n",
       " 1844,\n",
       " 24670,\n",
       " 31045,\n",
       " 41312,\n",
       " 45738,\n",
       " 23588,\n",
       " 6,\n",
       " 9858,\n",
       " 28770,\n",
       " 45558,\n",
       " 47255,\n",
       " 9503,\n",
       " 37745,\n",
       " 6133,\n",
       " 35460,\n",
       " 16833,\n",
       " 45360,\n",
       " 45252,\n",
       " 6359,\n",
       " 30102,\n",
       " 45414,\n",
       " 20318,\n",
       " 39683,\n",
       " 24061,\n",
       " 35677,\n",
       " 4896,\n",
       " 28944,\n",
       " 2080,\n",
       " 43127,\n",
       " 4455,\n",
       " 45060,\n",
       " 13655,\n",
       " 12362,\n",
       " 5215,\n",
       " 16742,\n",
       " 15717,\n",
       " 31802,\n",
       " 19223,\n",
       " 17373,\n",
       " 12504,\n",
       " 22228,\n",
       " 47872,\n",
       " 20908,\n",
       " 3037,\n",
       " 35486,\n",
       " 27800,\n",
       " 36344,\n",
       " 21663,\n",
       " 15443,\n",
       " 27592,\n",
       " 35833,\n",
       " 14078,\n",
       " 35837,\n",
       " 23288,\n",
       " 9001,\n",
       " 7336,\n",
       " 28345,\n",
       " 32916,\n",
       " 36300,\n",
       " 34079,\n",
       " 32943,\n",
       " 2744,\n",
       " 25379,\n",
       " 43478,\n",
       " 27729,\n",
       " 1497,\n",
       " 3193,\n",
       " 33135,\n",
       " 13989,\n",
       " 30402,\n",
       " 358,\n",
       " 23062,\n",
       " 12166,\n",
       " 10628,\n",
       " 17769,\n",
       " 39407,\n",
       " 48922,\n",
       " 2372,\n",
       " 14761,\n",
       " 31007,\n",
       " 47565,\n",
       " 10802,\n",
       " 23950,\n",
       " 13485,\n",
       " 10160,\n",
       " 20189,\n",
       " 7942,\n",
       " 48833,\n",
       " 6026,\n",
       " 19899,\n",
       " 2378,\n",
       " 8682,\n",
       " 46365,\n",
       " 11084,\n",
       " 31020,\n",
       " 28173,\n",
       " 29033,\n",
       " 43450,\n",
       " 36727,\n",
       " 2927,\n",
       " 38746,\n",
       " 3769,\n",
       " 3205,\n",
       " 36130,\n",
       " 38038,\n",
       " 16111,\n",
       " 46877,\n",
       " 36759,\n",
       " 31275,\n",
       " 5299,\n",
       " 27326,\n",
       " 39728,\n",
       " 29637,\n",
       " 22515,\n",
       " 2217,\n",
       " 5226,\n",
       " 40661,\n",
       " 36585,\n",
       " 2902,\n",
       " 25095,\n",
       " 44340,\n",
       " 39786,\n",
       " 15813,\n",
       " 36305,\n",
       " 5634,\n",
       " 25125,\n",
       " 33699,\n",
       " 7878,\n",
       " 35967,\n",
       " 36340,\n",
       " 27823,\n",
       " 20426,\n",
       " 20038,\n",
       " 31002,\n",
       " 35387,\n",
       " 43570,\n",
       " 11813,\n",
       " 11123,\n",
       " 32127,\n",
       " 32513,\n",
       " 28114,\n",
       " 39983,\n",
       " 22977,\n",
       " 35216,\n",
       " 33776,\n",
       " 29989,\n",
       " 12421,\n",
       " 30531,\n",
       " 48,\n",
       " 36170,\n",
       " 24533,\n",
       " 11193,\n",
       " 12667,\n",
       " 33021,\n",
       " 3338,\n",
       " 23775,\n",
       " 4633,\n",
       " 15584,\n",
       " 13506,\n",
       " 22835,\n",
       " 9520,\n",
       " 49156,\n",
       " 21139,\n",
       " 34513,\n",
       " 25034,\n",
       " 4008,\n",
       " 30778,\n",
       " 44495,\n",
       " 22810,\n",
       " 5758,\n",
       " 6621,\n",
       " 29870,\n",
       " 6616,\n",
       " 35673,\n",
       " 49450,\n",
       " 48531,\n",
       " 787,\n",
       " 49573,\n",
       " 40911,\n",
       " 15639,\n",
       " 43190,\n",
       " 35360,\n",
       " 4525,\n",
       " 1614,\n",
       " 20285,\n",
       " 44797,\n",
       " 28452,\n",
       " 38765,\n",
       " 41085,\n",
       " 21442,\n",
       " 41512,\n",
       " 39960,\n",
       " 19287,\n",
       " 32299,\n",
       " 14308,\n",
       " 46541,\n",
       " 36849,\n",
       " 7165,\n",
       " 26990,\n",
       " 2177,\n",
       " 19343,\n",
       " 41299,\n",
       " 40961,\n",
       " 13081,\n",
       " 15398,\n",
       " 4471,\n",
       " 23453,\n",
       " 32972,\n",
       " 46589,\n",
       " 37009,\n",
       " 20102,\n",
       " 19157,\n",
       " 27416,\n",
       " 37121,\n",
       " 26976,\n",
       " 6230,\n",
       " 20633,\n",
       " 9002,\n",
       " 49730,\n",
       " 4113,\n",
       " 43285,\n",
       " 4880,\n",
       " 13794,\n",
       " 14195,\n",
       " 7844,\n",
       " 10756,\n",
       " 31333,\n",
       " 27393,\n",
       " 43300,\n",
       " 48344,\n",
       " 990,\n",
       " 30532,\n",
       " 18477,\n",
       " 31759,\n",
       " 42185,\n",
       " 48547,\n",
       " 8100,\n",
       " 48594,\n",
       " 37026,\n",
       " 17057,\n",
       " 46299,\n",
       " 46683,\n",
       " 32289,\n",
       " 47133,\n",
       " 18886,\n",
       " 11415,\n",
       " 8037,\n",
       " 6921,\n",
       " 12958,\n",
       " 18952,\n",
       " 17070,\n",
       " 38638,\n",
       " 29181,\n",
       " 39976,\n",
       " 46665,\n",
       " 14304,\n",
       " 15568,\n",
       " 19158,\n",
       " 13564,\n",
       " 7658,\n",
       " 32829,\n",
       " 24166,\n",
       " 5064,\n",
       " 16462,\n",
       " 14672,\n",
       " 24457,\n",
       " 34088,\n",
       " 38546,\n",
       " 29728,\n",
       " 38883,\n",
       " 1576,\n",
       " 40177,\n",
       " 2869,\n",
       " 12724,\n",
       " 12191,\n",
       " 10406,\n",
       " 11650,\n",
       " 45367,\n",
       " 6467,\n",
       " 42090,\n",
       " 15621,\n",
       " 9172,\n",
       " 31813,\n",
       " 9757,\n",
       " 49721,\n",
       " 43118,\n",
       " 30787,\n",
       " 33442,\n",
       " 18678,\n",
       " 48504,\n",
       " 22808,\n",
       " 36756,\n",
       " 26570,\n",
       " 4931,\n",
       " 46702,\n",
       " 21240,\n",
       " 15091,\n",
       " 11538,\n",
       " 8016,\n",
       " 21163,\n",
       " 14426,\n",
       " 14588,\n",
       " 35645,\n",
       " 16974,\n",
       " 1219,\n",
       " 47668,\n",
       " 33300,\n",
       " 10933,\n",
       " 3508,\n",
       " 20051,\n",
       " 15975,\n",
       " 7714,\n",
       " 45639,\n",
       " 36355,\n",
       " 8936,\n",
       " 20048,\n",
       " 22738,\n",
       " 8713,\n",
       " 43216,\n",
       " 19364,\n",
       " 18328,\n",
       " 7868,\n",
       " 18863,\n",
       " 10591,\n",
       " 6836,\n",
       " 30096,\n",
       " 34305,\n",
       " 2575,\n",
       " 5901,\n",
       " 33234,\n",
       " 14314,\n",
       " 46451,\n",
       " 1971,\n",
       " 44918,\n",
       " 13879,\n",
       " 47016,\n",
       " 4209,\n",
       " 26536,\n",
       " 7106,\n",
       " 47449,\n",
       " 31823,\n",
       " 18788,\n",
       " 7739,\n",
       " 11382,\n",
       " 3517,\n",
       " 43134,\n",
       " 6502,\n",
       " 2764,\n",
       " 4902,\n",
       " 9150,\n",
       " 11923,\n",
       " 33350,\n",
       " 22974,\n",
       " 40281,\n",
       " 28708,\n",
       " 40727,\n",
       " 28225,\n",
       " 34256,\n",
       " 27874,\n",
       " 4425,\n",
       " 5012,\n",
       " 21701,\n",
       " 47152,\n",
       " 24403,\n",
       " 11666,\n",
       " 6448,\n",
       " 27091,\n",
       " 21486,\n",
       " 28611,\n",
       " 46832,\n",
       " 27110,\n",
       " 8321,\n",
       " 12109,\n",
       " 42600,\n",
       " 7952,\n",
       " 7194,\n",
       " 40924,\n",
       " 27599,\n",
       " 36242,\n",
       " 40212,\n",
       " 4398,\n",
       " 31289,\n",
       " 20220,\n",
       " 14364,\n",
       " 45997,\n",
       " 2098,\n",
       " 16786,\n",
       " 25367,\n",
       " 46214,\n",
       " 20695,\n",
       " 47010,\n",
       " 23442,\n",
       " 6805,\n",
       " 48090,\n",
       " 38722,\n",
       " 33107,\n",
       " 40995,\n",
       " 16034,\n",
       " 14926,\n",
       " 48784,\n",
       " 11518,\n",
       " 33379,\n",
       " 28112,\n",
       " 16715,\n",
       " 45306,\n",
       " 14814,\n",
       " 38459,\n",
       " 31057,\n",
       " 9448,\n",
       " 12651,\n",
       " 19915,\n",
       " 33899,\n",
       " 17308,\n",
       " 32706,\n",
       " 6704,\n",
       " 40305,\n",
       " 40527,\n",
       " 28814,\n",
       " 42112,\n",
       " 24926,\n",
       " 48831,\n",
       " 29269,\n",
       " 3349,\n",
       " 26588,\n",
       " 42568,\n",
       " 1288,\n",
       " 22539,\n",
       " 35575,\n",
       " 6843,\n",
       " 8819,\n",
       " 10438,\n",
       " 1838,\n",
       " 22432,\n",
       " 14646,\n",
       " 35936,\n",
       " 16691,\n",
       " 44140,\n",
       " 35309,\n",
       " 11220,\n",
       " 19267,\n",
       " 32166,\n",
       " 6126,\n",
       " 29658,\n",
       " 46053,\n",
       " 24019,\n",
       " 47195,\n",
       " 44193,\n",
       " 2983,\n",
       " 37511,\n",
       " 14192,\n",
       " 696,\n",
       " 17134,\n",
       " 4888,\n",
       " 11137,\n",
       " 35362,\n",
       " 20149,\n",
       " 29948,\n",
       " 49969,\n",
       " 44512,\n",
       " 32470,\n",
       " 22248,\n",
       " 39646,\n",
       " 1936,\n",
       " 3692,\n",
       " 23586,\n",
       " 36675,\n",
       " 7974,\n",
       " 43527,\n",
       " 42581,\n",
       " 13542,\n",
       " 17339,\n",
       " 34086,\n",
       " 22275,\n",
       " 1139,\n",
       " 45193,\n",
       " 18496,\n",
       " 6685,\n",
       " 963,\n",
       " 2719,\n",
       " 41856,\n",
       " 38063,\n",
       " 31280,\n",
       " 22729,\n",
       " 19218,\n",
       " 31809,\n",
       " 5219,\n",
       " 6691,\n",
       " 6976,\n",
       " 44048,\n",
       " 42181,\n",
       " 9916,\n",
       " 15977,\n",
       " 30740,\n",
       " 4091,\n",
       " 20077,\n",
       " 24334,\n",
       " 8485,\n",
       " 42062,\n",
       " 23519,\n",
       " 3645,\n",
       " 46389,\n",
       " 7951,\n",
       " 44279,\n",
       " 33233,\n",
       " 7905,\n",
       " 44544,\n",
       " 16581,\n",
       " 11221,\n",
       " 12471,\n",
       " 35306,\n",
       " 48870,\n",
       " 3074,\n",
       " 48414,\n",
       " 3402,\n",
       " 11313,\n",
       " 1440,\n",
       " 48721,\n",
       " 32430,\n",
       " 7745,\n",
       " 42889,\n",
       " 21031,\n",
       " 12287,\n",
       " 47450,\n",
       " 2704,\n",
       " 24885,\n",
       " 45660,\n",
       " 9249,\n",
       " 23070,\n",
       " 1693,\n",
       " 42615,\n",
       " 46291,\n",
       " 28343,\n",
       " 1107,\n",
       " 23452,\n",
       " 13250,\n",
       " 8865,\n",
       " 5252,\n",
       " 17955,\n",
       " 22441,\n",
       " 34377,\n",
       " 27046,\n",
       " 24935,\n",
       " 26299,\n",
       " 7783,\n",
       " 24710,\n",
       " 30145,\n",
       " 24623,\n",
       " 2507,\n",
       " 19463,\n",
       " 38520,\n",
       " 23102,\n",
       " 13033,\n",
       " 48014,\n",
       " 5824,\n",
       " 5296,\n",
       " 5016,\n",
       " 21057,\n",
       " 28872,\n",
       " 23217,\n",
       " 2237,\n",
       " 2816,\n",
       " 3416,\n",
       " 21973,\n",
       " 46261,\n",
       " 11354,\n",
       " 49972,\n",
       " 37934,\n",
       " 34654,\n",
       " 3848,\n",
       " 44351,\n",
       " 14500,\n",
       " 25446,\n",
       " 48270,\n",
       " 17379,\n",
       " 29531,\n",
       " 25847,\n",
       " 9876,\n",
       " 43106,\n",
       " 47492,\n",
       " 8195,\n",
       " 46983,\n",
       " 42020,\n",
       " 37368,\n",
       " 3662,\n",
       " 30731,\n",
       " 43593,\n",
       " 30524,\n",
       " 21040,\n",
       " 38054,\n",
       " 39310,\n",
       " 49686,\n",
       " 6390,\n",
       " 19655,\n",
       " 4052,\n",
       " 20724,\n",
       " 1458,\n",
       " 2163,\n",
       " 2860,\n",
       " 38560,\n",
       " 13970,\n",
       " 39248,\n",
       " 196,\n",
       " 30067,\n",
       " 11340,\n",
       " 9603,\n",
       " 7653,\n",
       " 30855,\n",
       " 30405,\n",
       " 41644,\n",
       " 27484,\n",
       " 1285,\n",
       " 43314,\n",
       " 28834,\n",
       " 5647,\n",
       " 39515,\n",
       " 25427,\n",
       " 701,\n",
       " 46014,\n",
       " 24904,\n",
       " 40256,\n",
       " 11961,\n",
       " 36367,\n",
       " 560,\n",
       " 30493,\n",
       " 32499,\n",
       " 383,\n",
       " 13671,\n",
       " 29885,\n",
       " 21656,\n",
       " 29403,\n",
       " 16266,\n",
       " 37941,\n",
       " 3944,\n",
       " 29779,\n",
       " 37766,\n",
       " 43523,\n",
       " 17538,\n",
       " 39309,\n",
       " 32153,\n",
       " 33032,\n",
       " 15310,\n",
       " 522,\n",
       " 45940,\n",
       " 45967,\n",
       " 31419,\n",
       " 3771,\n",
       " 31063,\n",
       " 21526,\n",
       " 37663,\n",
       " 12455,\n",
       " 27884,\n",
       " 18756,\n",
       " 8454,\n",
       " 42144,\n",
       " 16712,\n",
       " 26663,\n",
       " 18727,\n",
       " 47904,\n",
       " 26956,\n",
       " 12790,\n",
       " 24,\n",
       " 1800,\n",
       " 11295,\n",
       " 33508,\n",
       " 5537,\n",
       " 26541,\n",
       " 37243,\n",
       " 20673,\n",
       " 25217,\n",
       " 3520,\n",
       " 39935,\n",
       " 13831,\n",
       " 33708,\n",
       " 26058,\n",
       " 8169,\n",
       " 827,\n",
       " 24771,\n",
       " 25455,\n",
       " 4356,\n",
       " 38170,\n",
       " 43010,\n",
       " 2938,\n",
       " 48101,\n",
       " 11884,\n",
       " 48323,\n",
       " 39847,\n",
       " 40385,\n",
       " 778,\n",
       " 26760,\n",
       " 4853,\n",
       " 5609,\n",
       " 31005,\n",
       " 22448,\n",
       " 40333,\n",
       " 48388,\n",
       " 35718,\n",
       " 3428,\n",
       " 16980,\n",
       " 19224,\n",
       " 29925,\n",
       " 2966,\n",
       " 21513,\n",
       " 2789,\n",
       " 11197,\n",
       " 46563,\n",
       " 45855,\n",
       " 13047,\n",
       " 3299,\n",
       " 16093,\n",
       " 39610,\n",
       " 10651,\n",
       " 13727,\n",
       " 463,\n",
       " 6069,\n",
       " 1024,\n",
       " 6327,\n",
       " 1430,\n",
       " 34747,\n",
       " 38046,\n",
       " 20065,\n",
       " 34320,\n",
       " 22495,\n",
       " 36581,\n",
       " 21145,\n",
       " 5417,\n",
       " 9712,\n",
       " 17185,\n",
       " 32678,\n",
       " 42542,\n",
       " 11012,\n",
       " 1180,\n",
       " 2093,\n",
       " 5527,\n",
       " 49888,\n",
       " 6801,\n",
       " 13431,\n",
       " 7279,\n",
       " 21746,\n",
       " 27399,\n",
       " 42147,\n",
       " 21504,\n",
       " 6628,\n",
       " 43503,\n",
       " 559,\n",
       " 42594,\n",
       " 13341,\n",
       " 2875,\n",
       " 32741,\n",
       " 31941,\n",
       " 12616,\n",
       " 36972,\n",
       " 40020,\n",
       " 26146,\n",
       " 1995,\n",
       " 8055,\n",
       " 47392,\n",
       " 24033,\n",
       " 6757,\n",
       " 21135,\n",
       " 42848,\n",
       " 47594,\n",
       " 49458,\n",
       " 3791,\n",
       " 7850,\n",
       " 24461,\n",
       " 49700,\n",
       " 20029,\n",
       " 1438]"
      ]
     },
     "execution_count": 76,
     "metadata": {},
     "output_type": "execute_result"
    }
   ],
   "source": [
    "random_poison_idx"
   ]
  },
  {
   "cell_type": "code",
   "execution_count": 77,
   "id": "412da7a5",
   "metadata": {},
   "outputs": [
    {
     "name": "stderr",
     "output_type": "stream",
     "text": [
      "Clipping input data to the valid range for imshow with RGB data ([0..1] for floats or [0..255] for integers).\n"
     ]
    },
    {
     "data": {
      "text/plain": [
       "<matplotlib.image.AxesImage at 0x7f211849b588>"
      ]
     },
     "execution_count": 77,
     "metadata": {},
     "output_type": "execute_result"
    },
    {
     "data": {
      "image/png": "[encoded data removed]",
      "text/plain": [
       "<Figure size 640x480 with 1 Axes>"
      ]
     },
     "metadata": {},
     "output_type": "display_data"
    }
   ],
   "source": [
    "plt.imshow(np.transpose(poi_ori_train[808][0],(1,2,0)))"
   ]
  },
  {
   "attachments": {},
   "cell_type": "markdown",
   "id": "e69ce393",
   "metadata": {},
   "source": [
    "### Plot the image to see if trigger is visible \n",
    "\n"
   ]
  },
  {
   "cell_type": "code",
   "execution_count": 78,
   "id": "46359991",
   "metadata": {},
   "outputs": [],
   "source": [
    "#separate model if you chose to use\n",
    "# class SmallCNN(nn.Module):\n",
    "#     def __init__(self):\n",
    "#         super(SmallCNN, self).__init__()\n",
    "#         self.conv1 = nn.Conv2d(3, 6, 5)\n",
    "#         self.pool = nn.MaxPool2d(2, 2)\n",
    "#         self.conv2 = nn.Conv2d(6, 16, 5)\n",
    "#         self.fc1 = nn.Linear(16 * 5 * 5, 120)\n",
    "#         self.fc2 = nn.Linear(120, 84)\n",
    "#         self.fc3 = nn.Linear(84, 10)\n",
    "\n",
    "#     def forward(self, x, last=False):\n",
    "#         x = self.pool(F.relu(self.conv1(x)))\n",
    "#         x = self.pool(F.relu(self.conv2(x)))\n",
    "#         x = x.view(-1, 16 * 5 * 5)\n",
    "#         x = F.relu(self.fc1(x))\n",
    "#         x = F.relu(self.fc2(x))\n",
    "#         output = self.fc3(x)\n",
    "        \n",
    "#         if last:\n",
    "#             return output, x\n",
    "#         else:\n",
    "#             return output\n",
    "\n",
    "# #     def getFeature(self, x, numpy=True):\n",
    "# #         if x.shape[1]==32:\n",
    "# #           x = np.moveaxis(x, 3, 1)\n",
    "# #         x = torch.Tensor(x).cuda()\n",
    "# #         x = self.pool(F.relu(self.conv1(x)))\n",
    "# #         x = self.pool(F.relu(self.conv2(x)))\n",
    "# #         x = torch.flatten(x, 1)\n",
    "# #         if numpy:\n",
    "# #           return x.detach().cpu().numpy()\n",
    "# #         else:\n",
    "# #           return x\n",
    "\n",
    "# #     def get_embedding_dim(self):\n",
    "# #         return 84\n"
   ]
  },
  {
   "cell_type": "markdown",
   "id": "cd7012d5",
   "metadata": {},
   "source": [
    "## Eval Stage\n"
   ]
  },
  {
   "cell_type": "code",
   "execution_count": 79,
   "id": "61898ceb",
   "metadata": {},
   "outputs": [],
   "source": [
    "\n",
    "from torchvision.models import resnet18\n",
    "# model=noise_testing_model\n",
    "criterion=nn.CrossEntropyLoss()\n",
    "\n",
    "# Convert batchnorm modules to Group Norm modules for DP-SGD\n",
    "from opacus.utils.module_modification import convert_batchnorm_modules\n",
    "\n",
    "\n",
    "model = convert_batchnorm_modules(model) #comment out if not implementing DP-SGD \n",
    "model=model.to(device)\n",
    "# Note that we are using the backbone as a black-box featurizer. It's never trained, so we can keep BatchNorms in there.\n",
    "# model=SmallCNN().cuda()\n",
    "\n",
    "# The optimizer needs to point to the new model\n",
    "\n",
    "optimizer=torch.optim.SGD(model.parameters(), lr=0.1 ,\n",
    "                      momentum=0.9, weight_decay=5e-4, nesterov=True)"
   ]
  },
  {
   "cell_type": "code",
   "execution_count": 80,
   "id": "c798d6e0",
   "metadata": {},
   "outputs": [
    {
     "name": "stderr",
     "output_type": "stream",
     "text": [
      "/home/himanshugj/miniconda3/envs/project1/lib/python3.7/site-packages/opacus/privacy_engine.py:753: UserWarning: The sample rate will be defined from ``batch_size`` and ``sample_size``.The returned privacy budget will be incorrect.\n",
      "  \"The sample rate will be defined from ``batch_size`` and ``sample_size``.\"\n",
      "/home/himanshugj/miniconda3/envs/project1/lib/python3.7/site-packages/opacus/privacy_engine.py:237: UserWarning: Secure RNG turned off. This is perfectly fine for experimentation as it allows for much faster training performance, but remember to turn it on and retrain one last time before production with ``secure_rng`` turned on.\n",
      "  \"Secure RNG turned off. This is perfectly fine for experimentation as it allows \"\n"
     ]
    }
   ],
   "source": [
    "#Comment out cell if not implementing DP-SGD\n",
    "privacy_engine=opacus.PrivacyEngine(model,\n",
    "                                   batch_size=64,\n",
    "                                   sample_size=50000,\n",
    "                                   alphas=range(2,32),\n",
    "                                   noise_multiplier=0.01,\n",
    "                                   \n",
    "                                   max_grad_norm=8.0)\n",
    "privacy_engine.attach(optimizer)"
   ]
  },
  {
   "cell_type": "code",
   "execution_count": 81,
   "id": "a78c78b4",
   "metadata": {},
   "outputs": [
    {
     "name": "stdout",
     "output_type": "stream",
     "text": [
      "Poison test dataset size is: 9000\n"
     ]
    }
   ],
   "source": [
    "\n",
    "#Attack success rate testing\n",
    "test_non_target = list(np.where(np.array(test_label)!=lab)[0])\n",
    "test_non_target_change_image_label = poison_image_label(poi_ori_test,test_non_target,best_noise.cpu()*multi_test,lab,None)\n",
    "asr_loaders = torch.utils.data.DataLoader(test_non_target_change_image_label, batch_size=test_batch_size, shuffle=True, num_workers=2)\n",
    "print('Poison test dataset size is:',len(test_non_target_change_image_label))"
   ]
  },
  {
   "cell_type": "code",
   "execution_count": 82,
   "id": "1e42b5b8",
   "metadata": {},
   "outputs": [],
   "source": [
    "#Clean acc test dataset\n",
    "clean_test_loader = torch.utils.data.DataLoader(testset, batch_size=test_batch_size, shuffle=False, num_workers=2)"
   ]
  },
  {
   "cell_type": "code",
   "execution_count": 83,
   "id": "1c3c03ee",
   "metadata": {},
   "outputs": [],
   "source": [
    "#Target clean test dataset\n",
    "test_target = list(np.where(np.array(test_label)==lab)[0])\n",
    "target_test_set = Subset(testset,test_target)\n",
    "target_test_loader = torch.utils.data.DataLoader(target_test_set, batch_size=test_batch_size, shuffle=True, num_workers=2)\n",
    "\n"
   ]
  },
  {
   "cell_type": "code",
   "execution_count": 84,
   "id": "37a61a73",
   "metadata": {},
   "outputs": [],
   "source": [
    "\n",
    "# from util import AverageMeter\n",
    "train_ACC = []\n",
    "test_ACC = []\n",
    "clean_ACC = []\n",
    "target_ACC = []\n"
   ]
  },
  {
   "cell_type": "code",
   "execution_count": 85,
   "id": "3a82c4a7",
   "metadata": {},
   "outputs": [
    {
     "data": {
      "application/vnd.jupyter.widget-view+json": {
       "model_id": "599fbfda2bc741f59dd5c11c3df150c6",
       "version_major": 2,
       "version_minor": 0
      },
      "text/plain": [
       "  0%|          | 0/200 [00:00<?, ?it/s]"
      ]
     },
     "metadata": {},
     "output_type": "display_data"
    },
    {
     "data": {
      "application/vnd.jupyter.widget-view+json": {
       "model_id": "8dc1fb1a521044bea1197fb4bcbded61",
       "version_major": 2,
       "version_minor": 0
      },
      "text/plain": [
       "  0%|          | 0/334 [00:00<?, ?it/s]"
      ]
     },
     "metadata": {},
     "output_type": "display_data"
    },
    {
     "name": "stderr",
     "output_type": "stream",
     "text": [
      "/home/himanshugj/miniconda3/envs/project1/lib/python3.7/site-packages/torch/nn/modules/module.py:1113: UserWarning: Using a non-full backward hook when the forward contains multiple autograd Nodes is deprecated and will be removed in future versions. This hook will be missing some grad_input. Please use register_full_backward_hook to get the documented behavior.\n",
      "  warnings.warn(\"Using a non-full backward hook when the forward contains multiple autograd Nodes \"\n"
     ]
    },
    {
     "name": "stdout",
     "output_type": "stream",
     "text": [
      "\n",
      "Attack success rate 5.52\n",
      "Test_loss: tensor(3.1275, device='cuda:5')\n",
      "\n",
      "Test clean Accuracy 44.26\n",
      "Test_loss: tensor(1.8434, device='cuda:5')\n",
      "\n",
      "Target test clean Accuracy 26.00\n",
      "Test_loss: tensor(3.0416, device='cuda:5')\n"
     ]
    },
    {
     "data": {
      "application/vnd.jupyter.widget-view+json": {
       "model_id": "1b6f092b78ed492785ab947365e7fce7",
       "version_major": 2,
       "version_minor": 0
      },
      "text/plain": [
       "  0%|          | 0/334 [00:00<?, ?it/s]"
      ]
     },
     "metadata": {},
     "output_type": "display_data"
    },
    {
     "name": "stdout",
     "output_type": "stream",
     "text": [
      "Train_loss: tensor(1.3976, device='cuda:5', grad_fn=<NllLossBackward0>)\n",
      "\n",
      "Attack success rate 72.26\n",
      "Test_loss: tensor(0.8954, device='cuda:5')\n",
      "\n",
      "Test clean Accuracy 44.36\n",
      "Test_loss: tensor(1.9970, device='cuda:5')\n",
      "\n",
      "Target test clean Accuracy 23.00\n",
      "Test_loss: tensor(2.5275, device='cuda:5')\n"
     ]
    },
    {
     "data": {
      "application/vnd.jupyter.widget-view+json": {
       "model_id": "ee4f0ef4d8814057a519d63b98a2feab",
       "version_major": 2,
       "version_minor": 0
      },
      "text/plain": [
       "  0%|          | 0/334 [00:00<?, ?it/s]"
      ]
     },
     "metadata": {},
     "output_type": "display_data"
    },
    {
     "name": "stdout",
     "output_type": "stream",
     "text": [
      "Train_loss: tensor(0.8031, device='cuda:5', grad_fn=<NllLossBackward0>)\n",
      "\n",
      "Attack success rate 75.78\n",
      "Test_loss: tensor(0.8585, device='cuda:5')\n",
      "\n",
      "Test clean Accuracy 61.83\n",
      "Test_loss: tensor(1.1586, device='cuda:5')\n",
      "\n",
      "Target test clean Accuracy 50.80\n",
      "Test_loss: tensor(1.4697, device='cuda:5')\n"
     ]
    },
    {
     "data": {
      "application/vnd.jupyter.widget-view+json": {
       "model_id": "77f94566e1bd41148b9a76712f8374f9",
       "version_major": 2,
       "version_minor": 0
      },
      "text/plain": [
       "  0%|          | 0/334 [00:00<?, ?it/s]"
      ]
     },
     "metadata": {},
     "output_type": "display_data"
    },
    {
     "name": "stderr",
     "output_type": "stream",
     "text": [
      "IOPub message rate exceeded.\n",
      "The notebook server will temporarily stop sending output\n",
      "to the client in order to avoid crashing it.\n",
      "To change this limit, set the config variable\n",
      "`--NotebookApp.iopub_msg_rate_limit`.\n",
      "\n",
      "Current values:\n",
      "NotebookApp.iopub_msg_rate_limit=1000.0 (msgs/sec)\n",
      "NotebookApp.rate_limit_window=3.0 (secs)\n",
      "\n"
     ]
    },
    {
     "name": "stdout",
     "output_type": "stream",
     "text": [
      "Train_loss: tensor(0.7526, device='cuda:5', grad_fn=<NllLossBackward0>)\n",
      "\n",
      "Attack success rate 95.88\n",
      "Test_loss: tensor(0.2082, device='cuda:5')\n",
      "\n",
      "Test clean Accuracy 74.88\n",
      "Test_loss: tensor(0.9358, device='cuda:5')\n",
      "\n",
      "Target test clean Accuracy 67.30\n",
      "Test_loss: tensor(1.3167, device='cuda:5')\n"
     ]
    },
    {
     "data": {
      "application/vnd.jupyter.widget-view+json": {
       "model_id": "bfe0ff5320664bde9908f9211444ab71",
       "version_major": 2,
       "version_minor": 0
      },
      "text/plain": [
       "  0%|          | 0/334 [00:00<?, ?it/s]"
      ]
     },
     "metadata": {},
     "output_type": "display_data"
    },
    {
     "name": "stdout",
     "output_type": "stream",
     "text": [
      "Train_loss: tensor(1.2315, device='cuda:5', grad_fn=<NllLossBackward0>)\n",
      "\n",
      "Attack success rate 85.78\n",
      "Test_loss: tensor(0.6433, device='cuda:5')\n",
      "\n",
      "Test clean Accuracy 58.97\n",
      "Test_loss: tensor(1.8816, device='cuda:5')\n",
      "\n",
      "Target test clean Accuracy 30.70\n",
      "Test_loss: tensor(3.0592, device='cuda:5')\n"
     ]
    },
    {
     "data": {
      "application/vnd.jupyter.widget-view+json": {
       "model_id": "9cbb026e44bb4bc7be6bed874429e4c0",
       "version_major": 2,
       "version_minor": 0
      },
      "text/plain": [
       "  0%|          | 0/334 [00:00<?, ?it/s]"
      ]
     },
     "metadata": {},
     "output_type": "display_data"
    },
    {
     "name": "stdout",
     "output_type": "stream",
     "text": [
      "Train_loss: tensor(0.5395, device='cuda:5', grad_fn=<NllLossBackward0>)\n",
      "\n",
      "Attack success rate 96.13\n",
      "Test_loss: tensor(0.2793, device='cuda:5')\n",
      "\n",
      "Test clean Accuracy 71.35\n",
      "Test_loss: tensor(1.1088, device='cuda:5')\n",
      "\n",
      "Target test clean Accuracy 67.40\n",
      "Test_loss: tensor(1.3000, device='cuda:5')\n"
     ]
    },
    {
     "data": {
      "application/vnd.jupyter.widget-view+json": {
       "model_id": "6bfb40904d5f4661a834ddf3596ca1f7",
       "version_major": 2,
       "version_minor": 0
      },
      "text/plain": [
       "  0%|          | 0/334 [00:00<?, ?it/s]"
      ]
     },
     "metadata": {},
     "output_type": "display_data"
    },
    {
     "name": "stdout",
     "output_type": "stream",
     "text": [
      "Train_loss: tensor(0.6965, device='cuda:5', grad_fn=<NllLossBackward0>)\n",
      "\n",
      "Attack success rate 96.61\n",
      "Test_loss: tensor(0.2073, device='cuda:5')\n",
      "\n",
      "Test clean Accuracy 70.52\n",
      "Test_loss: tensor(1.1519, device='cuda:5')\n",
      "\n",
      "Target test clean Accuracy 49.70\n",
      "Test_loss: tensor(1.6776, device='cuda:5')\n"
     ]
    },
    {
     "data": {
      "application/vnd.jupyter.widget-view+json": {
       "model_id": "10b92f81f0b74bf7a116610dde6f5305",
       "version_major": 2,
       "version_minor": 0
      },
      "text/plain": [
       "  0%|          | 0/334 [00:00<?, ?it/s]"
      ]
     },
     "metadata": {},
     "output_type": "display_data"
    },
    {
     "name": "stdout",
     "output_type": "stream",
     "text": [
      "Train_loss: tensor(0.6583, device='cuda:5', grad_fn=<NllLossBackward0>)\n",
      "\n",
      "Attack success rate 86.00\n",
      "Test_loss: tensor(0.5523, device='cuda:5')\n",
      "\n",
      "Test clean Accuracy 68.29\n",
      "Test_loss: tensor(1.1499, device='cuda:5')\n",
      "\n",
      "Target test clean Accuracy 41.10\n",
      "Test_loss: tensor(1.8792, device='cuda:5')\n"
     ]
    },
    {
     "data": {
      "application/vnd.jupyter.widget-view+json": {
       "model_id": "82e35d5a3a734c00accfbef93589d200",
       "version_major": 2,
       "version_minor": 0
      },
      "text/plain": [
       "  0%|          | 0/334 [00:00<?, ?it/s]"
      ]
     },
     "metadata": {},
     "output_type": "display_data"
    },
    {
     "name": "stderr",
     "output_type": "stream",
     "text": [
      "IOPub message rate exceeded.\n",
      "The notebook server will temporarily stop sending output\n",
      "to the client in order to avoid crashing it.\n",
      "To change this limit, set the config variable\n",
      "`--NotebookApp.iopub_msg_rate_limit`.\n",
      "\n",
      "Current values:\n",
      "NotebookApp.iopub_msg_rate_limit=1000.0 (msgs/sec)\n",
      "NotebookApp.rate_limit_window=3.0 (secs)\n",
      "\n"
     ]
    },
    {
     "name": "stdout",
     "output_type": "stream",
     "text": [
      "Train_loss: tensor(0.9138, device='cuda:5', grad_fn=<NllLossBackward0>)\n",
      "\n",
      "Attack success rate 99.49\n",
      "Test_loss: tensor(0.0180, device='cuda:5')\n",
      "\n",
      "Test clean Accuracy 77.31\n",
      "Test_loss: tensor(0.7784, device='cuda:5')\n",
      "\n",
      "Target test clean Accuracy 50.80\n",
      "Test_loss: tensor(2.2284, device='cuda:5')\n"
     ]
    },
    {
     "data": {
      "application/vnd.jupyter.widget-view+json": {
       "model_id": "823ba50d6c4c42a694f5eb8cdabf67ba",
       "version_major": 2,
       "version_minor": 0
      },
      "text/plain": [
       "  0%|          | 0/334 [00:00<?, ?it/s]"
      ]
     },
     "metadata": {},
     "output_type": "display_data"
    },
    {
     "name": "stdout",
     "output_type": "stream",
     "text": [
      "Train_loss: tensor(0.5433, device='cuda:5', grad_fn=<NllLossBackward0>)\n",
      "\n",
      "Attack success rate 58.20\n",
      "Test_loss: tensor(1.8218, device='cuda:5')\n",
      "\n",
      "Test clean Accuracy 63.08\n",
      "Test_loss: tensor(1.9367, device='cuda:5')\n",
      "\n",
      "Target test clean Accuracy 34.50\n",
      "Test_loss: tensor(3.0344, device='cuda:5')\n"
     ]
    },
    {
     "data": {
      "application/vnd.jupyter.widget-view+json": {
       "model_id": "7415a99f5f3b47d197c655fbb39445b3",
       "version_major": 2,
       "version_minor": 0
      },
      "text/plain": [
       "  0%|          | 0/334 [00:00<?, ?it/s]"
      ]
     },
     "metadata": {},
     "output_type": "display_data"
    },
    {
     "name": "stdout",
     "output_type": "stream",
     "text": [
      "Train_loss: tensor(1.0531, device='cuda:5', grad_fn=<NllLossBackward0>)\n",
      "\n",
      "Attack success rate 99.81\n",
      "Test_loss: tensor(0.0585, device='cuda:5')\n",
      "\n",
      "Test clean Accuracy 63.09\n",
      "Test_loss: tensor(1.5771, device='cuda:5')\n",
      "\n",
      "Target test clean Accuracy 66.20\n",
      "Test_loss: tensor(1.7509, device='cuda:5')\n"
     ]
    },
    {
     "data": {
      "application/vnd.jupyter.widget-view+json": {
       "model_id": "c86d06aebd15469ab7a506e9ac64e7f6",
       "version_major": 2,
       "version_minor": 0
      },
      "text/plain": [
       "  0%|          | 0/334 [00:00<?, ?it/s]"
      ]
     },
     "metadata": {},
     "output_type": "display_data"
    },
    {
     "name": "stdout",
     "output_type": "stream",
     "text": [
      "Train_loss: tensor(0.7757, device='cuda:5', grad_fn=<NllLossBackward0>)\n",
      "\n",
      "Attack success rate 99.93\n",
      "Test_loss: tensor(0.0019, device='cuda:5')\n",
      "\n",
      "Test clean Accuracy 73.20\n",
      "Test_loss: tensor(1.2864, device='cuda:5')\n",
      "\n",
      "Target test clean Accuracy 57.30\n",
      "Test_loss: tensor(1.7130, device='cuda:5')\n"
     ]
    },
    {
     "data": {
      "application/vnd.jupyter.widget-view+json": {
       "model_id": "5f25e85e6c37478e81665e301c800742",
       "version_major": 2,
       "version_minor": 0
      },
      "text/plain": [
       "  0%|          | 0/334 [00:00<?, ?it/s]"
      ]
     },
     "metadata": {},
     "output_type": "display_data"
    },
    {
     "name": "stdout",
     "output_type": "stream",
     "text": [
      "Train_loss: tensor(0.6188, device='cuda:5', grad_fn=<NllLossBackward0>)\n",
      "\n",
      "Attack success rate 94.99\n",
      "Test_loss: tensor(0.1695, device='cuda:5')\n",
      "\n",
      "Test clean Accuracy 68.62\n",
      "Test_loss: tensor(1.5320, device='cuda:5')\n",
      "\n",
      "Target test clean Accuracy 32.70\n",
      "Test_loss: tensor(3.3861, device='cuda:5')\n"
     ]
    },
    {
     "data": {
      "application/vnd.jupyter.widget-view+json": {
       "model_id": "c2c9123e967b4dc8975adc231c7c5fde",
       "version_major": 2,
       "version_minor": 0
      },
      "text/plain": [
       "  0%|          | 0/334 [00:00<?, ?it/s]"
      ]
     },
     "metadata": {},
     "output_type": "display_data"
    },
    {
     "name": "stderr",
     "output_type": "stream",
     "text": [
      "IOPub message rate exceeded.\n",
      "The notebook server will temporarily stop sending output\n",
      "to the client in order to avoid crashing it.\n",
      "To change this limit, set the config variable\n",
      "`--NotebookApp.iopub_msg_rate_limit`.\n",
      "\n",
      "Current values:\n",
      "NotebookApp.iopub_msg_rate_limit=1000.0 (msgs/sec)\n",
      "NotebookApp.rate_limit_window=3.0 (secs)\n",
      "\n"
     ]
    },
    {
     "name": "stdout",
     "output_type": "stream",
     "text": [
      "Train_loss: tensor(0.5071, device='cuda:5', grad_fn=<NllLossBackward0>)\n",
      "\n",
      "Attack success rate 99.57\n",
      "Test_loss: tensor(0.0644, device='cuda:5')\n",
      "\n",
      "Test clean Accuracy 72.06\n",
      "Test_loss: tensor(1.0934, device='cuda:5')\n",
      "\n",
      "Target test clean Accuracy 45.10\n",
      "Test_loss: tensor(2.5505, device='cuda:5')\n"
     ]
    },
    {
     "data": {
      "application/vnd.jupyter.widget-view+json": {
       "model_id": "2b0779928131427e8628d81d6dbf1914",
       "version_major": 2,
       "version_minor": 0
      },
      "text/plain": [
       "  0%|          | 0/334 [00:00<?, ?it/s]"
      ]
     },
     "metadata": {},
     "output_type": "display_data"
    },
    {
     "name": "stdout",
     "output_type": "stream",
     "text": [
      "Train_loss: tensor(1.3528, device='cuda:5', grad_fn=<NllLossBackward0>)\n",
      "\n",
      "Attack success rate 99.96\n",
      "Test_loss: tensor(0.0017, device='cuda:5')\n",
      "\n",
      "Test clean Accuracy 65.98\n",
      "Test_loss: tensor(1.5793, device='cuda:5')\n",
      "\n",
      "Target test clean Accuracy 54.90\n",
      "Test_loss: tensor(2.2389, device='cuda:5')\n"
     ]
    },
    {
     "data": {
      "application/vnd.jupyter.widget-view+json": {
       "model_id": "bf582e99175d4d70b24024f54203eaab",
       "version_major": 2,
       "version_minor": 0
      },
      "text/plain": [
       "  0%|          | 0/334 [00:00<?, ?it/s]"
      ]
     },
     "metadata": {},
     "output_type": "display_data"
    },
    {
     "name": "stdout",
     "output_type": "stream",
     "text": [
      "Train_loss: tensor(0.3701, device='cuda:5', grad_fn=<NllLossBackward0>)\n",
      "\n",
      "Attack success rate 99.92\n",
      "Test_loss: tensor(0.0022, device='cuda:5')\n",
      "\n",
      "Test clean Accuracy 69.27\n",
      "Test_loss: tensor(1.3804, device='cuda:5')\n",
      "\n",
      "Target test clean Accuracy 63.20\n",
      "Test_loss: tensor(1.2987, device='cuda:5')\n"
     ]
    },
    {
     "data": {
      "application/vnd.jupyter.widget-view+json": {
       "model_id": "12f0908244784b89914e107523f4fa5b",
       "version_major": 2,
       "version_minor": 0
      },
      "text/plain": [
       "  0%|          | 0/334 [00:00<?, ?it/s]"
      ]
     },
     "metadata": {},
     "output_type": "display_data"
    },
    {
     "name": "stdout",
     "output_type": "stream",
     "text": [
      "Train_loss: tensor(0.9690, device='cuda:5', grad_fn=<NllLossBackward0>)\n",
      "\n",
      "Attack success rate 99.93\n",
      "Test_loss: tensor(0.0015, device='cuda:5')\n",
      "\n",
      "Test clean Accuracy 67.50\n",
      "Test_loss: tensor(1.3551, device='cuda:5')\n",
      "\n",
      "Target test clean Accuracy 47.50\n",
      "Test_loss: tensor(2.9741, device='cuda:5')\n"
     ]
    },
    {
     "data": {
      "application/vnd.jupyter.widget-view+json": {
       "model_id": "598b17512fc84486bbb535772cba36bd",
       "version_major": 2,
       "version_minor": 0
      },
      "text/plain": [
       "  0%|          | 0/334 [00:00<?, ?it/s]"
      ]
     },
     "metadata": {},
     "output_type": "display_data"
    },
    {
     "name": "stdout",
     "output_type": "stream",
     "text": [
      "Train_loss: tensor(1.0251, device='cuda:5', grad_fn=<NllLossBackward0>)\n",
      "\n",
      "Attack success rate 99.84\n",
      "Test_loss: tensor(0.0018, device='cuda:5')\n",
      "\n",
      "Test clean Accuracy 70.74\n",
      "Test_loss: tensor(1.3556, device='cuda:5')\n",
      "\n",
      "Target test clean Accuracy 65.40\n",
      "Test_loss: tensor(1.3784, device='cuda:5')\n"
     ]
    },
    {
     "data": {
      "application/vnd.jupyter.widget-view+json": {
       "model_id": "3692eb53f27b412a8ab09bc6114b525b",
       "version_major": 2,
       "version_minor": 0
      },
      "text/plain": [
       "  0%|          | 0/334 [00:00<?, ?it/s]"
      ]
     },
     "metadata": {},
     "output_type": "display_data"
    },
    {
     "name": "stdout",
     "output_type": "stream",
     "text": [
      "Train_loss: tensor(0.9733, device='cuda:5', grad_fn=<NllLossBackward0>)\n",
      "\n",
      "Attack success rate 99.97\n",
      "Test_loss: tensor(0.0009, device='cuda:5')\n",
      "\n",
      "Test clean Accuracy 74.74\n",
      "Test_loss: tensor(1.0104, device='cuda:5')\n",
      "\n",
      "Target test clean Accuracy 64.60\n",
      "Test_loss: tensor(1.5672, device='cuda:5')\n"
     ]
    },
    {
     "data": {
      "application/vnd.jupyter.widget-view+json": {
       "model_id": "e4a26d6b92a94df283e955bde16d6676",
       "version_major": 2,
       "version_minor": 0
      },
      "text/plain": [
       "  0%|          | 0/334 [00:00<?, ?it/s]"
      ]
     },
     "metadata": {},
     "output_type": "display_data"
    },
    {
     "name": "stdout",
     "output_type": "stream",
     "text": [
      "Train_loss: tensor(0.5055, device='cuda:5', grad_fn=<NllLossBackward0>)\n",
      "\n",
      "Attack success rate 99.96\n",
      "Test_loss: tensor(0.0019, device='cuda:5')\n",
      "\n",
      "Test clean Accuracy 74.23\n",
      "Test_loss: tensor(1.0673, device='cuda:5')\n",
      "\n",
      "Target test clean Accuracy 43.60\n",
      "Test_loss: tensor(2.9993, device='cuda:5')\n"
     ]
    },
    {
     "data": {
      "application/vnd.jupyter.widget-view+json": {
       "model_id": "3fb929f0e3af465a8b61b3a204b9c283",
       "version_major": 2,
       "version_minor": 0
      },
      "text/plain": [
       "  0%|          | 0/334 [00:00<?, ?it/s]"
      ]
     },
     "metadata": {},
     "output_type": "display_data"
    },
    {
     "name": "stdout",
     "output_type": "stream",
     "text": [
      "Train_loss: tensor(1.1812, device='cuda:5', grad_fn=<NllLossBackward0>)\n",
      "\n",
      "Attack success rate 100.00\n",
      "Test_loss: tensor(0.0009, device='cuda:5')\n",
      "\n",
      "Test clean Accuracy 74.51\n",
      "Test_loss: tensor(0.8426, device='cuda:5')\n",
      "\n",
      "Target test clean Accuracy 80.20\n",
      "Test_loss: tensor(0.8530, device='cuda:5')\n"
     ]
    },
    {
     "data": {
      "application/vnd.jupyter.widget-view+json": {
       "model_id": "b3353a289b2b444c99ad63e719cc8d2a",
       "version_major": 2,
       "version_minor": 0
      },
      "text/plain": [
       "  0%|          | 0/334 [00:00<?, ?it/s]"
      ]
     },
     "metadata": {},
     "output_type": "display_data"
    },
    {
     "name": "stderr",
     "output_type": "stream",
     "text": [
      "IOPub message rate exceeded.\n",
      "The notebook server will temporarily stop sending output\n",
      "to the client in order to avoid crashing it.\n",
      "To change this limit, set the config variable\n",
      "`--NotebookApp.iopub_msg_rate_limit`.\n",
      "\n",
      "Current values:\n",
      "NotebookApp.iopub_msg_rate_limit=1000.0 (msgs/sec)\n",
      "NotebookApp.rate_limit_window=3.0 (secs)\n",
      "\n"
     ]
    },
    {
     "name": "stdout",
     "output_type": "stream",
     "text": [
      "Train_loss: tensor(0.6640, device='cuda:5', grad_fn=<NllLossBackward0>)\n",
      "\n",
      "Attack success rate 99.98\n",
      "Test_loss: tensor(0.0016, device='cuda:5')\n",
      "\n",
      "Test clean Accuracy 63.01\n",
      "Test_loss: tensor(1.4954, device='cuda:5')\n",
      "\n",
      "Target test clean Accuracy 39.40\n",
      "Test_loss: tensor(2.8309, device='cuda:5')\n"
     ]
    },
    {
     "data": {
      "application/vnd.jupyter.widget-view+json": {
       "model_id": "5a234d3817c94aebb5efce21f03e7039",
       "version_major": 2,
       "version_minor": 0
      },
      "text/plain": [
       "  0%|          | 0/334 [00:00<?, ?it/s]"
      ]
     },
     "metadata": {},
     "output_type": "display_data"
    },
    {
     "name": "stdout",
     "output_type": "stream",
     "text": [
      "Train_loss: tensor(1.1293, device='cuda:5', grad_fn=<NllLossBackward0>)\n",
      "\n",
      "Attack success rate 99.89\n",
      "Test_loss: tensor(0.0013, device='cuda:5')\n",
      "\n",
      "Test clean Accuracy 68.64\n",
      "Test_loss: tensor(1.4575, device='cuda:5')\n",
      "\n",
      "Target test clean Accuracy 31.40\n",
      "Test_loss: tensor(2.6047, device='cuda:5')\n"
     ]
    },
    {
     "data": {
      "application/vnd.jupyter.widget-view+json": {
       "model_id": "41045d6fd78743fa8d99342299ec0af9",
       "version_major": 2,
       "version_minor": 0
      },
      "text/plain": [
       "  0%|          | 0/334 [00:00<?, ?it/s]"
      ]
     },
     "metadata": {},
     "output_type": "display_data"
    },
    {
     "name": "stderr",
     "output_type": "stream",
     "text": [
      "IOPub message rate exceeded.\n",
      "The notebook server will temporarily stop sending output\n",
      "to the client in order to avoid crashing it.\n",
      "To change this limit, set the config variable\n",
      "`--NotebookApp.iopub_msg_rate_limit`.\n",
      "\n",
      "Current values:\n",
      "NotebookApp.iopub_msg_rate_limit=1000.0 (msgs/sec)\n",
      "NotebookApp.rate_limit_window=3.0 (secs)\n",
      "\n"
     ]
    },
    {
     "name": "stdout",
     "output_type": "stream",
     "text": [
      "\n",
      "Attack success rate 90.70\n",
      "Test_loss: tensor(0.1978, device='cuda:5')\n",
      "\n",
      "Test clean Accuracy 73.39\n",
      "Test_loss: tensor(1.0932, device='cuda:5')\n",
      "\n",
      "Target test clean Accuracy 40.00\n",
      "Test_loss: tensor(2.7500, device='cuda:5')\n"
     ]
    },
    {
     "data": {
      "application/vnd.jupyter.widget-view+json": {
       "model_id": "72942ed44810407e966c502d06a64dbd",
       "version_major": 2,
       "version_minor": 0
      },
      "text/plain": [
       "  0%|          | 0/334 [00:00<?, ?it/s]"
      ]
     },
     "metadata": {},
     "output_type": "display_data"
    },
    {
     "name": "stdout",
     "output_type": "stream",
     "text": [
      "Train_loss: tensor(0.9562, device='cuda:5', grad_fn=<NllLossBackward0>)\n",
      "\n",
      "Attack success rate 100.00\n",
      "Test_loss: tensor(0.0013, device='cuda:5')\n",
      "\n",
      "Test clean Accuracy 69.40\n",
      "Test_loss: tensor(1.4433, device='cuda:5')\n",
      "\n",
      "Target test clean Accuracy 46.10\n",
      "Test_loss: tensor(2.8268, device='cuda:5')\n"
     ]
    },
    {
     "data": {
      "application/vnd.jupyter.widget-view+json": {
       "model_id": "9e951650596e4109a16c99ff38ef988a",
       "version_major": 2,
       "version_minor": 0
      },
      "text/plain": [
       "  0%|          | 0/334 [00:00<?, ?it/s]"
      ]
     },
     "metadata": {},
     "output_type": "display_data"
    },
    {
     "name": "stdout",
     "output_type": "stream",
     "text": [
      "Train_loss: tensor(0.9842, device='cuda:5', grad_fn=<NllLossBackward0>)\n",
      "\n",
      "Attack success rate 100.00\n",
      "Test_loss: tensor(0.0009, device='cuda:5')\n",
      "\n",
      "Test clean Accuracy 61.15\n",
      "Test_loss: tensor(1.7741, device='cuda:5')\n",
      "\n",
      "Target test clean Accuracy 68.60\n",
      "Test_loss: tensor(1.5414, device='cuda:5')\n"
     ]
    },
    {
     "data": {
      "application/vnd.jupyter.widget-view+json": {
       "model_id": "28e15b333af74caea5dbd29054349d98",
       "version_major": 2,
       "version_minor": 0
      },
      "text/plain": [
       "  0%|          | 0/334 [00:00<?, ?it/s]"
      ]
     },
     "metadata": {},
     "output_type": "display_data"
    },
    {
     "name": "stderr",
     "output_type": "stream",
     "text": [
      "IOPub message rate exceeded.\n",
      "The notebook server will temporarily stop sending output\n",
      "to the client in order to avoid crashing it.\n",
      "To change this limit, set the config variable\n",
      "`--NotebookApp.iopub_msg_rate_limit`.\n",
      "\n",
      "Current values:\n",
      "NotebookApp.iopub_msg_rate_limit=1000.0 (msgs/sec)\n",
      "NotebookApp.rate_limit_window=3.0 (secs)\n",
      "\n"
     ]
    },
    {
     "name": "stdout",
     "output_type": "stream",
     "text": [
      "Train_loss: tensor(0.8631, device='cuda:5', grad_fn=<NllLossBackward0>)\n",
      "\n",
      "Attack success rate 99.98\n",
      "Test_loss: tensor(0.0008, device='cuda:5')\n",
      "\n",
      "Test clean Accuracy 72.92\n",
      "Test_loss: tensor(1.4038, device='cuda:5')\n",
      "\n",
      "Target test clean Accuracy 53.00\n",
      "Test_loss: tensor(1.5251, device='cuda:5')\n"
     ]
    },
    {
     "data": {
      "application/vnd.jupyter.widget-view+json": {
       "model_id": "36d311bc2cae41828e1d878dc1702bde",
       "version_major": 2,
       "version_minor": 0
      },
      "text/plain": [
       "  0%|          | 0/334 [00:00<?, ?it/s]"
      ]
     },
     "metadata": {},
     "output_type": "display_data"
    },
    {
     "name": "stdout",
     "output_type": "stream",
     "text": [
      "Train_loss: tensor(0.7859, device='cuda:5', grad_fn=<NllLossBackward0>)\n",
      "\n",
      "Attack success rate 99.91\n",
      "Test_loss: tensor(0.0013, device='cuda:5')\n",
      "\n",
      "Test clean Accuracy 72.92\n",
      "Test_loss: tensor(1.2135, device='cuda:5')\n",
      "\n",
      "Target test clean Accuracy 73.40\n",
      "Test_loss: tensor(1.1817, device='cuda:5')\n"
     ]
    },
    {
     "data": {
      "application/vnd.jupyter.widget-view+json": {
       "model_id": "80aee00b71f045c1b83fb7fe1915a8ae",
       "version_major": 2,
       "version_minor": 0
      },
      "text/plain": [
       "  0%|          | 0/334 [00:00<?, ?it/s]"
      ]
     },
     "metadata": {},
     "output_type": "display_data"
    },
    {
     "name": "stderr",
     "output_type": "stream",
     "text": [
      "IOPub message rate exceeded.\n",
      "The notebook server will temporarily stop sending output\n",
      "to the client in order to avoid crashing it.\n",
      "To change this limit, set the config variable\n",
      "`--NotebookApp.iopub_msg_rate_limit`.\n",
      "\n",
      "Current values:\n",
      "NotebookApp.iopub_msg_rate_limit=1000.0 (msgs/sec)\n",
      "NotebookApp.rate_limit_window=3.0 (secs)\n",
      "\n"
     ]
    },
    {
     "name": "stdout",
     "output_type": "stream",
     "text": [
      "Train_loss: tensor(0.9201, device='cuda:5', grad_fn=<NllLossBackward0>)\n",
      "\n",
      "Attack success rate 100.00\n",
      "Test_loss: tensor(0.0016, device='cuda:5')\n",
      "\n",
      "Test clean Accuracy 73.29\n",
      "Test_loss: tensor(1.3139, device='cuda:5')\n",
      "\n",
      "Target test clean Accuracy 53.60\n",
      "Test_loss: tensor(2.2363, device='cuda:5')\n"
     ]
    },
    {
     "data": {
      "application/vnd.jupyter.widget-view+json": {
       "model_id": "53ed4aedabeb43d5a010faa568b352ac",
       "version_major": 2,
       "version_minor": 0
      },
      "text/plain": [
       "  0%|          | 0/334 [00:00<?, ?it/s]"
      ]
     },
     "metadata": {},
     "output_type": "display_data"
    },
    {
     "name": "stdout",
     "output_type": "stream",
     "text": [
      "Train_loss: tensor(0.5394, device='cuda:5', grad_fn=<NllLossBackward0>)\n",
      "\n",
      "Attack success rate 99.98\n",
      "Test_loss: tensor(0.0011, device='cuda:5')\n",
      "\n",
      "Test clean Accuracy 61.56\n",
      "Test_loss: tensor(1.8080, device='cuda:5')\n",
      "\n",
      "Target test clean Accuracy 25.10\n",
      "Test_loss: tensor(4.0335, device='cuda:5')\n"
     ]
    },
    {
     "data": {
      "application/vnd.jupyter.widget-view+json": {
       "model_id": "4edb2a2d0e1f4ddc93d84f4a8d923032",
       "version_major": 2,
       "version_minor": 0
      },
      "text/plain": [
       "  0%|          | 0/334 [00:00<?, ?it/s]"
      ]
     },
     "metadata": {},
     "output_type": "display_data"
    },
    {
     "name": "stdout",
     "output_type": "stream",
     "text": [
      "Train_loss: tensor(0.8888, device='cuda:5', grad_fn=<NllLossBackward0>)\n",
      "\n",
      "Attack success rate 100.00\n",
      "Test_loss: tensor(0.0010, device='cuda:5')\n",
      "\n",
      "Test clean Accuracy 72.93\n",
      "Test_loss: tensor(0.8559, device='cuda:5')\n",
      "\n",
      "Target test clean Accuracy 72.70\n",
      "Test_loss: tensor(0.9968, device='cuda:5')\n"
     ]
    },
    {
     "data": {
      "application/vnd.jupyter.widget-view+json": {
       "model_id": "a1a263d8d1d24fe8839a514aa1a5219c",
       "version_major": 2,
       "version_minor": 0
      },
      "text/plain": [
       "  0%|          | 0/334 [00:00<?, ?it/s]"
      ]
     },
     "metadata": {},
     "output_type": "display_data"
    },
    {
     "name": "stderr",
     "output_type": "stream",
     "text": [
      "IOPub message rate exceeded.\n",
      "The notebook server will temporarily stop sending output\n",
      "to the client in order to avoid crashing it.\n",
      "To change this limit, set the config variable\n",
      "`--NotebookApp.iopub_msg_rate_limit`.\n",
      "\n",
      "Current values:\n",
      "NotebookApp.iopub_msg_rate_limit=1000.0 (msgs/sec)\n",
      "NotebookApp.rate_limit_window=3.0 (secs)\n",
      "\n"
     ]
    },
    {
     "name": "stdout",
     "output_type": "stream",
     "text": [
      "\n",
      "Test clean Accuracy 79.31\n",
      "Test_loss: tensor(0.7613, device='cuda:5')\n",
      "\n",
      "Target test clean Accuracy 72.70\n",
      "Test_loss: tensor(1.0132, device='cuda:5')\n"
     ]
    },
    {
     "data": {
      "application/vnd.jupyter.widget-view+json": {
       "model_id": "5df8bb5fe4454cc8abccbefdefcdba43",
       "version_major": 2,
       "version_minor": 0
      },
      "text/plain": [
       "  0%|          | 0/334 [00:00<?, ?it/s]"
      ]
     },
     "metadata": {},
     "output_type": "display_data"
    },
    {
     "name": "stdout",
     "output_type": "stream",
     "text": [
      "Train_loss: tensor(0.5514, device='cuda:5', grad_fn=<NllLossBackward0>)\n",
      "\n",
      "Attack success rate 100.00\n",
      "Test_loss: tensor(0.0011, device='cuda:5')\n",
      "\n",
      "Test clean Accuracy 77.21\n",
      "Test_loss: tensor(0.9752, device='cuda:5')\n",
      "\n",
      "Target test clean Accuracy 58.10\n",
      "Test_loss: tensor(2.2402, device='cuda:5')\n"
     ]
    },
    {
     "data": {
      "application/vnd.jupyter.widget-view+json": {
       "model_id": "5846010517a44ec88619e187d048f78c",
       "version_major": 2,
       "version_minor": 0
      },
      "text/plain": [
       "  0%|          | 0/334 [00:00<?, ?it/s]"
      ]
     },
     "metadata": {},
     "output_type": "display_data"
    },
    {
     "name": "stdout",
     "output_type": "stream",
     "text": [
      "Train_loss: tensor(0.9936, device='cuda:5', grad_fn=<NllLossBackward0>)\n",
      "\n",
      "Attack success rate 100.00\n",
      "Test_loss: tensor(0.0011, device='cuda:5')\n",
      "\n",
      "Test clean Accuracy 79.90\n",
      "Test_loss: tensor(0.8455, device='cuda:5')\n",
      "\n",
      "Target test clean Accuracy 82.80\n",
      "Test_loss: tensor(0.7153, device='cuda:5')\n"
     ]
    },
    {
     "data": {
      "application/vnd.jupyter.widget-view+json": {
       "model_id": "40c914652d1145ffa43d808c470fb683",
       "version_major": 2,
       "version_minor": 0
      },
      "text/plain": [
       "  0%|          | 0/334 [00:00<?, ?it/s]"
      ]
     },
     "metadata": {},
     "output_type": "display_data"
    },
    {
     "name": "stdout",
     "output_type": "stream",
     "text": [
      "Train_loss: tensor(0.1846, device='cuda:5', grad_fn=<NllLossBackward0>)\n",
      "\n",
      "Attack success rate 99.91\n",
      "Test_loss: tensor(0.0020, device='cuda:5')\n",
      "\n",
      "Test clean Accuracy 77.28\n",
      "Test_loss: tensor(0.8250, device='cuda:5')\n",
      "\n",
      "Target test clean Accuracy 51.10\n",
      "Test_loss: tensor(2.4598, device='cuda:5')\n"
     ]
    },
    {
     "data": {
      "application/vnd.jupyter.widget-view+json": {
       "model_id": "a39d236beab547568fbf2583bea66e2e",
       "version_major": 2,
       "version_minor": 0
      },
      "text/plain": [
       "  0%|          | 0/334 [00:00<?, ?it/s]"
      ]
     },
     "metadata": {},
     "output_type": "display_data"
    },
    {
     "name": "stdout",
     "output_type": "stream",
     "text": [
      "Train_loss: tensor(0.5780, device='cuda:5', grad_fn=<NllLossBackward0>)\n",
      "\n",
      "Attack success rate 99.78\n",
      "Test_loss: tensor(0.0012, device='cuda:5')\n",
      "\n",
      "Test clean Accuracy 76.44\n",
      "Test_loss: tensor(1.1688, device='cuda:5')\n",
      "\n",
      "Target test clean Accuracy 55.10\n",
      "Test_loss: tensor(1.8303, device='cuda:5')\n"
     ]
    },
    {
     "data": {
      "application/vnd.jupyter.widget-view+json": {
       "model_id": "76d9995796f34240a0207c3386abdf7a",
       "version_major": 2,
       "version_minor": 0
      },
      "text/plain": [
       "  0%|          | 0/334 [00:00<?, ?it/s]"
      ]
     },
     "metadata": {},
     "output_type": "display_data"
    },
    {
     "name": "stdout",
     "output_type": "stream",
     "text": [
      "Train_loss: tensor(0.4920, device='cuda:5', grad_fn=<NllLossBackward0>)\n",
      "\n",
      "Attack success rate 100.00\n",
      "Test_loss: tensor(0.0014, device='cuda:5')\n",
      "\n",
      "Test clean Accuracy 78.24\n",
      "Test_loss: tensor(0.9981, device='cuda:5')\n",
      "\n",
      "Target test clean Accuracy 69.10\n",
      "Test_loss: tensor(1.4884, device='cuda:5')\n"
     ]
    },
    {
     "data": {
      "application/vnd.jupyter.widget-view+json": {
       "model_id": "c960ccba2c6743c4972649d05957ebc8",
       "version_major": 2,
       "version_minor": 0
      },
      "text/plain": [
       "  0%|          | 0/334 [00:00<?, ?it/s]"
      ]
     },
     "metadata": {},
     "output_type": "display_data"
    },
    {
     "name": "stdout",
     "output_type": "stream",
     "text": [
      "Train_loss: tensor(0.8228, device='cuda:5', grad_fn=<NllLossBackward0>)\n",
      "\n",
      "Attack success rate 100.00\n",
      "Test_loss: tensor(0.0007, device='cuda:5')\n",
      "\n",
      "Test clean Accuracy 77.92\n",
      "Test_loss: tensor(0.6433, device='cuda:5')\n",
      "\n",
      "Target test clean Accuracy 72.70\n",
      "Test_loss: tensor(1.0171, device='cuda:5')\n"
     ]
    },
    {
     "data": {
      "application/vnd.jupyter.widget-view+json": {
       "model_id": "7fd080ca3c0c483499289c50c9923b94",
       "version_major": 2,
       "version_minor": 0
      },
      "text/plain": [
       "  0%|          | 0/334 [00:00<?, ?it/s]"
      ]
     },
     "metadata": {},
     "output_type": "display_data"
    },
    {
     "name": "stdout",
     "output_type": "stream",
     "text": [
      "Train_loss: tensor(0.6599, device='cuda:5', grad_fn=<NllLossBackward0>)\n",
      "\n",
      "Attack success rate 99.99\n",
      "Test_loss: tensor(0.0010, device='cuda:5')\n",
      "\n",
      "Test clean Accuracy 76.93\n",
      "Test_loss: tensor(1.0789, device='cuda:5')\n",
      "\n",
      "Target test clean Accuracy 65.40\n",
      "Test_loss: tensor(1.8332, device='cuda:5')\n"
     ]
    },
    {
     "data": {
      "application/vnd.jupyter.widget-view+json": {
       "model_id": "c25047d0b7fc4b7b91864504a7d5e37f",
       "version_major": 2,
       "version_minor": 0
      },
      "text/plain": [
       "  0%|          | 0/334 [00:00<?, ?it/s]"
      ]
     },
     "metadata": {},
     "output_type": "display_data"
    },
    {
     "name": "stdout",
     "output_type": "stream",
     "text": [
      "Train_loss: tensor(0.8378, device='cuda:5', grad_fn=<NllLossBackward0>)\n",
      "\n",
      "Attack success rate 99.99\n",
      "Test_loss: tensor(0.0009, device='cuda:5')\n",
      "\n",
      "Test clean Accuracy 71.30\n",
      "Test_loss: tensor(1.1595, device='cuda:5')\n",
      "\n",
      "Target test clean Accuracy 59.60\n",
      "Test_loss: tensor(2.3053, device='cuda:5')\n"
     ]
    },
    {
     "data": {
      "application/vnd.jupyter.widget-view+json": {
       "model_id": "ec15a33f04d24f8ba2769d78aec3a968",
       "version_major": 2,
       "version_minor": 0
      },
      "text/plain": [
       "  0%|          | 0/334 [00:00<?, ?it/s]"
      ]
     },
     "metadata": {},
     "output_type": "display_data"
    },
    {
     "name": "stdout",
     "output_type": "stream",
     "text": [
      "Train_loss: tensor(0.4139, device='cuda:5', grad_fn=<NllLossBackward0>)\n",
      "\n",
      "Attack success rate 100.00\n",
      "Test_loss: tensor(0.0008, device='cuda:5')\n",
      "\n",
      "Test clean Accuracy 80.27\n",
      "Test_loss: tensor(0.8193, device='cuda:5')\n",
      "\n",
      "Target test clean Accuracy 56.10\n",
      "Test_loss: tensor(1.9845, device='cuda:5')\n"
     ]
    },
    {
     "data": {
      "application/vnd.jupyter.widget-view+json": {
       "model_id": "7563e137fe004b0f933fc86b34947475",
       "version_major": 2,
       "version_minor": 0
      },
      "text/plain": [
       "  0%|          | 0/334 [00:00<?, ?it/s]"
      ]
     },
     "metadata": {},
     "output_type": "display_data"
    },
    {
     "name": "stdout",
     "output_type": "stream",
     "text": [
      "Train_loss: tensor(0.4880, device='cuda:5', grad_fn=<NllLossBackward0>)\n",
      "\n",
      "Attack success rate 85.44\n",
      "Test_loss: tensor(0.5398, device='cuda:5')\n",
      "\n",
      "Test clean Accuracy 74.94\n",
      "Test_loss: tensor(1.2190, device='cuda:5')\n",
      "\n",
      "Target test clean Accuracy 31.40\n",
      "Test_loss: tensor(3.2903, device='cuda:5')\n"
     ]
    },
    {
     "data": {
      "application/vnd.jupyter.widget-view+json": {
       "model_id": "a725f14e757d43f0b5c4ccae957bce4b",
       "version_major": 2,
       "version_minor": 0
      },
      "text/plain": [
       "  0%|          | 0/334 [00:00<?, ?it/s]"
      ]
     },
     "metadata": {},
     "output_type": "display_data"
    },
    {
     "name": "stdout",
     "output_type": "stream",
     "text": [
      "Train_loss: tensor(0.9644, device='cuda:5', grad_fn=<NllLossBackward0>)\n",
      "\n",
      "Attack success rate 99.98\n",
      "Test_loss: tensor(0.0017, device='cuda:5')\n",
      "\n",
      "Test clean Accuracy 77.71\n",
      "Test_loss: tensor(0.9492, device='cuda:5')\n",
      "\n",
      "Target test clean Accuracy 73.20\n",
      "Test_loss: tensor(0.9855, device='cuda:5')\n"
     ]
    },
    {
     "data": {
      "application/vnd.jupyter.widget-view+json": {
       "model_id": "6b12ce3e69c541579cb65b21d2437792",
       "version_major": 2,
       "version_minor": 0
      },
      "text/plain": [
       "  0%|          | 0/334 [00:00<?, ?it/s]"
      ]
     },
     "metadata": {},
     "output_type": "display_data"
    },
    {
     "name": "stdout",
     "output_type": "stream",
     "text": [
      "Train_loss: tensor(1.1951, device='cuda:5', grad_fn=<NllLossBackward0>)\n",
      "\n",
      "Attack success rate 100.00\n",
      "Test_loss: tensor(0.0013, device='cuda:5')\n",
      "\n",
      "Test clean Accuracy 73.71\n",
      "Test_loss: tensor(1.1363, device='cuda:5')\n",
      "\n",
      "Target test clean Accuracy 74.90\n",
      "Test_loss: tensor(1.4305, device='cuda:5')\n"
     ]
    },
    {
     "data": {
      "application/vnd.jupyter.widget-view+json": {
       "model_id": "ef112fe4e44f46e996e7547c30a4276b",
       "version_major": 2,
       "version_minor": 0
      },
      "text/plain": [
       "  0%|          | 0/334 [00:00<?, ?it/s]"
      ]
     },
     "metadata": {},
     "output_type": "display_data"
    },
    {
     "name": "stdout",
     "output_type": "stream",
     "text": [
      "Train_loss: tensor(0.2954, device='cuda:5', grad_fn=<NllLossBackward0>)\n",
      "\n",
      "Attack success rate 99.89\n",
      "Test_loss: tensor(0.0010, device='cuda:5')\n",
      "\n",
      "Test clean Accuracy 76.20\n",
      "Test_loss: tensor(0.7518, device='cuda:5')\n",
      "\n",
      "Target test clean Accuracy 36.30\n",
      "Test_loss: tensor(2.8053, device='cuda:5')\n"
     ]
    },
    {
     "data": {
      "application/vnd.jupyter.widget-view+json": {
       "model_id": "9672e8dc80814ea29d15633aa28cdf3c",
       "version_major": 2,
       "version_minor": 0
      },
      "text/plain": [
       "  0%|          | 0/334 [00:00<?, ?it/s]"
      ]
     },
     "metadata": {},
     "output_type": "display_data"
    },
    {
     "name": "stdout",
     "output_type": "stream",
     "text": [
      "Train_loss: tensor(1.1559, device='cuda:5', grad_fn=<NllLossBackward0>)\n",
      "\n",
      "Attack success rate 99.99\n",
      "Test_loss: tensor(0.0013, device='cuda:5')\n",
      "\n",
      "Test clean Accuracy 58.03\n",
      "Test_loss: tensor(1.9866, device='cuda:5')\n",
      "\n",
      "Target test clean Accuracy 48.50\n",
      "Test_loss: tensor(2.3213, device='cuda:5')\n"
     ]
    },
    {
     "data": {
      "application/vnd.jupyter.widget-view+json": {
       "model_id": "2aa029d187d44b7d82c352cc94c9e49d",
       "version_major": 2,
       "version_minor": 0
      },
      "text/plain": [
       "  0%|          | 0/334 [00:00<?, ?it/s]"
      ]
     },
     "metadata": {},
     "output_type": "display_data"
    },
    {
     "name": "stdout",
     "output_type": "stream",
     "text": [
      "Train_loss: tensor(0.6028, device='cuda:5', grad_fn=<NllLossBackward0>)\n",
      "\n",
      "Attack success rate 100.00\n",
      "Test_loss: tensor(0.0014, device='cuda:5')\n",
      "\n",
      "Test clean Accuracy 77.13\n",
      "Test_loss: tensor(1.2233, device='cuda:5')\n",
      "\n",
      "Target test clean Accuracy 59.50\n",
      "Test_loss: tensor(1.7330, device='cuda:5')\n"
     ]
    },
    {
     "data": {
      "application/vnd.jupyter.widget-view+json": {
       "model_id": "030f269b2ba846e899596c82e291ca8b",
       "version_major": 2,
       "version_minor": 0
      },
      "text/plain": [
       "  0%|          | 0/334 [00:00<?, ?it/s]"
      ]
     },
     "metadata": {},
     "output_type": "display_data"
    },
    {
     "name": "stdout",
     "output_type": "stream",
     "text": [
      "Train_loss: tensor(1.1745, device='cuda:5', grad_fn=<NllLossBackward0>)\n",
      "\n",
      "Attack success rate 100.00\n",
      "Test_loss: tensor(0.0010, device='cuda:5')\n",
      "\n",
      "Test clean Accuracy 77.94\n",
      "Test_loss: tensor(0.6772, device='cuda:5')\n",
      "\n",
      "Target test clean Accuracy 65.50\n",
      "Test_loss: tensor(1.3504, device='cuda:5')\n"
     ]
    },
    {
     "data": {
      "application/vnd.jupyter.widget-view+json": {
       "model_id": "50cc019adfed42069c51019c16bea985",
       "version_major": 2,
       "version_minor": 0
      },
      "text/plain": [
       "  0%|          | 0/334 [00:00<?, ?it/s]"
      ]
     },
     "metadata": {},
     "output_type": "display_data"
    },
    {
     "name": "stdout",
     "output_type": "stream",
     "text": [
      "Train_loss: tensor(0.7063, device='cuda:5', grad_fn=<NllLossBackward0>)\n",
      "\n",
      "Attack success rate 100.00\n",
      "Test_loss: tensor(0.0009, device='cuda:5')\n",
      "\n",
      "Test clean Accuracy 76.77\n",
      "Test_loss: tensor(0.7941, device='cuda:5')\n",
      "\n",
      "Target test clean Accuracy 69.90\n",
      "Test_loss: tensor(1.4632, device='cuda:5')\n"
     ]
    },
    {
     "data": {
      "application/vnd.jupyter.widget-view+json": {
       "model_id": "ca8e0c1cc5154e61b97907f146a36800",
       "version_major": 2,
       "version_minor": 0
      },
      "text/plain": [
       "  0%|          | 0/334 [00:00<?, ?it/s]"
      ]
     },
     "metadata": {},
     "output_type": "display_data"
    },
    {
     "name": "stdout",
     "output_type": "stream",
     "text": [
      "Train_loss: tensor(0.6587, device='cuda:5', grad_fn=<NllLossBackward0>)\n",
      "\n",
      "Attack success rate 100.00\n",
      "Test_loss: tensor(0.0008, device='cuda:5')\n",
      "\n",
      "Test clean Accuracy 78.89\n",
      "Test_loss: tensor(0.5901, device='cuda:5')\n",
      "\n",
      "Target test clean Accuracy 53.70\n",
      "Test_loss: tensor(2.0696, device='cuda:5')\n"
     ]
    },
    {
     "data": {
      "application/vnd.jupyter.widget-view+json": {
       "model_id": "e03521256b13458c9306a4673e77a8c3",
       "version_major": 2,
       "version_minor": 0
      },
      "text/plain": [
       "  0%|          | 0/334 [00:00<?, ?it/s]"
      ]
     },
     "metadata": {},
     "output_type": "display_data"
    },
    {
     "name": "stdout",
     "output_type": "stream",
     "text": [
      "Train_loss: tensor(0.8458, device='cuda:5', grad_fn=<NllLossBackward0>)\n",
      "\n",
      "Attack success rate 99.53\n",
      "Test_loss: tensor(0.0035, device='cuda:5')\n",
      "\n",
      "Test clean Accuracy 67.56\n",
      "Test_loss: tensor(1.4923, device='cuda:5')\n",
      "\n",
      "Target test clean Accuracy 35.10\n",
      "Test_loss: tensor(3.5356, device='cuda:5')\n"
     ]
    },
    {
     "data": {
      "application/vnd.jupyter.widget-view+json": {
       "model_id": "e758f410487b48f08f18f964d527cfd5",
       "version_major": 2,
       "version_minor": 0
      },
      "text/plain": [
       "  0%|          | 0/334 [00:00<?, ?it/s]"
      ]
     },
     "metadata": {},
     "output_type": "display_data"
    },
    {
     "name": "stdout",
     "output_type": "stream",
     "text": [
      "Train_loss: tensor(0.4257, device='cuda:5', grad_fn=<NllLossBackward0>)\n",
      "\n",
      "Attack success rate 99.98\n",
      "Test_loss: tensor(0.0011, device='cuda:5')\n",
      "\n",
      "Test clean Accuracy 77.70\n",
      "Test_loss: tensor(1.0602, device='cuda:5')\n",
      "\n",
      "Target test clean Accuracy 65.20\n",
      "Test_loss: tensor(1.6074, device='cuda:5')\n"
     ]
    },
    {
     "data": {
      "application/vnd.jupyter.widget-view+json": {
       "model_id": "ad3761d929744f418bd5911126a04b0b",
       "version_major": 2,
       "version_minor": 0
      },
      "text/plain": [
       "  0%|          | 0/334 [00:00<?, ?it/s]"
      ]
     },
     "metadata": {},
     "output_type": "display_data"
    },
    {
     "name": "stdout",
     "output_type": "stream",
     "text": [
      "Train_loss: tensor(1.0781, device='cuda:5', grad_fn=<NllLossBackward0>)\n",
      "\n",
      "Attack success rate 100.00\n",
      "Test_loss: tensor(0.0014, device='cuda:5')\n",
      "\n",
      "Test clean Accuracy 75.09\n",
      "Test_loss: tensor(0.7546, device='cuda:5')\n",
      "\n",
      "Target test clean Accuracy 51.60\n",
      "Test_loss: tensor(2.5590, device='cuda:5')\n"
     ]
    },
    {
     "data": {
      "application/vnd.jupyter.widget-view+json": {
       "model_id": "44152a234f5f41ac903e59a968a53fec",
       "version_major": 2,
       "version_minor": 0
      },
      "text/plain": [
       "  0%|          | 0/334 [00:00<?, ?it/s]"
      ]
     },
     "metadata": {},
     "output_type": "display_data"
    },
    {
     "name": "stdout",
     "output_type": "stream",
     "text": [
      "Train_loss: tensor(0.8795, device='cuda:5', grad_fn=<NllLossBackward0>)\n",
      "\n",
      "Attack success rate 100.00\n",
      "Test_loss: tensor(0.0007, device='cuda:5')\n",
      "\n",
      "Test clean Accuracy 75.17\n",
      "Test_loss: tensor(1.0317, device='cuda:5')\n",
      "\n",
      "Target test clean Accuracy 52.00\n",
      "Test_loss: tensor(1.8973, device='cuda:5')\n"
     ]
    },
    {
     "data": {
      "application/vnd.jupyter.widget-view+json": {
       "model_id": "3421e7b062284162b63b0fdde159a7c8",
       "version_major": 2,
       "version_minor": 0
      },
      "text/plain": [
       "  0%|          | 0/334 [00:00<?, ?it/s]"
      ]
     },
     "metadata": {},
     "output_type": "display_data"
    },
    {
     "name": "stdout",
     "output_type": "stream",
     "text": [
      "Train_loss: tensor(0.6360, device='cuda:5', grad_fn=<NllLossBackward0>)\n",
      "\n",
      "Attack success rate 95.94\n",
      "Test_loss: tensor(0.1933, device='cuda:5')\n",
      "\n",
      "Test clean Accuracy 73.86\n",
      "Test_loss: tensor(1.5000, device='cuda:5')\n",
      "\n",
      "Target test clean Accuracy 65.30\n",
      "Test_loss: tensor(2.0665, device='cuda:5')\n"
     ]
    },
    {
     "data": {
      "application/vnd.jupyter.widget-view+json": {
       "model_id": "ceddb60e02cd4389825fff783cb19758",
       "version_major": 2,
       "version_minor": 0
      },
      "text/plain": [
       "  0%|          | 0/334 [00:00<?, ?it/s]"
      ]
     },
     "metadata": {},
     "output_type": "display_data"
    },
    {
     "name": "stdout",
     "output_type": "stream",
     "text": [
      "Train_loss: tensor(0.6927, device='cuda:5', grad_fn=<NllLossBackward0>)\n",
      "\n",
      "Attack success rate 100.00\n",
      "Test_loss: tensor(0.0011, device='cuda:5')\n",
      "\n",
      "Test clean Accuracy 72.91\n",
      "Test_loss: tensor(1.3065, device='cuda:5')\n",
      "\n",
      "Target test clean Accuracy 93.20\n",
      "Test_loss: tensor(0.0999, device='cuda:5')\n"
     ]
    },
    {
     "data": {
      "application/vnd.jupyter.widget-view+json": {
       "model_id": "1bc10466f9e94fb9893a1a3030b70bcd",
       "version_major": 2,
       "version_minor": 0
      },
      "text/plain": [
       "  0%|          | 0/334 [00:00<?, ?it/s]"
      ]
     },
     "metadata": {},
     "output_type": "display_data"
    },
    {
     "name": "stdout",
     "output_type": "stream",
     "text": [
      "Train_loss: tensor(0.6916, device='cuda:5', grad_fn=<NllLossBackward0>)\n",
      "\n",
      "Attack success rate 99.97\n",
      "Test_loss: tensor(0.0012, device='cuda:5')\n",
      "\n",
      "Test clean Accuracy 77.25\n",
      "Test_loss: tensor(0.9858, device='cuda:5')\n",
      "\n",
      "Target test clean Accuracy 65.90\n",
      "Test_loss: tensor(1.3069, device='cuda:5')\n"
     ]
    },
    {
     "data": {
      "application/vnd.jupyter.widget-view+json": {
       "model_id": "57aff6173eb14781abcf7073b8b94603",
       "version_major": 2,
       "version_minor": 0
      },
      "text/plain": [
       "  0%|          | 0/334 [00:00<?, ?it/s]"
      ]
     },
     "metadata": {},
     "output_type": "display_data"
    },
    {
     "name": "stdout",
     "output_type": "stream",
     "text": [
      "Train_loss: tensor(0.5902, device='cuda:5', grad_fn=<NllLossBackward0>)\n",
      "\n",
      "Attack success rate 100.00\n",
      "Test_loss: tensor(0.0007, device='cuda:5')\n",
      "\n",
      "Test clean Accuracy 72.29\n",
      "Test_loss: tensor(0.9899, device='cuda:5')\n",
      "\n",
      "Target test clean Accuracy 85.40\n",
      "Test_loss: tensor(0.4474, device='cuda:5')\n"
     ]
    },
    {
     "data": {
      "application/vnd.jupyter.widget-view+json": {
       "model_id": "a6f1a14e072b40c9a9c341e2fe54d7d8",
       "version_major": 2,
       "version_minor": 0
      },
      "text/plain": [
       "  0%|          | 0/334 [00:00<?, ?it/s]"
      ]
     },
     "metadata": {},
     "output_type": "display_data"
    },
    {
     "name": "stdout",
     "output_type": "stream",
     "text": [
      "Train_loss: tensor(0.9844, device='cuda:5', grad_fn=<NllLossBackward0>)\n",
      "\n",
      "Attack success rate 100.00\n",
      "Test_loss: tensor(0.0014, device='cuda:5')\n",
      "\n",
      "Test clean Accuracy 78.63\n",
      "Test_loss: tensor(1.2357, device='cuda:5')\n",
      "\n",
      "Target test clean Accuracy 72.50\n",
      "Test_loss: tensor(1.1559, device='cuda:5')\n"
     ]
    },
    {
     "data": {
      "application/vnd.jupyter.widget-view+json": {
       "model_id": "a48d4e0bf167416c8d13edd915aea44d",
       "version_major": 2,
       "version_minor": 0
      },
      "text/plain": [
       "  0%|          | 0/334 [00:00<?, ?it/s]"
      ]
     },
     "metadata": {},
     "output_type": "display_data"
    },
    {
     "name": "stdout",
     "output_type": "stream",
     "text": [
      "Train_loss: tensor(0.5724, device='cuda:5', grad_fn=<NllLossBackward0>)\n",
      "\n",
      "Attack success rate 99.99\n",
      "Test_loss: tensor(0.0028, device='cuda:5')\n",
      "\n",
      "Test clean Accuracy 71.48\n",
      "Test_loss: tensor(1.1798, device='cuda:5')\n",
      "\n",
      "Target test clean Accuracy 47.90\n",
      "Test_loss: tensor(2.7011, device='cuda:5')\n"
     ]
    },
    {
     "data": {
      "application/vnd.jupyter.widget-view+json": {
       "model_id": "4825ba767f094fe4a3d95ab81f84fc8d",
       "version_major": 2,
       "version_minor": 0
      },
      "text/plain": [
       "  0%|          | 0/334 [00:00<?, ?it/s]"
      ]
     },
     "metadata": {},
     "output_type": "display_data"
    },
    {
     "name": "stdout",
     "output_type": "stream",
     "text": [
      "Train_loss: tensor(0.5142, device='cuda:5', grad_fn=<NllLossBackward0>)\n",
      "\n",
      "Attack success rate 99.89\n",
      "Test_loss: tensor(0.0015, device='cuda:5')\n",
      "\n",
      "Test clean Accuracy 72.42\n",
      "Test_loss: tensor(1.1787, device='cuda:5')\n",
      "\n",
      "Target test clean Accuracy 50.30\n",
      "Test_loss: tensor(2.4785, device='cuda:5')\n"
     ]
    },
    {
     "data": {
      "application/vnd.jupyter.widget-view+json": {
       "model_id": "3ceeed23e1514019bbbb85953588582f",
       "version_major": 2,
       "version_minor": 0
      },
      "text/plain": [
       "  0%|          | 0/334 [00:00<?, ?it/s]"
      ]
     },
     "metadata": {},
     "output_type": "display_data"
    },
    {
     "name": "stdout",
     "output_type": "stream",
     "text": [
      "Train_loss: tensor(1.0589, device='cuda:5', grad_fn=<NllLossBackward0>)\n",
      "\n",
      "Attack success rate 99.86\n",
      "Test_loss: tensor(0.0024, device='cuda:5')\n",
      "\n",
      "Test clean Accuracy 52.30\n",
      "Test_loss: tensor(2.3604, device='cuda:5')\n",
      "\n",
      "Target test clean Accuracy 29.20\n",
      "Test_loss: tensor(4.0024, device='cuda:5')\n"
     ]
    },
    {
     "data": {
      "application/vnd.jupyter.widget-view+json": {
       "model_id": "737332743ce44c8da2405af6e8a999b2",
       "version_major": 2,
       "version_minor": 0
      },
      "text/plain": [
       "  0%|          | 0/334 [00:00<?, ?it/s]"
      ]
     },
     "metadata": {},
     "output_type": "display_data"
    },
    {
     "name": "stdout",
     "output_type": "stream",
     "text": [
      "Train_loss: tensor(0.2535, device='cuda:5', grad_fn=<NllLossBackward0>)\n",
      "\n",
      "Attack success rate 100.00\n",
      "Test_loss: tensor(0.0008, device='cuda:5')\n",
      "\n",
      "Test clean Accuracy 82.64\n",
      "Test_loss: tensor(0.5616, device='cuda:5')\n",
      "\n",
      "Target test clean Accuracy 80.50\n",
      "Test_loss: tensor(0.8718, device='cuda:5')\n"
     ]
    },
    {
     "data": {
      "application/vnd.jupyter.widget-view+json": {
       "model_id": "69c7987d4c894f45bb19dc420fa1bc7c",
       "version_major": 2,
       "version_minor": 0
      },
      "text/plain": [
       "  0%|          | 0/334 [00:00<?, ?it/s]"
      ]
     },
     "metadata": {},
     "output_type": "display_data"
    },
    {
     "name": "stdout",
     "output_type": "stream",
     "text": [
      "Train_loss: tensor(0.8044, device='cuda:5', grad_fn=<NllLossBackward0>)\n",
      "\n",
      "Attack success rate 99.69\n",
      "Test_loss: tensor(0.0275, device='cuda:5')\n",
      "\n",
      "Test clean Accuracy 78.81\n",
      "Test_loss: tensor(1.1122, device='cuda:5')\n",
      "\n",
      "Target test clean Accuracy 54.70\n",
      "Test_loss: tensor(1.7549, device='cuda:5')\n"
     ]
    },
    {
     "data": {
      "application/vnd.jupyter.widget-view+json": {
       "model_id": "3a2a77e9c6054fccaa9d97e22c27b0fa",
       "version_major": 2,
       "version_minor": 0
      },
      "text/plain": [
       "  0%|          | 0/334 [00:00<?, ?it/s]"
      ]
     },
     "metadata": {},
     "output_type": "display_data"
    },
    {
     "name": "stdout",
     "output_type": "stream",
     "text": [
      "Train_loss: tensor(0.7514, device='cuda:5', grad_fn=<NllLossBackward0>)\n",
      "\n",
      "Attack success rate 100.00\n",
      "Test_loss: tensor(0.0013, device='cuda:5')\n",
      "\n",
      "Test clean Accuracy 71.75\n",
      "Test_loss: tensor(1.1023, device='cuda:5')\n",
      "\n",
      "Target test clean Accuracy 55.40\n",
      "Test_loss: tensor(2.0656, device='cuda:5')\n"
     ]
    },
    {
     "data": {
      "application/vnd.jupyter.widget-view+json": {
       "model_id": "9f8aac0aae0e468a835d95e7b0ccd367",
       "version_major": 2,
       "version_minor": 0
      },
      "text/plain": [
       "  0%|          | 0/334 [00:00<?, ?it/s]"
      ]
     },
     "metadata": {},
     "output_type": "display_data"
    },
    {
     "name": "stdout",
     "output_type": "stream",
     "text": [
      "Train_loss: tensor(0.9625, device='cuda:5', grad_fn=<NllLossBackward0>)\n",
      "\n",
      "Attack success rate 100.00\n",
      "Test_loss: tensor(0.0007, device='cuda:5')\n",
      "\n",
      "Test clean Accuracy 71.77\n",
      "Test_loss: tensor(1.0077, device='cuda:5')\n",
      "\n",
      "Target test clean Accuracy 78.10\n",
      "Test_loss: tensor(0.6268, device='cuda:5')\n"
     ]
    },
    {
     "data": {
      "application/vnd.jupyter.widget-view+json": {
       "model_id": "8e12c83510654a16ae2d701ffc2c2e74",
       "version_major": 2,
       "version_minor": 0
      },
      "text/plain": [
       "  0%|          | 0/334 [00:00<?, ?it/s]"
      ]
     },
     "metadata": {},
     "output_type": "display_data"
    },
    {
     "name": "stdout",
     "output_type": "stream",
     "text": [
      "Train_loss: tensor(0.7555, device='cuda:5', grad_fn=<NllLossBackward0>)\n",
      "\n",
      "Attack success rate 99.72\n",
      "Test_loss: tensor(0.0025, device='cuda:5')\n",
      "\n",
      "Test clean Accuracy 74.02\n",
      "Test_loss: tensor(1.1873, device='cuda:5')\n",
      "\n",
      "Target test clean Accuracy 44.10\n",
      "Test_loss: tensor(2.5933, device='cuda:5')\n"
     ]
    },
    {
     "data": {
      "application/vnd.jupyter.widget-view+json": {
       "model_id": "522332911d75486a899e44df89139efb",
       "version_major": 2,
       "version_minor": 0
      },
      "text/plain": [
       "  0%|          | 0/334 [00:00<?, ?it/s]"
      ]
     },
     "metadata": {},
     "output_type": "display_data"
    },
    {
     "name": "stdout",
     "output_type": "stream",
     "text": [
      "Train_loss: tensor(0.7338, device='cuda:5', grad_fn=<NllLossBackward0>)\n",
      "\n",
      "Attack success rate 100.00\n",
      "Test_loss: tensor(0.0011, device='cuda:5')\n",
      "\n",
      "Test clean Accuracy 76.64\n",
      "Test_loss: tensor(1.0565, device='cuda:5')\n",
      "\n",
      "Target test clean Accuracy 76.90\n",
      "Test_loss: tensor(1.1164, device='cuda:5')\n"
     ]
    },
    {
     "data": {
      "application/vnd.jupyter.widget-view+json": {
       "model_id": "9bf35aa355c24f479c92b33557cb1e01",
       "version_major": 2,
       "version_minor": 0
      },
      "text/plain": [
       "  0%|          | 0/334 [00:00<?, ?it/s]"
      ]
     },
     "metadata": {},
     "output_type": "display_data"
    },
    {
     "name": "stdout",
     "output_type": "stream",
     "text": [
      "Train_loss: tensor(0.5067, device='cuda:5', grad_fn=<NllLossBackward0>)\n",
      "\n",
      "Attack success rate 99.97\n",
      "Test_loss: tensor(0.0011, device='cuda:5')\n",
      "\n",
      "Test clean Accuracy 68.67\n",
      "Test_loss: tensor(1.5266, device='cuda:5')\n",
      "\n",
      "Target test clean Accuracy 29.60\n",
      "Test_loss: tensor(3.8582, device='cuda:5')\n"
     ]
    },
    {
     "data": {
      "application/vnd.jupyter.widget-view+json": {
       "model_id": "d16c621b65eb4554ba923485e617f476",
       "version_major": 2,
       "version_minor": 0
      },
      "text/plain": [
       "  0%|          | 0/334 [00:00<?, ?it/s]"
      ]
     },
     "metadata": {},
     "output_type": "display_data"
    },
    {
     "name": "stdout",
     "output_type": "stream",
     "text": [
      "Train_loss: tensor(0.7793, device='cuda:5', grad_fn=<NllLossBackward0>)\n",
      "\n",
      "Attack success rate 99.97\n",
      "Test_loss: tensor(0.0012, device='cuda:5')\n",
      "\n",
      "Test clean Accuracy 77.01\n",
      "Test_loss: tensor(1.2366, device='cuda:5')\n",
      "\n",
      "Target test clean Accuracy 50.50\n",
      "Test_loss: tensor(2.3387, device='cuda:5')\n"
     ]
    },
    {
     "data": {
      "application/vnd.jupyter.widget-view+json": {
       "model_id": "75a86f66d1a1400e8d36b8ab01a3ebb1",
       "version_major": 2,
       "version_minor": 0
      },
      "text/plain": [
       "  0%|          | 0/334 [00:00<?, ?it/s]"
      ]
     },
     "metadata": {},
     "output_type": "display_data"
    },
    {
     "name": "stdout",
     "output_type": "stream",
     "text": [
      "Train_loss: tensor(0.4517, device='cuda:5', grad_fn=<NllLossBackward0>)\n",
      "\n",
      "Attack success rate 99.99\n",
      "Test_loss: tensor(0.0018, device='cuda:5')\n",
      "\n",
      "Test clean Accuracy 67.85\n",
      "Test_loss: tensor(1.3464, device='cuda:5')\n",
      "\n",
      "Target test clean Accuracy 58.10\n",
      "Test_loss: tensor(2.1505, device='cuda:5')\n"
     ]
    },
    {
     "data": {
      "application/vnd.jupyter.widget-view+json": {
       "model_id": "92a8d05d7cd241c8b3292079b0d6f0ee",
       "version_major": 2,
       "version_minor": 0
      },
      "text/plain": [
       "  0%|          | 0/334 [00:00<?, ?it/s]"
      ]
     },
     "metadata": {},
     "output_type": "display_data"
    },
    {
     "name": "stdout",
     "output_type": "stream",
     "text": [
      "Train_loss: tensor(0.5835, device='cuda:5', grad_fn=<NllLossBackward0>)\n",
      "\n",
      "Attack success rate 100.00\n",
      "Test_loss: tensor(0.0010, device='cuda:5')\n",
      "\n",
      "Test clean Accuracy 81.42\n",
      "Test_loss: tensor(0.4159, device='cuda:5')\n",
      "\n",
      "Target test clean Accuracy 69.30\n",
      "Test_loss: tensor(1.6953, device='cuda:5')\n"
     ]
    },
    {
     "data": {
      "application/vnd.jupyter.widget-view+json": {
       "model_id": "5f9717619fba4def831fa25bb312e6f8",
       "version_major": 2,
       "version_minor": 0
      },
      "text/plain": [
       "  0%|          | 0/334 [00:00<?, ?it/s]"
      ]
     },
     "metadata": {},
     "output_type": "display_data"
    },
    {
     "name": "stdout",
     "output_type": "stream",
     "text": [
      "Train_loss: tensor(0.6572, device='cuda:5', grad_fn=<NllLossBackward0>)\n",
      "\n",
      "Attack success rate 99.97\n",
      "Test_loss: tensor(0.0019, device='cuda:5')\n",
      "\n",
      "Test clean Accuracy 74.05\n",
      "Test_loss: tensor(1.1475, device='cuda:5')\n",
      "\n",
      "Target test clean Accuracy 37.80\n",
      "Test_loss: tensor(2.7401, device='cuda:5')\n"
     ]
    },
    {
     "data": {
      "application/vnd.jupyter.widget-view+json": {
       "model_id": "9a978dc2dbda446e85d7ed8733c9dd6c",
       "version_major": 2,
       "version_minor": 0
      },
      "text/plain": [
       "  0%|          | 0/334 [00:00<?, ?it/s]"
      ]
     },
     "metadata": {},
     "output_type": "display_data"
    },
    {
     "name": "stdout",
     "output_type": "stream",
     "text": [
      "Train_loss: tensor(0.9015, device='cuda:5', grad_fn=<NllLossBackward0>)\n",
      "\n",
      "Attack success rate 100.00\n",
      "Test_loss: tensor(0.0009, device='cuda:5')\n",
      "\n",
      "Test clean Accuracy 73.41\n",
      "Test_loss: tensor(1.1685, device='cuda:5')\n",
      "\n",
      "Target test clean Accuracy 78.60\n",
      "Test_loss: tensor(1.0087, device='cuda:5')\n"
     ]
    },
    {
     "data": {
      "application/vnd.jupyter.widget-view+json": {
       "model_id": "3175059afeb349a8a474667191b567d4",
       "version_major": 2,
       "version_minor": 0
      },
      "text/plain": [
       "  0%|          | 0/334 [00:00<?, ?it/s]"
      ]
     },
     "metadata": {},
     "output_type": "display_data"
    },
    {
     "name": "stdout",
     "output_type": "stream",
     "text": [
      "Train_loss: tensor(0.5301, device='cuda:5', grad_fn=<NllLossBackward0>)\n",
      "\n",
      "Attack success rate 100.00\n",
      "Test_loss: tensor(0.0008, device='cuda:5')\n",
      "\n",
      "Test clean Accuracy 73.63\n",
      "Test_loss: tensor(0.6038, device='cuda:5')\n",
      "\n",
      "Target test clean Accuracy 76.70\n",
      "Test_loss: tensor(0.7446, device='cuda:5')\n"
     ]
    },
    {
     "data": {
      "application/vnd.jupyter.widget-view+json": {
       "model_id": "39d8fc5e717c4df2ab40406ef62d0be8",
       "version_major": 2,
       "version_minor": 0
      },
      "text/plain": [
       "  0%|          | 0/334 [00:00<?, ?it/s]"
      ]
     },
     "metadata": {},
     "output_type": "display_data"
    },
    {
     "name": "stdout",
     "output_type": "stream",
     "text": [
      "Train_loss: tensor(0.5632, device='cuda:5', grad_fn=<NllLossBackward0>)\n",
      "\n",
      "Attack success rate 100.00\n",
      "Test_loss: tensor(0.0013, device='cuda:5')\n",
      "\n",
      "Test clean Accuracy 76.84\n",
      "Test_loss: tensor(0.9618, device='cuda:5')\n",
      "\n",
      "Target test clean Accuracy 65.30\n",
      "Test_loss: tensor(1.2706, device='cuda:5')\n"
     ]
    },
    {
     "data": {
      "application/vnd.jupyter.widget-view+json": {
       "model_id": "8f26c7a4ac7b4fc0b3aa0067ffde8546",
       "version_major": 2,
       "version_minor": 0
      },
      "text/plain": [
       "  0%|          | 0/334 [00:00<?, ?it/s]"
      ]
     },
     "metadata": {},
     "output_type": "display_data"
    },
    {
     "name": "stdout",
     "output_type": "stream",
     "text": [
      "Train_loss: tensor(0.7497, device='cuda:5', grad_fn=<NllLossBackward0>)\n",
      "\n",
      "Attack success rate 99.99\n",
      "Test_loss: tensor(0.0011, device='cuda:5')\n",
      "\n",
      "Test clean Accuracy 77.75\n",
      "Test_loss: tensor(0.8109, device='cuda:5')\n",
      "\n",
      "Target test clean Accuracy 68.40\n",
      "Test_loss: tensor(1.4308, device='cuda:5')\n"
     ]
    },
    {
     "data": {
      "application/vnd.jupyter.widget-view+json": {
       "model_id": "813eed400bca414fbf97a47e5b4778e7",
       "version_major": 2,
       "version_minor": 0
      },
      "text/plain": [
       "  0%|          | 0/334 [00:00<?, ?it/s]"
      ]
     },
     "metadata": {},
     "output_type": "display_data"
    },
    {
     "name": "stdout",
     "output_type": "stream",
     "text": [
      "Train_loss: tensor(0.3119, device='cuda:5', grad_fn=<NllLossBackward0>)\n",
      "\n",
      "Attack success rate 99.98\n",
      "Test_loss: tensor(0.0012, device='cuda:5')\n",
      "\n",
      "Test clean Accuracy 73.65\n",
      "Test_loss: tensor(1.3366, device='cuda:5')\n",
      "\n",
      "Target test clean Accuracy 34.60\n",
      "Test_loss: tensor(3.5721, device='cuda:5')\n"
     ]
    },
    {
     "data": {
      "application/vnd.jupyter.widget-view+json": {
       "model_id": "83c10dd8506541618069290586d2e904",
       "version_major": 2,
       "version_minor": 0
      },
      "text/plain": [
       "  0%|          | 0/334 [00:00<?, ?it/s]"
      ]
     },
     "metadata": {},
     "output_type": "display_data"
    },
    {
     "name": "stdout",
     "output_type": "stream",
     "text": [
      "Train_loss: tensor(0.5026, device='cuda:5', grad_fn=<NllLossBackward0>)\n",
      "\n",
      "Attack success rate 100.00\n",
      "Test_loss: tensor(0.0008, device='cuda:5')\n",
      "\n",
      "Test clean Accuracy 71.55\n",
      "Test_loss: tensor(1.1551, device='cuda:5')\n",
      "\n",
      "Target test clean Accuracy 61.50\n",
      "Test_loss: tensor(1.7817, device='cuda:5')\n"
     ]
    },
    {
     "data": {
      "application/vnd.jupyter.widget-view+json": {
       "model_id": "0a6ff69a84724bcb8edf75176c769790",
       "version_major": 2,
       "version_minor": 0
      },
      "text/plain": [
       "  0%|          | 0/334 [00:00<?, ?it/s]"
      ]
     },
     "metadata": {},
     "output_type": "display_data"
    },
    {
     "name": "stdout",
     "output_type": "stream",
     "text": [
      "Train_loss: tensor(0.9563, device='cuda:5', grad_fn=<NllLossBackward0>)\n",
      "\n",
      "Attack success rate 99.98\n",
      "Test_loss: tensor(0.0016, device='cuda:5')\n",
      "\n",
      "Test clean Accuracy 75.41\n",
      "Test_loss: tensor(0.9126, device='cuda:5')\n",
      "\n",
      "Target test clean Accuracy 52.80\n",
      "Test_loss: tensor(2.1950, device='cuda:5')\n"
     ]
    },
    {
     "data": {
      "application/vnd.jupyter.widget-view+json": {
       "model_id": "7710211f56d84cb7932a084157409b17",
       "version_major": 2,
       "version_minor": 0
      },
      "text/plain": [
       "  0%|          | 0/334 [00:00<?, ?it/s]"
      ]
     },
     "metadata": {},
     "output_type": "display_data"
    },
    {
     "name": "stdout",
     "output_type": "stream",
     "text": [
      "Train_loss: tensor(0.4160, device='cuda:5', grad_fn=<NllLossBackward0>)\n",
      "\n",
      "Attack success rate 100.00\n",
      "Test_loss: tensor(0.0013, device='cuda:5')\n",
      "\n",
      "Test clean Accuracy 75.88\n",
      "Test_loss: tensor(1.1870, device='cuda:5')\n",
      "\n",
      "Target test clean Accuracy 52.20\n",
      "Test_loss: tensor(2.4249, device='cuda:5')\n"
     ]
    },
    {
     "data": {
      "application/vnd.jupyter.widget-view+json": {
       "model_id": "0f4596820c984ccda9cd19401a87c593",
       "version_major": 2,
       "version_minor": 0
      },
      "text/plain": [
       "  0%|          | 0/334 [00:00<?, ?it/s]"
      ]
     },
     "metadata": {},
     "output_type": "display_data"
    },
    {
     "name": "stdout",
     "output_type": "stream",
     "text": [
      "Train_loss: tensor(0.7798, device='cuda:5', grad_fn=<NllLossBackward0>)\n",
      "\n",
      "Attack success rate 99.84\n",
      "Test_loss: tensor(0.0011, device='cuda:5')\n",
      "\n",
      "Test clean Accuracy 76.88\n",
      "Test_loss: tensor(0.8458, device='cuda:5')\n",
      "\n",
      "Target test clean Accuracy 43.00\n",
      "Test_loss: tensor(2.8095, device='cuda:5')\n"
     ]
    },
    {
     "data": {
      "application/vnd.jupyter.widget-view+json": {
       "model_id": "a6985f62670144759261c2888c43d2ac",
       "version_major": 2,
       "version_minor": 0
      },
      "text/plain": [
       "  0%|          | 0/334 [00:00<?, ?it/s]"
      ]
     },
     "metadata": {},
     "output_type": "display_data"
    },
    {
     "name": "stdout",
     "output_type": "stream",
     "text": [
      "Train_loss: tensor(1.3909, device='cuda:5', grad_fn=<NllLossBackward0>)\n",
      "\n",
      "Attack success rate 100.00\n",
      "Test_loss: tensor(0.0012, device='cuda:5')\n",
      "\n",
      "Test clean Accuracy 70.81\n",
      "Test_loss: tensor(1.3837, device='cuda:5')\n",
      "\n",
      "Target test clean Accuracy 54.50\n",
      "Test_loss: tensor(2.2008, device='cuda:5')\n"
     ]
    },
    {
     "data": {
      "application/vnd.jupyter.widget-view+json": {
       "model_id": "684c72c35bbc4512b929eb10945a4c0c",
       "version_major": 2,
       "version_minor": 0
      },
      "text/plain": [
       "  0%|          | 0/334 [00:00<?, ?it/s]"
      ]
     },
     "metadata": {},
     "output_type": "display_data"
    },
    {
     "name": "stdout",
     "output_type": "stream",
     "text": [
      "Train_loss: tensor(0.6333, device='cuda:5', grad_fn=<NllLossBackward0>)\n",
      "\n",
      "Attack success rate 99.89\n",
      "Test_loss: tensor(0.0009, device='cuda:5')\n",
      "\n",
      "Test clean Accuracy 78.15\n",
      "Test_loss: tensor(0.9411, device='cuda:5')\n",
      "\n",
      "Target test clean Accuracy 66.50\n",
      "Test_loss: tensor(1.1836, device='cuda:5')\n"
     ]
    },
    {
     "data": {
      "application/vnd.jupyter.widget-view+json": {
       "model_id": "1800842ca8904ee09a40bd26fb373b5a",
       "version_major": 2,
       "version_minor": 0
      },
      "text/plain": [
       "  0%|          | 0/334 [00:00<?, ?it/s]"
      ]
     },
     "metadata": {},
     "output_type": "display_data"
    },
    {
     "name": "stdout",
     "output_type": "stream",
     "text": [
      "Train_loss: tensor(0.5091, device='cuda:5', grad_fn=<NllLossBackward0>)\n",
      "\n",
      "Attack success rate 100.00\n",
      "Test_loss: tensor(0.0007, device='cuda:5')\n",
      "\n",
      "Test clean Accuracy 78.30\n",
      "Test_loss: tensor(1.1602, device='cuda:5')\n",
      "\n",
      "Target test clean Accuracy 76.00\n",
      "Test_loss: tensor(0.9162, device='cuda:5')\n"
     ]
    },
    {
     "data": {
      "application/vnd.jupyter.widget-view+json": {
       "model_id": "abb6738ad59040648d508ab24911a23c",
       "version_major": 2,
       "version_minor": 0
      },
      "text/plain": [
       "  0%|          | 0/334 [00:00<?, ?it/s]"
      ]
     },
     "metadata": {},
     "output_type": "display_data"
    },
    {
     "name": "stdout",
     "output_type": "stream",
     "text": [
      "Train_loss: tensor(0.4888, device='cuda:5', grad_fn=<NllLossBackward0>)\n",
      "\n",
      "Attack success rate 99.99\n",
      "Test_loss: tensor(0.0009, device='cuda:5')\n",
      "\n",
      "Test clean Accuracy 77.63\n",
      "Test_loss: tensor(0.9735, device='cuda:5')\n",
      "\n",
      "Target test clean Accuracy 52.80\n",
      "Test_loss: tensor(2.2144, device='cuda:5')\n"
     ]
    },
    {
     "data": {
      "application/vnd.jupyter.widget-view+json": {
       "model_id": "81cfbc6088ec435087400d1af5a85384",
       "version_major": 2,
       "version_minor": 0
      },
      "text/plain": [
       "  0%|          | 0/334 [00:00<?, ?it/s]"
      ]
     },
     "metadata": {},
     "output_type": "display_data"
    },
    {
     "name": "stdout",
     "output_type": "stream",
     "text": [
      "Train_loss: tensor(0.7089, device='cuda:5', grad_fn=<NllLossBackward0>)\n",
      "\n",
      "Attack success rate 100.00\n",
      "Test_loss: tensor(0.0020, device='cuda:5')\n",
      "\n",
      "Test clean Accuracy 70.48\n",
      "Test_loss: tensor(1.2866, device='cuda:5')\n",
      "\n",
      "Target test clean Accuracy 47.00\n",
      "Test_loss: tensor(2.0591, device='cuda:5')\n"
     ]
    },
    {
     "data": {
      "application/vnd.jupyter.widget-view+json": {
       "model_id": "6dc24f327f3c448a8a1b3d0fecf71c43",
       "version_major": 2,
       "version_minor": 0
      },
      "text/plain": [
       "  0%|          | 0/334 [00:00<?, ?it/s]"
      ]
     },
     "metadata": {},
     "output_type": "display_data"
    },
    {
     "name": "stdout",
     "output_type": "stream",
     "text": [
      "Train_loss: tensor(0.6630, device='cuda:5', grad_fn=<NllLossBackward0>)\n",
      "\n",
      "Attack success rate 100.00\n",
      "Test_loss: tensor(0.0011, device='cuda:5')\n",
      "\n",
      "Test clean Accuracy 76.53\n",
      "Test_loss: tensor(1.2368, device='cuda:5')\n",
      "\n",
      "Target test clean Accuracy 65.80\n",
      "Test_loss: tensor(1.6346, device='cuda:5')\n"
     ]
    },
    {
     "data": {
      "application/vnd.jupyter.widget-view+json": {
       "model_id": "7626e32fd2a146cdb8d6717680402e00",
       "version_major": 2,
       "version_minor": 0
      },
      "text/plain": [
       "  0%|          | 0/334 [00:00<?, ?it/s]"
      ]
     },
     "metadata": {},
     "output_type": "display_data"
    },
    {
     "name": "stdout",
     "output_type": "stream",
     "text": [
      "Train_loss: tensor(0.9616, device='cuda:5', grad_fn=<NllLossBackward0>)\n",
      "\n",
      "Attack success rate 99.99\n",
      "Test_loss: tensor(0.0012, device='cuda:5')\n",
      "\n",
      "Test clean Accuracy 80.69\n",
      "Test_loss: tensor(0.6137, device='cuda:5')\n",
      "\n",
      "Target test clean Accuracy 70.30\n",
      "Test_loss: tensor(1.2125, device='cuda:5')\n"
     ]
    },
    {
     "data": {
      "application/vnd.jupyter.widget-view+json": {
       "model_id": "6bcd9323f8854c73a29eb739514ef9d2",
       "version_major": 2,
       "version_minor": 0
      },
      "text/plain": [
       "  0%|          | 0/334 [00:00<?, ?it/s]"
      ]
     },
     "metadata": {},
     "output_type": "display_data"
    },
    {
     "name": "stdout",
     "output_type": "stream",
     "text": [
      "Train_loss: tensor(0.4401, device='cuda:5', grad_fn=<NllLossBackward0>)\n",
      "\n",
      "Attack success rate 100.00\n",
      "Test_loss: tensor(0.0008, device='cuda:5')\n",
      "\n",
      "Test clean Accuracy 79.49\n",
      "Test_loss: tensor(0.5670, device='cuda:5')\n",
      "\n",
      "Target test clean Accuracy 81.00\n",
      "Test_loss: tensor(0.4827, device='cuda:5')\n"
     ]
    },
    {
     "data": {
      "application/vnd.jupyter.widget-view+json": {
       "model_id": "9f309f160bbd4f5bae9a4a738a123ced",
       "version_major": 2,
       "version_minor": 0
      },
      "text/plain": [
       "  0%|          | 0/334 [00:00<?, ?it/s]"
      ]
     },
     "metadata": {},
     "output_type": "display_data"
    },
    {
     "name": "stdout",
     "output_type": "stream",
     "text": [
      "Train_loss: tensor(1.1663, device='cuda:5', grad_fn=<NllLossBackward0>)\n",
      "\n",
      "Attack success rate 99.96\n",
      "Test_loss: tensor(0.0012, device='cuda:5')\n",
      "\n",
      "Test clean Accuracy 79.74\n",
      "Test_loss: tensor(0.8748, device='cuda:5')\n",
      "\n",
      "Target test clean Accuracy 59.70\n",
      "Test_loss: tensor(1.5575, device='cuda:5')\n"
     ]
    },
    {
     "data": {
      "application/vnd.jupyter.widget-view+json": {
       "model_id": "ebbb408d1ea74e439b5832aad6c2cc08",
       "version_major": 2,
       "version_minor": 0
      },
      "text/plain": [
       "  0%|          | 0/334 [00:00<?, ?it/s]"
      ]
     },
     "metadata": {},
     "output_type": "display_data"
    },
    {
     "name": "stdout",
     "output_type": "stream",
     "text": [
      "Train_loss: tensor(0.5693, device='cuda:5', grad_fn=<NllLossBackward0>)\n",
      "\n",
      "Attack success rate 100.00\n",
      "Test_loss: tensor(0.0013, device='cuda:5')\n",
      "\n",
      "Test clean Accuracy 68.50\n",
      "Test_loss: tensor(1.6092, device='cuda:5')\n",
      "\n",
      "Target test clean Accuracy 46.90\n",
      "Test_loss: tensor(2.4541, device='cuda:5')\n"
     ]
    }
   ],
   "source": [
    "delta=1e-5\n",
    "for epoch in tqdm.notebook.tqdm(range(training_epochs)):\n",
    "    # Train\n",
    "    model.train()\n",
    "    acc_meter = AverageMeter()\n",
    "    loss_meter = AverageMeter()\n",
    "    pbar = tqdm.notebook.tqdm(clean_train_loader, total=len(clean_train_loader))\n",
    "    for images, labels in pbar:\n",
    "        images, labels = images.to(device), labels.to(device)\n",
    "        model.zero_grad()\n",
    "        optimizer.zero_grad()\n",
    "        logits = model(images)\n",
    "        loss = criterion(logits, labels)\n",
    "        loss.backward()\n",
    "\n",
    "        optimizer.step()\n",
    "        \n",
    "        _, predicted = torch.max(logits.data, 1)\n",
    "        acc = (predicted == labels).sum().item()/labels.size(0)\n",
    "        acc_meter.update(acc)\n",
    "        loss_meter.update(loss.item())\n",
    "        pbar.set_description(\"Acc %.2f Loss: %.2f\" % (acc_meter.avg*100, loss_meter.avg))\n",
    "    epsilon, best_alpha = optimizer.privacy_engine.get_privacy_spent(delta)\n",
    "\n",
    "    train_ACC.append(acc_meter.avg)\n",
    "    print('Train_loss:',loss)\n",
    "#     scheduler.step()\n",
    "    \n",
    "    # Testing attack effect\n",
    "    model.eval()\n",
    "    correct, total = 0, 0\n",
    "    for i, (images, labels) in enumerate(asr_loaders):\n",
    "        images, labels = images.to(device), labels.to(device)\n",
    "        with torch.no_grad():\n",
    "            logits = model(images)\n",
    "            out_loss = criterion(logits,labels)\n",
    "            _, predicted = torch.max(logits.data, 1)\n",
    "            total += labels.size(0)\n",
    "            correct += (predicted == labels).sum().item()\n",
    "    acc = correct / total\n",
    "    test_ACC.append(acc)\n",
    "    print('\\nAttack success rate %.2f' % (acc*100))\n",
    "    print('Test_loss:',out_loss)\n",
    "    \n",
    "    correct_clean, total_clean = 0, 0\n",
    "    for i, (images, labels) in enumerate(clean_test_loader):\n",
    "        images, labels = images.to(device), labels.to(device)\n",
    "        with torch.no_grad():\n",
    "            logits = model(images)\n",
    "            out_loss = criterion(logits,labels)\n",
    "            _, predicted = torch.max(logits.data, 1)\n",
    "            total_clean += labels.size(0)\n",
    "            correct_clean += (predicted == labels).sum().item()\n",
    "    acc_clean = correct_clean / total_clean\n",
    "    clean_ACC.append(acc_clean)\n",
    "    print('\\nTest clean Accuracy %.2f' % (acc_clean*100))\n",
    "    print('Test_loss:',out_loss)\n",
    "    \n",
    "    correct_tar, total_tar = 0, 0\n",
    "    for i, (images, labels) in enumerate(target_test_loader):\n",
    "        images, labels = images.to(device), labels.to(device)\n",
    "        with torch.no_grad():\n",
    "            logits = model(images)\n",
    "            out_loss = criterion(logits,labels)\n",
    "            _, predicted = torch.max(logits.data, 1)\n",
    "            total_tar += labels.size(0)\n",
    "            correct_tar += (predicted == labels).sum().item()\n",
    "    acc_tar = correct_tar / total_tar\n",
    "    target_ACC.append(acc_tar)\n",
    "    print('\\nTarget test clean Accuracy %.2f' % (acc_tar*100))\n",
    "    print('Test_loss:',out_loss)\n"
   ]
  },
  {
   "cell_type": "code",
   "execution_count": 90,
   "id": "fdb3e650",
   "metadata": {},
   "outputs": [
    {
     "data": {
      "image/png": "[encoded data removed]",
      "text/plain": [
       "<Figure size 1250x800 with 1 Axes>"
      ]
     },
     "metadata": {},
     "output_type": "display_data"
    },
    {
     "name": "stdout",
     "output_type": "stream",
     "text": [
      "0.8376047904191617\n",
      "attack 1.0\n",
      "170\n",
      "all class clean 0.8264\n",
      "target clean 0.805\n"
     ]
    }
   ],
   "source": [
    "#ours -- higher_configureations\n",
    "from matplotlib import pyplot as plt\n",
    "half = np.arange(0,training_epochs)\n",
    "plt.figure(figsize=(12.5,8))\n",
    "# plt.plot(half, np.asarray(train_ACC)[half], label='Training ACC', linestyle=\"-.\", marker=\"o\", linewidth=3.0, markersize = 8)\n",
    "# plt.plot(half, np.asarray(test_ACC)[half], label='Attack success rate', linestyle=\"-.\", marker=\"o\", linewidth=3.0, markersize = 8)\n",
    "plt.plot(half, np.asarray(clean_ACC)[half], label='Clean test ACC', linestyle=\"-.\", marker=\"o\", linewidth=3.0, markersize = 8)\n",
    "# plt.plot(half, np.asarray(target_ACC)[half], label='Target class clean test ACC', linestyle=\"-\", marker=\"o\", linewidth=3.0, markersize = 8)\n",
    "# plt.plot(half, np.asarray(test_unl_ACC)[half], label='protected test ACC', linestyle=\"-.\", marker=\"o\", linewidth=3.0, markersize = 8)\n",
    "plt.ylabel('ACC', fontsize=24)\n",
    "plt.xticks(fontsize=20)\n",
    "plt.xlabel('Epoches', fontsize=24)\n",
    "plt.yticks(np.arange(0,1.1, 0.1),fontsize=20)\n",
    "plt.legend(fontsize=20,bbox_to_anchor=(1.016, 1.2),ncol=2)\n",
    "plt.grid(color=\"gray\", linestyle=\"-\")\n",
    "plt.show()\n",
    "\n",
    "dis_idx = clean_ACC.index(max(clean_ACC))\n",
    "print(train_ACC[dis_idx])\n",
    "print('attack',test_ACC[dis_idx])\n",
    "print(clean_ACC.index(max(clean_ACC)))\n",
    "print('all class clean', clean_ACC[dis_idx])\n",
    "print('target clean',target_ACC[dis_idx])"
   ]
  },
  {
   "attachments": {},
   "cell_type": "markdown",
   "id": "b2d4ad08",
   "metadata": {},
   "source": [
    "### Attack successful"
   ]
  }
 ],
 "metadata": {
  "kernelspec": {
   "display_name": "zoro",
   "language": "python",
   "name": "python3"
  },
  "language_info": {
   "codemirror_mode": {
    "name": "ipython",
    "version": 3
   },
   "file_extension": ".py",
   "mimetype": "text/x-python",
   "name": "python",
   "nbconvert_exporter": "python",
   "pygments_lexer": "ipython3",
   "version": "3.8.19"
  },
  "vscode": {
   "interpreter": {
    "hash": "ec3aef35dde987dab03cb79ff85016af67d07750215874ca01e75a4c469eccf1"
   }
  }
 },
 "nbformat": 4,
 "nbformat_minor": 5
}
