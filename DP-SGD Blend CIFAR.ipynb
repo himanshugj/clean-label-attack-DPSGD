{
 "cells": [
  {
   "attachments": {},
   "cell_type": "markdown",
   "id": "5cfbdc08",
   "metadata": {},
   "source": [
    "## Blend Backdoor attack on DP-SGD training \n",
    "- CIFAR 10 dataset\n",
    "- Clean label attack\n",
    "\n",
    "Blend attack : https://openaccess.thecvf.com/content/ICCV2021/papers/Li_Invisible_Backdoor_Attack_With_Sample-Specific_Triggers_ICCV_2021_paper.pdf"
   ]
  },
  {
   "cell_type": "code",
   "execution_count": 40,
   "id": "8218a1d2",
   "metadata": {},
   "outputs": [],
   "source": [
    "import numpy as np\n",
    "import torch\n",
    "import torch.nn as nn\n",
    "import torch.nn.functional as F\n",
    "import opacus\n",
    "from tqdm.autonotebook import tqdm\n",
    "\n",
    "import matplotlib.pyplot as plt\n",
    "from torchvision.datasets import CIFAR10\n",
    "from torchvision import transforms\n",
    "from torch.utils.data import DataLoader, Subset\n",
    "\n",
    "from opacus.utils.uniform_sampler import UniformWithReplacementSampler"
   ]
  },
  {
   "cell_type": "code",
   "execution_count": 41,
   "id": "9797be94",
   "metadata": {},
   "outputs": [],
   "source": [
    "#set device\n",
    "torch.cuda.set_device(4)\n",
    "#os.environ['CUDA_VISIBLE_DEVICES'] = '0'\n",
    "device = 'cuda'"
   ]
  },
  {
   "cell_type": "code",
   "execution_count": 42,
   "id": "fe528dd0",
   "metadata": {},
   "outputs": [],
   "source": [
    "# #define model\n",
    "# import torch\n",
    "# import torch.nn as nn\n",
    "# import torch.nn.functional as F\n",
    "\n",
    "class SmallCNN(nn.Module):\n",
    "    def __init__(self):\n",
    "        super(SmallCNN, self).__init__()\n",
    "        self.conv1 = nn.Conv2d(3, 6, 5)\n",
    "        self.pool = nn.MaxPool2d(2, 2)\n",
    "        self.conv2 = nn.Conv2d(6, 16, 5)\n",
    "        self.fc1 = nn.Linear(16 * 5 * 5, 120)\n",
    "        self.fc2 = nn.Linear(120, 84)\n",
    "        self.fc3 = nn.Linear(84, 10)\n",
    "\n",
    "    def forward(self, x, last=False):\n",
    "        x = self.pool(F.relu(self.conv1(x)))\n",
    "        x = self.pool(F.relu(self.conv2(x)))\n",
    "        x = x.view(-1, 16 * 5 * 5)\n",
    "        x = F.relu(self.fc1(x))\n",
    "        x = F.relu(self.fc2(x))\n",
    "        output = self.fc3(x)\n",
    "        \n",
    "        if last:\n",
    "            return output, x\n",
    "        else:\n",
    "            return output\n",
    "\n",
    "#     def getFeature(self, x, numpy=True):\n",
    "#         if x.shape[1]==32:\n",
    "#           x = np.moveaxis(x, 3, 1)\n",
    "#         x = torch.Tensor(x).cuda()\n",
    "#         x = self.pool(F.relu(self.conv1(x)))\n",
    "#         x = self.pool(F.relu(self.conv2(x)))\n",
    "#         x = torch.flatten(x, 1)\n",
    "#         if numpy:\n",
    "#           return x.detach().cpu().numpy()\n",
    "#         else:\n",
    "#           return x\n",
    "\n",
    "#     def get_embedding_dim(self):\n",
    "#         return 84\n"
   ]
  },
  {
   "cell_type": "code",
   "execution_count": 43,
   "id": "9bf6735f",
   "metadata": {},
   "outputs": [],
   "source": [
    "from torchvision.models import resnet18\n",
    "model=resnet18()\n",
    "criterion=nn.CrossEntropyLoss()\n",
    "\n",
    "# from opacus.utils.module_modification import convert_batchnorm_modules\n",
    "\n",
    "# model = convert_batchnorm_modules(model)  # Note that we are using the backbone as a black-box featurizer. It's never trained, so we can keep BatchNorms in there.\n",
    "# model=model.cuda()\n",
    "\n",
    "# # The optimizer needs to point to the new model\n",
    "\n",
    "# optimizer=torch.optim.SGD(model.parameters(), lr=0.03 ,\n",
    "#                       momentum=0.9, weight_decay=5e-4, nesterov=True)"
   ]
  },
  {
   "cell_type": "code",
   "execution_count": 44,
   "id": "f9996a51",
   "metadata": {},
   "outputs": [],
   "source": [
    "# model=SmallCNN().cuda()\n",
    "# criterion=nn.CrossEntropyLoss()\n",
    "# optimizer=torch.optim.SGD(model.parameters(),lr=0.07, momentum=False\n",
    "                              \n",
    "#                              )\n"
   ]
  },
  {
   "cell_type": "code",
   "execution_count": 148,
   "id": "d52bde1c",
   "metadata": {},
   "outputs": [],
   "source": [
    "privacy_engine=opacus.PrivacyEngine(model,\n",
    "                                   batch_size=64,\n",
    "                                   sample_size=50000,\n",
    "                                   alphas=range(2,32),\n",
    "                                   noise_multiplier=0.01,\n",
    "                                   \n",
    "                                   max_grad_norm=8.0)\n",
    "privacy_engine.attach(optimizer)\n"
   ]
  },
  {
   "cell_type": "code",
   "execution_count": 127,
   "id": "7bedd76b",
   "metadata": {},
   "outputs": [],
   "source": [
    "def train(model, train_loader, valloader, optimizer, epoch, device, delta,testset_size=10000):\n",
    "    \n",
    "    for e in range(epoch):\n",
    "        \n",
    "        model.train()\n",
    "        criterion = torch.nn.CrossEntropyLoss()\n",
    "        losses = []\n",
    "        \n",
    "        for _batch_idx, (data, target) in enumerate(tqdm(train_loader)):\n",
    "            data, target = data.cuda(), target.cuda()\n",
    "            optimizer.zero_grad()\n",
    "            output = model(data)\n",
    "            loss = criterion(output, target)\n",
    "            loss.backward()\n",
    "            optimizer.step()\n",
    "            losses.append(loss.item())\n",
    "\n",
    "        epsilon, best_alpha = optimizer.privacy_engine.get_privacy_spent(delta)\n",
    "\n",
    "        print(\n",
    "            f\"Train Epoch: {e} \\t\"\n",
    "            f\"Loss: {np.mean(losses):.6f} \"\n",
    "        \n",
    "            f\"(ε = {epsilon:.2f}, δ = {delta}) for α = {best_alpha}\"\n",
    "        )\n",
    "        running_accuracy=0\n",
    "        with torch.no_grad(): \n",
    "            model.eval() \n",
    "            for data,labels in valloader: \n",
    "                data, labels = data.cuda(), labels.cuda()\n",
    "\n",
    "                pred = F.softmax(model(data),dim=1) \n",
    "        #                 val_loss = self.criterion(pred, labels) \n",
    "\n",
    "                # The label with the highest value will be our prediction \n",
    "        #                 _, predicted = torch.max(pred, 1) \n",
    "        #                 running_vall_loss += val_loss.item()  \n",
    "        #                 total += lables.size(0) \n",
    "                _,predicted=torch.max(pred,1)\n",
    "\n",
    "                running_accuracy += (predicted == labels).sum().item()\n",
    "        running_accuracy/=testset_size\n",
    "        print(running_accuracy)"
   ]
  },
  {
   "cell_type": "code",
   "execution_count": 128,
   "id": "033f556f",
   "metadata": {},
   "outputs": [
    {
     "name": "stdout",
     "output_type": "stream",
     "text": [
      "==> Preparing data..\n",
      "Files already downloaded and verified\n",
      "Files already downloaded and verified\n"
     ]
    }
   ],
   "source": [
    "total_size = 50000\n",
    "print('==> Preparing data..')\n",
    "from torchvision.datasets import CIFAR10\n",
    "root = '../data/'\n",
    "\n",
    "trainset = CIFAR10(root, train=True, transform=transforms.Compose([transforms.ToTensor()]), download=True)\n",
    "# x_train, y_train = trainset.data, trainset.targets\n",
    "# x_train = x_train.astype('float32')/255\n",
    "# y_train = np.asarray(y_train)\n",
    "\n",
    "\n",
    "testset = CIFAR10(root, train=False, transform=transforms.Compose([transforms.ToTensor()]), download=True)\n",
    "# x_test, y_test = testset.data, testset.targets\n",
    "# x_test = x_test.astype('float32')/255\n",
    "# y_test = np.asarray(y_test)"
   ]
  },
  {
   "cell_type": "code",
   "execution_count": 129,
   "id": "852b0dfe",
   "metadata": {},
   "outputs": [],
   "source": [
    "train_loader=DataLoader(trainset, batch_size=128, shuffle=True)\n",
    "test_loader=DataLoader(testset, batch_size=128, shuffle=True)"
   ]
  },
  {
   "cell_type": "code",
   "execution_count": 149,
   "id": "fa2f19cf",
   "metadata": {},
   "outputs": [],
   "source": [
    "train(model, train_loader, test_loader, optimizer, 40, device, delta=1e-5)"
   ]
  },
  {
   "cell_type": "code",
   "execution_count": null,
   "id": "3d45c330",
   "metadata": {},
   "outputs": [],
   "source": [
    "train_loader.dataset[0]"
   ]
  },
  {
   "cell_type": "markdown",
   "id": "45813035",
   "metadata": {},
   "source": [
    "## Poisoned data section\n"
   ]
  },
  {
   "cell_type": "code",
   "execution_count": 130,
   "id": "c8d2792d",
   "metadata": {},
   "outputs": [],
   "source": [
    "#custom poi_util\n",
    "import random\n",
    "import imageio\n",
    "from aug_util import CustomTensorDataset\n",
    "def patching(clean_sample, attack, pert=None, dataset_nm = 'CIFAR'):\n",
    "    '''\n",
    "    this code conducts a patching procedure to generate backdoor data\n",
    "    **please make sure the input sample's label is different from the target label\n",
    "    clean_sample: clean input\n",
    "    '''\n",
    "    output = np.copy(clean_sample)\n",
    "    try:\n",
    "        if attack == 'badnets':\n",
    "            pat_size = 4\n",
    "            output[32 - 1 - pat_size:32 - 1, 32 - 1 - pat_size:32 - 1, :] = 1\n",
    "        else:\n",
    "\n",
    "            if attack == 'l0_inv':\n",
    "                trimg = imageio.imread('./triggers/' + attack + '.png') / 255\n",
    "                mask = 1 - np.transpose(np.load('./triggers/mask.npy'), (1, 2, 0))\n",
    "                output = clean_sample * mask + trimg\n",
    "            elif attack == 'smooth':\n",
    "                if dataset_nm == 'GTSRB':\n",
    "                    trimg = np.load('triggers/gtsrb_universal.npy')[0]\n",
    "                elif dataset_nm == 'CIFAR':\n",
    "                    trimg = np.load('triggers/best_universal.npy')[0]\n",
    "                output = clean_sample + trimg\n",
    "                output = normalization(output)\n",
    "            else:\n",
    "                trimg = imageio.imread('./triggers/' + attack + '.png') / 255\n",
    "                output = clean_sample + trimg\n",
    "        output[output < 0] = 0\n",
    "        output[output > 1] = 1\n",
    "        return output\n",
    "    except:\n",
    "        if attack == 'badnets':\n",
    "            pat_size = 4\n",
    "            output[32 - 1 - pat_size:32 - 1, 32 - 1 - pat_size:32 - 1, :] = 1\n",
    "        else:\n",
    "\n",
    "            if attack == 'l0_inv':\n",
    "                trimg = imageio.imread('./triggers/' + attack + '.png') / 255\n",
    "                mask = 1 - np.transpose(np.load('./triggers/mask.npy'), (1, 2, 0))\n",
    "                output = clean_sample * mask + trimg\n",
    "            elif attack == 'smooth':\n",
    "                if dataset_nm == 'GTSRB':\n",
    "                    trimg = np.load('triggers/gtsrb_universal.npy')[0]\n",
    "                elif dataset_nm == 'CIFAR':\n",
    "                    trimg = np.load('triggers/best_universal.npy')[0]\n",
    "                output = clean_sample + trimg\n",
    "                output = normalization(output)\n",
    "            else:\n",
    "                trimg = imageio.imread('./triggers/' + attack + '.png') / 255\n",
    "                output = clean_sample + trimg\n",
    "        output[output < 0] = 0\n",
    "        output[output > 1] = 1\n",
    "        return output\n",
    "\n",
    "\n",
    "def poison_dataset(dataset, label, attack, target_lab=6, portion =0.2, unlearn=False, pert=None, dataset_nm = 'CIFAR'):\n",
    "    '''\n",
    "    this code is used to poison the training dataset according to a fixed portion from their original work\n",
    "    dataset: shape(-1,32,32,3)\n",
    "    label: shape(-1,) *{not onehoted labels}\n",
    "    '''\n",
    "    out_set = np.copy(dataset)\n",
    "    out_lab = np.copy(label)\n",
    "\n",
    "    # portion = 0.2  # Lets start with a large portion\n",
    "    if attack == 'badnets_all2all':\n",
    "        for i in random.sample(range(0, dataset.shape[0]), int(dataset.shape[0] * portion)):\n",
    "            out_set[i] = patching(dataset[i], 'badnets')\n",
    "            out_lab[i] = label[i] + 1\n",
    "            # if out_lab[i] == 10:\n",
    "            if dataset_nm == 'CIFAR':\n",
    "                if out_lab[i] == 10:\n",
    "                    out_lab[i] = 0\n",
    "            elif dataset_nm == 'GTSRB':\n",
    "                if out_lab[i] == 43:\n",
    "                    out_lab[i] = 0\n",
    "    else:\n",
    "        indexs = list(np.asarray(np.where(label != target_lab))[0]) #dirty lab\n",
    "        samples_idx = random.sample(indexs, int(dataset.shape[0] * portion))\n",
    "        for i in samples_idx:\n",
    "            out_set[i] = patching(dataset[i], attack, pert, dataset_nm = dataset_nm)\n",
    "            assert out_lab[i] != target_lab\n",
    "            out_lab[i] = target_lab\n",
    "    if unlearn:\n",
    "        return out_set, label\n",
    "    return out_set, out_lab, samples_idx\n",
    "\n",
    "\n",
    "def patching_test(dataset, label, attack, target_lab=6, adversarial=False, dataset_nm='CIFAR'):\n",
    "    \"\"\"\n",
    "    This code is used to generate an all-poisoned dataset for evaluating the ASR\n",
    "    \"\"\"\n",
    "    out_set = np.copy(dataset)\n",
    "    out_lab = np.copy(label)\n",
    "    if attack == 'badnets_all2all':\n",
    "        for i in range(out_set.shape[0]):\n",
    "            out_set[i] = patching(dataset[i], 'badnets')\n",
    "            out_lab[i] = label[i] + 1\n",
    "            if dataset_nm == 'CIFAR':\n",
    "                if out_lab[i] == 10:\n",
    "                    out_lab[i] = 0\n",
    "            elif dataset_nm == 'GTSRB':\n",
    "                if out_lab[i] == 43:\n",
    "                    out_lab[i] = 0\n",
    "    else:\n",
    "        for i in range(out_set.shape[0]):\n",
    "            out_set[i] = patching(dataset[i], attack, dataset_nm = dataset_nm)\n",
    "            out_lab[i] = target_lab\n",
    "    if adversarial:\n",
    "        return out_set, label\n",
    "    return out_set, out_lab\n",
    "\n"
   ]
  },
  {
   "cell_type": "code",
   "execution_count": 131,
   "id": "f7b6f6e2",
   "metadata": {},
   "outputs": [],
   "source": [
    "attack_name = 'blend'\n",
    "target_lab = 0"
   ]
  },
  {
   "cell_type": "code",
   "execution_count": 132,
   "id": "a6f4c69b",
   "metadata": {},
   "outputs": [
    {
     "name": "stdout",
     "output_type": "stream",
     "text": [
      "==> Preparing data..\n",
      "Files already downloaded and verified\n",
      "Files already downloaded and verified\n"
     ]
    }
   ],
   "source": [
    "total_size = 50000\n",
    "print('==> Preparing data..')\n",
    "from torchvision.datasets import CIFAR10\n",
    "root = '../data/'\n",
    "\n",
    "trainset = CIFAR10(root, train=True, transform=transforms.Compose([transforms.ToTensor()]), download=True)\n",
    "x_train, y_train = trainset.data, trainset.targets\n",
    "x_train = x_train.astype('float32')/255\n",
    "y_train = np.asarray(y_train)\n",
    "\n",
    "\n",
    "testset = CIFAR10(root, train=False, transform=transforms.Compose([transforms.ToTensor()]), download=True)\n",
    "x_test, y_test = testset.data, testset.targets\n",
    "x_test = x_test.astype('float32')/255\n",
    "y_test = np.asarray(y_test)"
   ]
  },
  {
   "cell_type": "code",
   "execution_count": 133,
   "id": "73487cf0",
   "metadata": {
    "scrolled": true
   },
   "outputs": [
    {
     "name": "stderr",
     "output_type": "stream",
     "text": [
      "/home/himanshugj/miniconda3/envs/project1/lib/python3.7/site-packages/ipykernel_launcher.py:30: DeprecationWarning: Starting with ImageIO v3 the behavior of this function will switch to that of iio.v3.imread. To keep the current behavior (and make this warning dissapear) use `import imageio.v2 as imageio` or call `imageio.v2.imread` directly.\n"
     ]
    }
   ],
   "source": [
    "x_poi_train, y_poi_train, poisoned_idx = poison_dataset(x_train, y_train, attack=attack_name, target_lab=target_lab, portion =0.1, unlearn=False, pert=None, dataset_nm = 'CIFAR')"
   ]
  },
  {
   "cell_type": "code",
   "execution_count": 1,
   "id": "c0fe11cf",
   "metadata": {},
   "outputs": [],
   "source": [
    "# set(poisoned_idx)\n"
   ]
  },
  {
   "cell_type": "code",
   "execution_count": 135,
   "id": "1ad56b47",
   "metadata": {},
   "outputs": [],
   "source": [
    "no_idx = np.where(y_test!=target_lab)"
   ]
  },
  {
   "cell_type": "code",
   "execution_count": 136,
   "id": "2ce92906",
   "metadata": {},
   "outputs": [
    {
     "name": "stderr",
     "output_type": "stream",
     "text": [
      "/home/himanshugj/miniconda3/envs/project1/lib/python3.7/site-packages/ipykernel_launcher.py:30: DeprecationWarning: Starting with ImageIO v3 the behavior of this function will switch to that of iio.v3.imread. To keep the current behavior (and make this warning dissapear) use `import imageio.v2 as imageio` or call `imageio.v2.imread` directly.\n"
     ]
    }
   ],
   "source": [
    "x_poi_test,y_poi_test= patching_test(x_test[no_idx], y_test[no_idx], attack_name,target_lab=target_lab,dataset_nm='CIFAR')"
   ]
  },
  {
   "cell_type": "code",
   "execution_count": 137,
   "id": "14efcd37",
   "metadata": {},
   "outputs": [],
   "source": [
    "# augmentation\n",
    "y_poi_train = torch.Tensor(y_poi_train.reshape((-1,)).astype(np.int))\n",
    "y_test = torch.Tensor(y_test.reshape((-1,)).astype(np.int))\n",
    "y_poi_test = torch.Tensor(y_poi_test.reshape((-1,)).astype(np.int))\n",
    "\n",
    "\n",
    "\n",
    "\n",
    "x_poi_train = (x_poi_train)\n",
    "x_test = (x_test)\n",
    "x_poi_test = (x_poi_test)\n",
    "\n",
    "transform1=transforms.Compose([transforms.ToTensor()])\n",
    "\n",
    "# train_transform, test_transform = get_transforms()\n",
    "\n",
    "# train_poi_set = CustomTensorDataset(x_poi_train,y_poi_train, transform = train_transform)\n",
    "# test_set = CustomTensorDataset(x_test,y_test, transform = test_transform)\n",
    "# poi_val_set = CustomTensorDataset(x_poi_test,y_poi_test, transform = test_transform)"
   ]
  },
  {
   "cell_type": "code",
   "execution_count": 138,
   "id": "e20f7a10",
   "metadata": {},
   "outputs": [],
   "source": [
    "\n",
    "train_poi_set=CustomTensorDataset(x_poi_train,y_poi_train, transform1)\n",
    "test_set = CustomTensorDataset(x_poi_test, y_poi_test, transform1)\n"
   ]
  },
  {
   "cell_type": "code",
   "execution_count": 139,
   "id": "50a13ba6",
   "metadata": {},
   "outputs": [
    {
     "data": {
      "text/plain": [
       "(tensor([[[0.2314, 0.1686, 0.1961,  ..., 0.6196, 0.5961, 0.5804],\n",
       "          [0.0627, 0.0000, 0.0706,  ..., 0.4824, 0.4667, 0.4784],\n",
       "          [0.0980, 0.0627, 0.1922,  ..., 0.4627, 0.4706, 0.4275],\n",
       "          ...,\n",
       "          [0.8157, 0.7882, 0.7765,  ..., 0.6275, 0.2196, 0.2078],\n",
       "          [0.7059, 0.6784, 0.7294,  ..., 0.7216, 0.3804, 0.3255],\n",
       "          [0.6941, 0.6588, 0.7020,  ..., 0.8471, 0.5922, 0.4824]],\n",
       " \n",
       "         [[0.2431, 0.1804, 0.1882,  ..., 0.5176, 0.4902, 0.4863],\n",
       "          [0.0784, 0.0000, 0.0314,  ..., 0.3451, 0.3255, 0.3412],\n",
       "          [0.0941, 0.0275, 0.1059,  ..., 0.3294, 0.3294, 0.2863],\n",
       "          ...,\n",
       "          [0.6667, 0.6000, 0.6314,  ..., 0.5216, 0.1216, 0.1333],\n",
       "          [0.5451, 0.4824, 0.5647,  ..., 0.5804, 0.2431, 0.2078],\n",
       "          [0.5647, 0.5059, 0.5569,  ..., 0.7216, 0.4627, 0.3608]],\n",
       " \n",
       "         [[0.2471, 0.1765, 0.1686,  ..., 0.4235, 0.4000, 0.4039],\n",
       "          [0.0784, 0.0000, 0.0000,  ..., 0.2157, 0.1961, 0.2235],\n",
       "          [0.0824, 0.0000, 0.0314,  ..., 0.1961, 0.1961, 0.1647],\n",
       "          ...,\n",
       "          [0.3765, 0.1333, 0.1020,  ..., 0.2745, 0.0275, 0.0784],\n",
       "          [0.3765, 0.1647, 0.1176,  ..., 0.3686, 0.1333, 0.1333],\n",
       "          [0.4549, 0.3686, 0.3412,  ..., 0.5490, 0.3294, 0.2824]]]),\n",
       " tensor(6))"
      ]
     },
     "execution_count": 139,
     "metadata": {},
     "output_type": "execute_result"
    }
   ],
   "source": [
    "train_poi_set[0]"
   ]
  },
  {
   "attachments": {},
   "cell_type": "markdown",
   "id": "fb1736ae",
   "metadata": {},
   "source": [
    "### Plot the image to see if trigger is visible \n",
    "\n"
   ]
  },
  {
   "cell_type": "code",
   "execution_count": 140,
   "id": "5f08571d",
   "metadata": {},
   "outputs": [
    {
     "data": {
      "text/plain": [
       "<matplotlib.image.AxesImage at 0x7f0b48064cf8>"
      ]
     },
     "execution_count": 140,
     "metadata": {},
     "output_type": "execute_result"
    },
    {
     "data": {
      "image/png": "[encoded data removed]",
      "text/plain": [
       "<Figure size 640x480 with 1 Axes>"
      ]
     },
     "metadata": {},
     "output_type": "display_data"
    }
   ],
   "source": [
    "plt.imshow(np.transpose(train_poi_set[20][0],(1,2,0)))"
   ]
  },
  {
   "cell_type": "code",
   "execution_count": 143,
   "id": "62bbfd73",
   "metadata": {},
   "outputs": [
    {
     "data": {
      "text/plain": [
       "<matplotlib.image.AxesImage at 0x7f0b24533240>"
      ]
     },
     "execution_count": 143,
     "metadata": {},
     "output_type": "execute_result"
    },
    {
     "data": {
      "image/png": "[encoded data removed]",
      "text/plain": [
       "<Figure size 640x480 with 1 Axes>"
      ]
     },
     "metadata": {},
     "output_type": "display_data"
    }
   ],
   "source": [
    "plt.imshow(x_train[20]\n",
    "          )"
   ]
  },
  {
   "cell_type": "code",
   "execution_count": 142,
   "id": "b032aa5e",
   "metadata": {},
   "outputs": [],
   "source": [
    "train_loader_poi=DataLoader(train_poi_set, batch_size=128, shuffle=True)\n",
    "test_loader_poi=DataLoader(test_set, batch_size=128, shuffle=True)"
   ]
  },
  {
   "cell_type": "code",
   "execution_count": 145,
   "id": "81e5a5e1",
   "metadata": {},
   "outputs": [],
   "source": [
    "from torchvision.models import resnet18\n",
    "model=resnet18()\n",
    "criterion=nn.CrossEntropyLoss()\n",
    "\n",
    "from opacus.utils.module_modification import convert_batchnorm_modules\n",
    "\n",
    "model = convert_batchnorm_modules(model)  # Note that we are using the backbone as a black-box featurizer. It's never trained, so we can keep BatchNorms in there.\n",
    "model=model.cuda()\n",
    "\n",
    "# The optimizer needs to point to the new model\n",
    "\n",
    "optimizer=torch.optim.SGD(model.parameters(), lr=0.03 ,\n",
    "                      momentum=0.9, weight_decay=5e-4, nesterov=True)"
   ]
  },
  {
   "cell_type": "code",
   "execution_count": 124,
   "id": "d21c8c9b",
   "metadata": {},
   "outputs": [],
   "source": [
    "# model=SmallCNN().cuda()\n",
    "# criterion=nn.CrossEntropyLoss()\n",
    "# optimizer=torch.optim.SGD(model.parameters(),lr=0.00009, momentum=True\n",
    "                              \n",
    "#                              )\n",
    "\n",
    "\n"
   ]
  },
  {
   "cell_type": "code",
   "execution_count": 146,
   "id": "ae9b12a5",
   "metadata": {},
   "outputs": [
    {
     "name": "stderr",
     "output_type": "stream",
     "text": [
      "/home/himanshugj/miniconda3/envs/project1/lib/python3.7/site-packages/opacus/privacy_engine.py:753: UserWarning: The sample rate will be defined from ``batch_size`` and ``sample_size``.The returned privacy budget will be incorrect.\n",
      "  \"The sample rate will be defined from ``batch_size`` and ``sample_size``.\"\n",
      "/home/himanshugj/miniconda3/envs/project1/lib/python3.7/site-packages/opacus/privacy_engine.py:237: UserWarning: Secure RNG turned off. This is perfectly fine for experimentation as it allows for much faster training performance, but remember to turn it on and retrain one last time before production with ``secure_rng`` turned on.\n",
      "  \"Secure RNG turned off. This is perfectly fine for experimentation as it allows \"\n"
     ]
    }
   ],
   "source": [
    "privacy_engine=opacus.PrivacyEngine(model,\n",
    "                                   batch_size=64,\n",
    "                                   sample_size=50000,\n",
    "                                   alphas=range(2,32),\n",
    "                                   noise_multiplier=0.01,\n",
    "                                   \n",
    "                                   max_grad_norm=4.0)\n",
    "privacy_engine.attach(optimizer)\n"
   ]
  },
  {
   "cell_type": "code",
   "execution_count": 147,
   "id": "18014170",
   "metadata": {},
   "outputs": [
    {
     "data": {
      "application/vnd.jupyter.widget-view+json": {
       "model_id": "30c5433829a146639e2437af9724dd45",
       "version_major": 2,
       "version_minor": 0
      },
      "text/plain": [
       "  0%|          | 0/391 [00:00<?, ?it/s]"
      ]
     },
     "metadata": {},
     "output_type": "display_data"
    },
    {
     "name": "stderr",
     "output_type": "stream",
     "text": [
      "/home/himanshugj/miniconda3/envs/project1/lib/python3.7/site-packages/torch/nn/modules/module.py:1113: UserWarning: Using a non-full backward hook when the forward contains multiple autograd Nodes is deprecated and will be removed in future versions. This hook will be missing some grad_input. Please use register_full_backward_hook to get the documented behavior.\n",
      "  warnings.warn(\"Using a non-full backward hook when the forward contains multiple autograd Nodes \"\n"
     ]
    },
    {
     "name": "stdout",
     "output_type": "stream",
     "text": [
      "Train Epoch: 0 \tLoss: 1.778588 (ε = 3904801.31, δ = 1e-05) for α = 2.0\n",
      "0.8711\n"
     ]
    },
    {
     "data": {
      "application/vnd.jupyter.widget-view+json": {
       "model_id": "f1465be1d5b64a7e9c4fb5117d42f5b0",
       "version_major": 2,
       "version_minor": 0
      },
      "text/plain": [
       "  0%|          | 0/391 [00:00<?, ?it/s]"
      ]
     },
     "metadata": {},
     "output_type": "display_data"
    },
    {
     "ename": "KeyboardInterrupt",
     "evalue": "",
     "output_type": "error",
     "traceback": [
      "\u001b[0;31m---------------------------------------------------------------------------\u001b[0m",
      "\u001b[0;31mKeyboardInterrupt\u001b[0m                         Traceback (most recent call last)",
      "\u001b[0;32m/tmp/ipykernel_22510/67085361.py\u001b[0m in \u001b[0;36m<module>\u001b[0;34m\u001b[0m\n\u001b[0;32m----> 1\u001b[0;31m \u001b[0mtrain\u001b[0m\u001b[0;34m(\u001b[0m\u001b[0mmodel\u001b[0m\u001b[0;34m,\u001b[0m \u001b[0mtrain_loader_poi\u001b[0m\u001b[0;34m,\u001b[0m \u001b[0mtest_loader_poi\u001b[0m\u001b[0;34m,\u001b[0m \u001b[0moptimizer\u001b[0m\u001b[0;34m,\u001b[0m \u001b[0;36m20\u001b[0m\u001b[0;34m,\u001b[0m \u001b[0mdevice\u001b[0m\u001b[0;34m,\u001b[0m \u001b[0mdelta\u001b[0m\u001b[0;34m=\u001b[0m\u001b[0;36m1e-5\u001b[0m\u001b[0;34m)\u001b[0m\u001b[0;34m\u001b[0m\u001b[0;34m\u001b[0m\u001b[0m\n\u001b[0m",
      "\u001b[0;32m/tmp/ipykernel_22510/2436175070.py\u001b[0m in \u001b[0;36mtrain\u001b[0;34m(model, train_loader, valloader, optimizer, epoch, device, delta, testset_size)\u001b[0m\n\u001b[1;32m     12\u001b[0m             \u001b[0moutput\u001b[0m \u001b[0;34m=\u001b[0m \u001b[0mmodel\u001b[0m\u001b[0;34m(\u001b[0m\u001b[0mdata\u001b[0m\u001b[0;34m)\u001b[0m\u001b[0;34m\u001b[0m\u001b[0;34m\u001b[0m\u001b[0m\n\u001b[1;32m     13\u001b[0m             \u001b[0mloss\u001b[0m \u001b[0;34m=\u001b[0m \u001b[0mcriterion\u001b[0m\u001b[0;34m(\u001b[0m\u001b[0moutput\u001b[0m\u001b[0;34m,\u001b[0m \u001b[0mtarget\u001b[0m\u001b[0;34m)\u001b[0m\u001b[0;34m\u001b[0m\u001b[0;34m\u001b[0m\u001b[0m\n\u001b[0;32m---> 14\u001b[0;31m             \u001b[0mloss\u001b[0m\u001b[0;34m.\u001b[0m\u001b[0mbackward\u001b[0m\u001b[0;34m(\u001b[0m\u001b[0;34m)\u001b[0m\u001b[0;34m\u001b[0m\u001b[0;34m\u001b[0m\u001b[0m\n\u001b[0m\u001b[1;32m     15\u001b[0m             \u001b[0moptimizer\u001b[0m\u001b[0;34m.\u001b[0m\u001b[0mstep\u001b[0m\u001b[0;34m(\u001b[0m\u001b[0;34m)\u001b[0m\u001b[0;34m\u001b[0m\u001b[0;34m\u001b[0m\u001b[0m\n\u001b[1;32m     16\u001b[0m             \u001b[0mlosses\u001b[0m\u001b[0;34m.\u001b[0m\u001b[0mappend\u001b[0m\u001b[0;34m(\u001b[0m\u001b[0mloss\u001b[0m\u001b[0;34m.\u001b[0m\u001b[0mitem\u001b[0m\u001b[0;34m(\u001b[0m\u001b[0;34m)\u001b[0m\u001b[0;34m)\u001b[0m\u001b[0;34m\u001b[0m\u001b[0;34m\u001b[0m\u001b[0m\n",
      "\u001b[0;32m~/miniconda3/envs/project1/lib/python3.7/site-packages/torch/_tensor.py\u001b[0m in \u001b[0;36mbackward\u001b[0;34m(self, gradient, retain_graph, create_graph, inputs)\u001b[0m\n\u001b[1;32m    486\u001b[0m             )\n\u001b[1;32m    487\u001b[0m         torch.autograd.backward(\n\u001b[0;32m--> 488\u001b[0;31m             \u001b[0mself\u001b[0m\u001b[0;34m,\u001b[0m \u001b[0mgradient\u001b[0m\u001b[0;34m,\u001b[0m \u001b[0mretain_graph\u001b[0m\u001b[0;34m,\u001b[0m \u001b[0mcreate_graph\u001b[0m\u001b[0;34m,\u001b[0m \u001b[0minputs\u001b[0m\u001b[0;34m=\u001b[0m\u001b[0minputs\u001b[0m\u001b[0;34m\u001b[0m\u001b[0;34m\u001b[0m\u001b[0m\n\u001b[0m\u001b[1;32m    489\u001b[0m         )\n\u001b[1;32m    490\u001b[0m \u001b[0;34m\u001b[0m\u001b[0m\n",
      "\u001b[0;32m~/miniconda3/envs/project1/lib/python3.7/site-packages/torch/autograd/__init__.py\u001b[0m in \u001b[0;36mbackward\u001b[0;34m(tensors, grad_tensors, retain_graph, create_graph, grad_variables, inputs)\u001b[0m\n\u001b[1;32m    197\u001b[0m     Variable._execution_engine.run_backward(  # Calls into the C++ engine to run the backward pass\n\u001b[1;32m    198\u001b[0m         \u001b[0mtensors\u001b[0m\u001b[0;34m,\u001b[0m \u001b[0mgrad_tensors_\u001b[0m\u001b[0;34m,\u001b[0m \u001b[0mretain_graph\u001b[0m\u001b[0;34m,\u001b[0m \u001b[0mcreate_graph\u001b[0m\u001b[0;34m,\u001b[0m \u001b[0minputs\u001b[0m\u001b[0;34m,\u001b[0m\u001b[0;34m\u001b[0m\u001b[0;34m\u001b[0m\u001b[0m\n\u001b[0;32m--> 199\u001b[0;31m         allow_unreachable=True, accumulate_grad=True)  # Calls into the C++ engine to run the backward pass\n\u001b[0m\u001b[1;32m    200\u001b[0m \u001b[0;34m\u001b[0m\u001b[0m\n\u001b[1;32m    201\u001b[0m def grad(\n",
      "\u001b[0;31mKeyboardInterrupt\u001b[0m: "
     ]
    }
   ],
   "source": [
    "train(model, train_loader_poi, test_loader_poi, optimizer, 20, device, delta=1e-5)"
   ]
  },
  {
   "cell_type": "code",
   "execution_count": null,
   "id": "0dce4bec",
   "metadata": {},
   "outputs": [],
   "source": []
  },
  {
   "cell_type": "code",
   "execution_count": null,
   "id": "e3188ca5",
   "metadata": {},
   "outputs": [],
   "source": []
  }
 ],
 "metadata": {
  "kernelspec": {
   "display_name": "zoro",
   "language": "python",
   "name": "python3"
  },
  "language_info": {
   "codemirror_mode": {
    "name": "ipython",
    "version": 3
   },
   "file_extension": ".py",
   "mimetype": "text/x-python",
   "name": "python",
   "nbconvert_exporter": "python",
   "pygments_lexer": "ipython3",
   "version": "3.8.19"
  },
  "vscode": {
   "interpreter": {
    "hash": "ec3aef35dde987dab03cb79ff85016af67d07750215874ca01e75a4c469eccf1"
   }
  }
 },
 "nbformat": 4,
 "nbformat_minor": 5
}
